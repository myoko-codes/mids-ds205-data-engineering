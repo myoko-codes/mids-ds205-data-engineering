{
 "cells": [
  {
   "cell_type": "markdown",
   "id": "e52a5bea",
   "metadata": {},
   "source": [
    "# NGINX Client"
   ]
  },
  {
   "cell_type": "code",
   "execution_count": 1,
   "id": "eb21ec2e",
   "metadata": {},
   "outputs": [],
   "source": [
    "import requests\n",
    "\n",
    "import pprint"
   ]
  },
  {
   "cell_type": "markdown",
   "id": "6fd2a49c",
   "metadata": {},
   "source": [
    "# Lab: Flask - NGINX - Scale Up Web API Server"
   ]
  },
  {
   "cell_type": "markdown",
   "id": "62c3346a",
   "metadata": {},
   "source": [
    "## NGINX automatically starts"
   ]
  },
  {
   "cell_type": "markdown",
   "id": "d46a67b2",
   "metadata": {},
   "source": [
    "## Start Green Unicorn \n",
    "\n",
    "\n",
    "From the Linux command line:\n",
    "\n",
    "```\n",
    "cd ~/docker/clusters/anaconda_postgres_redis_nginx\n",
    "\n",
    "docker-compose exec anaconda bash\n",
    "\n",
    "cd /user/labs/week_12\n",
    "\n",
    "gunicorn --bind 0.0.0.0:5000 wsgi:app\n",
    "\n",
    "```"
   ]
  },
  {
   "cell_type": "markdown",
   "id": "30000073",
   "metadata": {},
   "source": [
    "## Files of interest to review:\n",
    "\n",
    "### NGINX configuration file\n",
    "\n",
    "From the Linux Command Line:\n",
    "```\n",
    "cd ~/docker/images/w205_nginx\n",
    "\n",
    "vi nginx.conf.w205\n",
    "\n",
    "```\n",
    "\n",
    "### Green Unicorn source code\n",
    "\n",
    "Can be viewed using Jupyter Notebook:\n",
    "* wsgi.py\n",
    "\n",
    "### Flask source code\n",
    "\n",
    "Can be viewed using Jupyter Notebook: \n",
    "* flask_app.py \n",
    "* flask_app_solutions.py\n",
    "\n"
   ]
  },
  {
   "cell_type": "markdown",
   "id": "adf0f6ae",
   "metadata": {},
   "source": [
    "## Test out a static page from your web browser:\n",
    "\n",
    "## https://xxxxx    (replace xxxxx with the IP of your VM)\n",
    "\n",
    "## Automatic redirect of http to https has been setup; verify the following from your web browser:\n",
    "\n",
    "## http://xxxxx (replace xxxxx with the IP of your VM)"
   ]
  },
  {
   "cell_type": "markdown",
   "id": "cc279c30",
   "metadata": {},
   "source": [
    "##  Using python requests, lets pull the static landing page"
   ]
  },
  {
   "cell_type": "code",
   "execution_count": 2,
   "id": "38827ad8",
   "metadata": {},
   "outputs": [
    {
     "name": "stderr",
     "output_type": "stream",
     "text": [
      "/opt/conda/lib/python3.9/site-packages/urllib3/connectionpool.py:1013: InsecureRequestWarning: Unverified HTTPS request is being made to host 'nginx'. Adding certificate verification is strongly advised. See: https://urllib3.readthedocs.io/en/1.26.x/advanced-usage.html#ssl-warnings\n",
      "  warnings.warn(\n"
     ]
    }
   ],
   "source": [
    "r = requests.get(\"https://nginx\", verify=False)"
   ]
  },
  {
   "cell_type": "code",
   "execution_count": 3,
   "id": "d5ec192e",
   "metadata": {},
   "outputs": [
    {
     "data": {
      "text/plain": [
       "200"
      ]
     },
     "execution_count": 3,
     "metadata": {},
     "output_type": "execute_result"
    }
   ],
   "source": [
    "r.status_code"
   ]
  },
  {
   "cell_type": "code",
   "execution_count": 4,
   "id": "6805cf30",
   "metadata": {},
   "outputs": [
    {
     "data": {
      "text/plain": [
       "'<!DOCTYPE html>\\n\\n<html>\\n    \\n<body>\\n    \\n    <title> Landing Page </title>\\n\\n    <h1> Welcome to the Landing Page for this Web Server! </h1>\\n    \\n    <h2> In the beginning, html was simply content without formatting, like this very simple landing page. </h2>\\n    \\n    <h2> Next, html added formatting inside the html. </h2>\\n    \\n    <h2> Next, content and formatting were separated: \\n        content was placed in html files, \\n        while formatting was placed in css (cascading style sheets) files.'"
      ]
     },
     "execution_count": 4,
     "metadata": {},
     "output_type": "execute_result"
    }
   ],
   "source": [
    "r.text[:500]"
   ]
  },
  {
   "cell_type": "markdown",
   "id": "e63ed65a",
   "metadata": {},
   "source": [
    "## Make web API calls; NGINX will act as a reverse proxy server and pass the URLs to Green Unicorm as our WSGI server, which will pass them to Flask"
   ]
  },
  {
   "cell_type": "markdown",
   "id": "3a445dce",
   "metadata": {},
   "source": [
    "## Login"
   ]
  },
  {
   "cell_type": "code",
   "execution_count": 5,
   "id": "b10cc204",
   "metadata": {},
   "outputs": [],
   "source": [
    "login_json = {\"username\": \"user_3\",\n",
    "              \"password\": \"password_3\"}"
   ]
  },
  {
   "cell_type": "code",
   "execution_count": 6,
   "id": "78e11586",
   "metadata": {},
   "outputs": [
    {
     "name": "stderr",
     "output_type": "stream",
     "text": [
      "/opt/conda/lib/python3.9/site-packages/urllib3/connectionpool.py:1013: InsecureRequestWarning: Unverified HTTPS request is being made to host 'nginx'. Adding certificate verification is strongly advised. See: https://urllib3.readthedocs.io/en/1.26.x/advanced-usage.html#ssl-warnings\n",
      "  warnings.warn(\n"
     ]
    }
   ],
   "source": [
    "r = requests.post(\"https://nginx/api/login\", verify=False, data=login_json)"
   ]
  },
  {
   "cell_type": "code",
   "execution_count": 7,
   "id": "64d3b6df",
   "metadata": {},
   "outputs": [
    {
     "data": {
      "text/plain": [
       "200"
      ]
     },
     "execution_count": 7,
     "metadata": {},
     "output_type": "execute_result"
    }
   ],
   "source": [
    "r.status_code"
   ]
  },
  {
   "cell_type": "code",
   "execution_count": 8,
   "id": "9a496dce",
   "metadata": {},
   "outputs": [
    {
     "data": {
      "text/plain": [
       "{'status': 'success',\n",
       " 'sid': '6b10aa1ea0fbe7992a7197ba7dcd1f0282edd9514b65b427895936042a860191'}"
      ]
     },
     "execution_count": 8,
     "metadata": {},
     "output_type": "execute_result"
    }
   ],
   "source": [
    "r.json()"
   ]
  },
  {
   "cell_type": "markdown",
   "id": "ed7740e9",
   "metadata": {},
   "source": [
    "## Get products"
   ]
  },
  {
   "cell_type": "code",
   "execution_count": 9,
   "id": "e4c5ab9b",
   "metadata": {},
   "outputs": [],
   "source": [
    "sid_json = {\"sid\": r.json()[\"sid\"]}"
   ]
  },
  {
   "cell_type": "code",
   "execution_count": 10,
   "id": "164f02c1",
   "metadata": {},
   "outputs": [
    {
     "name": "stderr",
     "output_type": "stream",
     "text": [
      "/opt/conda/lib/python3.9/site-packages/urllib3/connectionpool.py:1013: InsecureRequestWarning: Unverified HTTPS request is being made to host 'nginx'. Adding certificate verification is strongly advised. See: https://urllib3.readthedocs.io/en/1.26.x/advanced-usage.html#ssl-warnings\n",
      "  warnings.warn(\n"
     ]
    }
   ],
   "source": [
    "r = requests.post(\"https://nginx/api/products\", verify=False, data=sid_json)"
   ]
  },
  {
   "cell_type": "code",
   "execution_count": 11,
   "id": "8d86c3d6",
   "metadata": {},
   "outputs": [
    {
     "data": {
      "text/plain": [
       "200"
      ]
     },
     "execution_count": 11,
     "metadata": {},
     "output_type": "execute_result"
    }
   ],
   "source": [
    "r.status_code"
   ]
  },
  {
   "cell_type": "code",
   "execution_count": 12,
   "id": "d06db3a4",
   "metadata": {},
   "outputs": [
    {
     "data": {
      "text/plain": [
       "{'status': 'success',\n",
       " 'products': [{'product_id': '1',\n",
       "   'product_name': 'Pistachio Salmon',\n",
       "   'quantity': '1,828,778',\n",
       "   'total_sales': '21,945,336'},\n",
       "  {'product_id': '2',\n",
       "   'product_name': 'Teriyaki Chicken',\n",
       "   'quantity': '1,145,013',\n",
       "   'total_sales': '13,740,156'},\n",
       "  {'product_id': '3',\n",
       "   'product_name': 'Spinach Orzo',\n",
       "   'quantity': '456,769',\n",
       "   'total_sales': '5,481,228'},\n",
       "  {'product_id': '4',\n",
       "   'product_name': 'Eggplant Lasagna',\n",
       "   'quantity': '1,599,058',\n",
       "   'total_sales': '19,188,696'},\n",
       "  {'product_id': '5',\n",
       "   'product_name': 'Chicken Salad',\n",
       "   'quantity': '228,561',\n",
       "   'total_sales': '2,742,732'},\n",
       "  {'product_id': '6',\n",
       "   'product_name': 'Curry Chicken',\n",
       "   'quantity': '1,368,884',\n",
       "   'total_sales': '16,426,608'},\n",
       "  {'product_id': '7',\n",
       "   'product_name': 'Tilapia Piccata',\n",
       "   'quantity': '687,237',\n",
       "   'total_sales': '8,246,844'},\n",
       "  {'product_id': '8',\n",
       "   'product_name': 'Brocolli Stir Fry',\n",
       "   'quantity': '913,984',\n",
       "   'total_sales': '10,967,808'}]}"
      ]
     },
     "execution_count": 12,
     "metadata": {},
     "output_type": "execute_result"
    }
   ],
   "source": [
    "r.json()"
   ]
  },
  {
   "cell_type": "markdown",
   "id": "1fa98618",
   "metadata": {},
   "source": [
    "## Logout"
   ]
  },
  {
   "cell_type": "code",
   "execution_count": 13,
   "id": "fc896312",
   "metadata": {},
   "outputs": [
    {
     "name": "stderr",
     "output_type": "stream",
     "text": [
      "/opt/conda/lib/python3.9/site-packages/urllib3/connectionpool.py:1013: InsecureRequestWarning: Unverified HTTPS request is being made to host 'nginx'. Adding certificate verification is strongly advised. See: https://urllib3.readthedocs.io/en/1.26.x/advanced-usage.html#ssl-warnings\n",
      "  warnings.warn(\n"
     ]
    }
   ],
   "source": [
    "r = requests.post(\"https://nginx/api/logout\", verify=False, data=sid_json)"
   ]
  },
  {
   "cell_type": "code",
   "execution_count": 14,
   "id": "f542ee13",
   "metadata": {},
   "outputs": [
    {
     "data": {
      "text/plain": [
       "200"
      ]
     },
     "execution_count": 14,
     "metadata": {},
     "output_type": "execute_result"
    }
   ],
   "source": [
    "r.status_code"
   ]
  },
  {
   "cell_type": "code",
   "execution_count": 15,
   "id": "001a15c8",
   "metadata": {},
   "outputs": [
    {
     "data": {
      "text/plain": [
       "{'status': 'success'}"
      ]
     },
     "execution_count": 15,
     "metadata": {},
     "output_type": "execute_result"
    }
   ],
   "source": [
    "r.json()"
   ]
  },
  {
   "cell_type": "markdown",
   "id": "b2e339ae",
   "metadata": {},
   "source": [
    "## We are not logged in; try to get the products"
   ]
  },
  {
   "cell_type": "code",
   "execution_count": 16,
   "id": "71f57b29",
   "metadata": {},
   "outputs": [
    {
     "name": "stderr",
     "output_type": "stream",
     "text": [
      "/opt/conda/lib/python3.9/site-packages/urllib3/connectionpool.py:1013: InsecureRequestWarning: Unverified HTTPS request is being made to host 'nginx'. Adding certificate verification is strongly advised. See: https://urllib3.readthedocs.io/en/1.26.x/advanced-usage.html#ssl-warnings\n",
      "  warnings.warn(\n"
     ]
    }
   ],
   "source": [
    "r = requests.post(\"https://nginx/api/products\", verify=False, data=sid_json)"
   ]
  },
  {
   "cell_type": "code",
   "execution_count": 17,
   "id": "1d3b76fc",
   "metadata": {},
   "outputs": [
    {
     "data": {
      "text/plain": [
       "200"
      ]
     },
     "execution_count": 17,
     "metadata": {},
     "output_type": "execute_result"
    }
   ],
   "source": [
    "r.status_code"
   ]
  },
  {
   "cell_type": "code",
   "execution_count": 18,
   "id": "dcceb269",
   "metadata": {},
   "outputs": [
    {
     "data": {
      "text/plain": [
       "{'status': 'fail', 'description': 'not logged in'}"
      ]
     },
     "execution_count": 18,
     "metadata": {},
     "output_type": "execute_result"
    }
   ],
   "source": [
    "r.json()"
   ]
  },
  {
   "cell_type": "markdown",
   "id": "2f56cf3f",
   "metadata": {},
   "source": [
    "## Try to login with a bad username and password"
   ]
  },
  {
   "cell_type": "code",
   "execution_count": 19,
   "id": "98d0a0b3",
   "metadata": {},
   "outputs": [],
   "source": [
    "login_json = {\"username\": \"user_3\",\n",
    "              \"password\": \"not the password\"}"
   ]
  },
  {
   "cell_type": "code",
   "execution_count": 20,
   "id": "7f7717a7",
   "metadata": {},
   "outputs": [
    {
     "name": "stderr",
     "output_type": "stream",
     "text": [
      "/opt/conda/lib/python3.9/site-packages/urllib3/connectionpool.py:1013: InsecureRequestWarning: Unverified HTTPS request is being made to host 'nginx'. Adding certificate verification is strongly advised. See: https://urllib3.readthedocs.io/en/1.26.x/advanced-usage.html#ssl-warnings\n",
      "  warnings.warn(\n"
     ]
    }
   ],
   "source": [
    "r = requests.post(\"https://nginx/api/login\", verify=False, data=login_json)"
   ]
  },
  {
   "cell_type": "code",
   "execution_count": 21,
   "id": "1ccbc8bb",
   "metadata": {},
   "outputs": [
    {
     "data": {
      "text/plain": [
       "200"
      ]
     },
     "execution_count": 21,
     "metadata": {},
     "output_type": "execute_result"
    }
   ],
   "source": [
    "r.status_code"
   ]
  },
  {
   "cell_type": "code",
   "execution_count": 22,
   "id": "f9f42570",
   "metadata": {},
   "outputs": [
    {
     "data": {
      "text/plain": [
       "{'status': 'fail', 'description': 'invalid username and/or password'}"
      ]
     },
     "execution_count": 22,
     "metadata": {},
     "output_type": "execute_result"
    }
   ],
   "source": [
    "r.json()"
   ]
  },
  {
   "cell_type": "markdown",
   "id": "505019d9",
   "metadata": {},
   "source": [
    "## Try to logout when we are not logged in"
   ]
  },
  {
   "cell_type": "code",
   "execution_count": 23,
   "id": "9fbc27a1",
   "metadata": {},
   "outputs": [
    {
     "name": "stderr",
     "output_type": "stream",
     "text": [
      "/opt/conda/lib/python3.9/site-packages/urllib3/connectionpool.py:1013: InsecureRequestWarning: Unverified HTTPS request is being made to host 'nginx'. Adding certificate verification is strongly advised. See: https://urllib3.readthedocs.io/en/1.26.x/advanced-usage.html#ssl-warnings\n",
      "  warnings.warn(\n"
     ]
    }
   ],
   "source": [
    "r = requests.post(\"https://nginx/api/logout\", verify=False, data=sid_json)"
   ]
  },
  {
   "cell_type": "code",
   "execution_count": 24,
   "id": "5565ca96",
   "metadata": {},
   "outputs": [
    {
     "data": {
      "text/plain": [
       "200"
      ]
     },
     "execution_count": 24,
     "metadata": {},
     "output_type": "execute_result"
    }
   ],
   "source": [
    "r.status_code"
   ]
  },
  {
   "cell_type": "code",
   "execution_count": 25,
   "id": "a641b476",
   "metadata": {},
   "outputs": [
    {
     "data": {
      "text/plain": [
       "{'status': 'fail', 'description': 'not logged in'}"
      ]
     },
     "execution_count": 25,
     "metadata": {},
     "output_type": "execute_result"
    }
   ],
   "source": [
    "r.json()"
   ]
  },
  {
   "cell_type": "markdown",
   "id": "b93f9db7",
   "metadata": {},
   "source": [
    "## You try it - add code to flask_app.py to implement /api/stores, borrowing the code from last week;  test using Python requests; solutions are provided in flask_app_solutions.py and nginx_client_solutions Jupyter Notebook"
   ]
  },
  {
   "cell_type": "markdown",
   "id": "6b893cb9",
   "metadata": {},
   "source": [
    "## Stop Green Unicorn \n",
    "\n",
    "Control-C\n",
    "\n",
    "Exit the anaconda container bash shell:\n",
    "```\n",
    "exit\n",
    "```\n"
   ]
  }
 ],
 "metadata": {
  "kernelspec": {
   "display_name": "Python 3 (ipykernel)",
   "language": "python",
   "name": "python3"
  },
  "language_info": {
   "codemirror_mode": {
    "name": "ipython",
    "version": 3
   },
   "file_extension": ".py",
   "mimetype": "text/x-python",
   "name": "python",
   "nbconvert_exporter": "python",
   "pygments_lexer": "ipython3",
   "version": "3.9.7"
  }
 },
 "nbformat": 4,
 "nbformat_minor": 5
}
