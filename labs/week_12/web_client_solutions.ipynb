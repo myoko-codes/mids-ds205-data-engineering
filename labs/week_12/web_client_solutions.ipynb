{
 "cells": [
  {
   "cell_type": "markdown",
   "id": "e52a5bea",
   "metadata": {},
   "source": [
    "# Web Client Solution"
   ]
  },
  {
   "cell_type": "code",
   "execution_count": 1,
   "id": "eb21ec2e",
   "metadata": {},
   "outputs": [],
   "source": [
    "import requests\n",
    "\n",
    "import pprint"
   ]
  },
  {
   "cell_type": "markdown",
   "id": "0a8798ad",
   "metadata": {},
   "source": [
    "## You try it - add a route for /api/stores to check for login and return the stores data from last week; solution provided in web_server_solutions and web_client_solutions"
   ]
  },
  {
   "cell_type": "markdown",
   "id": "7e6da74f",
   "metadata": {},
   "source": [
    "## Login"
   ]
  },
  {
   "cell_type": "code",
   "execution_count": 14,
   "id": "7c5cf46e",
   "metadata": {},
   "outputs": [],
   "source": [
    "login_json = {\"username\": \"user_3\",\n",
    "              \"password\": \"password_3\"}"
   ]
  },
  {
   "cell_type": "code",
   "execution_count": 15,
   "id": "56b4e385",
   "metadata": {},
   "outputs": [
    {
     "name": "stderr",
     "output_type": "stream",
     "text": [
      "/opt/conda/lib/python3.9/site-packages/urllib3/connectionpool.py:1013: InsecureRequestWarning: Unverified HTTPS request is being made to host 'localhost'. Adding certificate verification is strongly advised. See: https://urllib3.readthedocs.io/en/1.26.x/advanced-usage.html#ssl-warnings\n",
      "  warnings.warn(\n"
     ]
    }
   ],
   "source": [
    "r = requests.post(\"https://localhost/api/login\", verify=False, data=login_json)"
   ]
  },
  {
   "cell_type": "code",
   "execution_count": 16,
   "id": "64d3b6df",
   "metadata": {},
   "outputs": [
    {
     "data": {
      "text/plain": [
       "200"
      ]
     },
     "execution_count": 16,
     "metadata": {},
     "output_type": "execute_result"
    }
   ],
   "source": [
    "r.status_code"
   ]
  },
  {
   "cell_type": "code",
   "execution_count": 17,
   "id": "f5a09bc4",
   "metadata": {},
   "outputs": [
    {
     "data": {
      "text/plain": [
       "{'status': 'success',\n",
       " 'sid': '0d2dc6f258617a2a2ada4fbeb8d08ca669cb452ffb8d12c598b3dfeae678534b'}"
      ]
     },
     "execution_count": 17,
     "metadata": {},
     "output_type": "execute_result"
    }
   ],
   "source": [
    "r.json()"
   ]
  },
  {
   "cell_type": "markdown",
   "id": "1c620658",
   "metadata": {},
   "source": [
    "## Get products"
   ]
  },
  {
   "cell_type": "code",
   "execution_count": 18,
   "id": "086832d9",
   "metadata": {},
   "outputs": [],
   "source": [
    "sid_json = {\"sid\": r.json()[\"sid\"]}"
   ]
  },
  {
   "cell_type": "code",
   "execution_count": 19,
   "id": "0b33b79b",
   "metadata": {},
   "outputs": [
    {
     "name": "stderr",
     "output_type": "stream",
     "text": [
      "/opt/conda/lib/python3.9/site-packages/urllib3/connectionpool.py:1013: InsecureRequestWarning: Unverified HTTPS request is being made to host 'localhost'. Adding certificate verification is strongly advised. See: https://urllib3.readthedocs.io/en/1.26.x/advanced-usage.html#ssl-warnings\n",
      "  warnings.warn(\n"
     ]
    }
   ],
   "source": [
    "r = requests.post(\"https://localhost/api/products\", verify=False, data=sid_json)"
   ]
  },
  {
   "cell_type": "code",
   "execution_count": 20,
   "id": "9089d315",
   "metadata": {},
   "outputs": [
    {
     "data": {
      "text/plain": [
       "200"
      ]
     },
     "execution_count": 20,
     "metadata": {},
     "output_type": "execute_result"
    }
   ],
   "source": [
    "r.status_code"
   ]
  },
  {
   "cell_type": "code",
   "execution_count": 21,
   "id": "d06db3a4",
   "metadata": {},
   "outputs": [
    {
     "data": {
      "text/plain": [
       "{'status': 'success',\n",
       " 'products': [{'product_id': '1',\n",
       "   'product_name': 'Pistachio Salmon',\n",
       "   'quantity': '1,828,778',\n",
       "   'total_sales': '21,945,336'},\n",
       "  {'product_id': '2',\n",
       "   'product_name': 'Teriyaki Chicken',\n",
       "   'quantity': '1,145,013',\n",
       "   'total_sales': '13,740,156'},\n",
       "  {'product_id': '3',\n",
       "   'product_name': 'Spinach Orzo',\n",
       "   'quantity': '456,769',\n",
       "   'total_sales': '5,481,228'},\n",
       "  {'product_id': '4',\n",
       "   'product_name': 'Eggplant Lasagna',\n",
       "   'quantity': '1,599,058',\n",
       "   'total_sales': '19,188,696'},\n",
       "  {'product_id': '5',\n",
       "   'product_name': 'Chicken Salad',\n",
       "   'quantity': '228,561',\n",
       "   'total_sales': '2,742,732'},\n",
       "  {'product_id': '6',\n",
       "   'product_name': 'Curry Chicken',\n",
       "   'quantity': '1,368,884',\n",
       "   'total_sales': '16,426,608'},\n",
       "  {'product_id': '7',\n",
       "   'product_name': 'Tilapia Piccata',\n",
       "   'quantity': '687,237',\n",
       "   'total_sales': '8,246,844'},\n",
       "  {'product_id': '8',\n",
       "   'product_name': 'Brocolli Stir Fry',\n",
       "   'quantity': '913,984',\n",
       "   'total_sales': '10,967,808'}]}"
      ]
     },
     "execution_count": 21,
     "metadata": {},
     "output_type": "execute_result"
    }
   ],
   "source": [
    "r.json()"
   ]
  },
  {
   "cell_type": "markdown",
   "id": "cd4ec3d5",
   "metadata": {},
   "source": [
    "## Get stores"
   ]
  },
  {
   "cell_type": "code",
   "execution_count": 22,
   "id": "5f323a42",
   "metadata": {},
   "outputs": [
    {
     "name": "stderr",
     "output_type": "stream",
     "text": [
      "/opt/conda/lib/python3.9/site-packages/urllib3/connectionpool.py:1013: InsecureRequestWarning: Unverified HTTPS request is being made to host 'localhost'. Adding certificate verification is strongly advised. See: https://urllib3.readthedocs.io/en/1.26.x/advanced-usage.html#ssl-warnings\n",
      "  warnings.warn(\n"
     ]
    }
   ],
   "source": [
    "r = requests.post(\"https://localhost/api/stores\", verify=False, data=sid_json)"
   ]
  },
  {
   "cell_type": "code",
   "execution_count": 23,
   "id": "efe95caa",
   "metadata": {},
   "outputs": [
    {
     "data": {
      "text/plain": [
       "200"
      ]
     },
     "execution_count": 23,
     "metadata": {},
     "output_type": "execute_result"
    }
   ],
   "source": [
    "r.status_code"
   ]
  },
  {
   "cell_type": "code",
   "execution_count": 24,
   "id": "23e1e7e1",
   "metadata": {},
   "outputs": [
    {
     "data": {
      "text/plain": [
       "{'status': 'success',\n",
       " 'stores': [{'store_id': '1', 'city': 'Berkeley', 'total_sales': '25,041,060'},\n",
       "  {'store_id': '2', 'city': 'Seattle', 'total_sales': '22,024,512'},\n",
       "  {'store_id': '3', 'city': 'Dallas', 'total_sales': '19,408,260'},\n",
       "  {'store_id': '4', 'city': 'Miami', 'total_sales': '17,692,404'},\n",
       "  {'store_id': '5', 'city': 'Nashville', 'total_sales': '14,573,172'}]}"
      ]
     },
     "execution_count": 24,
     "metadata": {},
     "output_type": "execute_result"
    }
   ],
   "source": [
    "r.json()"
   ]
  },
  {
   "cell_type": "markdown",
   "id": "26bc7c43",
   "metadata": {},
   "source": [
    "## Logout"
   ]
  },
  {
   "cell_type": "code",
   "execution_count": 25,
   "id": "0589fdfc",
   "metadata": {},
   "outputs": [
    {
     "name": "stderr",
     "output_type": "stream",
     "text": [
      "/opt/conda/lib/python3.9/site-packages/urllib3/connectionpool.py:1013: InsecureRequestWarning: Unverified HTTPS request is being made to host 'localhost'. Adding certificate verification is strongly advised. See: https://urllib3.readthedocs.io/en/1.26.x/advanced-usage.html#ssl-warnings\n",
      "  warnings.warn(\n"
     ]
    }
   ],
   "source": [
    "r = requests.post(\"https://localhost/api/logout\", verify=False, data=sid_json)"
   ]
  },
  {
   "cell_type": "code",
   "execution_count": 26,
   "id": "9d3da5e2",
   "metadata": {},
   "outputs": [
    {
     "data": {
      "text/plain": [
       "200"
      ]
     },
     "execution_count": 26,
     "metadata": {},
     "output_type": "execute_result"
    }
   ],
   "source": [
    "r.status_code"
   ]
  },
  {
   "cell_type": "code",
   "execution_count": 27,
   "id": "c46da01a",
   "metadata": {},
   "outputs": [
    {
     "data": {
      "text/plain": [
       "{'status': 'success'}"
      ]
     },
     "execution_count": 27,
     "metadata": {},
     "output_type": "execute_result"
    }
   ],
   "source": [
    "r.json()"
   ]
  },
  {
   "cell_type": "markdown",
   "id": "f429f130",
   "metadata": {},
   "source": [
    "## We are not logged in; try to get the stores"
   ]
  },
  {
   "cell_type": "code",
   "execution_count": 28,
   "id": "974b3b29",
   "metadata": {},
   "outputs": [
    {
     "name": "stderr",
     "output_type": "stream",
     "text": [
      "/opt/conda/lib/python3.9/site-packages/urllib3/connectionpool.py:1013: InsecureRequestWarning: Unverified HTTPS request is being made to host 'localhost'. Adding certificate verification is strongly advised. See: https://urllib3.readthedocs.io/en/1.26.x/advanced-usage.html#ssl-warnings\n",
      "  warnings.warn(\n"
     ]
    }
   ],
   "source": [
    "r = requests.post(\"https://localhost/api/stores\", verify=False, data=sid_json)"
   ]
  },
  {
   "cell_type": "code",
   "execution_count": 29,
   "id": "01fe3513",
   "metadata": {},
   "outputs": [
    {
     "data": {
      "text/plain": [
       "200"
      ]
     },
     "execution_count": 29,
     "metadata": {},
     "output_type": "execute_result"
    }
   ],
   "source": [
    "r.status_code"
   ]
  },
  {
   "cell_type": "code",
   "execution_count": 30,
   "id": "0d37cd8b",
   "metadata": {},
   "outputs": [
    {
     "data": {
      "text/plain": [
       "{'status': 'fail', 'description': 'not logged in'}"
      ]
     },
     "execution_count": 30,
     "metadata": {},
     "output_type": "execute_result"
    }
   ],
   "source": [
    "r.json()"
   ]
  },
  {
   "cell_type": "code",
   "execution_count": null,
   "id": "1f75429b",
   "metadata": {},
   "outputs": [],
   "source": []
  }
 ],
 "metadata": {
  "kernelspec": {
   "display_name": "Python 3 (ipykernel)",
   "language": "python",
   "name": "python3"
  },
  "language_info": {
   "codemirror_mode": {
    "name": "ipython",
    "version": 3
   },
   "file_extension": ".py",
   "mimetype": "text/x-python",
   "name": "python",
   "nbconvert_exporter": "python",
   "pygments_lexer": "ipython3",
   "version": "3.9.7"
  }
 },
 "nbformat": 4,
 "nbformat_minor": 5
}
