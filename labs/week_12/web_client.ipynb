{
 "cells": [
  {
   "cell_type": "markdown",
   "id": "e52a5bea",
   "metadata": {},
   "source": [
    "# Web Client"
   ]
  },
  {
   "cell_type": "code",
   "execution_count": 1,
   "id": "eb21ec2e",
   "metadata": {},
   "outputs": [],
   "source": [
    "import requests\n",
    "\n",
    "import pprint"
   ]
  },
  {
   "cell_type": "markdown",
   "id": "6fd2a49c",
   "metadata": {},
   "source": [
    "# Lab: Stateful Web API Server With Client Calls Using Python"
   ]
  },
  {
   "cell_type": "markdown",
   "id": "ca4d84ab",
   "metadata": {},
   "source": [
    "## First look at the Google cookies; NID is the Google name for SID and it is used to track users for months"
   ]
  },
  {
   "cell_type": "code",
   "execution_count": 2,
   "id": "958b6bec",
   "metadata": {},
   "outputs": [],
   "source": [
    "r = requests.get(\"https://google.com\")"
   ]
  },
  {
   "cell_type": "code",
   "execution_count": 3,
   "id": "0c9e8cce",
   "metadata": {},
   "outputs": [
    {
     "data": {
      "text/plain": [
       "200"
      ]
     },
     "execution_count": 3,
     "metadata": {},
     "output_type": "execute_result"
    }
   ],
   "source": [
    "r.status_code"
   ]
  },
  {
   "cell_type": "code",
   "execution_count": 4,
   "id": "7a7bece6",
   "metadata": {},
   "outputs": [
    {
     "data": {
      "text/plain": [
       "{'Date': 'Tue, 25 Mar 2025 21:10:19 GMT', 'Expires': '-1', 'Cache-Control': 'private, max-age=0', 'Content-Type': 'text/html; charset=ISO-8859-1', 'Content-Security-Policy-Report-Only': \"object-src 'none';base-uri 'self';script-src 'nonce-6Us289btSlrJ_ybx64nUgg' 'strict-dynamic' 'report-sample' 'unsafe-eval' 'unsafe-inline' https: http:;report-uri https://csp.withgoogle.com/csp/gws/other-hp\", 'Accept-CH': 'Sec-CH-Prefers-Color-Scheme', 'P3P': 'CP=\"This is not a P3P policy! See g.co/p3phelp for more info.\"', 'Content-Encoding': 'gzip', 'Server': 'gws', 'X-XSS-Protection': '0', 'X-Frame-Options': 'SAMEORIGIN', 'Set-Cookie': 'AEC=AVcja2f925KWibKFQ6wT7zl-jh33aJebkUIZ4wctTndLpv_EWnJJIbhi8Q; expires=Sun, 21-Sep-2025 21:10:19 GMT; path=/; domain=.google.com; Secure; HttpOnly; SameSite=lax, NID=522=3pCillMh6vCaSj0hwpjrQnet0PU-UhMaWxqjrApVLSBm43b6-sL9Ib3pORyEn2k3LYzXfbnyk3l-JmeTygHuwqE4rrHL4bX6aJL_mYVBpvdbI8HFra2dlOZeSiahNkbv-R6-PIwP3vmXg_65Daenq7Tf5u9yEjI4ONrfeYwLrD4-LpU23BbYoeUllkpUH0KRUAkq0sV6KGcR3jIXn5smT0c; expires=Wed, 24-Sep-2025 21:10:19 GMT; path=/; domain=.google.com; HttpOnly', 'Alt-Svc': 'h3=\":443\"; ma=2592000,h3-29=\":443\"; ma=2592000', 'Transfer-Encoding': 'chunked'}"
      ]
     },
     "execution_count": 4,
     "metadata": {},
     "output_type": "execute_result"
    }
   ],
   "source": [
    "r.headers"
   ]
  },
  {
   "cell_type": "code",
   "execution_count": 5,
   "id": "1a708c1a",
   "metadata": {},
   "outputs": [
    {
     "name": "stdout",
     "output_type": "stream",
     "text": [
      "{'Accept-CH': 'Sec-CH-Prefers-Color-Scheme',\n",
      " 'Alt-Svc': 'h3=\":443\"; ma=2592000,h3-29=\":443\"; ma=2592000',\n",
      " 'Cache-Control': 'private, max-age=0',\n",
      " 'Content-Encoding': 'gzip',\n",
      " 'Content-Security-Policy-Report-Only': \"object-src 'none';base-uri \"\n",
      "                                        \"'self';script-src \"\n",
      "                                        \"'nonce-6Us289btSlrJ_ybx64nUgg' \"\n",
      "                                        \"'strict-dynamic' 'report-sample' \"\n",
      "                                        \"'unsafe-eval' 'unsafe-inline' https: \"\n",
      "                                        'http:;report-uri '\n",
      "                                        'https://csp.withgoogle.com/csp/gws/other-hp',\n",
      " 'Content-Type': 'text/html; charset=ISO-8859-1',\n",
      " 'Date': 'Tue, 25 Mar 2025 21:10:19 GMT',\n",
      " 'Expires': '-1',\n",
      " 'P3P': 'CP=\"This is not a P3P policy! See g.co/p3phelp for more info.\"',\n",
      " 'Server': 'gws',\n",
      " 'Set-Cookie': 'AEC=AVcja2f925KWibKFQ6wT7zl-jh33aJebkUIZ4wctTndLpv_EWnJJIbhi8Q; '\n",
      "               'expires=Sun, 21-Sep-2025 21:10:19 GMT; path=/; '\n",
      "               'domain=.google.com; Secure; HttpOnly; SameSite=lax, '\n",
      "               'NID=522=3pCillMh6vCaSj0hwpjrQnet0PU-UhMaWxqjrApVLSBm43b6-sL9Ib3pORyEn2k3LYzXfbnyk3l-JmeTygHuwqE4rrHL4bX6aJL_mYVBpvdbI8HFra2dlOZeSiahNkbv-R6-PIwP3vmXg_65Daenq7Tf5u9yEjI4ONrfeYwLrD4-LpU23BbYoeUllkpUH0KRUAkq0sV6KGcR3jIXn5smT0c; '\n",
      "               'expires=Wed, 24-Sep-2025 21:10:19 GMT; path=/; '\n",
      "               'domain=.google.com; HttpOnly',\n",
      " 'Transfer-Encoding': 'chunked',\n",
      " 'X-Frame-Options': 'SAMEORIGIN',\n",
      " 'X-XSS-Protection': '0'}\n"
     ]
    }
   ],
   "source": [
    "pprint.pprint(dict(r.headers))"
   ]
  },
  {
   "cell_type": "code",
   "execution_count": 6,
   "id": "ba5ba433",
   "metadata": {},
   "outputs": [
    {
     "data": {
      "text/plain": [
       "<RequestsCookieJar[Cookie(version=0, name='AEC', value='AVcja2f925KWibKFQ6wT7zl-jh33aJebkUIZ4wctTndLpv_EWnJJIbhi8Q', port=None, port_specified=False, domain='.google.com', domain_specified=True, domain_initial_dot=True, path='/', path_specified=True, secure=True, expires=1758489019, discard=False, comment=None, comment_url=None, rest={'HttpOnly': None, 'SameSite': 'lax'}, rfc2109=False), Cookie(version=0, name='NID', value='522=3pCillMh6vCaSj0hwpjrQnet0PU-UhMaWxqjrApVLSBm43b6-sL9Ib3pORyEn2k3LYzXfbnyk3l-JmeTygHuwqE4rrHL4bX6aJL_mYVBpvdbI8HFra2dlOZeSiahNkbv-R6-PIwP3vmXg_65Daenq7Tf5u9yEjI4ONrfeYwLrD4-LpU23BbYoeUllkpUH0KRUAkq0sV6KGcR3jIXn5smT0c', port=None, port_specified=False, domain='.google.com', domain_specified=True, domain_initial_dot=True, path='/', path_specified=True, secure=False, expires=1758748219, discard=False, comment=None, comment_url=None, rest={'HttpOnly': None}, rfc2109=False)]>"
      ]
     },
     "execution_count": 6,
     "metadata": {},
     "output_type": "execute_result"
    }
   ],
   "source": [
    "r.cookies"
   ]
  },
  {
   "cell_type": "code",
   "execution_count": 7,
   "id": "e5c4897d",
   "metadata": {},
   "outputs": [
    {
     "name": "stdout",
     "output_type": "stream",
     "text": [
      "<Cookie AEC=AVcja2f925KWibKFQ6wT7zl-jh33aJebkUIZ4wctTndLpv_EWnJJIbhi8Q for .google.com/>\n",
      "<Cookie NID=522=3pCillMh6vCaSj0hwpjrQnet0PU-UhMaWxqjrApVLSBm43b6-sL9Ib3pORyEn2k3LYzXfbnyk3l-JmeTygHuwqE4rrHL4bX6aJL_mYVBpvdbI8HFra2dlOZeSiahNkbv-R6-PIwP3vmXg_65Daenq7Tf5u9yEjI4ONrfeYwLrD4-LpU23BbYoeUllkpUH0KRUAkq0sV6KGcR3jIXn5smT0c for .google.com/>\n"
     ]
    }
   ],
   "source": [
    "for cookie in r.cookies:\n",
    "    print(cookie)"
   ]
  },
  {
   "cell_type": "code",
   "execution_count": 8,
   "id": "bc0bb232",
   "metadata": {},
   "outputs": [
    {
     "data": {
      "text/plain": [
       "'522=3pCillMh6vCaSj0hwpjrQnet0PU-UhMaWxqjrApVLSBm43b6-sL9Ib3pORyEn2k3LYzXfbnyk3l-JmeTygHuwqE4rrHL4bX6aJL_mYVBpvdbI8HFra2dlOZeSiahNkbv-R6-PIwP3vmXg_65Daenq7Tf5u9yEjI4ONrfeYwLrD4-LpU23BbYoeUllkpUH0KRUAkq0sV6KGcR3jIXn5smT0c'"
      ]
     },
     "execution_count": 8,
     "metadata": {},
     "output_type": "execute_result"
    }
   ],
   "source": [
    "r.cookies[\"NID\"]"
   ]
  },
  {
   "cell_type": "markdown",
   "id": "b0078a33",
   "metadata": {},
   "source": [
    "## Look at the SID cookie set by our web server"
   ]
  },
  {
   "cell_type": "code",
   "execution_count": 9,
   "id": "7940c548",
   "metadata": {},
   "outputs": [
    {
     "name": "stderr",
     "output_type": "stream",
     "text": [
      "/opt/conda/lib/python3.9/site-packages/urllib3/connectionpool.py:1013: InsecureRequestWarning: Unverified HTTPS request is being made to host 'localhost'. Adding certificate verification is strongly advised. See: https://urllib3.readthedocs.io/en/1.26.x/advanced-usage.html#ssl-warnings\n",
      "  warnings.warn(\n"
     ]
    }
   ],
   "source": [
    "r = requests.get(\"https://localhost\", verify=False)"
   ]
  },
  {
   "cell_type": "code",
   "execution_count": 10,
   "id": "1546ebc9",
   "metadata": {},
   "outputs": [
    {
     "data": {
      "text/plain": [
       "200"
      ]
     },
     "execution_count": 10,
     "metadata": {},
     "output_type": "execute_result"
    }
   ],
   "source": [
    "r.status_code"
   ]
  },
  {
   "cell_type": "code",
   "execution_count": 11,
   "id": "9afe430c",
   "metadata": {},
   "outputs": [
    {
     "data": {
      "text/plain": [
       "{'Content-Type': 'text/html; charset=utf-8', 'Content-Length': '130', 'Set-Cookie': 'SID=d86fd9ee67e14cc59228288450cf1f6f47a94cbfa7a8ddaa70df26a8dc1ceec0; Path=/', 'Server': 'Werkzeug/2.0.2 Python/3.9.7', 'Date': 'Tue, 25 Mar 2025 21:12:32 GMT'}"
      ]
     },
     "execution_count": 11,
     "metadata": {},
     "output_type": "execute_result"
    }
   ],
   "source": [
    "r.headers"
   ]
  },
  {
   "cell_type": "code",
   "execution_count": 12,
   "id": "33da32bb",
   "metadata": {},
   "outputs": [
    {
     "name": "stdout",
     "output_type": "stream",
     "text": [
      "{'Content-Length': '130',\n",
      " 'Content-Type': 'text/html; charset=utf-8',\n",
      " 'Date': 'Tue, 25 Mar 2025 21:12:32 GMT',\n",
      " 'Server': 'Werkzeug/2.0.2 Python/3.9.7',\n",
      " 'Set-Cookie': 'SID=d86fd9ee67e14cc59228288450cf1f6f47a94cbfa7a8ddaa70df26a8dc1ceec0; '\n",
      "               'Path=/'}\n"
     ]
    }
   ],
   "source": [
    "pprint.pprint(dict(r.headers))"
   ]
  },
  {
   "cell_type": "code",
   "execution_count": 13,
   "id": "57aa8e34",
   "metadata": {},
   "outputs": [
    {
     "data": {
      "text/plain": [
       "<RequestsCookieJar[Cookie(version=0, name='SID', value='d86fd9ee67e14cc59228288450cf1f6f47a94cbfa7a8ddaa70df26a8dc1ceec0', port=None, port_specified=False, domain='localhost.local', domain_specified=False, domain_initial_dot=False, path='/', path_specified=True, secure=False, expires=None, discard=True, comment=None, comment_url=None, rest={}, rfc2109=False)]>"
      ]
     },
     "execution_count": 13,
     "metadata": {},
     "output_type": "execute_result"
    }
   ],
   "source": [
    "r.cookies"
   ]
  },
  {
   "cell_type": "code",
   "execution_count": 14,
   "id": "09213511",
   "metadata": {},
   "outputs": [
    {
     "name": "stdout",
     "output_type": "stream",
     "text": [
      "<Cookie SID=d86fd9ee67e14cc59228288450cf1f6f47a94cbfa7a8ddaa70df26a8dc1ceec0 for localhost.local/>\n"
     ]
    }
   ],
   "source": [
    "for cookie in r.cookies:\n",
    "    print(cookie)"
   ]
  },
  {
   "cell_type": "code",
   "execution_count": 15,
   "id": "788e41cf",
   "metadata": {},
   "outputs": [
    {
     "data": {
      "text/plain": [
       "'d86fd9ee67e14cc59228288450cf1f6f47a94cbfa7a8ddaa70df26a8dc1ceec0'"
      ]
     },
     "execution_count": 15,
     "metadata": {},
     "output_type": "execute_result"
    }
   ],
   "source": [
    "r.cookies[\"SID\"]"
   ]
  },
  {
   "cell_type": "code",
   "execution_count": 16,
   "id": "6109bc83",
   "metadata": {},
   "outputs": [
    {
     "data": {
      "text/plain": [
       "'SID cookie does not exist, creating the cookie, and setting it to d86fd9ee67e14cc59228288450cf1f6f47a94cbfa7a8ddaa70df26a8dc1ceec0'"
      ]
     },
     "execution_count": 16,
     "metadata": {},
     "output_type": "execute_result"
    }
   ],
   "source": [
    "r.text"
   ]
  },
  {
   "cell_type": "markdown",
   "id": "75f4c78a",
   "metadata": {},
   "source": [
    "## Send the SID cookie we just recieved back to the web server on a subsequent request"
   ]
  },
  {
   "cell_type": "code",
   "execution_count": 17,
   "id": "c7ae27e9",
   "metadata": {},
   "outputs": [
    {
     "data": {
      "text/plain": [
       "{'SID': 'd86fd9ee67e14cc59228288450cf1f6f47a94cbfa7a8ddaa70df26a8dc1ceec0'}"
      ]
     },
     "execution_count": 17,
     "metadata": {},
     "output_type": "execute_result"
    }
   ],
   "source": [
    "cookies = {\"SID\": r.cookies[\"SID\"]}\n",
    "cookies"
   ]
  },
  {
   "cell_type": "code",
   "execution_count": 18,
   "id": "a0fd7273",
   "metadata": {},
   "outputs": [
    {
     "name": "stderr",
     "output_type": "stream",
     "text": [
      "/opt/conda/lib/python3.9/site-packages/urllib3/connectionpool.py:1013: InsecureRequestWarning: Unverified HTTPS request is being made to host 'localhost'. Adding certificate verification is strongly advised. See: https://urllib3.readthedocs.io/en/1.26.x/advanced-usage.html#ssl-warnings\n",
      "  warnings.warn(\n"
     ]
    }
   ],
   "source": [
    "r = requests.get(\"https://localhost\", verify=False, cookies=cookies)"
   ]
  },
  {
   "cell_type": "code",
   "execution_count": 19,
   "id": "75534d75",
   "metadata": {},
   "outputs": [
    {
     "data": {
      "text/plain": [
       "200"
      ]
     },
     "execution_count": 19,
     "metadata": {},
     "output_type": "execute_result"
    }
   ],
   "source": [
    "r.status_code"
   ]
  },
  {
   "cell_type": "code",
   "execution_count": 20,
   "id": "f40f903b",
   "metadata": {},
   "outputs": [
    {
     "data": {
      "text/plain": [
       "{'Content-Type': 'text/html; charset=utf-8', 'Content-Length': '100', 'Server': 'Werkzeug/2.0.2 Python/3.9.7', 'Date': 'Tue, 25 Mar 2025 21:14:37 GMT'}"
      ]
     },
     "execution_count": 20,
     "metadata": {},
     "output_type": "execute_result"
    }
   ],
   "source": [
    "r.headers"
   ]
  },
  {
   "cell_type": "code",
   "execution_count": 21,
   "id": "b5cd384d",
   "metadata": {},
   "outputs": [
    {
     "name": "stdout",
     "output_type": "stream",
     "text": [
      "{'Content-Length': '100',\n",
      " 'Content-Type': 'text/html; charset=utf-8',\n",
      " 'Date': 'Tue, 25 Mar 2025 21:14:37 GMT',\n",
      " 'Server': 'Werkzeug/2.0.2 Python/3.9.7'}\n"
     ]
    }
   ],
   "source": [
    "pprint.pprint(dict(r.headers))"
   ]
  },
  {
   "cell_type": "code",
   "execution_count": 22,
   "id": "8e618c5a",
   "metadata": {},
   "outputs": [
    {
     "data": {
      "text/plain": [
       "<RequestsCookieJar[]>"
      ]
     },
     "execution_count": 22,
     "metadata": {},
     "output_type": "execute_result"
    }
   ],
   "source": [
    "r.cookies"
   ]
  },
  {
   "cell_type": "code",
   "execution_count": 23,
   "id": "6fdff084",
   "metadata": {},
   "outputs": [
    {
     "data": {
      "text/plain": [
       "\"SID cookie exists and it's value is d86fd9ee67e14cc59228288450cf1f6f47a94cbfa7a8ddaa70df26a8dc1ceec0\""
      ]
     },
     "execution_count": 23,
     "metadata": {},
     "output_type": "execute_result"
    }
   ],
   "source": [
    "r.text"
   ]
  },
  {
   "cell_type": "markdown",
   "id": "204ec580",
   "metadata": {},
   "source": [
    "## Previously, we received and sent the cookie back manually; requests module has a Session() method that will store cookies received from the web server and send them on subsequent requests "
   ]
  },
  {
   "cell_type": "code",
   "execution_count": 24,
   "id": "ca2dcb05",
   "metadata": {},
   "outputs": [],
   "source": [
    "session = requests.Session()"
   ]
  },
  {
   "cell_type": "code",
   "execution_count": 25,
   "id": "43e4e0b1",
   "metadata": {},
   "outputs": [
    {
     "name": "stderr",
     "output_type": "stream",
     "text": [
      "/opt/conda/lib/python3.9/site-packages/urllib3/connectionpool.py:1013: InsecureRequestWarning: Unverified HTTPS request is being made to host 'localhost'. Adding certificate verification is strongly advised. See: https://urllib3.readthedocs.io/en/1.26.x/advanced-usage.html#ssl-warnings\n",
      "  warnings.warn(\n"
     ]
    }
   ],
   "source": [
    "r = session.get(\"https://localhost\", verify=False)"
   ]
  },
  {
   "cell_type": "code",
   "execution_count": 26,
   "id": "3eed5c16",
   "metadata": {},
   "outputs": [
    {
     "data": {
      "text/plain": [
       "200"
      ]
     },
     "execution_count": 26,
     "metadata": {},
     "output_type": "execute_result"
    }
   ],
   "source": [
    "r.status_code"
   ]
  },
  {
   "cell_type": "code",
   "execution_count": 27,
   "id": "166b73db",
   "metadata": {},
   "outputs": [
    {
     "data": {
      "text/plain": [
       "'SID cookie does not exist, creating the cookie, and setting it to b0273a3925a454c5bc797fd18e2acc0a1da0e2803cae90df29380d141c7a93af'"
      ]
     },
     "execution_count": 27,
     "metadata": {},
     "output_type": "execute_result"
    }
   ],
   "source": [
    "r.text"
   ]
  },
  {
   "cell_type": "code",
   "execution_count": 28,
   "id": "1e3567d6",
   "metadata": {},
   "outputs": [
    {
     "data": {
      "text/plain": [
       "<RequestsCookieJar[Cookie(version=0, name='SID', value='b0273a3925a454c5bc797fd18e2acc0a1da0e2803cae90df29380d141c7a93af', port=None, port_specified=False, domain='localhost.local', domain_specified=False, domain_initial_dot=False, path='/', path_specified=True, secure=False, expires=None, discard=True, comment=None, comment_url=None, rest={}, rfc2109=False)]>"
      ]
     },
     "execution_count": 28,
     "metadata": {},
     "output_type": "execute_result"
    }
   ],
   "source": [
    "r.cookies"
   ]
  },
  {
   "cell_type": "code",
   "execution_count": 29,
   "id": "2bfeaea2",
   "metadata": {},
   "outputs": [
    {
     "name": "stderr",
     "output_type": "stream",
     "text": [
      "/opt/conda/lib/python3.9/site-packages/urllib3/connectionpool.py:1013: InsecureRequestWarning: Unverified HTTPS request is being made to host 'localhost'. Adding certificate verification is strongly advised. See: https://urllib3.readthedocs.io/en/1.26.x/advanced-usage.html#ssl-warnings\n",
      "  warnings.warn(\n"
     ]
    }
   ],
   "source": [
    "r = session.get(\"https://localhost\", verify=False)"
   ]
  },
  {
   "cell_type": "code",
   "execution_count": 30,
   "id": "5c36e757",
   "metadata": {},
   "outputs": [
    {
     "data": {
      "text/plain": [
       "200"
      ]
     },
     "execution_count": 30,
     "metadata": {},
     "output_type": "execute_result"
    }
   ],
   "source": [
    "r.status_code"
   ]
  },
  {
   "cell_type": "code",
   "execution_count": 31,
   "id": "069ff373",
   "metadata": {},
   "outputs": [
    {
     "data": {
      "text/plain": [
       "\"SID cookie exists and it's value is b0273a3925a454c5bc797fd18e2acc0a1da0e2803cae90df29380d141c7a93af\""
      ]
     },
     "execution_count": 31,
     "metadata": {},
     "output_type": "execute_result"
    }
   ],
   "source": [
    "r.text"
   ]
  },
  {
   "cell_type": "markdown",
   "id": "e63ed65a",
   "metadata": {},
   "source": [
    "## Using the server with login, logout, and get products implemented "
   ]
  },
  {
   "cell_type": "markdown",
   "id": "3a445dce",
   "metadata": {},
   "source": [
    "## Login"
   ]
  },
  {
   "cell_type": "code",
   "execution_count": 32,
   "id": "b10cc204",
   "metadata": {},
   "outputs": [],
   "source": [
    "login_json = {\"username\": \"user_3\",\n",
    "              \"password\": \"password_3\"}"
   ]
  },
  {
   "cell_type": "code",
   "execution_count": 33,
   "id": "78e11586",
   "metadata": {},
   "outputs": [
    {
     "name": "stderr",
     "output_type": "stream",
     "text": [
      "/opt/conda/lib/python3.9/site-packages/urllib3/connectionpool.py:1013: InsecureRequestWarning: Unverified HTTPS request is being made to host 'localhost'. Adding certificate verification is strongly advised. See: https://urllib3.readthedocs.io/en/1.26.x/advanced-usage.html#ssl-warnings\n",
      "  warnings.warn(\n"
     ]
    }
   ],
   "source": [
    "r = requests.post(\"https://localhost/api/login\", verify=False, data=login_json)"
   ]
  },
  {
   "cell_type": "code",
   "execution_count": 34,
   "id": "64d3b6df",
   "metadata": {},
   "outputs": [
    {
     "data": {
      "text/plain": [
       "200"
      ]
     },
     "execution_count": 34,
     "metadata": {},
     "output_type": "execute_result"
    }
   ],
   "source": [
    "r.status_code"
   ]
  },
  {
   "cell_type": "code",
   "execution_count": 35,
   "id": "9a496dce",
   "metadata": {},
   "outputs": [
    {
     "data": {
      "text/plain": [
       "{'status': 'success',\n",
       " 'sid': '68e5b33fa9afcfc02914e631c75db1f30356042d7c39fc187f003e853e82cf10'}"
      ]
     },
     "execution_count": 35,
     "metadata": {},
     "output_type": "execute_result"
    }
   ],
   "source": [
    "r.json()"
   ]
  },
  {
   "cell_type": "markdown",
   "id": "ed7740e9",
   "metadata": {},
   "source": [
    "## Get products"
   ]
  },
  {
   "cell_type": "code",
   "execution_count": 36,
   "id": "e4c5ab9b",
   "metadata": {},
   "outputs": [],
   "source": [
    "sid_json = {\"sid\": r.json()[\"sid\"]}"
   ]
  },
  {
   "cell_type": "code",
   "execution_count": 37,
   "id": "164f02c1",
   "metadata": {},
   "outputs": [
    {
     "name": "stderr",
     "output_type": "stream",
     "text": [
      "/opt/conda/lib/python3.9/site-packages/urllib3/connectionpool.py:1013: InsecureRequestWarning: Unverified HTTPS request is being made to host 'localhost'. Adding certificate verification is strongly advised. See: https://urllib3.readthedocs.io/en/1.26.x/advanced-usage.html#ssl-warnings\n",
      "  warnings.warn(\n"
     ]
    }
   ],
   "source": [
    "r = requests.post(\"https://localhost/api/products\", verify=False, data=sid_json)"
   ]
  },
  {
   "cell_type": "code",
   "execution_count": 38,
   "id": "8d86c3d6",
   "metadata": {},
   "outputs": [
    {
     "data": {
      "text/plain": [
       "200"
      ]
     },
     "execution_count": 38,
     "metadata": {},
     "output_type": "execute_result"
    }
   ],
   "source": [
    "r.status_code"
   ]
  },
  {
   "cell_type": "code",
   "execution_count": 39,
   "id": "d06db3a4",
   "metadata": {},
   "outputs": [
    {
     "data": {
      "text/plain": [
       "{'status': 'success',\n",
       " 'products': [{'product_id': '1',\n",
       "   'product_name': 'Pistachio Salmon',\n",
       "   'quantity': '1,828,778',\n",
       "   'total_sales': '21,945,336'},\n",
       "  {'product_id': '2',\n",
       "   'product_name': 'Teriyaki Chicken',\n",
       "   'quantity': '1,145,013',\n",
       "   'total_sales': '13,740,156'},\n",
       "  {'product_id': '3',\n",
       "   'product_name': 'Spinach Orzo',\n",
       "   'quantity': '456,769',\n",
       "   'total_sales': '5,481,228'},\n",
       "  {'product_id': '4',\n",
       "   'product_name': 'Eggplant Lasagna',\n",
       "   'quantity': '1,599,058',\n",
       "   'total_sales': '19,188,696'},\n",
       "  {'product_id': '5',\n",
       "   'product_name': 'Chicken Salad',\n",
       "   'quantity': '228,561',\n",
       "   'total_sales': '2,742,732'},\n",
       "  {'product_id': '6',\n",
       "   'product_name': 'Curry Chicken',\n",
       "   'quantity': '1,368,884',\n",
       "   'total_sales': '16,426,608'},\n",
       "  {'product_id': '7',\n",
       "   'product_name': 'Tilapia Piccata',\n",
       "   'quantity': '687,237',\n",
       "   'total_sales': '8,246,844'},\n",
       "  {'product_id': '8',\n",
       "   'product_name': 'Brocolli Stir Fry',\n",
       "   'quantity': '913,984',\n",
       "   'total_sales': '10,967,808'}]}"
      ]
     },
     "execution_count": 39,
     "metadata": {},
     "output_type": "execute_result"
    }
   ],
   "source": [
    "r.json()"
   ]
  },
  {
   "cell_type": "markdown",
   "id": "1fa98618",
   "metadata": {},
   "source": [
    "## Logout"
   ]
  },
  {
   "cell_type": "code",
   "execution_count": 40,
   "id": "fc896312",
   "metadata": {},
   "outputs": [
    {
     "name": "stderr",
     "output_type": "stream",
     "text": [
      "/opt/conda/lib/python3.9/site-packages/urllib3/connectionpool.py:1013: InsecureRequestWarning: Unverified HTTPS request is being made to host 'localhost'. Adding certificate verification is strongly advised. See: https://urllib3.readthedocs.io/en/1.26.x/advanced-usage.html#ssl-warnings\n",
      "  warnings.warn(\n"
     ]
    }
   ],
   "source": [
    "r = requests.post(\"https://localhost/api/logout\", verify=False, data=sid_json)"
   ]
  },
  {
   "cell_type": "code",
   "execution_count": 41,
   "id": "f542ee13",
   "metadata": {},
   "outputs": [
    {
     "data": {
      "text/plain": [
       "200"
      ]
     },
     "execution_count": 41,
     "metadata": {},
     "output_type": "execute_result"
    }
   ],
   "source": [
    "r.status_code"
   ]
  },
  {
   "cell_type": "code",
   "execution_count": 42,
   "id": "001a15c8",
   "metadata": {},
   "outputs": [
    {
     "data": {
      "text/plain": [
       "{'status': 'success'}"
      ]
     },
     "execution_count": 42,
     "metadata": {},
     "output_type": "execute_result"
    }
   ],
   "source": [
    "r.json()"
   ]
  },
  {
   "cell_type": "markdown",
   "id": "b2e339ae",
   "metadata": {},
   "source": [
    "## We are not logged in; try to get the products"
   ]
  },
  {
   "cell_type": "code",
   "execution_count": 43,
   "id": "71f57b29",
   "metadata": {},
   "outputs": [
    {
     "name": "stderr",
     "output_type": "stream",
     "text": [
      "/opt/conda/lib/python3.9/site-packages/urllib3/connectionpool.py:1013: InsecureRequestWarning: Unverified HTTPS request is being made to host 'localhost'. Adding certificate verification is strongly advised. See: https://urllib3.readthedocs.io/en/1.26.x/advanced-usage.html#ssl-warnings\n",
      "  warnings.warn(\n"
     ]
    }
   ],
   "source": [
    "r = requests.post(\"https://localhost/api/products\", verify=False, data=sid_json)"
   ]
  },
  {
   "cell_type": "code",
   "execution_count": 44,
   "id": "1d3b76fc",
   "metadata": {},
   "outputs": [
    {
     "data": {
      "text/plain": [
       "200"
      ]
     },
     "execution_count": 44,
     "metadata": {},
     "output_type": "execute_result"
    }
   ],
   "source": [
    "r.status_code"
   ]
  },
  {
   "cell_type": "code",
   "execution_count": 45,
   "id": "dcceb269",
   "metadata": {},
   "outputs": [
    {
     "data": {
      "text/plain": [
       "{'status': 'fail', 'description': 'not logged in'}"
      ]
     },
     "execution_count": 45,
     "metadata": {},
     "output_type": "execute_result"
    }
   ],
   "source": [
    "r.json()"
   ]
  },
  {
   "cell_type": "markdown",
   "id": "2f56cf3f",
   "metadata": {},
   "source": [
    "## Try to login with a bad username and password"
   ]
  },
  {
   "cell_type": "code",
   "execution_count": 46,
   "id": "98d0a0b3",
   "metadata": {},
   "outputs": [],
   "source": [
    "login_json = {\"username\": \"user_3\",\n",
    "              \"password\": \"not the password\"}"
   ]
  },
  {
   "cell_type": "code",
   "execution_count": 47,
   "id": "7f7717a7",
   "metadata": {},
   "outputs": [
    {
     "name": "stderr",
     "output_type": "stream",
     "text": [
      "/opt/conda/lib/python3.9/site-packages/urllib3/connectionpool.py:1013: InsecureRequestWarning: Unverified HTTPS request is being made to host 'localhost'. Adding certificate verification is strongly advised. See: https://urllib3.readthedocs.io/en/1.26.x/advanced-usage.html#ssl-warnings\n",
      "  warnings.warn(\n"
     ]
    }
   ],
   "source": [
    "r = requests.post(\"https://localhost/api/login\", verify=False, data=login_json)"
   ]
  },
  {
   "cell_type": "code",
   "execution_count": 48,
   "id": "1ccbc8bb",
   "metadata": {},
   "outputs": [
    {
     "data": {
      "text/plain": [
       "200"
      ]
     },
     "execution_count": 48,
     "metadata": {},
     "output_type": "execute_result"
    }
   ],
   "source": [
    "r.status_code"
   ]
  },
  {
   "cell_type": "code",
   "execution_count": 49,
   "id": "f9f42570",
   "metadata": {},
   "outputs": [
    {
     "data": {
      "text/plain": [
       "{'status': 'fail', 'description': 'invalid username and/or password'}"
      ]
     },
     "execution_count": 49,
     "metadata": {},
     "output_type": "execute_result"
    }
   ],
   "source": [
    "r.json()"
   ]
  },
  {
   "cell_type": "markdown",
   "id": "505019d9",
   "metadata": {},
   "source": [
    "## Try to logout when we are not logged in"
   ]
  },
  {
   "cell_type": "code",
   "execution_count": 50,
   "id": "9fbc27a1",
   "metadata": {},
   "outputs": [
    {
     "name": "stderr",
     "output_type": "stream",
     "text": [
      "/opt/conda/lib/python3.9/site-packages/urllib3/connectionpool.py:1013: InsecureRequestWarning: Unverified HTTPS request is being made to host 'localhost'. Adding certificate verification is strongly advised. See: https://urllib3.readthedocs.io/en/1.26.x/advanced-usage.html#ssl-warnings\n",
      "  warnings.warn(\n"
     ]
    }
   ],
   "source": [
    "r = requests.post(\"https://localhost/api/logout\", verify=False, data=sid_json)"
   ]
  },
  {
   "cell_type": "code",
   "execution_count": 51,
   "id": "5565ca96",
   "metadata": {},
   "outputs": [
    {
     "data": {
      "text/plain": [
       "200"
      ]
     },
     "execution_count": 51,
     "metadata": {},
     "output_type": "execute_result"
    }
   ],
   "source": [
    "r.status_code"
   ]
  },
  {
   "cell_type": "code",
   "execution_count": 52,
   "id": "a641b476",
   "metadata": {},
   "outputs": [
    {
     "data": {
      "text/plain": [
       "{'status': 'fail', 'description': 'not logged in'}"
      ]
     },
     "execution_count": 52,
     "metadata": {},
     "output_type": "execute_result"
    }
   ],
   "source": [
    "r.json()"
   ]
  },
  {
   "cell_type": "code",
   "execution_count": null,
   "id": "0504854c",
   "metadata": {},
   "outputs": [],
   "source": []
  }
 ],
 "metadata": {
  "kernelspec": {
   "display_name": "Python 3 (ipykernel)",
   "language": "python",
   "name": "python3"
  },
  "language_info": {
   "codemirror_mode": {
    "name": "ipython",
    "version": 3
   },
   "file_extension": ".py",
   "mimetype": "text/x-python",
   "name": "python",
   "nbconvert_exporter": "python",
   "pygments_lexer": "ipython3",
   "version": "3.9.7"
  }
 },
 "nbformat": 4,
 "nbformat_minor": 5
}
