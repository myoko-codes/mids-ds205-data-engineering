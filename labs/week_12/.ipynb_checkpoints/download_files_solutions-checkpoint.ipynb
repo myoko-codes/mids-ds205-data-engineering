{
 "cells": [
  {
   "cell_type": "markdown",
   "id": "e52a5bea",
   "metadata": {},
   "source": [
    "# Download Files Solutions"
   ]
  },
  {
   "cell_type": "code",
   "execution_count": 1,
   "id": "eb21ec2e",
   "metadata": {},
   "outputs": [],
   "source": [
    "import requests\n",
    "\n",
    "import os\n",
    "\n",
    "import zipfile"
   ]
  },
  {
   "cell_type": "markdown",
   "id": "9c230e97",
   "metadata": {},
   "source": [
    "## You try it - \n",
    "\n",
    "## Download the json file https://nginx/downloads/temp_stores_nested.json\n"
   ]
  },
  {
   "cell_type": "code",
   "execution_count": 2,
   "id": "a0fd7273",
   "metadata": {},
   "outputs": [
    {
     "name": "stderr",
     "output_type": "stream",
     "text": [
      "/opt/conda/lib/python3.9/site-packages/urllib3/connectionpool.py:1013: InsecureRequestWarning: Unverified HTTPS request is being made to host 'nginx'. Adding certificate verification is strongly advised. See: https://urllib3.readthedocs.io/en/1.26.x/advanced-usage.html#ssl-warnings\n",
      "  warnings.warn(\n"
     ]
    }
   ],
   "source": [
    "r = requests.get(\"https://nginx/downloads/temp_stores_nested.json\", verify=False)"
   ]
  },
  {
   "cell_type": "code",
   "execution_count": 3,
   "id": "75534d75",
   "metadata": {},
   "outputs": [
    {
     "data": {
      "text/plain": [
       "200"
      ]
     },
     "execution_count": 3,
     "metadata": {},
     "output_type": "execute_result"
    }
   ],
   "source": [
    "r.status_code"
   ]
  },
  {
   "cell_type": "code",
   "execution_count": 4,
   "id": "6fdff084",
   "metadata": {},
   "outputs": [
    {
     "data": {
      "text/plain": [
       "'{\\n  \"creator\": \"Acme Gourmet Meals\",\\n  \"timestamp\": \"2021-10-10 18:22:39\",\\n  \"file_name\": \"temp_stores_nested.json\",\\n  \"version\": \"12.4.7\",\\n  \"legal\": \"Unauthorized use, duplication, or possession, blah, blah\",\\n  \"stores\": [\\n    {\\n      \"store_id\": 1,\\n      \"street\": \"3000 Telegraph Ave\",\\n      \"city\": \"Berkeley\",\\n      \"state\": \"CA\",\\n      \"zip\": \"94705\",\\n      \"latitude\": 37.8555,\\n      \"longitude\": -122.2604,\\n      \"sales\": [\\n        {\\n          \"sale_id\": 128112,\\n          \"sale_date\": \"2020'"
      ]
     },
     "execution_count": 4,
     "metadata": {},
     "output_type": "execute_result"
    }
   ],
   "source": [
    "r.text[:500]"
   ]
  },
  {
   "cell_type": "code",
   "execution_count": 5,
   "id": "904b6bd2",
   "metadata": {},
   "outputs": [],
   "source": [
    "f = open(\"temp_stores_nested.json\", \"w\")\n",
    "\n",
    "f.write(r.text)\n",
    "\n",
    "f.close()"
   ]
  },
  {
   "cell_type": "markdown",
   "id": "7c7ac108",
   "metadata": {},
   "source": [
    "## You try it - \n",
    "\n",
    "## Download the image file https://nginx/downloads/berkeley_logo.png\n"
   ]
  },
  {
   "cell_type": "code",
   "execution_count": 6,
   "id": "5b5eb1a5",
   "metadata": {},
   "outputs": [
    {
     "name": "stderr",
     "output_type": "stream",
     "text": [
      "/opt/conda/lib/python3.9/site-packages/urllib3/connectionpool.py:1013: InsecureRequestWarning: Unverified HTTPS request is being made to host 'nginx'. Adding certificate verification is strongly advised. See: https://urllib3.readthedocs.io/en/1.26.x/advanced-usage.html#ssl-warnings\n",
      "  warnings.warn(\n"
     ]
    }
   ],
   "source": [
    "r = requests.get(\"https://nginx/downloads/berkeley_logo.png\", verify=False)"
   ]
  },
  {
   "cell_type": "code",
   "execution_count": 7,
   "id": "4110128a",
   "metadata": {},
   "outputs": [
    {
     "data": {
      "text/plain": [
       "200"
      ]
     },
     "execution_count": 7,
     "metadata": {},
     "output_type": "execute_result"
    }
   ],
   "source": [
    "r.status_code"
   ]
  },
  {
   "cell_type": "code",
   "execution_count": 8,
   "id": "ff049fd5",
   "metadata": {},
   "outputs": [
    {
     "data": {
      "text/plain": [
       "'�PNG\\r\\n\\x1a\\n\\x00\\x00\\x00\\rIHDR\\x00\\x00\\x01<\\x00\\x00\\x00~\\x08\\x06\\x00\\x00\\x00���\\x00\\x00\\x00\\x19tEXtSoftware\\x00Adobe ImageReadyq�e<\\x00\\x00\\x17�IDATx��]�y�8\\x13�~��\\x7f\\\\\\x05�V\\x10B\\x031\\x15'"
      ]
     },
     "execution_count": 8,
     "metadata": {},
     "output_type": "execute_result"
    }
   ],
   "source": [
    "r.text[:100]"
   ]
  },
  {
   "cell_type": "code",
   "execution_count": 9,
   "id": "0528ca19",
   "metadata": {},
   "outputs": [
    {
     "data": {
      "text/plain": [
       "b'\\x89PNG\\r\\n\\x1a\\n\\x00\\x00\\x00\\rIHDR\\x00\\x00\\x01<\\x00\\x00\\x00~\\x08\\x06\\x00\\x00\\x00\\xb9\\xe2\\xad\\xd5\\x00\\x00\\x00\\x19tEXtSoftware\\x00Adobe ImageReadyq\\xc9e<\\x00\\x00\\x17\\xd9IDATx\\xda\\xec]\\xffy\\xe28\\x13\\xd6~\\xcf\\xfe\\x7f\\\\\\x05\\xf1V\\x10B\\x031'"
      ]
     },
     "execution_count": 9,
     "metadata": {},
     "output_type": "execute_result"
    }
   ],
   "source": [
    "r.content[:100]"
   ]
  },
  {
   "cell_type": "code",
   "execution_count": 10,
   "id": "65baff33",
   "metadata": {},
   "outputs": [],
   "source": [
    "f = open(\"berkeley_logo.png\", \"wb\")\n",
    "\n",
    "f.write(r.content)\n",
    "\n",
    "f.close()"
   ]
  },
  {
   "cell_type": "markdown",
   "id": "4f71b143",
   "metadata": {},
   "source": [
    "## You try it - \n",
    "\n",
    "## Download the zip file https://nginx/downloads/json.zip, create a directory temp_json_zip to hold the zip file and the extracted files, extract the zip\n"
   ]
  },
  {
   "cell_type": "code",
   "execution_count": 11,
   "id": "af21d4dd",
   "metadata": {},
   "outputs": [
    {
     "name": "stderr",
     "output_type": "stream",
     "text": [
      "/opt/conda/lib/python3.9/site-packages/urllib3/connectionpool.py:1013: InsecureRequestWarning: Unverified HTTPS request is being made to host 'nginx'. Adding certificate verification is strongly advised. See: https://urllib3.readthedocs.io/en/1.26.x/advanced-usage.html#ssl-warnings\n",
      "  warnings.warn(\n"
     ]
    }
   ],
   "source": [
    "r = requests.get(\"https://nginx/downloads/json.zip\", verify=False)"
   ]
  },
  {
   "cell_type": "code",
   "execution_count": 12,
   "id": "23cd1720",
   "metadata": {},
   "outputs": [
    {
     "data": {
      "text/plain": [
       "200"
      ]
     },
     "execution_count": 12,
     "metadata": {},
     "output_type": "execute_result"
    }
   ],
   "source": [
    "r.status_code"
   ]
  },
  {
   "cell_type": "code",
   "execution_count": 13,
   "id": "606daea3",
   "metadata": {},
   "outputs": [
    {
     "data": {
      "text/plain": [
       "'/user/labs/week_12'"
      ]
     },
     "execution_count": 13,
     "metadata": {},
     "output_type": "execute_result"
    }
   ],
   "source": [
    "os.getcwd()"
   ]
  },
  {
   "cell_type": "code",
   "execution_count": 14,
   "id": "6073bb83",
   "metadata": {},
   "outputs": [],
   "source": [
    "if not os.path.exists(\"temp_json_zip\"):\n",
    "    os.mkdir(\"temp_json_zip\")"
   ]
  },
  {
   "cell_type": "code",
   "execution_count": 15,
   "id": "5269e16d",
   "metadata": {},
   "outputs": [
    {
     "data": {
      "text/plain": [
       "'temp_json_zip/json.zip'"
      ]
     },
     "execution_count": 15,
     "metadata": {},
     "output_type": "execute_result"
    }
   ],
   "source": [
    "dir_file = os.path.join(\"temp_json_zip\", \"json.zip\")\n",
    "dir_file"
   ]
  },
  {
   "cell_type": "code",
   "execution_count": 16,
   "id": "5638f39c",
   "metadata": {},
   "outputs": [],
   "source": [
    "f = open(dir_file, \"wb\")\n",
    "\n",
    "f.write(r.content)\n",
    "\n",
    "f.close()"
   ]
  },
  {
   "cell_type": "code",
   "execution_count": 17,
   "id": "f80fc7cb",
   "metadata": {},
   "outputs": [],
   "source": [
    "z = zipfile.ZipFile(dir_file, \"r\")\n",
    "\n",
    "z.extractall(\"temp_json_zip\")\n",
    "\n",
    "z.close()"
   ]
  },
  {
   "cell_type": "code",
   "execution_count": null,
   "id": "b9328832",
   "metadata": {},
   "outputs": [],
   "source": []
  }
 ],
 "metadata": {
  "kernelspec": {
   "display_name": "Python 3 (ipykernel)",
   "language": "python",
   "name": "python3"
  },
  "language_info": {
   "codemirror_mode": {
    "name": "ipython",
    "version": 3
   },
   "file_extension": ".py",
   "mimetype": "text/x-python",
   "name": "python",
   "nbconvert_exporter": "python",
   "pygments_lexer": "ipython3",
   "version": "3.9.7"
  }
 },
 "nbformat": 4,
 "nbformat_minor": 5
}
