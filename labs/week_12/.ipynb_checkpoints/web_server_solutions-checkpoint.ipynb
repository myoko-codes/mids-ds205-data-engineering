{
 "cells": [
  {
   "cell_type": "markdown",
   "id": "ecbfe0d5",
   "metadata": {},
   "source": [
    "# Web Server Solutions"
   ]
  },
  {
   "cell_type": "code",
   "execution_count": 1,
   "id": "ad002f1f",
   "metadata": {},
   "outputs": [],
   "source": [
    "import flask\n",
    "\n",
    "import werkzeug\n",
    "\n",
    "import psycopg2\n",
    "\n",
    "import json\n",
    "\n",
    "import uuid\n",
    "\n",
    "import hashlib\n",
    "\n",
    "import redis\n"
   ]
  },
  {
   "cell_type": "code",
   "execution_count": 2,
   "id": "681742bf",
   "metadata": {},
   "outputs": [],
   "source": [
    "def my_create_sid():\n",
    "    \"create a SID based on mac address, a uuid number, concatenated, utf-8 encoded, and sha256 hashed\"\n",
    "    \n",
    "    mac = uuid.getnode()\n",
    "    \n",
    "    universal_unique_id = uuid.uuid4()\n",
    "    \n",
    "    concatenated_string = str(mac) + str(universal_unique_id)\n",
    "    \n",
    "    sha256_string = hashlib.sha256(concatenated_string.encode('utf-8')).hexdigest()\n",
    "    \n",
    "    return sha256_string\n",
    "    "
   ]
  },
  {
   "cell_type": "code",
   "execution_count": 3,
   "id": "75f84568",
   "metadata": {},
   "outputs": [],
   "source": [
    "connection = psycopg2.connect(\n",
    "    user = \"postgres\",\n",
    "    password = \"ucb\",\n",
    "    host = \"postgres\",\n",
    "    port = \"5432\",\n",
    "    database = \"postgres\"\n",
    ")"
   ]
  },
  {
   "cell_type": "code",
   "execution_count": 4,
   "id": "73fb21bd",
   "metadata": {},
   "outputs": [],
   "source": [
    "cursor = connection.cursor()"
   ]
  },
  {
   "cell_type": "code",
   "execution_count": 5,
   "id": "498b467d",
   "metadata": {},
   "outputs": [],
   "source": [
    "def my_query_products():\n",
    "    \"query the products from Postgres and return a Python list of products\"\n",
    "    \n",
    "    connection.rollback()\n",
    "\n",
    "    query = \"\"\"\n",
    "    \n",
    "    select p.product_id, p.description, sum(quantity), sum(quantity * 12)\n",
    "    from products p\n",
    "         join line_items l\n",
    "             on p.product_id = l.product_id\n",
    "    group by p.product_id, p.description\n",
    "    order by p.product_id\n",
    "    \n",
    "    \"\"\"\n",
    "    \n",
    "    cursor.execute(query)\n",
    "    \n",
    "    rows = cursor.fetchall()\n",
    "\n",
    "    connection.rollback()\n",
    "    \n",
    "    products_list = []\n",
    "    \n",
    "    for row in rows:\n",
    "        \n",
    "        products_list.append([row[0], row[1], f'{row[2]:,}', f'{row[3]:,}'])\n",
    "        \n",
    "    return(products_list)"
   ]
  },
  {
   "cell_type": "code",
   "execution_count": 6,
   "id": "71c8a005",
   "metadata": {},
   "outputs": [],
   "source": [
    "connection.rollback()\n",
    "\n",
    "query = \"\"\"\n",
    "\n",
    "drop table if exists web_api_users;\n",
    "\n",
    "create table web_api_users (\n",
    "    username varchar(32),\n",
    "    password_sha256 varchar(256)\n",
    ");\n",
    "\n",
    "\"\"\"\n",
    "\n",
    "cursor.execute(query)\n",
    "\n",
    "connection.commit()\n"
   ]
  },
  {
   "cell_type": "code",
   "execution_count": 7,
   "id": "3dad8369",
   "metadata": {},
   "outputs": [],
   "source": [
    "connection.rollback()\n",
    "\n",
    "\n",
    "query = \"insert into web_api_users values(%s, %s);\"\n",
    "\n",
    "cursor.execute(query, (\"user_1\", hashlib.sha256(\"password_1\".encode('utf-8')).hexdigest()))\n",
    "cursor.execute(query, (\"user_2\", hashlib.sha256(\"password_2\".encode('utf-8')).hexdigest()))\n",
    "cursor.execute(query, (\"user_3\", hashlib.sha256(\"password_3\".encode('utf-8')).hexdigest()))\n",
    "cursor.execute(query, (\"user_4\", hashlib.sha256(\"password_4\".encode('utf-8')).hexdigest()))\n",
    "cursor.execute(query, (\"user_5\", hashlib.sha256(\"password_5\".encode('utf-8')).hexdigest()))\n",
    "\n",
    "connection.commit()\n"
   ]
  },
  {
   "cell_type": "code",
   "execution_count": 8,
   "id": "51901d58",
   "metadata": {},
   "outputs": [
    {
     "name": "stdout",
     "output_type": "stream",
     "text": [
      "('user_1', '38c5ae2bcd1f12aa269e45ae8c8762f030630a5137dd6d1c799c019626f33096')\n",
      "('user_2', 'ea76b1e251a0c876b3d96d2c81f12736df3bed36ecb293f79c493c089924cbdc')\n",
      "('user_3', '12313e7066d59b17cb8387c4d27ef847e39bc7b23ec48c9bbb6a08bac39252f3')\n",
      "('user_4', '334ddbbc1437d63a0bf14657fb9c584d6af8697701c726febb7d8a833d9bdf27')\n",
      "('user_5', '43eb28aba4577b8655cca86b084c8421660e50c40cdc1a3aad61dea941fdca05')\n"
     ]
    }
   ],
   "source": [
    "connection.rollback()\n",
    "\n",
    "\n",
    "query = \"\"\"\n",
    "            \n",
    "    select * \n",
    "    from web_api_users\n",
    "    order by 1\n",
    "\n",
    "\"\"\"\n",
    "cursor.execute(query)\n",
    "\n",
    "connection.rollback()\n",
    "\n",
    "rows = cursor.fetchall()\n",
    "\n",
    "for row in rows:\n",
    "    print(row)\n"
   ]
  },
  {
   "cell_type": "code",
   "execution_count": 9,
   "id": "664adac9",
   "metadata": {},
   "outputs": [],
   "source": [
    "def validate_login(username, password):\n",
    "    \"given a username and password, return True if login is valid, False otherwise\"\n",
    "    \n",
    "    password_sha256 = hashlib.sha256(password.encode('utf-8')).hexdigest()\n",
    "    \n",
    "    connection.rollback()\n",
    "    \n",
    "    query = \"\"\"\n",
    "    \n",
    "        select *\n",
    "        from web_api_users \n",
    "        where username = %s and password_sha256 = %s\n",
    "    \n",
    "    \"\"\"\n",
    "    \n",
    "    cursor.execute(query, (username, password_sha256))\n",
    "    \n",
    "    return cursor.rowcount != 0"
   ]
  },
  {
   "cell_type": "code",
   "execution_count": 10,
   "id": "1e8d9ad9",
   "metadata": {},
   "outputs": [],
   "source": [
    "session_db = redis.Redis(host='redis', port=6379, db=10)"
   ]
  },
  {
   "cell_type": "code",
   "execution_count": 11,
   "id": "f505f9d1",
   "metadata": {},
   "outputs": [
    {
     "data": {
      "text/plain": [
       "True"
      ]
     },
     "execution_count": 11,
     "metadata": {},
     "output_type": "execute_result"
    }
   ],
   "source": [
    "session_db.flushdb()"
   ]
  },
  {
   "cell_type": "markdown",
   "id": "6affa8a6",
   "metadata": {},
   "source": [
    "## You try it - add a route for /api/stores to check for login and return the stores data from last week; solution provided in web_server_solutions and web_client_solutions"
   ]
  },
  {
   "cell_type": "code",
   "execution_count": 12,
   "id": "bab2a0ba",
   "metadata": {},
   "outputs": [],
   "source": [
    "def my_query_stores():\n",
    "    \"query the stores from Postgres and return a Python list of stores\"\n",
    "    \n",
    "    connection.rollback()\n",
    "\n",
    "    query = \"\"\"\n",
    "    \n",
    "    select s.store_id, s.city, sum(sa.total_amount)\n",
    "    from stores as s\n",
    "         join sales as sa\n",
    "             on s.store_id = sa.store_id\n",
    "    group by s.store_id, s.city\n",
    "    order by s.store_id\n",
    "    \n",
    "    \"\"\"\n",
    "    \n",
    "    cursor.execute(query)\n",
    "    \n",
    "    rows = cursor.fetchall()\n",
    "\n",
    "    connection.rollback()\n",
    "    \n",
    "    stores_list = []\n",
    "    \n",
    "    for row in rows:\n",
    "        \n",
    "        stores_list.append([row[0], row[1], f'{row[2]:,}'])\n",
    "        \n",
    "    return(stores_list)"
   ]
  },
  {
   "cell_type": "code",
   "execution_count": 13,
   "id": "b426c3e4",
   "metadata": {},
   "outputs": [],
   "source": [
    "app = flask.Flask(__name__,\n",
    "                  static_url_path=\"\")\n",
    "\n",
    "@app.route(\"/\")\n",
    "def landing_page():\n",
    "    return flask.send_from_directory(\"static\", \"index.html\")\n",
    "\n",
    "\n",
    "@app.route(\"/api/login\", methods=[\"POST\"])\n",
    "def api_login():\n",
    "    \n",
    "    username = flask.request.form['username']\n",
    "    password = flask.request.form['password']\n",
    "    \n",
    "    if validate_login(username, password):\n",
    "        \n",
    "        sid = my_create_sid()\n",
    "        \n",
    "        session_db.set(sid, username)\n",
    "        \n",
    "        return_json = { \"status\": \"success\",\n",
    "                        \"sid\": sid}\n",
    "        \n",
    "    else:\n",
    "        \n",
    "        return_json = { \"status\": \"fail\",\n",
    "                        \"description\": \"invalid username and/or password\"}\n",
    "    \n",
    "    return(json.dumps(return_json))\n",
    "\n",
    " \n",
    "@app.route(\"/api/logout\", methods=[\"POST\"])\n",
    "def api_logout():\n",
    "    \n",
    "    sid = flask.request.form['sid']\n",
    "    \n",
    "    if session_db.get(sid) == None:\n",
    "        \n",
    "        return_json = { \"status\": \"fail\",\n",
    "                        \"description\": \"not logged in\"}\n",
    "    \n",
    "    else: \n",
    "    \n",
    "        session_db.delete(sid)\n",
    "\n",
    "        return_json = { \"status\": \"success\" }\n",
    "    \n",
    "    return(json.dumps(return_json))\n",
    "\n",
    "\n",
    "@app.route(\"/api/products\", methods=[\"POST\"])\n",
    "def api_products():\n",
    "    \n",
    "    sid = flask.request.form['sid']\n",
    "    \n",
    "    if session_db.get(sid) == None:\n",
    "        \n",
    "        return_json = { \"status\": \"fail\",\n",
    "                        \"description\": \"not logged in\"}\n",
    "    \n",
    "    else: \n",
    "        \n",
    "        products_list = my_query_products()\n",
    "\n",
    "        products_json_list = []\n",
    "\n",
    "        for product in products_list:\n",
    "\n",
    "            p = {}\n",
    "            p[\"product_id\"] = str(product[0])\n",
    "            p[\"product_name\"] = product[1]\n",
    "            p[\"quantity\"] = str(product[2])\n",
    "            p[\"total_sales\"] = str(product[3])\n",
    "\n",
    "            products_json_list.append(p)\n",
    "            \n",
    "        return_json = { \"status\": \"success\",\n",
    "                        \"products\": products_json_list}\n",
    "\n",
    "    return(json.dumps(return_json))\n",
    "\n",
    "\n",
    "@app.route(\"/api/stores\", methods=[\"POST\"])\n",
    "def api_stores():\n",
    "    \n",
    "    sid = flask.request.form['sid']\n",
    "    \n",
    "    if session_db.get(sid) == None:\n",
    "        \n",
    "        return_json = { \"status\": \"fail\",\n",
    "                        \"description\": \"not logged in\"}\n",
    "    \n",
    "    else: \n",
    "        \n",
    "        stores_list = my_query_stores()\n",
    "    \n",
    "        stores_json_list = []\n",
    "    \n",
    "        for store in stores_list:\n",
    "            \n",
    "            s = {}\n",
    "            s[\"store_id\"] = str(store[0])\n",
    "            s[\"city\"] = store[1]\n",
    "            s[\"total_sales\"] = str(store[2])\n",
    "\n",
    "            stores_json_list.append(s)\n",
    "            \n",
    "        return_json = { \"status\": \"success\",\n",
    "                        \"stores\": stores_json_list}\n",
    "\n",
    "    return(json.dumps(return_json))\n"
   ]
  },
  {
   "cell_type": "code",
   "execution_count": 14,
   "id": "c52d8185",
   "metadata": {},
   "outputs": [
    {
     "name": "stderr",
     "output_type": "stream",
     "text": [
      " * Running on all addresses.\n",
      "   WARNING: This is a development server. Do not use it in a production deployment.\n",
      " * Running on https://172.18.0.4:443/ (Press CTRL+C to quit)\n"
     ]
    }
   ],
   "source": [
    "werkzeug.serving.run_simple(hostname=\"0.0.0.0\", \n",
    "                            port=443, \n",
    "                            application=app,\n",
    "                            ssl_context=(\"w205_cert.pem\",\"w205.key\"),\n",
    "                            use_debugger=True)"
   ]
  },
  {
   "cell_type": "code",
   "execution_count": null,
   "id": "a6f5274c",
   "metadata": {},
   "outputs": [],
   "source": []
  }
 ],
 "metadata": {
  "kernelspec": {
   "display_name": "Python 3 (ipykernel)",
   "language": "python",
   "name": "python3"
  },
  "language_info": {
   "codemirror_mode": {
    "name": "ipython",
    "version": 3
   },
   "file_extension": ".py",
   "mimetype": "text/x-python",
   "name": "python",
   "nbconvert_exporter": "python",
   "pygments_lexer": "ipython3",
   "version": "3.9.7"
  }
 },
 "nbformat": 4,
 "nbformat_minor": 5
}
