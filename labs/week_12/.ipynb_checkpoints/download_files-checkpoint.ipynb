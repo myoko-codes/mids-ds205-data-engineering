{
 "cells": [
  {
   "cell_type": "markdown",
   "id": "e52a5bea",
   "metadata": {},
   "source": [
    "# Download Files"
   ]
  },
  {
   "cell_type": "code",
   "execution_count": 1,
   "id": "eb21ec2e",
   "metadata": {},
   "outputs": [],
   "source": [
    "import requests\n",
    "\n",
    "import os\n",
    "\n",
    "import zipfile"
   ]
  },
  {
   "cell_type": "markdown",
   "id": "6fd2a49c",
   "metadata": {},
   "source": [
    "# Lab: Downloading Files From Web Servers Using Python"
   ]
  },
  {
   "cell_type": "markdown",
   "id": "931f34c9",
   "metadata": {},
   "source": [
    "## Download a text file, such as a csv file or json file"
   ]
  },
  {
   "cell_type": "code",
   "execution_count": 2,
   "id": "a0fd7273",
   "metadata": {},
   "outputs": [
    {
     "name": "stderr",
     "output_type": "stream",
     "text": [
      "/opt/conda/lib/python3.9/site-packages/urllib3/connectionpool.py:1013: InsecureRequestWarning: Unverified HTTPS request is being made to host 'nginx'. Adding certificate verification is strongly advised. See: https://urllib3.readthedocs.io/en/1.26.x/advanced-usage.html#ssl-warnings\n",
      "  warnings.warn(\n"
     ]
    }
   ],
   "source": [
    "r = requests.get(\"https://nginx/downloads/temp_stores.csv\", verify=False)"
   ]
  },
  {
   "cell_type": "code",
   "execution_count": 3,
   "id": "75534d75",
   "metadata": {},
   "outputs": [
    {
     "data": {
      "text/plain": [
       "200"
      ]
     },
     "execution_count": 3,
     "metadata": {},
     "output_type": "execute_result"
    }
   ],
   "source": [
    "r.status_code"
   ]
  },
  {
   "cell_type": "code",
   "execution_count": 4,
   "id": "6fdff084",
   "metadata": {},
   "outputs": [
    {
     "data": {
      "text/plain": [
       "'store_id,street,city,state,zip,latitude,longitude\\n1,3000 Telegraph Ave,Berkeley,CA,94705,37.8555,-122.2604\\n2,1001 Broadway,Seattle,WA,98122,47.6114,-122.3214\\n3,2510 McKinney Ave,Dallas,TX,75201,32.7958,-96.8015\\n4,299 SE 3rd Ave,Miami,FL,33131,25.7720,-80.1891\\n5,1202 Broadway,Nashville,TN,37203,36.1568,-86.7881\\n'"
      ]
     },
     "execution_count": 4,
     "metadata": {},
     "output_type": "execute_result"
    }
   ],
   "source": [
    "r.text"
   ]
  },
  {
   "cell_type": "code",
   "execution_count": 5,
   "id": "67a2f512",
   "metadata": {},
   "outputs": [],
   "source": [
    "f = open(\"temp_stores.csv\", \"w\")\n",
    "\n",
    "f.write(r.text)\n",
    "\n",
    "f.close()"
   ]
  },
  {
   "cell_type": "markdown",
   "id": "104c27c9",
   "metadata": {},
   "source": [
    "## Verify the file /user/labs/week_12/temp_stores.csv on the Linux command line"
   ]
  },
  {
   "cell_type": "markdown",
   "id": "07ebb41f",
   "metadata": {},
   "source": [
    "## Download a binary file; common binary files: PDF, Microsoft Word, Microsoft Excel, images (such as jpeg, jpg, png, etc.), videos (such as mp4), zip, tarball (Linux .tar.gz or .tgz files);  same method for all binary files;  however, for extremely large files, since the file must fit into memory, most download sites provide a custom program for downloading large files"
   ]
  },
  {
   "cell_type": "code",
   "execution_count": 6,
   "id": "77b5a28a",
   "metadata": {},
   "outputs": [
    {
     "name": "stderr",
     "output_type": "stream",
     "text": [
      "/opt/conda/lib/python3.9/site-packages/urllib3/connectionpool.py:1013: InsecureRequestWarning: Unverified HTTPS request is being made to host 'nginx'. Adding certificate verification is strongly advised. See: https://urllib3.readthedocs.io/en/1.26.x/advanced-usage.html#ssl-warnings\n",
      "  warnings.warn(\n"
     ]
    }
   ],
   "source": [
    "r = requests.get(\"https://nginx/downloads/temp_sale_report.xlsx\", verify=False)"
   ]
  },
  {
   "cell_type": "code",
   "execution_count": 7,
   "id": "5fda2d10",
   "metadata": {},
   "outputs": [
    {
     "data": {
      "text/plain": [
       "200"
      ]
     },
     "execution_count": 7,
     "metadata": {},
     "output_type": "execute_result"
    }
   ],
   "source": [
    "r.status_code"
   ]
  },
  {
   "cell_type": "code",
   "execution_count": 8,
   "id": "c5cb21a0",
   "metadata": {},
   "outputs": [
    {
     "data": {
      "text/plain": [
       "'PK\\x03\\x04\\x14\\x00\\x00\\x00\\x08\\x00VeJS\\x07AMb�\\x00\\x00\\x00�\\x00\\x00\\x00\\x10\\x00\\x00\\x00docProps/app.xmlM�=\\x0b\\x021\\x10D��q��A�Bb@�R��\\x0f{\\x1b/�dC�B~�9��n\\x1eo\\x18F�\\ng*�\\x0e-�T��\"�'"
      ]
     },
     "execution_count": 8,
     "metadata": {},
     "output_type": "execute_result"
    }
   ],
   "source": [
    "r.text[:100]"
   ]
  },
  {
   "cell_type": "code",
   "execution_count": 9,
   "id": "f367a921",
   "metadata": {},
   "outputs": [
    {
     "data": {
      "text/plain": [
       "b'PK\\x03\\x04\\x14\\x00\\x00\\x00\\x08\\x00VeJS\\x07AMb\\x81\\x00\\x00\\x00\\xb1\\x00\\x00\\x00\\x10\\x00\\x00\\x00docProps/app.xmlM\\x8e=\\x0b\\x021\\x10D\\xff\\xcaq\\xbd\\xb7A\\xc1Bb@\\xd0R\\xb0\\xb2\\x0f{\\x1b/\\x90dC\\xb2B~\\xbe9\\xc1\\x8fn\\x1eo\\x18F\\xdf\\ng*\\xe2\\xa9\\x0e-\\x86T\\x8f\\xe3\"'"
      ]
     },
     "execution_count": 9,
     "metadata": {},
     "output_type": "execute_result"
    }
   ],
   "source": [
    "r.content[:100]"
   ]
  },
  {
   "cell_type": "code",
   "execution_count": 10,
   "id": "f0c7be6d",
   "metadata": {},
   "outputs": [],
   "source": [
    "f = open(\"temp_sale_report.xlsx\", \"wb\")\n",
    "\n",
    "f.write(r.content)\n",
    "\n",
    "f.close()"
   ]
  },
  {
   "cell_type": "markdown",
   "id": "d5afb32c",
   "metadata": {},
   "source": [
    "## Verify the file /user/labs/week_12/temp_sale_report.xlsx on the Linux command line"
   ]
  },
  {
   "cell_type": "markdown",
   "id": "8f3da5bd",
   "metadata": {},
   "source": [
    "## zip files are very common;  zip files are binary and downloaded by the previous method; it's best to create a special directory for each zip file, download the zip file into the directory, and unzip it there;  this way you know exactly which files came from which zip file"
   ]
  },
  {
   "cell_type": "code",
   "execution_count": 11,
   "id": "922cc234",
   "metadata": {},
   "outputs": [
    {
     "name": "stderr",
     "output_type": "stream",
     "text": [
      "/opt/conda/lib/python3.9/site-packages/urllib3/connectionpool.py:1013: InsecureRequestWarning: Unverified HTTPS request is being made to host 'nginx'. Adding certificate verification is strongly advised. See: https://urllib3.readthedocs.io/en/1.26.x/advanced-usage.html#ssl-warnings\n",
      "  warnings.warn(\n"
     ]
    }
   ],
   "source": [
    "r = requests.get(\"https://nginx/downloads/csv.zip\", verify=False)"
   ]
  },
  {
   "cell_type": "code",
   "execution_count": 12,
   "id": "be405c86",
   "metadata": {},
   "outputs": [
    {
     "data": {
      "text/plain": [
       "200"
      ]
     },
     "execution_count": 12,
     "metadata": {},
     "output_type": "execute_result"
    }
   ],
   "source": [
    "r.status_code"
   ]
  },
  {
   "cell_type": "code",
   "execution_count": 13,
   "id": "606daea3",
   "metadata": {},
   "outputs": [
    {
     "data": {
      "text/plain": [
       "'/user/labs/week_12'"
      ]
     },
     "execution_count": 13,
     "metadata": {},
     "output_type": "execute_result"
    }
   ],
   "source": [
    "os.getcwd()"
   ]
  },
  {
   "cell_type": "code",
   "execution_count": 14,
   "id": "73e676ae",
   "metadata": {},
   "outputs": [],
   "source": [
    "if not os.path.exists(\"temp_csv_zip\"):\n",
    "    os.mkdir(\"temp_csv_zip\")"
   ]
  },
  {
   "cell_type": "code",
   "execution_count": 15,
   "id": "9ba7eef3",
   "metadata": {},
   "outputs": [
    {
     "data": {
      "text/plain": [
       "'temp_csv_zip/csv.zip'"
      ]
     },
     "execution_count": 15,
     "metadata": {},
     "output_type": "execute_result"
    }
   ],
   "source": [
    "dir_file = os.path.join(\"temp_csv_zip\", \"csv.zip\")\n",
    "dir_file"
   ]
  },
  {
   "cell_type": "code",
   "execution_count": 16,
   "id": "e51eddf4",
   "metadata": {},
   "outputs": [],
   "source": [
    "f = open(dir_file, \"wb\")\n",
    "\n",
    "f.write(r.content)\n",
    "\n",
    "f.close()"
   ]
  },
  {
   "cell_type": "code",
   "execution_count": 17,
   "id": "cbdea859",
   "metadata": {},
   "outputs": [],
   "source": [
    "z = zipfile.ZipFile(dir_file, \"r\")\n",
    "\n",
    "z.extractall(\"temp_csv_zip\")\n",
    "\n",
    "z.close()"
   ]
  },
  {
   "cell_type": "markdown",
   "id": "7fccfb5b",
   "metadata": {},
   "source": [
    "## Verify the files in the directory /user/labs/week_12/temp_csv_zip on the Linux command line"
   ]
  },
  {
   "cell_type": "markdown",
   "id": "73cc0207",
   "metadata": {},
   "source": [
    "## You try it - \n",
    "\n",
    "## Download the json file https://nginx/downloads/temp_stores_nested.json\n",
    "\n",
    "## Download the image file https://nginx/downloads/berkeley_logo.png\n",
    "\n",
    "## Download the zip file https://nginx/downloads/json.zip, create a directory temp_json_zip to hold the zip file and the extracted files, extract the zip\n",
    "\n",
    "## Solutions are in download_files_solutions"
   ]
  },
  {
   "cell_type": "code",
   "execution_count": 18,
   "id": "13e6778b",
   "metadata": {},
   "outputs": [
    {
     "name": "stderr",
     "output_type": "stream",
     "text": [
      "/opt/conda/lib/python3.9/site-packages/urllib3/connectionpool.py:1013: InsecureRequestWarning: Unverified HTTPS request is being made to host 'nginx'. Adding certificate verification is strongly advised. See: https://urllib3.readthedocs.io/en/1.26.x/advanced-usage.html#ssl-warnings\n",
      "  warnings.warn(\n"
     ]
    }
   ],
   "source": [
    "r = requests.get(\"https://nginx/downloads/temp_stores_nested.json\", verify=False)"
   ]
  },
  {
   "cell_type": "code",
   "execution_count": 19,
   "id": "60bb59b8",
   "metadata": {},
   "outputs": [
    {
     "data": {
      "text/plain": [
       "200"
      ]
     },
     "execution_count": 19,
     "metadata": {},
     "output_type": "execute_result"
    }
   ],
   "source": [
    "r.status_code"
   ]
  },
  {
   "cell_type": "code",
   "execution_count": 20,
   "id": "408b21e3",
   "metadata": {},
   "outputs": [
    {
     "data": {
      "text/plain": [
       "'{\\n  \"creator\": \"Acme Gourmet Meals\",\\n  \"timestamp\": \"2021-10-10 18:22:39\",\\n  \"file_name\": \"temp_stores_nested.json\",\\n  \"version\": \"12.4.7\",\\n  \"legal\": \"Unauthorized use, duplication, or possession, blah, blah\",\\n  \"stores\": [\\n    {\\n      \"store_id\": 1,\\n      \"street\": \"3000 Telegraph Ave\",\\n      \"city\": \"Berkeley\",\\n      \"state\": \"CA\",\\n      \"zip\": \"94705\",\\n      \"latitude\": 37.8555,\\n      \"longitude\": -122.2604,\\n      \"sales\": [\\n        {\\n          \"sale_id\": 128112,\\n          \"sale_date\": \"2020'"
      ]
     },
     "execution_count": 20,
     "metadata": {},
     "output_type": "execute_result"
    }
   ],
   "source": [
    "r.text[:500]"
   ]
  },
  {
   "cell_type": "code",
   "execution_count": 21,
   "id": "349e9cf3",
   "metadata": {},
   "outputs": [],
   "source": [
    "f = open(\"temp_stores_nested.json\", \"w\")\n",
    "\n",
    "f.write(r.text)\n",
    "\n",
    "f.close()"
   ]
  },
  {
   "cell_type": "code",
   "execution_count": 22,
   "id": "3cae8279",
   "metadata": {},
   "outputs": [
    {
     "name": "stderr",
     "output_type": "stream",
     "text": [
      "/opt/conda/lib/python3.9/site-packages/urllib3/connectionpool.py:1013: InsecureRequestWarning: Unverified HTTPS request is being made to host 'nginx'. Adding certificate verification is strongly advised. See: https://urllib3.readthedocs.io/en/1.26.x/advanced-usage.html#ssl-warnings\n",
      "  warnings.warn(\n"
     ]
    }
   ],
   "source": [
    "r = requests.get(\"https://nginx/downloads/berkeley_logo.png\", verify=False)"
   ]
  },
  {
   "cell_type": "code",
   "execution_count": 23,
   "id": "fb2a7b0e",
   "metadata": {},
   "outputs": [
    {
     "data": {
      "text/plain": [
       "200"
      ]
     },
     "execution_count": 23,
     "metadata": {},
     "output_type": "execute_result"
    }
   ],
   "source": [
    "r.status_code"
   ]
  },
  {
   "cell_type": "code",
   "execution_count": 24,
   "id": "ad972476",
   "metadata": {},
   "outputs": [
    {
     "data": {
      "text/plain": [
       "b'\\x89PNG\\r\\n\\x1a\\n\\x00\\x00\\x00\\rIHDR\\x00\\x00\\x01<\\x00\\x00\\x00~\\x08\\x06\\x00\\x00\\x00\\xb9\\xe2\\xad\\xd5\\x00\\x00\\x00\\x19tEXtSoftware\\x00Adobe ImageReadyq\\xc9e<\\x00\\x00\\x17\\xd9IDATx\\xda\\xec]\\xffy\\xe28\\x13\\xd6~\\xcf\\xfe\\x7f\\\\\\x05\\xf1V\\x10B\\x031'"
      ]
     },
     "execution_count": 24,
     "metadata": {},
     "output_type": "execute_result"
    }
   ],
   "source": [
    "r.content[:100]"
   ]
  },
  {
   "cell_type": "code",
   "execution_count": 25,
   "id": "63360ac2",
   "metadata": {},
   "outputs": [],
   "source": [
    "f = open(\"berkeley_logo.png\", \"wb\")\n",
    "\n",
    "f.write(r.content)\n",
    "\n",
    "f.close()"
   ]
  },
  {
   "cell_type": "code",
   "execution_count": 26,
   "id": "d3135c0b",
   "metadata": {},
   "outputs": [
    {
     "name": "stderr",
     "output_type": "stream",
     "text": [
      "/opt/conda/lib/python3.9/site-packages/urllib3/connectionpool.py:1013: InsecureRequestWarning: Unverified HTTPS request is being made to host 'nginx'. Adding certificate verification is strongly advised. See: https://urllib3.readthedocs.io/en/1.26.x/advanced-usage.html#ssl-warnings\n",
      "  warnings.warn(\n"
     ]
    }
   ],
   "source": [
    "r = requests.get(\"https://nginx/downloads/json.zip\", verify=False)"
   ]
  },
  {
   "cell_type": "code",
   "execution_count": 27,
   "id": "fac4398e",
   "metadata": {},
   "outputs": [
    {
     "data": {
      "text/plain": [
       "200"
      ]
     },
     "execution_count": 27,
     "metadata": {},
     "output_type": "execute_result"
    }
   ],
   "source": [
    "r.status_code"
   ]
  },
  {
   "cell_type": "code",
   "execution_count": 28,
   "id": "bc9396ff",
   "metadata": {},
   "outputs": [
    {
     "data": {
      "text/plain": [
       "'/user/labs/week_12'"
      ]
     },
     "execution_count": 28,
     "metadata": {},
     "output_type": "execute_result"
    }
   ],
   "source": [
    "os.getcwd()"
   ]
  },
  {
   "cell_type": "code",
   "execution_count": 29,
   "id": "4f9e77ca",
   "metadata": {},
   "outputs": [],
   "source": [
    "if not os.path.exists(\"temp_json_zip\"):\n",
    "    os.mkdir(\"temp_json_zip\")"
   ]
  },
  {
   "cell_type": "code",
   "execution_count": 30,
   "id": "fbba48c8",
   "metadata": {},
   "outputs": [
    {
     "data": {
      "text/plain": [
       "'temp_json_zip/json.zip'"
      ]
     },
     "execution_count": 30,
     "metadata": {},
     "output_type": "execute_result"
    }
   ],
   "source": [
    "dir_file = os.path.join(\"temp_json_zip\", \"json.zip\")\n",
    "dir_file"
   ]
  },
  {
   "cell_type": "code",
   "execution_count": 31,
   "id": "3b25cf16",
   "metadata": {},
   "outputs": [],
   "source": [
    "f = open(dir_file, \"wb\")\n",
    "\n",
    "f.write(r.content)\n",
    "\n",
    "f.close()"
   ]
  },
  {
   "cell_type": "code",
   "execution_count": 32,
   "id": "e296a83c",
   "metadata": {},
   "outputs": [],
   "source": [
    "z = zipfile.ZipFile(dir_file, \"r\")\n",
    "\n",
    "z.extractall(\"temp_json_zip\")\n",
    "\n",
    "z.close()"
   ]
  },
  {
   "cell_type": "code",
   "execution_count": null,
   "id": "0f42bd1f",
   "metadata": {},
   "outputs": [],
   "source": []
  }
 ],
 "metadata": {
  "kernelspec": {
   "display_name": "Python 3 (ipykernel)",
   "language": "python",
   "name": "python3"
  },
  "language_info": {
   "codemirror_mode": {
    "name": "ipython",
    "version": 3
   },
   "file_extension": ".py",
   "mimetype": "text/x-python",
   "name": "python",
   "nbconvert_exporter": "python",
   "pygments_lexer": "ipython3",
   "version": "3.9.7"
  }
 },
 "nbformat": 4,
 "nbformat_minor": 5
}
