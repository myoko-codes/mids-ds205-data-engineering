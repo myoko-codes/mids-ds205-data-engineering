{
 "cells": [
  {
   "cell_type": "markdown",
   "id": "b7e51eda",
   "metadata": {},
   "source": [
    "# Redis 1"
   ]
  },
  {
   "cell_type": "markdown",
   "id": "8d35b490",
   "metadata": {},
   "source": [
    "# Lab: Redis"
   ]
  },
  {
   "cell_type": "code",
   "execution_count": 1,
   "id": "6209b8cd",
   "metadata": {},
   "outputs": [],
   "source": [
    "import redis\n",
    "\n",
    "import json\n",
    "\n",
    "import pprint\n",
    "\n",
    "from datetime import timedelta\n",
    "\n",
    "import time\n",
    "\n",
    "import numpy as np\n"
   ]
  },
  {
   "cell_type": "markdown",
   "id": "4e9b4494",
   "metadata": {},
   "source": [
    "## Connect to the redis database; redis the container name is used for the host name; TCP port is 6379; databases are given a integer number instead of a name"
   ]
  },
  {
   "cell_type": "code",
   "execution_count": 2,
   "id": "7fc9706a",
   "metadata": {},
   "outputs": [],
   "source": [
    "cities_db = redis.Redis(host='redis', port=6379, db=0)"
   ]
  },
  {
   "cell_type": "markdown",
   "id": "022d900f",
   "metadata": {},
   "source": [
    "## Flush (delete all) from the cities database in case there are key / value pairs left from prior runs"
   ]
  },
  {
   "cell_type": "code",
   "execution_count": 3,
   "id": "6789d336",
   "metadata": {},
   "outputs": [
    {
     "data": {
      "text/plain": [
       "True"
      ]
     },
     "execution_count": 3,
     "metadata": {},
     "output_type": "execute_result"
    }
   ],
   "source": [
    "cities_db.flushdb()"
   ]
  },
  {
   "cell_type": "markdown",
   "id": "7dcce7ab",
   "metadata": {},
   "source": [
    "## Example of key / value pairs where both the key and the value are simple strings; the logic for key / value pairs is basically the same as a Python dictionary:  if the key does not exist, create a new \"slot\" with the key / value pair, if the key already exists, overwrite the value"
   ]
  },
  {
   "cell_type": "code",
   "execution_count": 4,
   "id": "a3c35d9d",
   "metadata": {},
   "outputs": [
    {
     "data": {
      "text/plain": [
       "True"
      ]
     },
     "execution_count": 4,
     "metadata": {},
     "output_type": "execute_result"
    }
   ],
   "source": [
    "cities_db.set(\"Berkeley\", \"California\")\n",
    "cities_db.set(\"Portland\", \"Oregon\")\n",
    "cities_db.set(\"Seattle\", \"Washington\")\n",
    "cities_db.set(\"Dallas\", \"Texas\")\n",
    "cities_db.set(\"Nashville\", \"Tennessee\")\n",
    "cities_db.set(\"Chicago\", \"Illinois\")\n",
    "cities_db.set(\"Miami\", \"Florida\")"
   ]
  },
  {
   "cell_type": "code",
   "execution_count": 5,
   "id": "8f4da69c",
   "metadata": {},
   "outputs": [
    {
     "data": {
      "text/plain": [
       "[b'Nashville',\n",
       " b'Portland',\n",
       " b'Dallas',\n",
       " b'Miami',\n",
       " b'Chicago',\n",
       " b'Seattle',\n",
       " b'Berkeley']"
      ]
     },
     "execution_count": 5,
     "metadata": {},
     "output_type": "execute_result"
    }
   ],
   "source": [
    "cities_db.keys()"
   ]
  },
  {
   "cell_type": "code",
   "execution_count": 6,
   "id": "fcb74a41",
   "metadata": {},
   "outputs": [
    {
     "data": {
      "text/plain": [
       "b'California'"
      ]
     },
     "execution_count": 6,
     "metadata": {},
     "output_type": "execute_result"
    }
   ],
   "source": [
    "cities_db.get(\"Berkeley\")"
   ]
  },
  {
   "cell_type": "code",
   "execution_count": 7,
   "id": "8867fa24",
   "metadata": {},
   "outputs": [
    {
     "name": "stdout",
     "output_type": "stream",
     "text": [
      "key: b'Nashville' value: b'Tennessee'\n",
      "key: b'Portland' value: b'Oregon'\n",
      "key: b'Dallas' value: b'Texas'\n",
      "key: b'Miami' value: b'Florida'\n",
      "key: b'Chicago' value: b'Illinois'\n",
      "key: b'Seattle' value: b'Washington'\n",
      "key: b'Berkeley' value: b'California'\n"
     ]
    }
   ],
   "source": [
    "for key in cities_db.keys():\n",
    "    print(\"key:\", key, \"value:\", cities_db.get(key))"
   ]
  },
  {
   "cell_type": "code",
   "execution_count": 8,
   "id": "f75d2218",
   "metadata": {},
   "outputs": [
    {
     "data": {
      "text/plain": [
       "True"
      ]
     },
     "execution_count": 8,
     "metadata": {},
     "output_type": "execute_result"
    }
   ],
   "source": [
    "cities_db.set(\"Berkeley\", \"CA\") # Overwrite the value if same key exists\n",
    "cities_db.set(\"Portland\", \"OR\")\n",
    "cities_db.set(\"Seattle\", \"WA\")\n",
    "cities_db.set(\"Dallas\", \"TX\")\n",
    "cities_db.set(\"Nashville\", \"TN\")\n",
    "cities_db.set(\"Chicago\", \"IL\")\n",
    "cities_db.set(\"Miami\", \"FL\")"
   ]
  },
  {
   "cell_type": "code",
   "execution_count": 9,
   "id": "e5b4712e",
   "metadata": {},
   "outputs": [
    {
     "name": "stdout",
     "output_type": "stream",
     "text": [
      "key: b'Nashville' value: b'TN'\n",
      "key: b'Portland' value: b'OR'\n",
      "key: b'Dallas' value: b'TX'\n",
      "key: b'Miami' value: b'FL'\n",
      "key: b'Chicago' value: b'IL'\n",
      "key: b'Seattle' value: b'WA'\n",
      "key: b'Berkeley' value: b'CA'\n"
     ]
    }
   ],
   "source": [
    "for key in cities_db.keys():\n",
    "    print(\"key:\", key, \"value:\", cities_db.get(key))"
   ]
  },
  {
   "cell_type": "markdown",
   "id": "6fc1a801",
   "metadata": {},
   "source": [
    "## If we want to set a lot of values at the same time, we can use a feature called pipelining, which is more efficient than setting them one at a time; not until we execute the pipeline do the changes get made;"
   ]
  },
  {
   "cell_type": "code",
   "execution_count": 10,
   "id": "b2a94066",
   "metadata": {},
   "outputs": [],
   "source": [
    "cities_pipe = cities_db.pipeline()\n",
    "\n",
    "cities_list = [[\"Berkeley\", \"California\"], \n",
    "               [\"Portland\", \"Oregon\"],\n",
    "               [\"Seattle\", \"Washington\"],\n",
    "               [\"Dallas\", \"Texas\"],\n",
    "               [\"Nashville\", \"Tennessee\"],\n",
    "               [\"Chicago\", \"Illinois\"],\n",
    "               [\"Miami\", \"Florida\"]\n",
    "              ]\n",
    "\n",
    "for (city, state) in cities_list:\n",
    "    cities_pipe.set(city, state)\n"
   ]
  },
  {
   "cell_type": "code",
   "execution_count": 11,
   "id": "72afa4b8",
   "metadata": {},
   "outputs": [
    {
     "name": "stdout",
     "output_type": "stream",
     "text": [
      "key: b'Nashville' value: b'TN'\n",
      "key: b'Portland' value: b'OR'\n",
      "key: b'Dallas' value: b'TX'\n",
      "key: b'Miami' value: b'FL'\n",
      "key: b'Chicago' value: b'IL'\n",
      "key: b'Seattle' value: b'WA'\n",
      "key: b'Berkeley' value: b'CA'\n"
     ]
    }
   ],
   "source": [
    "for key in cities_db.keys():\n",
    "    print(\"key:\", key, \"value:\", cities_db.get(key))"
   ]
  },
  {
   "cell_type": "code",
   "execution_count": 12,
   "id": "0d693a3d",
   "metadata": {},
   "outputs": [
    {
     "data": {
      "text/plain": [
       "[True, True, True, True, True, True, True]"
      ]
     },
     "execution_count": 12,
     "metadata": {},
     "output_type": "execute_result"
    }
   ],
   "source": [
    "cities_pipe.execute()"
   ]
  },
  {
   "cell_type": "code",
   "execution_count": 13,
   "id": "fc3b5f47",
   "metadata": {},
   "outputs": [
    {
     "name": "stdout",
     "output_type": "stream",
     "text": [
      "key: b'Nashville' value: b'Tennessee'\n",
      "key: b'Portland' value: b'Oregon'\n",
      "key: b'Dallas' value: b'Texas'\n",
      "key: b'Miami' value: b'Florida'\n",
      "key: b'Chicago' value: b'Illinois'\n",
      "key: b'Seattle' value: b'Washington'\n",
      "key: b'Berkeley' value: b'California'\n"
     ]
    }
   ],
   "source": [
    "for key in cities_db.keys():\n",
    "    print(\"key:\", key, \"value:\", cities_db.get(key))"
   ]
  },
  {
   "cell_type": "markdown",
   "id": "8689ce5e",
   "metadata": {},
   "source": [
    "## We can put an expirey on a key / value pair;  once the key / value pair expires, it is deleted; there are methods to specify time in milliseconds, seconds, minutes, specific date, time, etc.; set New York for 10 seconds, watch it disappear"
   ]
  },
  {
   "cell_type": "code",
   "execution_count": 17,
   "id": "a0da2d90",
   "metadata": {},
   "outputs": [
    {
     "data": {
      "text/plain": [
       "True"
      ]
     },
     "execution_count": 17,
     "metadata": {},
     "output_type": "execute_result"
    }
   ],
   "source": [
    "cities_db.setex(\"New York\", timedelta(seconds=10), \"NY\")"
   ]
  },
  {
   "cell_type": "code",
   "execution_count": 18,
   "id": "71e101c8",
   "metadata": {},
   "outputs": [
    {
     "data": {
      "text/plain": [
       "b'NY'"
      ]
     },
     "execution_count": 18,
     "metadata": {},
     "output_type": "execute_result"
    }
   ],
   "source": [
    "cities_db.get(\"New York\")"
   ]
  },
  {
   "cell_type": "code",
   "execution_count": 22,
   "id": "dae989ba",
   "metadata": {},
   "outputs": [],
   "source": [
    "# wait 10 seconds and see it disappear\n",
    "cities_db.get(\"New York\")"
   ]
  },
  {
   "cell_type": "markdown",
   "id": "d2dd24c1",
   "metadata": {},
   "source": [
    "## We are been using simple strings, which are not that useful;  JSON values are much more useful and typical;  create a new database 1 (flush it to clean out from prior runs); load the temp_stores_nested.json using the store_id as the key and the JSON as a string as the value"
   ]
  },
  {
   "cell_type": "code",
   "execution_count": 23,
   "id": "d6a65263",
   "metadata": {},
   "outputs": [],
   "source": [
    "stores_db = redis.Redis(host='redis', port=6379, db=1)\n",
    "\n",
    "stores_db.flushdb()\n",
    "\n",
    "stores_pipe = stores_db.pipeline()"
   ]
  },
  {
   "cell_type": "code",
   "execution_count": 24,
   "id": "d966e0fd",
   "metadata": {},
   "outputs": [],
   "source": [
    "f = open(\"temp_stores_nested.json\")\n",
    "file_json = json.load(f)\n",
    "f.close()\n",
    "\n",
    "stores_json_list = file_json[\"stores\"]"
   ]
  },
  {
   "cell_type": "code",
   "execution_count": 25,
   "id": "0f7dde6b",
   "metadata": {},
   "outputs": [
    {
     "data": {
      "text/plain": [
       "[True, True, True, True, True]"
      ]
     },
     "execution_count": 25,
     "metadata": {},
     "output_type": "execute_result"
    }
   ],
   "source": [
    "for store in stores_json_list:\n",
    "    stores_pipe.set(store[\"store_id\"], json.dumps(store))\n",
    "    \n",
    "stores_pipe.execute()"
   ]
  },
  {
   "cell_type": "code",
   "execution_count": 26,
   "id": "5717c400",
   "metadata": {},
   "outputs": [
    {
     "name": "stdout",
     "output_type": "stream",
     "text": [
      "key: b'3' value: b'{\"store_id\": 3, \"street\": \"2510 McKinney Ave\", \"city\": \"Dallas\", \"state\": \"TX\", \"zip\": \"75'\n",
      "key: b'1' value: b'{\"store_id\": 1, \"street\": \"3000 Telegraph Ave\", \"city\": \"Berkeley\", \"state\": \"CA\", \"zip\": '\n",
      "key: b'5' value: b'{\"store_id\": 5, \"street\": \"1202 Broadway\", \"city\": \"Nashville\", \"state\": \"TN\", \"zip\": \"372'\n",
      "key: b'2' value: b'{\"store_id\": 2, \"street\": \"1001 Broadway\", \"city\": \"Seattle\", \"state\": \"WA\", \"zip\": \"98122'\n",
      "key: b'4' value: b'{\"store_id\": 4, \"street\": \"299 SE 3rd Ave\", \"city\": \"Miami\", \"state\": \"FL\", \"zip\": \"33131\"'\n"
     ]
    }
   ],
   "source": [
    "# print only the first 90 characters of the JSON object, since they are large\n",
    "\n",
    "for key in stores_db.keys():\n",
    "    print(\"key:\", key, \"value:\", stores_db.get(key)[:90])"
   ]
  },
  {
   "cell_type": "markdown",
   "id": "8dbbaba0",
   "metadata": {},
   "source": [
    "## Where redis really shines is that it is a scale out, in memory solution;  memory is backed to disk at periodic intervals, which can be changed in the config file;  one great example would be a leader board for a multi-player online game; we will simulate a multi-player game with random scores "
   ]
  },
  {
   "cell_type": "code",
   "execution_count": 27,
   "id": "c5ce383e",
   "metadata": {},
   "outputs": [],
   "source": [
    "games_db = redis.Redis(host='redis', port=6379, db=2)\n",
    "\n",
    "games_db.flushdb()\n",
    "\n",
    "game_id = 3874297973"
   ]
  },
  {
   "cell_type": "markdown",
   "id": "0b5c70a5",
   "metadata": {},
   "source": [
    "## Run the Jupyter Notebook redis_2 to get the set values (actually you can make several copies of redis_2 and run several at the same time!)\n",
    "\n",
    "## Infine loop - to stop: menu bar => Kernet => Interrupt"
   ]
  },
  {
   "cell_type": "code",
   "execution_count": 28,
   "id": "0e7e66bf",
   "metadata": {},
   "outputs": [
    {
     "ename": "KeyboardInterrupt",
     "evalue": "",
     "output_type": "error",
     "traceback": [
      "\u001b[0;31m---------------------------------------------------------------------------\u001b[0m",
      "\u001b[0;31mKeyboardInterrupt\u001b[0m                         Traceback (most recent call last)",
      "\u001b[0;32m/tmp/ipykernel_74/191456258.py\u001b[0m in \u001b[0;36m<module>\u001b[0;34m\u001b[0m\n\u001b[1;32m     18\u001b[0m     \u001b[0mgames_db\u001b[0m\u001b[0;34m.\u001b[0m\u001b[0mset\u001b[0m\u001b[0;34m(\u001b[0m\u001b[0mgame_id\u001b[0m\u001b[0;34m,\u001b[0m \u001b[0mjson\u001b[0m\u001b[0;34m.\u001b[0m\u001b[0mdumps\u001b[0m\u001b[0;34m(\u001b[0m\u001b[0mscores\u001b[0m\u001b[0;34m)\u001b[0m\u001b[0;34m)\u001b[0m\u001b[0;34m\u001b[0m\u001b[0;34m\u001b[0m\u001b[0m\n\u001b[1;32m     19\u001b[0m \u001b[0;34m\u001b[0m\u001b[0m\n\u001b[0;32m---> 20\u001b[0;31m     \u001b[0mtime\u001b[0m\u001b[0;34m.\u001b[0m\u001b[0msleep\u001b[0m\u001b[0;34m(\u001b[0m\u001b[0;36m1.0\u001b[0m\u001b[0;34m)\u001b[0m\u001b[0;34m\u001b[0m\u001b[0;34m\u001b[0m\u001b[0m\n\u001b[0m\u001b[1;32m     21\u001b[0m \u001b[0;34m\u001b[0m\u001b[0m\n",
      "\u001b[0;31mKeyboardInterrupt\u001b[0m: "
     ]
    }
   ],
   "source": [
    "scores = {}\n",
    "\n",
    "base_score = 0\n",
    "\n",
    "while (True):\n",
    "    \n",
    "    base_score += 50\n",
    "    \n",
    "    scores[\"Alice\"] = base_score + np.random.randint(16,20)\n",
    "    scores[\"Bob\"] = base_score + np.random.randint(16,20)\n",
    "    scores[\"Mary\"] = base_score + np.random.randint(11,15)\n",
    "    scores[\"Jeff\"] = base_score + np.random.randint(11,15)\n",
    "    scores[\"Roberta\"] = base_score + np.random.randint(6,10)\n",
    "    scores[\"Trevor\"] = base_score + np.random.randint(6,10)\n",
    "    scores[\"Wanda\"] = base_score + np.random.randint(1,5)\n",
    "    scores[\"Walter\"] = base_score + np.random.randint(1,5)\n",
    "    \n",
    "    games_db.set(game_id, json.dumps(scores))\n",
    "    \n",
    "    time.sleep(1.0)\n",
    "    "
   ]
  },
  {
   "cell_type": "markdown",
   "id": "1be2d2f3",
   "metadata": {},
   "source": [
    "## You try it\n",
    "\n",
    "## Create database 3 for sales; load the file temp_sales_nested.json into the sales database with the receipt as the key and the JSON as the value\n",
    "\n",
    "## Create database 4 for customers; load the file temp_customers_nested.json into the customers database with the customer_id as the key and the JSON as the value"
   ]
  },
  {
   "cell_type": "code",
   "execution_count": 30,
   "id": "cb02b7b0",
   "metadata": {},
   "outputs": [],
   "source": [
    "sales_db = redis.Redis(host='redis', port=6379, db=3)\n",
    "\n",
    "sales_db.flushdb()\n",
    "\n",
    "sales_pipe = sales_db.pipeline()"
   ]
  },
  {
   "cell_type": "code",
   "execution_count": 31,
   "id": "03e5b07a",
   "metadata": {},
   "outputs": [],
   "source": [
    "f2 = open(\"temp_sales_nested.json\")\n",
    "file_json2 = json.load(f2)\n",
    "f2.close()\n",
    "\n",
    "sales_json_list = file_json2[\"sales\"]"
   ]
  },
  {
   "cell_type": "code",
   "execution_count": 36,
   "id": "e8caca2f",
   "metadata": {},
   "outputs": [
    {
     "data": {
      "text/plain": [
       "[True,\n",
       " True,\n",
       " True,\n",
       " True,\n",
       " True,\n",
       " True,\n",
       " True,\n",
       " True,\n",
       " True,\n",
       " True,\n",
       " True,\n",
       " True,\n",
       " True,\n",
       " True,\n",
       " True,\n",
       " True,\n",
       " True,\n",
       " True,\n",
       " True,\n",
       " True,\n",
       " True,\n",
       " True,\n",
       " True,\n",
       " True,\n",
       " True,\n",
       " True,\n",
       " True,\n",
       " True,\n",
       " True,\n",
       " True,\n",
       " True,\n",
       " True,\n",
       " True,\n",
       " True,\n",
       " True,\n",
       " True,\n",
       " True,\n",
       " True,\n",
       " True,\n",
       " True,\n",
       " True,\n",
       " True,\n",
       " True,\n",
       " True,\n",
       " True,\n",
       " True,\n",
       " True,\n",
       " True,\n",
       " True,\n",
       " True,\n",
       " True,\n",
       " True,\n",
       " True,\n",
       " True,\n",
       " True,\n",
       " True,\n",
       " True,\n",
       " True,\n",
       " True,\n",
       " True,\n",
       " True,\n",
       " True,\n",
       " True,\n",
       " True,\n",
       " True,\n",
       " True,\n",
       " True,\n",
       " True,\n",
       " True,\n",
       " True,\n",
       " True,\n",
       " True,\n",
       " True,\n",
       " True,\n",
       " True,\n",
       " True,\n",
       " True,\n",
       " True,\n",
       " True,\n",
       " True,\n",
       " True,\n",
       " True,\n",
       " True,\n",
       " True,\n",
       " True,\n",
       " True,\n",
       " True,\n",
       " True,\n",
       " True,\n",
       " True,\n",
       " True,\n",
       " True,\n",
       " True,\n",
       " True,\n",
       " True,\n",
       " True,\n",
       " True,\n",
       " True,\n",
       " True,\n",
       " True]"
      ]
     },
     "execution_count": 36,
     "metadata": {},
     "output_type": "execute_result"
    }
   ],
   "source": [
    "for sale in sales_json_list:\n",
    "    sales_pipe.set(sale[\"receipt_number\"],json.dumps(sale))\n",
    "    \n",
    "sales_pipe.execute()"
   ]
  },
  {
   "cell_type": "code",
   "execution_count": 38,
   "id": "adcb2193",
   "metadata": {},
   "outputs": [
    {
     "name": "stdout",
     "output_type": "stream",
     "text": [
      "key: b'004-000177033' value: b'{\"receipt_number\": \"004-000177033\", \"sale_date\": \"2020-08-25\", \"sub_total\": 48, \"tax\": 0, '\n",
      "key: b'002-000144107' value: b'{\"receipt_number\": \"002-000144107\", \"sale_date\": \"2020-06-06\", \"sub_total\": 96, \"tax\": 0, '\n",
      "key: b'004-000115633' value: b'{\"receipt_number\": \"004-000115633\", \"sale_date\": \"2020-06-05\", \"sub_total\": 120, \"tax\": 0,'\n",
      "key: b'004-000089887' value: b'{\"receipt_number\": \"004-000089887\", \"sale_date\": \"2020-04-30\", \"sub_total\": 48, \"tax\": 0, '\n",
      "key: b'001-000181897' value: b'{\"receipt_number\": \"001-000181897\", \"sale_date\": \"2020-06-20\", \"sub_total\": 48, \"tax\": 0, '\n",
      "key: b'001-000144249' value: b'{\"receipt_number\": \"001-000144249\", \"sale_date\": \"2020-05-16\", \"sub_total\": 84, \"tax\": 0, '\n",
      "key: b'001-000169216' value: b'{\"receipt_number\": \"001-000169216\", \"sale_date\": \"2020-06-09\", \"sub_total\": 144, \"tax\": 0,'\n",
      "key: b'002-000217889' value: b'{\"receipt_number\": \"002-000217889\", \"sale_date\": \"2020-08-23\", \"sub_total\": 24, \"tax\": 0, '\n",
      "key: b'005-000109305' value: b'{\"receipt_number\": \"005-000109305\", \"sale_date\": \"2020-06-27\", \"sub_total\": 120, \"tax\": 0,'\n",
      "key: b'001-000128112' value: b'{\"receipt_number\": \"001-000128112\", \"sale_date\": \"2020-04-30\", \"sub_total\": 24, \"tax\": 0, '\n",
      "key: b'004-000192337' value: b'{\"receipt_number\": \"004-000192337\", \"sale_date\": \"2020-09-16\", \"sub_total\": 96, \"tax\": 0, '\n",
      "key: b'002-000218323' value: b'{\"receipt_number\": \"002-000218323\", \"sale_date\": \"2020-08-23\", \"sub_total\": 48, \"tax\": 0, '\n",
      "key: b'003-000134868' value: b'{\"receipt_number\": \"003-000134868\", \"sale_date\": \"2020-06-14\", \"sub_total\": 48, \"tax\": 0, '\n",
      "key: b'001-000255285' value: b'{\"receipt_number\": \"001-000255285\", \"sale_date\": \"2020-08-29\", \"sub_total\": 36, \"tax\": 0, '\n",
      "key: b'003-000154102' value: b'{\"receipt_number\": \"003-000154102\", \"sale_date\": \"2020-07-10\", \"sub_total\": 24, \"tax\": 0, '\n",
      "key: b'005-000104373' value: b'{\"receipt_number\": \"005-000104373\", \"sale_date\": \"2020-06-18\", \"sub_total\": 48, \"tax\": 0, '\n",
      "key: b'002-000105004' value: b'{\"receipt_number\": \"002-000105004\", \"sale_date\": \"2020-04-23\", \"sub_total\": 36, \"tax\": 0, '\n",
      "key: b'003-000131827' value: b'{\"receipt_number\": \"003-000131827\", \"sale_date\": \"2020-06-11\", \"sub_total\": 108, \"tax\": 0,'\n",
      "key: b'005-000157919' value: b'{\"receipt_number\": \"005-000157919\", \"sale_date\": \"2020-09-14\", \"sub_total\": 48, \"tax\": 0, '\n",
      "key: b'003-000209184' value: b'{\"receipt_number\": \"003-000209184\", \"sale_date\": \"2020-09-13\", \"sub_total\": 36, \"tax\": 0, '\n",
      "key: b'004-000183530' value: b'{\"receipt_number\": \"004-000183530\", \"sale_date\": \"2020-09-02\", \"sub_total\": 144, \"tax\": 0,'\n",
      "key: b'003-000183488' value: b'{\"receipt_number\": \"003-000183488\", \"sale_date\": \"2020-08-13\", \"sub_total\": 12, \"tax\": 0, '\n",
      "key: b'005-000126722' value: b'{\"receipt_number\": \"005-000126722\", \"sale_date\": \"2020-07-26\", \"sub_total\": 36, \"tax\": 0, '\n",
      "key: b'003-000177427' value: b'{\"receipt_number\": \"003-000177427\", \"sale_date\": \"2020-08-06\", \"sub_total\": 24, \"tax\": 0, '\n",
      "key: b'002-000115912' value: b'{\"receipt_number\": \"002-000115912\", \"sale_date\": \"2020-05-04\", \"sub_total\": 48, \"tax\": 0, '\n",
      "key: b'004-000137286' value: b'{\"receipt_number\": \"004-000137286\", \"sale_date\": \"2020-07-05\", \"sub_total\": 24, \"tax\": 0, '\n",
      "key: b'002-000115446' value: b'{\"receipt_number\": \"002-000115446\", \"sale_date\": \"2020-05-03\", \"sub_total\": 12, \"tax\": 0, '\n",
      "key: b'002-000109083' value: b'{\"receipt_number\": \"002-000109083\", \"sale_date\": \"2020-04-27\", \"sub_total\": 132, \"tax\": 0,'\n",
      "key: b'001-000263524' value: b'{\"receipt_number\": \"001-000263524\", \"sale_date\": \"2020-09-07\", \"sub_total\": 48, \"tax\": 0, '\n",
      "key: b'005-000105691' value: b'{\"receipt_number\": \"005-000105691\", \"sale_date\": \"2020-06-20\", \"sub_total\": 24, \"tax\": 0, '\n",
      "key: b'004-000143587' value: b'{\"receipt_number\": \"004-000143587\", \"sale_date\": \"2020-07-14\", \"sub_total\": 60, \"tax\": 0, '\n",
      "key: b'003-000131547' value: b'{\"receipt_number\": \"003-000131547\", \"sale_date\": \"2020-06-10\", \"sub_total\": 84, \"tax\": 0, '\n",
      "key: b'005-000107715' value: b'{\"receipt_number\": \"005-000107715\", \"sale_date\": \"2020-06-24\", \"sub_total\": 36, \"tax\": 0, '\n",
      "key: b'001-000250031' value: b'{\"receipt_number\": \"001-000250031\", \"sale_date\": \"2020-08-23\", \"sub_total\": 24, \"tax\": 0, '\n",
      "key: b'001-000179181' value: b'{\"receipt_number\": \"001-000179181\", \"sale_date\": \"2020-06-18\", \"sub_total\": 48, \"tax\": 0, '\n",
      "key: b'001-000163141' value: b'{\"receipt_number\": \"001-000163141\", \"sale_date\": \"2020-06-04\", \"sub_total\": 96, \"tax\": 0, '\n",
      "key: b'005-000136553' value: b'{\"receipt_number\": \"005-000136553\", \"sale_date\": \"2020-08-09\", \"sub_total\": 36, \"tax\": 0, '\n",
      "key: b'002-000119996' value: b'{\"receipt_number\": \"002-000119996\", \"sale_date\": \"2020-05-08\", \"sub_total\": 36, \"tax\": 0, '\n",
      "key: b'004-000111979' value: b'{\"receipt_number\": \"004-000111979\", \"sale_date\": \"2020-05-31\", \"sub_total\": 108, \"tax\": 0,'\n",
      "key: b'005-000136735' value: b'{\"receipt_number\": \"005-000136735\", \"sale_date\": \"2020-08-10\", \"sub_total\": 96, \"tax\": 0, '\n",
      "key: b'004-000177233' value: b'{\"receipt_number\": \"004-000177233\", \"sale_date\": \"2020-08-26\", \"sub_total\": 60, \"tax\": 0, '\n",
      "key: b'003-000099402' value: b'{\"receipt_number\": \"003-000099402\", \"sale_date\": \"2020-05-01\", \"sub_total\": 36, \"tax\": 0, '\n",
      "key: b'003-000186881' value: b'{\"receipt_number\": \"003-000186881\", \"sale_date\": \"2020-08-16\", \"sub_total\": 144, \"tax\": 0,'\n",
      "key: b'004-000138546' value: b'{\"receipt_number\": \"004-000138546\", \"sale_date\": \"2020-07-08\", \"sub_total\": 96, \"tax\": 0, '\n",
      "key: b'005-000088989' value: b'{\"receipt_number\": \"005-000088989\", \"sale_date\": \"2020-05-25\", \"sub_total\": 24, \"tax\": 0, '\n",
      "key: b'001-000248269' value: b'{\"receipt_number\": \"001-000248269\", \"sale_date\": \"2020-08-22\", \"sub_total\": 60, \"tax\": 0, '\n",
      "key: b'002-000158290' value: b'{\"receipt_number\": \"002-000158290\", \"sale_date\": \"2020-06-20\", \"sub_total\": 84, \"tax\": 0, '\n",
      "key: b'003-000164376' value: b'{\"receipt_number\": \"003-000164376\", \"sale_date\": \"2020-07-22\", \"sub_total\": 108, \"tax\": 0,'\n",
      "key: b'005-000147541' value: b'{\"receipt_number\": \"005-000147541\", \"sale_date\": \"2020-08-27\", \"sub_total\": 96, \"tax\": 0, '\n",
      "key: b'002-000203726' value: b'{\"receipt_number\": \"002-000203726\", \"sale_date\": \"2020-08-08\", \"sub_total\": 132, \"tax\": 0,'\n"
     ]
    }
   ],
   "source": [
    "for key in sales_db.keys():\n",
    "    print(\"key:\", key, \"value:\", sales_db.get(key)[:90])"
   ]
  },
  {
   "cell_type": "code",
   "execution_count": 39,
   "id": "8ab349d1",
   "metadata": {},
   "outputs": [],
   "source": [
    "customers_db = redis.Redis(host='redis', port=6379, db=4)\n",
    "\n",
    "customers_db.flushdb()\n",
    "\n",
    "customers_pipe = customers_db.pipeline()"
   ]
  },
  {
   "cell_type": "code",
   "execution_count": 40,
   "id": "f34ecb9f",
   "metadata": {},
   "outputs": [],
   "source": [
    "f3 = open(\"temp_customers_nested.json\")\n",
    "file_json3 = json.load(f3)\n",
    "f3.close()\n",
    "\n",
    "customers_json_list = file_json3[\"customers\"]"
   ]
  },
  {
   "cell_type": "code",
   "execution_count": 42,
   "id": "fd23443e",
   "metadata": {},
   "outputs": [
    {
     "data": {
      "text/plain": [
       "[True,\n",
       " True,\n",
       " True,\n",
       " True,\n",
       " True,\n",
       " True,\n",
       " True,\n",
       " True,\n",
       " True,\n",
       " True,\n",
       " True,\n",
       " True,\n",
       " True,\n",
       " True,\n",
       " True,\n",
       " True,\n",
       " True,\n",
       " True,\n",
       " True,\n",
       " True,\n",
       " True,\n",
       " True,\n",
       " True,\n",
       " True,\n",
       " True,\n",
       " True,\n",
       " True,\n",
       " True,\n",
       " True,\n",
       " True,\n",
       " True,\n",
       " True,\n",
       " True,\n",
       " True,\n",
       " True,\n",
       " True,\n",
       " True,\n",
       " True,\n",
       " True,\n",
       " True,\n",
       " True,\n",
       " True,\n",
       " True,\n",
       " True,\n",
       " True,\n",
       " True,\n",
       " True,\n",
       " True,\n",
       " True,\n",
       " True]"
      ]
     },
     "execution_count": 42,
     "metadata": {},
     "output_type": "execute_result"
    }
   ],
   "source": [
    "for customer in customers_json_list:\n",
    "    customers_pipe.set(customer[\"customer_id\"],json.dumps(customer))\n",
    "    \n",
    "customers_pipe.execute()"
   ]
  },
  {
   "cell_type": "code",
   "execution_count": 43,
   "id": "c265e8df",
   "metadata": {},
   "outputs": [
    {
     "name": "stdout",
     "output_type": "stream",
     "text": [
      "key: b'9528' value: b'{\"customer_id\": 9528, \"first_name\": \"Markos\", \"last_name\": \"Toderi\", \"first_last_name\": \"M'\n",
      "key: b'19494' value: b'{\"customer_id\": 19494, \"first_name\": \"Brianne\", \"last_name\": \"Dundendale\", \"first_last_nam'\n",
      "key: b'17711' value: b'{\"customer_id\": 17711, \"first_name\": \"Sheffield\", \"last_name\": \"Dunkerton\", \"first_last_na'\n",
      "key: b'10295' value: b'{\"customer_id\": 10295, \"first_name\": \"Debby\", \"last_name\": \"Leber\", \"first_last_name\": \"De'\n",
      "key: b'23017' value: b'{\"customer_id\": 23017, \"first_name\": \"Darb\", \"last_name\": \"Goucher\", \"first_last_name\": \"D'\n",
      "key: b'27997' value: b'{\"customer_id\": 27997, \"first_name\": \"Meagan\", \"last_name\": \"Gussin\", \"first_last_name\": \"'\n",
      "key: b'14460' value: b'{\"customer_id\": 14460, \"first_name\": \"Shannon\", \"last_name\": \"Morrall\", \"first_last_name\":'\n",
      "key: b'25267' value: b'{\"customer_id\": 25267, \"first_name\": \"Tobin\", \"last_name\": \"Pude\", \"first_last_name\": \"Tob'\n",
      "key: b'6782' value: b'{\"customer_id\": 6782, \"first_name\": \"Lyndsay\", \"last_name\": \"Iuorio\", \"first_last_name\": \"'\n",
      "key: b'29922' value: b'{\"customer_id\": 29922, \"first_name\": \"Garwin\", \"last_name\": \"Aleksankin\", \"first_last_name'\n",
      "key: b'29285' value: b'{\"customer_id\": 29285, \"first_name\": \"Ezmeralda\", \"last_name\": \"McCreadie\", \"first_last_na'\n",
      "key: b'27654' value: b'{\"customer_id\": 27654, \"first_name\": \"Nestor\", \"last_name\": \"Winfred\", \"first_last_name\": '\n",
      "key: b'30184' value: b'{\"customer_id\": 30184, \"first_name\": \"Mindy\", \"last_name\": \"Bockh\", \"first_last_name\": \"Mi'\n",
      "key: b'1597' value: b'{\"customer_id\": 1597, \"first_name\": \"Norry\", \"last_name\": \"Macauley\", \"first_last_name\": \"'\n",
      "key: b'16932' value: b'{\"customer_id\": 16932, \"first_name\": \"Betta\", \"last_name\": \"Swatland\", \"first_last_name\": '\n",
      "key: b'27926' value: b'{\"customer_id\": 27926, \"first_name\": \"Kerrin\", \"last_name\": \"Bridel\", \"first_last_name\": \"'\n",
      "key: b'19954' value: b'{\"customer_id\": 19954, \"first_name\": \"Merell\", \"last_name\": \"Cruikshanks\", \"first_last_nam'\n",
      "key: b'22673' value: b'{\"customer_id\": 22673, \"first_name\": \"Sue\", \"last_name\": \"Delepine\", \"first_last_name\": \"S'\n",
      "key: b'26882' value: b'{\"customer_id\": 26882, \"first_name\": \"Billy\", \"last_name\": \"Cattini\", \"first_last_name\": \"'\n",
      "key: b'15481' value: b'{\"customer_id\": 15481, \"first_name\": \"Raquel\", \"last_name\": \"Ansill\", \"first_last_name\": \"'\n",
      "key: b'1991' value: b'{\"customer_id\": 1991, \"first_name\": \"Kevon\", \"last_name\": \"Wickett\", \"first_last_name\": \"K'\n",
      "key: b'563' value: b'{\"customer_id\": 563, \"first_name\": \"Rose\", \"last_name\": \"Slimings\", \"first_last_name\": \"Ro'\n",
      "key: b'4159' value: b'{\"customer_id\": 4159, \"first_name\": \"Cheryl\", \"last_name\": \"Broe\", \"first_last_name\": \"Che'\n",
      "key: b'28267' value: b'{\"customer_id\": 28267, \"first_name\": \"Frederica\", \"last_name\": \"Cabrer\", \"first_last_name\"'\n",
      "key: b'3491' value: b'{\"customer_id\": 3491, \"first_name\": \"Siouxie\", \"last_name\": \"M\\'Quharge\", \"first_last_name\"'\n",
      "key: b'12160' value: b'{\"customer_id\": 12160, \"first_name\": \"Sim\", \"last_name\": \"Dorie\", \"first_last_name\": \"Sim '\n",
      "key: b'29783' value: b'{\"customer_id\": 29783, \"first_name\": \"Nobie\", \"last_name\": \"Nuemann\", \"first_last_name\": \"'\n",
      "key: b'15799' value: b'{\"customer_id\": 15799, \"first_name\": \"Zackariah\", \"last_name\": \"McCreath\", \"first_last_nam'\n",
      "key: b'9189' value: b'{\"customer_id\": 9189, \"first_name\": \"Cornell\", \"last_name\": \"Brammar\", \"first_last_name\": '\n",
      "key: b'25339' value: b'{\"customer_id\": 25339, \"first_name\": \"Lucilia\", \"last_name\": \"Logg\", \"first_last_name\": \"L'\n",
      "key: b'9298' value: b'{\"customer_id\": 9298, \"first_name\": \"Cecilla\", \"last_name\": \"Lewry\", \"first_last_name\": \"C'\n",
      "key: b'16476' value: b'{\"customer_id\": 16476, \"first_name\": \"Yancey\", \"last_name\": \"Lamyman\", \"first_last_name\": '\n",
      "key: b'28750' value: b'{\"customer_id\": 28750, \"first_name\": \"Jareb\", \"last_name\": \"Girt\", \"first_last_name\": \"Jar'\n",
      "key: b'12493' value: b'{\"customer_id\": 12493, \"first_name\": \"Lula\", \"last_name\": \"Stoneman\", \"first_last_name\": \"'\n",
      "key: b'27380' value: b'{\"customer_id\": 27380, \"first_name\": \"Juliette\", \"last_name\": \"Simoncello\", \"first_last_na'\n",
      "key: b'5394' value: b'{\"customer_id\": 5394, \"first_name\": \"Katharina\", \"last_name\": \"Bavester\", \"first_last_name'\n",
      "key: b'27728' value: b'{\"customer_id\": 27728, \"first_name\": \"Gus\", \"last_name\": \"Haliburton\", \"first_last_name\": '\n",
      "key: b'9046' value: b'{\"customer_id\": 9046, \"first_name\": \"Beth\", \"last_name\": \"Scotchmor\", \"first_last_name\": \"'\n",
      "key: b'24014' value: b'{\"customer_id\": 24014, \"first_name\": \"Michale\", \"last_name\": \"Caudle\", \"first_last_name\": '\n",
      "key: b'11779' value: b'{\"customer_id\": 11779, \"first_name\": \"Emlynne\", \"last_name\": \"Takle\", \"first_last_name\": \"'\n",
      "key: b'4198' value: b'{\"customer_id\": 4198, \"first_name\": \"Andreana\", \"last_name\": \"Drew\", \"first_last_name\": \"A'\n",
      "key: b'17003' value: b'{\"customer_id\": 17003, \"first_name\": \"Pryce\", \"last_name\": \"Slafford\", \"first_last_name\": '\n",
      "key: b'19226' value: b'{\"customer_id\": 19226, \"first_name\": \"Christin\", \"last_name\": \"Penny\", \"first_last_name\": '\n",
      "key: b'23319' value: b'{\"customer_id\": 23319, \"first_name\": \"Brnaba\", \"last_name\": \"Challicombe\", \"first_last_nam'\n",
      "key: b'11291' value: b'{\"customer_id\": 11291, \"first_name\": \"Dasi\", \"last_name\": \"Radden\", \"first_last_name\": \"Da'\n",
      "key: b'15710' value: b'{\"customer_id\": 15710, \"first_name\": \"Ted\", \"last_name\": \"Campany\", \"first_last_name\": \"Te'\n",
      "key: b'23347' value: b'{\"customer_id\": 23347, \"first_name\": \"Royce\", \"last_name\": \"Fielders\", \"first_last_name\": '\n",
      "key: b'4260' value: b'{\"customer_id\": 4260, \"first_name\": \"Dom\", \"last_name\": \"Risbrough\", \"first_last_name\": \"D'\n",
      "key: b'1958' value: b'{\"customer_id\": 1958, \"first_name\": \"Theresina\", \"last_name\": \"Penswick\", \"first_last_name'\n",
      "key: b'23902' value: b'{\"customer_id\": 23902, \"first_name\": \"Joice\", \"last_name\": \"Chidgey\", \"first_last_name\": \"'\n"
     ]
    }
   ],
   "source": [
    "for key in customers_db.keys():\n",
    "    print(\"key:\", key, \"value:\", customers_db.get(key)[:90])"
   ]
  },
  {
   "cell_type": "code",
   "execution_count": null,
   "id": "317e565a",
   "metadata": {},
   "outputs": [],
   "source": []
  }
 ],
 "metadata": {
  "kernelspec": {
   "display_name": "Python 3 (ipykernel)",
   "language": "python",
   "name": "python3"
  },
  "language_info": {
   "codemirror_mode": {
    "name": "ipython",
    "version": 3
   },
   "file_extension": ".py",
   "mimetype": "text/x-python",
   "name": "python",
   "nbconvert_exporter": "python",
   "pygments_lexer": "ipython3",
   "version": "3.9.7"
  }
 },
 "nbformat": 4,
 "nbformat_minor": 5
}
