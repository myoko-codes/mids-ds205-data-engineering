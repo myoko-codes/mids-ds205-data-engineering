{
 "cells": [
  {
   "cell_type": "markdown",
   "id": "b7e51eda",
   "metadata": {},
   "source": [
    "# Redis 2"
   ]
  },
  {
   "cell_type": "markdown",
   "id": "fa0daed4",
   "metadata": {},
   "source": [
    "##  You can make multiple copies of this Juptyer Notebook and run several at the same time!\n",
    "\n",
    "## Menu bar => File => Make a copy"
   ]
  },
  {
   "cell_type": "code",
   "execution_count": 1,
   "id": "6209b8cd",
   "metadata": {},
   "outputs": [],
   "source": [
    "import redis\n",
    "\n",
    "import json\n",
    "\n",
    "import pprint\n",
    "\n",
    "from datetime import timedelta\n",
    "\n",
    "import time\n",
    "\n",
    "import numpy as np\n",
    "\n",
    "from IPython.display import clear_output\n",
    "\n"
   ]
  },
  {
   "cell_type": "code",
   "execution_count": 2,
   "id": "c67b05ff",
   "metadata": {},
   "outputs": [],
   "source": [
    "games_db = redis.Redis(host='redis', port=6379, db=2)\n",
    "\n",
    "game_id = 3874297973"
   ]
  },
  {
   "cell_type": "markdown",
   "id": "fcd78c89",
   "metadata": {},
   "source": [
    "## Infine loop - to stop: menu bar => Kernet => Interrupt"
   ]
  },
  {
   "cell_type": "code",
   "execution_count": 3,
   "id": "25e7896e",
   "metadata": {},
   "outputs": [
    {
     "name": "stdout",
     "output_type": "stream",
     "text": [
      "\n",
      "\n",
      "Game: 3874297973 \n",
      "\n",
      "\n",
      "          Alice      9,619\n",
      "            Bob      9,616\n",
      "           Mary      9,611\n",
      "           Jeff      9,611\n",
      "        Roberta      9,608\n",
      "         Trevor      9,607\n",
      "          Wanda      9,604\n",
      "         Walter      9,602\n"
     ]
    },
    {
     "ename": "KeyboardInterrupt",
     "evalue": "",
     "output_type": "error",
     "traceback": [
      "\u001b[0;31m---------------------------------------------------------------------------\u001b[0m",
      "\u001b[0;31mKeyboardInterrupt\u001b[0m                         Traceback (most recent call last)",
      "\u001b[0;32m/tmp/ipykernel_138/3152883597.py\u001b[0m in \u001b[0;36m<module>\u001b[0;34m\u001b[0m\n\u001b[1;32m     15\u001b[0m         \u001b[0mprint\u001b[0m\u001b[0;34m(\u001b[0m\u001b[0;34mf'{score[0]:>15}'\u001b[0m\u001b[0;34m,\u001b[0m \u001b[0;34mf'{score[1]:10,}'\u001b[0m\u001b[0;34m)\u001b[0m\u001b[0;34m\u001b[0m\u001b[0;34m\u001b[0m\u001b[0m\n\u001b[1;32m     16\u001b[0m \u001b[0;34m\u001b[0m\u001b[0m\n\u001b[0;32m---> 17\u001b[0;31m     \u001b[0mtime\u001b[0m\u001b[0;34m.\u001b[0m\u001b[0msleep\u001b[0m\u001b[0;34m(\u001b[0m\u001b[0;36m0.3\u001b[0m\u001b[0;34m)\u001b[0m\u001b[0;34m\u001b[0m\u001b[0;34m\u001b[0m\u001b[0m\n\u001b[0m\u001b[1;32m     18\u001b[0m \u001b[0;34m\u001b[0m\u001b[0m\n\u001b[1;32m     19\u001b[0m \u001b[0;34m\u001b[0m\u001b[0m\n",
      "\u001b[0;31mKeyboardInterrupt\u001b[0m: "
     ]
    }
   ],
   "source": [
    "while (True):\n",
    "    \n",
    "    scores_json = json.loads(games_db.get(game_id))\n",
    "    \n",
    "    scores_list = scores_json.items()\n",
    "    \n",
    "    scores_list_sorted = sorted(scores_list, key = lambda k: (k[1], k[0]), reverse=True)\n",
    "    \n",
    "    clear_output(wait=True)\n",
    "    \n",
    "    print(\"\\n\\nGame:\", game_id, \"\\n\\n\")\n",
    "    \n",
    "    for score in scores_list_sorted:\n",
    "        \n",
    "        print(f'{score[0]:>15}', f'{score[1]:10,}')\n",
    "    \n",
    "    time.sleep(0.3)\n",
    "    \n",
    "    "
   ]
  },
  {
   "cell_type": "code",
   "execution_count": null,
   "id": "fb90d9fc",
   "metadata": {},
   "outputs": [],
   "source": []
  }
 ],
 "metadata": {
  "kernelspec": {
   "display_name": "Python 3 (ipykernel)",
   "language": "python",
   "name": "python3"
  },
  "language_info": {
   "codemirror_mode": {
    "name": "ipython",
    "version": 3
   },
   "file_extension": ".py",
   "mimetype": "text/x-python",
   "name": "python",
   "nbconvert_exporter": "python",
   "pygments_lexer": "ipython3",
   "version": "3.9.7"
  }
 },
 "nbformat": 4,
 "nbformat_minor": 5
}
