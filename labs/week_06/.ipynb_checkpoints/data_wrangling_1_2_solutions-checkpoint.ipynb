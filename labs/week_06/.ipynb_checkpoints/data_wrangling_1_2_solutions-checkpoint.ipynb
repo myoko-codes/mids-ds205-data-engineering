{
 "cells": [
  {
   "cell_type": "markdown",
   "id": "6167ebde",
   "metadata": {},
   "source": [
    "# Data Wrangling 1.2 Solutions"
   ]
  },
  {
   "cell_type": "code",
   "execution_count": 1,
   "id": "74cf8f2e",
   "metadata": {},
   "outputs": [],
   "source": [
    "import csv\n",
    "\n",
    "import math\n",
    "import numpy as np\n",
    "import pandas as pd\n",
    "\n",
    "import psycopg2"
   ]
  },
  {
   "cell_type": "code",
   "execution_count": 2,
   "id": "89193769",
   "metadata": {},
   "outputs": [],
   "source": [
    "#\n",
    "# function to run a select query and return rows in a pandas dataframe\n",
    "# pandas puts all numeric values from postgres to float\n",
    "# if it will fit in an integer, change it to integer\n",
    "#\n",
    "\n",
    "def my_select_query_pandas(query, rollback_before_flag, rollback_after_flag):\n",
    "    \"function to run a select query and return rows in a pandas dataframe\"\n",
    "    \n",
    "    if rollback_before_flag:\n",
    "        connection.rollback()\n",
    "    \n",
    "    df = pd.read_sql_query(query, connection)\n",
    "    \n",
    "    if rollback_after_flag:\n",
    "        connection.rollback()\n",
    "    \n",
    "    # fix the float columns that really should be integers\n",
    "    \n",
    "    for column in df:\n",
    "    \n",
    "        if df[column].dtype == \"float64\":\n",
    "\n",
    "            fraction_flag = False\n",
    "\n",
    "            for value in df[column].values:\n",
    "                \n",
    "                if not np.isnan(value):\n",
    "                    if value - math.floor(value) != 0:\n",
    "                        fraction_flag = True\n",
    "\n",
    "            if not fraction_flag:\n",
    "                df[column] = df[column].astype('Int64')\n",
    "    \n",
    "    return(df)\n",
    "    "
   ]
  },
  {
   "cell_type": "code",
   "execution_count": 3,
   "id": "7027ce8a",
   "metadata": {},
   "outputs": [],
   "source": [
    "connection = psycopg2.connect(\n",
    "    user = \"postgres\",\n",
    "    password = \"ucb\",\n",
    "    host = \"postgres\",\n",
    "    port = \"5432\",\n",
    "    database = \"postgres\"\n",
    ")"
   ]
  },
  {
   "cell_type": "code",
   "execution_count": 4,
   "id": "0cb9e1ca",
   "metadata": {},
   "outputs": [],
   "source": [
    "cursor = connection.cursor()"
   ]
  },
  {
   "cell_type": "markdown",
   "id": "1450a4ee",
   "metadata": {},
   "source": [
    "## You try it - read and print out some lines from the following csv files: temp_line_items.csv, temp_customers.csv, temp_products, temp_holidays"
   ]
  },
  {
   "cell_type": "code",
   "execution_count": 5,
   "id": "025aa95b",
   "metadata": {},
   "outputs": [],
   "source": [
    "def my_read_csv_file(file_name, limit):\n",
    "    \"read the csv file and print only the first limit rows\"\n",
    "    \n",
    "    csv_file = open(file_name, \"r\")\n",
    "    \n",
    "    csv_data = csv.reader(csv_file)\n",
    "    \n",
    "    i = 0\n",
    "    \n",
    "    for row in csv_data:\n",
    "        i += 1\n",
    "        if i <= limit:\n",
    "            print(row)\n",
    "            \n",
    "    print(\"\\nPrinted \", min(limit, i), \"lines of \", i, \"total lines.\")"
   ]
  },
  {
   "cell_type": "code",
   "execution_count": 6,
   "id": "f1de2e59",
   "metadata": {},
   "outputs": [
    {
     "name": "stdout",
     "output_type": "stream",
     "text": [
      "['store_id', 'sale_id', 'line_item_id', 'product_id', 'quantity']\n",
      "['1', '128112', '1', '1', '1']\n",
      "['1', '128112', '2', '8', '1']\n",
      "['1', '144249', '1', '1', '1']\n",
      "['1', '144249', '2', '2', '1']\n",
      "['1', '144249', '3', '4', '2']\n",
      "['1', '144249', '4', '6', '1']\n",
      "['1', '144249', '5', '8', '2']\n",
      "['1', '163141', '1', '1', '3']\n",
      "['1', '163141', '2', '3', '1']\n",
      "\n",
      "Printed  10 lines of  177 total lines.\n"
     ]
    }
   ],
   "source": [
    "my_read_csv_file(\"temp_line_items.csv\", limit=10)"
   ]
  },
  {
   "cell_type": "code",
   "execution_count": 7,
   "id": "a5dff69f",
   "metadata": {},
   "outputs": [
    {
     "name": "stdout",
     "output_type": "stream",
     "text": [
      "['customer_id', 'first_name', 'last_name', 'street', 'city', 'state', 'zip', 'closest_store_id', 'distance']\n",
      "['563', 'Rose', 'Slimings', '38 Iowa Street', 'Berkeley', 'CA', '94704', '1', '1']\n",
      "['1597', 'Norry', 'Macauley', '654 Sommers Plaza', 'Oakland', 'CA', '94612', '1', '3']\n",
      "['1958', 'Theresina', 'Penswick', '5975 Twin Pines Hill', 'Berkeley', 'CA', '94707', '1', '3']\n",
      "['1991', 'Kevon', 'Wickett', '472 Arizona Court', 'Berkeley', 'CA', '94707', '1', '3']\n",
      "['3491', 'Siouxie', \"M'Quharge\", '747 Westridge Center', 'Alameda', 'CA', '94501', '1', '6']\n",
      "['4159', 'Cheryl', 'Broe', '7 Ruskin Alley', 'El Sobrante', 'CA', '94803', '1', '7']\n",
      "['4198', 'Andreana', 'Drew', '11039 Cordelia Alley', 'El Sobrante', 'CA', '94803', '1', '7']\n",
      "['4260', 'Dom', 'Risbrough', '3 Northland Crossing', 'Richmond', 'CA', '94805', '1', '7']\n",
      "['5394', 'Katharina', 'Bavester', '522 Cordelia Lane', 'San Francisco', 'CA', '94102', '1', '10']\n",
      "\n",
      "Printed  10 lines of  51 total lines.\n"
     ]
    }
   ],
   "source": [
    "my_read_csv_file(\"temp_customers.csv\", limit=10)"
   ]
  },
  {
   "cell_type": "code",
   "execution_count": 8,
   "id": "13f1865c",
   "metadata": {},
   "outputs": [
    {
     "name": "stdout",
     "output_type": "stream",
     "text": [
      "['product_id', 'description']\n",
      "['1', 'Pistachio Salmon']\n",
      "['2', 'Teriyaki Chicken']\n",
      "['3', 'Spinach Orzo']\n",
      "['4', 'Eggplant Lasagna']\n",
      "['5', 'Chicken Salad']\n",
      "['6', 'Curry Chicken']\n",
      "['7', 'Tilapia Piccata']\n",
      "['8', 'Brocolli Stir Fry']\n",
      "\n",
      "Printed  9 lines of  9 total lines.\n"
     ]
    }
   ],
   "source": [
    "my_read_csv_file(\"temp_products.csv\", limit=10)"
   ]
  },
  {
   "cell_type": "code",
   "execution_count": 9,
   "id": "17669795",
   "metadata": {},
   "outputs": [
    {
     "name": "stdout",
     "output_type": "stream",
     "text": [
      "['holiday_date', 'description', 'closed_flag']\n",
      "['2020-01-01', \"New Year's Day\", 'f']\n",
      "['2020-01-20', 'MLK Day', 'f']\n",
      "['2020-02-17', \"President's Day\", 'f']\n",
      "['2020-04-12', 'Easter', 'f']\n",
      "['2020-05-10', \"Mother's Day\", 'f']\n",
      "['2020-05-25', 'Memorial Day', 'f']\n",
      "['2020-06-21', \"Father's Day\", 'f']\n",
      "['2020-07-04', 'Independence Day', 'f']\n",
      "['2020-09-07', 'Labor Day', 'f']\n",
      "['2020-11-11', 'Veterans Days', 'f']\n",
      "['2020-11-26', 'Thanksgiving', 't']\n",
      "['2020-12-25', 'Christmas', 't']\n",
      "\n",
      "Printed  13 lines of  13 total lines.\n"
     ]
    }
   ],
   "source": [
    "my_read_csv_file(\"temp_holidays.csv\", limit=100)"
   ]
  },
  {
   "cell_type": "markdown",
   "id": "7166f643",
   "metadata": {},
   "source": [
    "## You try it - \n",
    "* load the file temp_holidays.csv into the table temp_holidays \n",
    "* temp_products.csv into table temp_products\n",
    "* temp_line_items into table temp_line_items \n",
    "* verify the loads with a query"
   ]
  },
  {
   "cell_type": "code",
   "execution_count": 10,
   "id": "62e12195",
   "metadata": {},
   "outputs": [
    {
     "ename": "UniqueViolation",
     "evalue": "duplicate key value violates unique constraint \"temp_holidays_pkey\"\nDETAIL:  Key (holiday_date)=(2020-01-01) already exists.\nCONTEXT:  COPY temp_holidays, line 2\n",
     "output_type": "error",
     "traceback": [
      "\u001b[0;31m---------------------------------------------------------------------------\u001b[0m",
      "\u001b[0;31mUniqueViolation\u001b[0m                           Traceback (most recent call last)",
      "\u001b[0;32m/tmp/ipykernel_90/381332962.py\u001b[0m in \u001b[0;36m<module>\u001b[0;34m\u001b[0m\n\u001b[1;32m     19\u001b[0m \"\"\"\n\u001b[1;32m     20\u001b[0m \u001b[0;34m\u001b[0m\u001b[0m\n\u001b[0;32m---> 21\u001b[0;31m \u001b[0mcursor\u001b[0m\u001b[0;34m.\u001b[0m\u001b[0mexecute\u001b[0m\u001b[0;34m(\u001b[0m\u001b[0mquery\u001b[0m\u001b[0;34m)\u001b[0m\u001b[0;34m\u001b[0m\u001b[0;34m\u001b[0m\u001b[0m\n\u001b[0m\u001b[1;32m     22\u001b[0m \u001b[0;34m\u001b[0m\u001b[0m\n\u001b[1;32m     23\u001b[0m \u001b[0mconnection\u001b[0m\u001b[0;34m.\u001b[0m\u001b[0mcommit\u001b[0m\u001b[0;34m(\u001b[0m\u001b[0;34m)\u001b[0m\u001b[0;34m\u001b[0m\u001b[0;34m\u001b[0m\u001b[0m\n",
      "\u001b[0;31mUniqueViolation\u001b[0m: duplicate key value violates unique constraint \"temp_holidays_pkey\"\nDETAIL:  Key (holiday_date)=(2020-01-01) already exists.\nCONTEXT:  COPY temp_holidays, line 2\n"
     ]
    }
   ],
   "source": [
    "#\n",
    "# load the csv files into the database tables in foreign key order\n",
    "#\n",
    "\n",
    "connection.rollback()\n",
    "\n",
    "query = \"\"\"\n",
    "\n",
    "copy temp_holidays\n",
    "from '/user/labs/week_06/temp_holidays.csv' delimiter ',' NULL '' csv header;\n",
    "\n",
    "copy temp_products\n",
    "from '/user/labs/week_06/temp_products.csv' delimiter ',' NULL '' csv header;\n",
    "\n",
    "copy temp_line_items\n",
    "from '/user/labs/week_06/temp_line_items.csv' delimiter ',' NULL '' csv header;\n",
    "\n",
    "\n",
    "\"\"\"\n",
    "\n",
    "cursor.execute(query)\n",
    "\n",
    "connection.commit()"
   ]
  },
  {
   "cell_type": "code",
   "execution_count": 11,
   "id": "68decc9c",
   "metadata": {},
   "outputs": [
    {
     "data": {
      "text/html": [
       "<div>\n",
       "<style scoped>\n",
       "    .dataframe tbody tr th:only-of-type {\n",
       "        vertical-align: middle;\n",
       "    }\n",
       "\n",
       "    .dataframe tbody tr th {\n",
       "        vertical-align: top;\n",
       "    }\n",
       "\n",
       "    .dataframe thead th {\n",
       "        text-align: right;\n",
       "    }\n",
       "</style>\n",
       "<table border=\"1\" class=\"dataframe\">\n",
       "  <thead>\n",
       "    <tr style=\"text-align: right;\">\n",
       "      <th></th>\n",
       "      <th>holiday_date</th>\n",
       "      <th>description</th>\n",
       "      <th>closed_flag</th>\n",
       "    </tr>\n",
       "  </thead>\n",
       "  <tbody>\n",
       "    <tr>\n",
       "      <th>0</th>\n",
       "      <td>2020-01-01</td>\n",
       "      <td>New Year's Day</td>\n",
       "      <td>False</td>\n",
       "    </tr>\n",
       "    <tr>\n",
       "      <th>1</th>\n",
       "      <td>2020-01-20</td>\n",
       "      <td>MLK Day</td>\n",
       "      <td>False</td>\n",
       "    </tr>\n",
       "    <tr>\n",
       "      <th>2</th>\n",
       "      <td>2020-02-17</td>\n",
       "      <td>President's Day</td>\n",
       "      <td>False</td>\n",
       "    </tr>\n",
       "    <tr>\n",
       "      <th>3</th>\n",
       "      <td>2020-04-12</td>\n",
       "      <td>Easter</td>\n",
       "      <td>False</td>\n",
       "    </tr>\n",
       "    <tr>\n",
       "      <th>4</th>\n",
       "      <td>2020-05-10</td>\n",
       "      <td>Mother's Day</td>\n",
       "      <td>False</td>\n",
       "    </tr>\n",
       "    <tr>\n",
       "      <th>5</th>\n",
       "      <td>2020-05-25</td>\n",
       "      <td>Memorial Day</td>\n",
       "      <td>False</td>\n",
       "    </tr>\n",
       "    <tr>\n",
       "      <th>6</th>\n",
       "      <td>2020-06-21</td>\n",
       "      <td>Father's Day</td>\n",
       "      <td>False</td>\n",
       "    </tr>\n",
       "    <tr>\n",
       "      <th>7</th>\n",
       "      <td>2020-07-04</td>\n",
       "      <td>Independence Day</td>\n",
       "      <td>False</td>\n",
       "    </tr>\n",
       "    <tr>\n",
       "      <th>8</th>\n",
       "      <td>2020-09-07</td>\n",
       "      <td>Labor Day</td>\n",
       "      <td>False</td>\n",
       "    </tr>\n",
       "    <tr>\n",
       "      <th>9</th>\n",
       "      <td>2020-11-11</td>\n",
       "      <td>Veterans Days</td>\n",
       "      <td>False</td>\n",
       "    </tr>\n",
       "    <tr>\n",
       "      <th>10</th>\n",
       "      <td>2020-11-26</td>\n",
       "      <td>Thanksgiving</td>\n",
       "      <td>True</td>\n",
       "    </tr>\n",
       "    <tr>\n",
       "      <th>11</th>\n",
       "      <td>2020-12-25</td>\n",
       "      <td>Christmas</td>\n",
       "      <td>True</td>\n",
       "    </tr>\n",
       "  </tbody>\n",
       "</table>\n",
       "</div>"
      ],
      "text/plain": [
       "   holiday_date       description  closed_flag\n",
       "0    2020-01-01    New Year's Day        False\n",
       "1    2020-01-20           MLK Day        False\n",
       "2    2020-02-17   President's Day        False\n",
       "3    2020-04-12            Easter        False\n",
       "4    2020-05-10      Mother's Day        False\n",
       "5    2020-05-25      Memorial Day        False\n",
       "6    2020-06-21      Father's Day        False\n",
       "7    2020-07-04  Independence Day        False\n",
       "8    2020-09-07         Labor Day        False\n",
       "9    2020-11-11     Veterans Days        False\n",
       "10   2020-11-26      Thanksgiving         True\n",
       "11   2020-12-25         Christmas         True"
      ]
     },
     "execution_count": 11,
     "metadata": {},
     "output_type": "execute_result"
    }
   ],
   "source": [
    "rollback_before_flag = True\n",
    "rollback_after_flag = True\n",
    "\n",
    "query = \"\"\"\n",
    "\n",
    "select * \n",
    "from temp_holidays;\n",
    "\n",
    "\"\"\"\n",
    "\n",
    "my_select_query_pandas(query, rollback_before_flag, rollback_after_flag)"
   ]
  },
  {
   "cell_type": "code",
   "execution_count": 12,
   "id": "fabedc9c",
   "metadata": {},
   "outputs": [
    {
     "data": {
      "text/html": [
       "<div>\n",
       "<style scoped>\n",
       "    .dataframe tbody tr th:only-of-type {\n",
       "        vertical-align: middle;\n",
       "    }\n",
       "\n",
       "    .dataframe tbody tr th {\n",
       "        vertical-align: top;\n",
       "    }\n",
       "\n",
       "    .dataframe thead th {\n",
       "        text-align: right;\n",
       "    }\n",
       "</style>\n",
       "<table border=\"1\" class=\"dataframe\">\n",
       "  <thead>\n",
       "    <tr style=\"text-align: right;\">\n",
       "      <th></th>\n",
       "      <th>product_id</th>\n",
       "      <th>description</th>\n",
       "    </tr>\n",
       "  </thead>\n",
       "  <tbody>\n",
       "    <tr>\n",
       "      <th>0</th>\n",
       "      <td>1</td>\n",
       "      <td>Pistachio Salmon</td>\n",
       "    </tr>\n",
       "    <tr>\n",
       "      <th>1</th>\n",
       "      <td>2</td>\n",
       "      <td>Teriyaki Chicken</td>\n",
       "    </tr>\n",
       "    <tr>\n",
       "      <th>2</th>\n",
       "      <td>3</td>\n",
       "      <td>Spinach Orzo</td>\n",
       "    </tr>\n",
       "    <tr>\n",
       "      <th>3</th>\n",
       "      <td>4</td>\n",
       "      <td>Eggplant Lasagna</td>\n",
       "    </tr>\n",
       "    <tr>\n",
       "      <th>4</th>\n",
       "      <td>5</td>\n",
       "      <td>Chicken Salad</td>\n",
       "    </tr>\n",
       "    <tr>\n",
       "      <th>5</th>\n",
       "      <td>6</td>\n",
       "      <td>Curry Chicken</td>\n",
       "    </tr>\n",
       "    <tr>\n",
       "      <th>6</th>\n",
       "      <td>7</td>\n",
       "      <td>Tilapia Piccata</td>\n",
       "    </tr>\n",
       "    <tr>\n",
       "      <th>7</th>\n",
       "      <td>8</td>\n",
       "      <td>Brocolli Stir Fry</td>\n",
       "    </tr>\n",
       "  </tbody>\n",
       "</table>\n",
       "</div>"
      ],
      "text/plain": [
       "   product_id        description\n",
       "0           1   Pistachio Salmon\n",
       "1           2   Teriyaki Chicken\n",
       "2           3       Spinach Orzo\n",
       "3           4   Eggplant Lasagna\n",
       "4           5      Chicken Salad\n",
       "5           6      Curry Chicken\n",
       "6           7    Tilapia Piccata\n",
       "7           8  Brocolli Stir Fry"
      ]
     },
     "execution_count": 12,
     "metadata": {},
     "output_type": "execute_result"
    }
   ],
   "source": [
    "rollback_before_flag = True\n",
    "rollback_after_flag = True\n",
    "\n",
    "query = \"\"\"\n",
    "\n",
    "select * \n",
    "from temp_products;\n",
    "\n",
    "\"\"\"\n",
    "\n",
    "my_select_query_pandas(query, rollback_before_flag, rollback_after_flag)"
   ]
  },
  {
   "cell_type": "code",
   "execution_count": 13,
   "id": "db53e5dd",
   "metadata": {},
   "outputs": [
    {
     "data": {
      "text/html": [
       "<div>\n",
       "<style scoped>\n",
       "    .dataframe tbody tr th:only-of-type {\n",
       "        vertical-align: middle;\n",
       "    }\n",
       "\n",
       "    .dataframe tbody tr th {\n",
       "        vertical-align: top;\n",
       "    }\n",
       "\n",
       "    .dataframe thead th {\n",
       "        text-align: right;\n",
       "    }\n",
       "</style>\n",
       "<table border=\"1\" class=\"dataframe\">\n",
       "  <thead>\n",
       "    <tr style=\"text-align: right;\">\n",
       "      <th></th>\n",
       "      <th>store_id</th>\n",
       "      <th>sale_id</th>\n",
       "      <th>line_item_id</th>\n",
       "      <th>product_id</th>\n",
       "      <th>quantity</th>\n",
       "    </tr>\n",
       "  </thead>\n",
       "  <tbody>\n",
       "    <tr>\n",
       "      <th>0</th>\n",
       "      <td>1</td>\n",
       "      <td>128112</td>\n",
       "      <td>1</td>\n",
       "      <td>1</td>\n",
       "      <td>1</td>\n",
       "    </tr>\n",
       "    <tr>\n",
       "      <th>1</th>\n",
       "      <td>1</td>\n",
       "      <td>128112</td>\n",
       "      <td>2</td>\n",
       "      <td>8</td>\n",
       "      <td>1</td>\n",
       "    </tr>\n",
       "    <tr>\n",
       "      <th>2</th>\n",
       "      <td>1</td>\n",
       "      <td>144249</td>\n",
       "      <td>1</td>\n",
       "      <td>1</td>\n",
       "      <td>1</td>\n",
       "    </tr>\n",
       "    <tr>\n",
       "      <th>3</th>\n",
       "      <td>1</td>\n",
       "      <td>144249</td>\n",
       "      <td>2</td>\n",
       "      <td>2</td>\n",
       "      <td>1</td>\n",
       "    </tr>\n",
       "    <tr>\n",
       "      <th>4</th>\n",
       "      <td>1</td>\n",
       "      <td>144249</td>\n",
       "      <td>3</td>\n",
       "      <td>4</td>\n",
       "      <td>2</td>\n",
       "    </tr>\n",
       "    <tr>\n",
       "      <th>...</th>\n",
       "      <td>...</td>\n",
       "      <td>...</td>\n",
       "      <td>...</td>\n",
       "      <td>...</td>\n",
       "      <td>...</td>\n",
       "    </tr>\n",
       "    <tr>\n",
       "      <th>171</th>\n",
       "      <td>5</td>\n",
       "      <td>147541</td>\n",
       "      <td>4</td>\n",
       "      <td>4</td>\n",
       "      <td>1</td>\n",
       "    </tr>\n",
       "    <tr>\n",
       "      <th>172</th>\n",
       "      <td>5</td>\n",
       "      <td>147541</td>\n",
       "      <td>5</td>\n",
       "      <td>7</td>\n",
       "      <td>1</td>\n",
       "    </tr>\n",
       "    <tr>\n",
       "      <th>173</th>\n",
       "      <td>5</td>\n",
       "      <td>157919</td>\n",
       "      <td>1</td>\n",
       "      <td>1</td>\n",
       "      <td>1</td>\n",
       "    </tr>\n",
       "    <tr>\n",
       "      <th>174</th>\n",
       "      <td>5</td>\n",
       "      <td>157919</td>\n",
       "      <td>2</td>\n",
       "      <td>4</td>\n",
       "      <td>2</td>\n",
       "    </tr>\n",
       "    <tr>\n",
       "      <th>175</th>\n",
       "      <td>5</td>\n",
       "      <td>157919</td>\n",
       "      <td>3</td>\n",
       "      <td>7</td>\n",
       "      <td>1</td>\n",
       "    </tr>\n",
       "  </tbody>\n",
       "</table>\n",
       "<p>176 rows × 5 columns</p>\n",
       "</div>"
      ],
      "text/plain": [
       "     store_id  sale_id  line_item_id  product_id  quantity\n",
       "0           1   128112             1           1         1\n",
       "1           1   128112             2           8         1\n",
       "2           1   144249             1           1         1\n",
       "3           1   144249             2           2         1\n",
       "4           1   144249             3           4         2\n",
       "..        ...      ...           ...         ...       ...\n",
       "171         5   147541             4           4         1\n",
       "172         5   147541             5           7         1\n",
       "173         5   157919             1           1         1\n",
       "174         5   157919             2           4         2\n",
       "175         5   157919             3           7         1\n",
       "\n",
       "[176 rows x 5 columns]"
      ]
     },
     "execution_count": 13,
     "metadata": {},
     "output_type": "execute_result"
    }
   ],
   "source": [
    "rollback_before_flag = True\n",
    "rollback_after_flag = True\n",
    "\n",
    "query = \"\"\"\n",
    "\n",
    "select * \n",
    "from temp_line_items;\n",
    "\n",
    "\"\"\"\n",
    "\n",
    "my_select_query_pandas(query, rollback_before_flag, rollback_after_flag)"
   ]
  },
  {
   "cell_type": "markdown",
   "id": "abbe4162",
   "metadata": {},
   "source": [
    "## You try it - \n",
    "* extract the table temp_sales table to temp_sales_2.csv\n",
    "* table temp_line_items to temp_line_items_2.csv\n",
    "* table temp_customers to temp_customers_2.csv \n",
    "* table temp_products to temp_products_2.csv\n",
    "* table temp_holidays to temp_holidays_2.csv\n",
    "* verify by reading the csv files"
   ]
  },
  {
   "cell_type": "code",
   "execution_count": 14,
   "id": "58394d50",
   "metadata": {},
   "outputs": [],
   "source": [
    "connection.rollback()\n",
    "    \n",
    "query = \"\"\"\n",
    "    \n",
    "copy (select * \n",
    "      from temp_sales \n",
    "      order by store_id, sale_id)\n",
    "to '/user/labs/week_06/temp_sales_2.csv' delimiter ',' NULL '' csv header;\n",
    "\n",
    "copy (select * \n",
    "      from temp_line_items \n",
    "      order by store_id, sale_id, line_item_id)\n",
    "to '/user/labs/week_06/temp_line_items_2.csv' delimiter ',' NULL '' csv header;\n",
    "\n",
    "copy (select * \n",
    "      from temp_customers\n",
    "      order by customer_id)\n",
    "to '/user/labs/week_06/temp_customers_2.csv' delimiter ',' NULL '' csv header;\n",
    "\n",
    "copy (select * \n",
    "      from temp_products\n",
    "      order by product_id)\n",
    "to '/user/labs/week_06/temp_products_2.csv' delimiter ',' NULL '' csv header;\n",
    "\n",
    "copy (select * \n",
    "      from temp_holidays\n",
    "      order by holiday_date)\n",
    "to '/user/labs/week_06/temp_holidays_2.csv' delimiter ',' NULL '' csv header;\n",
    "\n",
    "\n",
    "\"\"\"\n",
    "\n",
    "cursor.execute(query)\n",
    "    \n",
    "connection.commit()\n"
   ]
  },
  {
   "cell_type": "code",
   "execution_count": 15,
   "id": "216b8761",
   "metadata": {},
   "outputs": [
    {
     "name": "stdout",
     "output_type": "stream",
     "text": [
      "['store_id', 'sale_id', 'customer_id', 'sale_date', 'total_amount']\n",
      "['1', '128112', '3491', '2020-04-30', '24']\n",
      "['1', '144249', '1597', '2020-05-16', '84']\n",
      "['1', '163141', '4159', '2020-06-04', '96']\n",
      "['1', '169216', '4198', '2020-06-09', '144']\n",
      "['1', '179181', '5394', '2020-06-18', '48']\n",
      "['1', '181897', '1958', '2020-06-20', '48']\n",
      "['1', '248269', '4260', '2020-08-22', '60']\n",
      "['1', '250031', '6782', '2020-08-23', '24']\n",
      "['1', '255285', '563', '2020-08-29', '36']\n",
      "\n",
      "Printed  10 lines of  51 total lines.\n"
     ]
    }
   ],
   "source": [
    "my_read_csv_file(\"temp_sales_2.csv\", limit=10)"
   ]
  },
  {
   "cell_type": "code",
   "execution_count": 16,
   "id": "f6a1d792",
   "metadata": {},
   "outputs": [
    {
     "name": "stdout",
     "output_type": "stream",
     "text": [
      "['store_id', 'sale_id', 'line_item_id', 'product_id', 'quantity']\n",
      "['1', '128112', '1', '1', '1']\n",
      "['1', '128112', '2', '8', '1']\n",
      "['1', '144249', '1', '1', '1']\n",
      "['1', '144249', '2', '2', '1']\n",
      "['1', '144249', '3', '4', '2']\n",
      "['1', '144249', '4', '6', '1']\n",
      "['1', '144249', '5', '8', '2']\n",
      "['1', '163141', '1', '1', '3']\n",
      "['1', '163141', '2', '3', '1']\n",
      "\n",
      "Printed  10 lines of  177 total lines.\n"
     ]
    }
   ],
   "source": [
    "my_read_csv_file(\"temp_line_items_2.csv\", limit=10)"
   ]
  },
  {
   "cell_type": "code",
   "execution_count": 17,
   "id": "1e42b56b",
   "metadata": {},
   "outputs": [
    {
     "name": "stdout",
     "output_type": "stream",
     "text": [
      "['customer_id', 'first_name', 'last_name', 'street', 'city', 'state', 'zip', 'closest_store_id', 'distance']\n",
      "['563', 'Rose', 'Slimings', '38 Iowa Street', 'Berkeley', 'CA', '94704', '1', '1']\n",
      "['1597', 'Norry', 'Macauley', '654 Sommers Plaza', 'Oakland', 'CA', '94612', '1', '3']\n",
      "['1958', 'Theresina', 'Penswick', '5975 Twin Pines Hill', 'Berkeley', 'CA', '94707', '1', '3']\n",
      "['1991', 'Kevon', 'Wickett', '472 Arizona Court', 'Berkeley', 'CA', '94707', '1', '3']\n",
      "['3491', 'Siouxie', \"M'Quharge\", '747 Westridge Center', 'Alameda', 'CA', '94501', '1', '6']\n",
      "['4159', 'Cheryl', 'Broe', '7 Ruskin Alley', 'El Sobrante', 'CA', '94803', '1', '7']\n",
      "['4198', 'Andreana', 'Drew', '11039 Cordelia Alley', 'El Sobrante', 'CA', '94803', '1', '7']\n",
      "['4260', 'Dom', 'Risbrough', '3 Northland Crossing', 'Richmond', 'CA', '94805', '1', '7']\n",
      "['5394', 'Katharina', 'Bavester', '522 Cordelia Lane', 'San Francisco', 'CA', '94102', '1', '10']\n",
      "\n",
      "Printed  10 lines of  51 total lines.\n"
     ]
    }
   ],
   "source": [
    "my_read_csv_file(\"temp_customers_2.csv\", limit=10)"
   ]
  },
  {
   "cell_type": "code",
   "execution_count": 18,
   "id": "92485701",
   "metadata": {},
   "outputs": [
    {
     "name": "stdout",
     "output_type": "stream",
     "text": [
      "['product_id', 'description']\n",
      "['1', 'Pistachio Salmon']\n",
      "['2', 'Teriyaki Chicken']\n",
      "['3', 'Spinach Orzo']\n",
      "['4', 'Eggplant Lasagna']\n",
      "['5', 'Chicken Salad']\n",
      "['6', 'Curry Chicken']\n",
      "['7', 'Tilapia Piccata']\n",
      "['8', 'Brocolli Stir Fry']\n",
      "\n",
      "Printed  9 lines of  9 total lines.\n"
     ]
    }
   ],
   "source": [
    "my_read_csv_file(\"temp_products_2.csv\", limit=10)"
   ]
  },
  {
   "cell_type": "code",
   "execution_count": 19,
   "id": "263851b3",
   "metadata": {},
   "outputs": [
    {
     "name": "stdout",
     "output_type": "stream",
     "text": [
      "['holiday_date', 'description', 'closed_flag']\n",
      "['2020-01-01', \"New Year's Day\", 'f']\n",
      "['2020-01-20', 'MLK Day', 'f']\n",
      "['2020-02-17', \"President's Day\", 'f']\n",
      "['2020-04-12', 'Easter', 'f']\n",
      "['2020-05-10', \"Mother's Day\", 'f']\n",
      "['2020-05-25', 'Memorial Day', 'f']\n",
      "['2020-06-21', \"Father's Day\", 'f']\n",
      "['2020-07-04', 'Independence Day', 'f']\n",
      "['2020-09-07', 'Labor Day', 'f']\n",
      "\n",
      "Printed  10 lines of  13 total lines.\n"
     ]
    }
   ],
   "source": [
    "my_read_csv_file(\"temp_holidays_2.csv\", limit=10)"
   ]
  },
  {
   "cell_type": "code",
   "execution_count": null,
   "id": "465244c1",
   "metadata": {},
   "outputs": [],
   "source": []
  },
  {
   "cell_type": "code",
   "execution_count": null,
   "id": "54707af7",
   "metadata": {},
   "outputs": [],
   "source": []
  }
 ],
 "metadata": {
  "kernelspec": {
   "display_name": "Python 3 (ipykernel)",
   "language": "python",
   "name": "python3"
  },
  "language_info": {
   "codemirror_mode": {
    "name": "ipython",
    "version": 3
   },
   "file_extension": ".py",
   "mimetype": "text/x-python",
   "name": "python",
   "nbconvert_exporter": "python",
   "pygments_lexer": "ipython3",
   "version": "3.9.7"
  }
 },
 "nbformat": 4,
 "nbformat_minor": 5
}
