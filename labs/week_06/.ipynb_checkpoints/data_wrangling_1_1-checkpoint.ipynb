{
 "cells": [
  {
   "cell_type": "markdown",
   "id": "6167ebde",
   "metadata": {},
   "source": [
    "# Data Wrangling 1.1"
   ]
  },
  {
   "cell_type": "code",
   "execution_count": 1,
   "id": "74cf8f2e",
   "metadata": {},
   "outputs": [],
   "source": [
    "import base64"
   ]
  },
  {
   "cell_type": "markdown",
   "id": "71f492db",
   "metadata": {},
   "source": [
    "# Lab: Building Blocks of Storage and Encoding"
   ]
  },
  {
   "cell_type": "markdown",
   "id": "ed6d2128",
   "metadata": {},
   "source": [
    "## binary and hex (hexidecimal) numbers\n",
    "\n",
    "## binary is base 2, with digits 0 and 1\n",
    "\n",
    "## hex is base 16 with digits 0, 1, 2, 3, 4, 5, 6, 7, 8, 9, a, b, c, d, e, f, where a = 10, b = 11, c = 12, d = 13, d = 14, f = 15"
   ]
  },
  {
   "cell_type": "code",
   "execution_count": 2,
   "id": "aed4364b",
   "metadata": {},
   "outputs": [
    {
     "name": "stdout",
     "output_type": "stream",
     "text": [
      "  0 : binary: 0000 0000 hex: 0 0\n",
      "  1 : binary: 0000 0001 hex: 0 1\n",
      "  2 : binary: 0000 0010 hex: 0 2\n",
      "  3 : binary: 0000 0011 hex: 0 3\n",
      "  4 : binary: 0000 0100 hex: 0 4\n",
      "  5 : binary: 0000 0101 hex: 0 5\n",
      "  6 : binary: 0000 0110 hex: 0 6\n",
      "  7 : binary: 0000 0111 hex: 0 7\n",
      "  8 : binary: 0000 1000 hex: 0 8\n",
      "  9 : binary: 0000 1001 hex: 0 9\n",
      " 10 : binary: 0000 1010 hex: 0 a\n",
      " 11 : binary: 0000 1011 hex: 0 b\n",
      " 12 : binary: 0000 1100 hex: 0 c\n",
      " 13 : binary: 0000 1101 hex: 0 d\n",
      " 14 : binary: 0000 1110 hex: 0 e\n",
      " 15 : binary: 0000 1111 hex: 0 f\n",
      " 16 : binary: 0001 0000 hex: 1 0\n",
      " 17 : binary: 0001 0001 hex: 1 1\n",
      " 18 : binary: 0001 0010 hex: 1 2\n",
      " 19 : binary: 0001 0011 hex: 1 3\n",
      " 20 : binary: 0001 0100 hex: 1 4\n",
      " 21 : binary: 0001 0101 hex: 1 5\n",
      " 22 : binary: 0001 0110 hex: 1 6\n",
      " 23 : binary: 0001 0111 hex: 1 7\n",
      " 24 : binary: 0001 1000 hex: 1 8\n",
      " 25 : binary: 0001 1001 hex: 1 9\n",
      " 26 : binary: 0001 1010 hex: 1 a\n",
      " 27 : binary: 0001 1011 hex: 1 b\n",
      " 28 : binary: 0001 1100 hex: 1 c\n",
      " 29 : binary: 0001 1101 hex: 1 d\n",
      " 30 : binary: 0001 1110 hex: 1 e\n",
      " 31 : binary: 0001 1111 hex: 1 f\n",
      " 32 : binary: 0010 0000 hex: 2 0\n"
     ]
    }
   ],
   "source": [
    "for i in range(0, 33):\n",
    "    \n",
    "    binary_string = f\"{i:08b}\"\n",
    "    \n",
    "    nibble_1 = binary_string[:4]\n",
    "    \n",
    "    nibble_0 = binary_string[4:]\n",
    "    \n",
    "    hex_string = f\"{i:02x}\"\n",
    "    \n",
    "    hex_1 = hex_string[:1]\n",
    "    \n",
    "    hex_0 = hex_string[1:]\n",
    "    \n",
    "    print(f\"{i: 3}\", ': binary:', nibble_1, nibble_0,'hex:', hex_1, hex_0)\n",
    "    "
   ]
  },
  {
   "cell_type": "code",
   "execution_count": 3,
   "id": "17b88b44",
   "metadata": {},
   "outputs": [
    {
     "name": "stdout",
     "output_type": "stream",
     "text": [
      "  0 hex: 0\n",
      "  1 hex: 1\n",
      "  2 hex: 2\n",
      "  3 hex: 3\n",
      "  4 hex: 4\n",
      "  5 hex: 5\n",
      "  6 hex: 6\n",
      "  7 hex: 7\n",
      "  8 hex: 8\n",
      "  9 hex: 9\n",
      " 10 hex: a\n",
      " 11 hex: b\n",
      " 12 hex: c\n",
      " 13 hex: d\n",
      " 14 hex: e\n",
      " 15 hex: f\n"
     ]
    }
   ],
   "source": [
    "for i in range(0, 16):\n",
    "    \n",
    "    hex_string = f\"{i:1x}\"\n",
    "    \n",
    "    print(f\"{i: 3}\", 'hex:', hex_string)"
   ]
  },
  {
   "cell_type": "markdown",
   "id": "2b9939c3",
   "metadata": {},
   "source": [
    "## storage sizing"
   ]
  },
  {
   "cell_type": "code",
   "execution_count": 4,
   "id": "c2189b91",
   "metadata": {},
   "outputs": [
    {
     "name": "stdout",
     "output_type": "stream",
     "text": [
      "1 KiB =                                1,024\n",
      "1 MiB =                            1,048,576\n",
      "1 GiB =                        1,073,741,824\n",
      "1 TiB =                    1,099,511,627,776\n",
      "1 PiB =                1,125,899,906,842,624\n",
      "1 EiB =            1,152,921,504,606,846,976\n",
      "1 ZiB =        1,180,591,620,717,411,303,424\n",
      "1 YiB =    1,208,925,819,614,629,174,706,176\n"
     ]
    }
   ],
   "source": [
    "print('1 KiB = ', f\"{1024: 35,}\")\n",
    "print('1 MiB = ', f\"{1024**2: 35,}\")\n",
    "print('1 GiB = ', f\"{1024**3: 35,}\")\n",
    "print('1 TiB = ', f\"{1024**4: 35,}\")\n",
    "print('1 PiB = ', f\"{1024**5: 35,}\")\n",
    "print('1 EiB = ', f\"{1024**6: 35,}\")\n",
    "print('1 ZiB = ', f\"{1024**7: 35,}\")\n",
    "print('1 YiB = ', f\"{1024**8: 35,}\")\n"
   ]
  },
  {
   "cell_type": "markdown",
   "id": "27ff152f",
   "metadata": {},
   "source": [
    "## ascii - print a string in its binary format - note 1 byte = 8 bits = 2 nibbles per character"
   ]
  },
  {
   "cell_type": "code",
   "execution_count": 5,
   "id": "38bbeaa5",
   "metadata": {},
   "outputs": [],
   "source": [
    "def my_print_string_binary(s):\n",
    "    return \" \".join(f\"{ord(i):08b}\" for i in s)"
   ]
  },
  {
   "cell_type": "code",
   "execution_count": 6,
   "id": "b0c06678",
   "metadata": {},
   "outputs": [
    {
     "data": {
      "text/plain": [
       "'01001111 01110011 01101011 01101001 00100000 01110100 01101000 01100101 00100000 01000010 01100101 01100001 01110010'"
      ]
     },
     "execution_count": 6,
     "metadata": {},
     "output_type": "execute_result"
    }
   ],
   "source": [
    "my_print_string_binary(\"Oski the Bear\")"
   ]
  },
  {
   "cell_type": "code",
   "execution_count": 7,
   "id": "48f2b8c9",
   "metadata": {},
   "outputs": [
    {
     "data": {
      "text/plain": [
       "'01000111 01101111 00100000 01000010 01100101 01100001 01110010 01110011 00100001 00100001 00100001'"
      ]
     },
     "execution_count": 7,
     "metadata": {},
     "output_type": "execute_result"
    }
   ],
   "source": [
    "my_print_string_binary(\"Go Bears!!!\")"
   ]
  },
  {
   "cell_type": "code",
   "execution_count": 8,
   "id": "29e6f08e",
   "metadata": {},
   "outputs": [
    {
     "data": {
      "text/plain": [
       "'01000011 01100001 01101100 01101001 00100000 01010010 01110101 01101100 01100101 01110011 00100001 00100001 00100001'"
      ]
     },
     "execution_count": 8,
     "metadata": {},
     "output_type": "execute_result"
    }
   ],
   "source": [
    "my_print_string_binary(\"Cali Rules!!!\")"
   ]
  },
  {
   "cell_type": "markdown",
   "id": "cf478629",
   "metadata": {},
   "source": [
    "## ascii - print a string in its hex format - note 1 byte = 2 hex characters = 2 nibbles (\"nibble pair\") per character"
   ]
  },
  {
   "cell_type": "code",
   "execution_count": 9,
   "id": "202bc81d",
   "metadata": {},
   "outputs": [],
   "source": [
    "def my_print_string_hex(s):\n",
    "    print(\"nibble pair (lower case):\", \" \".join(f\"{ord(i):02x}\" for i in s))\n",
    "    print(\"nibble pair (upper case):\", \" \".join(f\"{ord((i)):02x}\" for i in s).upper())\n",
    "    print(\"digest                  :\", \":\".join(f\"{ord(i):02x}\" for i in s))\n",
    "    return "
   ]
  },
  {
   "cell_type": "code",
   "execution_count": 10,
   "id": "7751e75b",
   "metadata": {},
   "outputs": [
    {
     "name": "stdout",
     "output_type": "stream",
     "text": [
      "nibble pair (lower case): 4f 73 6b 69 20 74 68 65 20 42 65 61 72\n",
      "nibble pair (upper case): 4F 73 6B 69 20 74 68 65 20 42 65 61 72\n",
      "digest                  : 4f:73:6b:69:20:74:68:65:20:42:65:61:72\n"
     ]
    }
   ],
   "source": [
    "my_print_string_hex(\"Oski the Bear\")"
   ]
  },
  {
   "cell_type": "code",
   "execution_count": 11,
   "id": "334195b1",
   "metadata": {},
   "outputs": [
    {
     "name": "stdout",
     "output_type": "stream",
     "text": [
      "nibble pair (lower case): 47 6f 20 42 65 61 72 73 21 21 21\n",
      "nibble pair (upper case): 47 6F 20 42 65 61 72 73 21 21 21\n",
      "digest                  : 47:6f:20:42:65:61:72:73:21:21:21\n"
     ]
    }
   ],
   "source": [
    "my_print_string_hex(\"Go Bears!!!\")"
   ]
  },
  {
   "cell_type": "code",
   "execution_count": 12,
   "id": "c1b8ee0b",
   "metadata": {},
   "outputs": [
    {
     "name": "stdout",
     "output_type": "stream",
     "text": [
      "nibble pair (lower case): 43 61 6c 69 20 52 75 6c 65 73 21 21 21\n",
      "nibble pair (upper case): 43 61 6C 69 20 52 75 6C 65 73 21 21 21\n",
      "digest                  : 43:61:6c:69:20:52:75:6c:65:73:21:21:21\n"
     ]
    }
   ],
   "source": [
    "my_print_string_hex(\"Cali Rules!!!\")"
   ]
  },
  {
   "cell_type": "markdown",
   "id": "ee9304db",
   "metadata": {},
   "source": [
    "## unicode - multibyte character set to represent all languages of the world, plus emojiis, glyphs, etc.\n",
    "\n",
    "https://home.unicode.org/\n",
    "\n",
    "This website uses the U+ notation, such as U+1F47D.  \n",
    "\n",
    "In Python use '\\uxxxx' for 4 hex digits, '\\Uxxxxxxxx' for 8 hex digits.  Padd with leading 0's.\n",
    "\n",
    "U+1F47D would be '\\U0001f47d'\n",
    "\n",
    "U+270C would be '\\u270c'\n"
   ]
  },
  {
   "cell_type": "markdown",
   "id": "cf3447b0",
   "metadata": {},
   "source": [
    "## utf-8 is a way to encode unicode; it allows us to mix single byte characters and multi-byte characters; multi-byte characters are shown in hex, as in \\xc3\\xa9 is e with accent mark, \\xc3\\xb1 is n with accent mark"
   ]
  },
  {
   "cell_type": "code",
   "execution_count": 13,
   "id": "6a226a44",
   "metadata": {},
   "outputs": [
    {
     "data": {
      "text/plain": [
       "'résumé'"
      ]
     },
     "execution_count": 13,
     "metadata": {},
     "output_type": "execute_result"
    }
   ],
   "source": [
    "resume = b'r\\xc3\\xa9sum\\xc3\\xa9'.decode(\"utf-8\")\n",
    "resume"
   ]
  },
  {
   "cell_type": "code",
   "execution_count": 14,
   "id": "544e6378",
   "metadata": {},
   "outputs": [
    {
     "data": {
      "text/plain": [
       "b'r\\xc3\\xa9sum\\xc3\\xa9'"
      ]
     },
     "execution_count": 14,
     "metadata": {},
     "output_type": "execute_result"
    }
   ],
   "source": [
    "resume.encode(\"utf-8\")"
   ]
  },
  {
   "cell_type": "code",
   "execution_count": 15,
   "id": "a2ded055",
   "metadata": {},
   "outputs": [
    {
     "data": {
      "text/plain": [
       "'El Niño'"
      ]
     },
     "execution_count": 15,
     "metadata": {},
     "output_type": "execute_result"
    }
   ],
   "source": [
    "el_nino = b'El Ni\\xc3\\xb1o'.decode(\"utf-8\")\n",
    "el_nino"
   ]
  },
  {
   "cell_type": "code",
   "execution_count": 16,
   "id": "8f2cc18e",
   "metadata": {},
   "outputs": [
    {
     "data": {
      "text/plain": [
       "b'El Ni\\xc3\\xb1o'"
      ]
     },
     "execution_count": 16,
     "metadata": {},
     "output_type": "execute_result"
    }
   ],
   "source": [
    "el_nino.encode(\"utf-8\")\n"
   ]
  },
  {
   "cell_type": "code",
   "execution_count": 17,
   "id": "75408bbc",
   "metadata": {},
   "outputs": [
    {
     "data": {
      "text/plain": [
       "'Δ'"
      ]
     },
     "execution_count": 17,
     "metadata": {},
     "output_type": "execute_result"
    }
   ],
   "source": [
    "delta = \"\\N{GREEK CAPITAL LETTER DELTA}\"\n",
    "delta"
   ]
  },
  {
   "cell_type": "code",
   "execution_count": 18,
   "id": "4535f5c9",
   "metadata": {},
   "outputs": [
    {
     "data": {
      "text/plain": [
       "b'\\xce\\x94'"
      ]
     },
     "execution_count": 18,
     "metadata": {},
     "output_type": "execute_result"
    }
   ],
   "source": [
    "delta.encode(\"utf-8\")"
   ]
  },
  {
   "cell_type": "markdown",
   "id": "13e77f2a",
   "metadata": {},
   "source": [
    "## Emojis are part of unicode and can be encoded in UTF-8; note that emojis can change or enhance meanings; emoji analysis as part of natural language processing\n"
   ]
  },
  {
   "cell_type": "code",
   "execution_count": 19,
   "id": "194c4792",
   "metadata": {},
   "outputs": [
    {
     "data": {
      "text/plain": [
       "'😀'"
      ]
     },
     "execution_count": 19,
     "metadata": {},
     "output_type": "execute_result"
    }
   ],
   "source": [
    "grin = \"\\N{GRINNING FACE}\"\n",
    "grin"
   ]
  },
  {
   "cell_type": "code",
   "execution_count": 20,
   "id": "41819ea0",
   "metadata": {},
   "outputs": [
    {
     "data": {
      "text/plain": [
       "b'\\xf0\\x9f\\x98\\x80'"
      ]
     },
     "execution_count": 20,
     "metadata": {},
     "output_type": "execute_result"
    }
   ],
   "source": [
    "grin.encode(\"utf-8\")"
   ]
  },
  {
   "cell_type": "code",
   "execution_count": 21,
   "id": "c3981b3c",
   "metadata": {},
   "outputs": [
    {
     "data": {
      "text/plain": [
       "'😉'"
      ]
     },
     "execution_count": 21,
     "metadata": {},
     "output_type": "execute_result"
    }
   ],
   "source": [
    "wink = \"\\N{WINKING FACE}\"\n",
    "wink"
   ]
  },
  {
   "cell_type": "code",
   "execution_count": 22,
   "id": "72bcd317",
   "metadata": {},
   "outputs": [
    {
     "data": {
      "text/plain": [
       "b'\\xf0\\x9f\\x98\\x89'"
      ]
     },
     "execution_count": 22,
     "metadata": {},
     "output_type": "execute_result"
    }
   ],
   "source": [
    "wink.encode(\"utf-8\")"
   ]
  },
  {
   "cell_type": "code",
   "execution_count": 23,
   "id": "73a207f7",
   "metadata": {},
   "outputs": [
    {
     "data": {
      "text/plain": [
       "'♞'"
      ]
     },
     "execution_count": 23,
     "metadata": {},
     "output_type": "execute_result"
    }
   ],
   "source": [
    "knight = \"\\N{BLACK CHESS KNIGHT}\"\n",
    "knight"
   ]
  },
  {
   "cell_type": "code",
   "execution_count": 24,
   "id": "caec84c7",
   "metadata": {},
   "outputs": [
    {
     "data": {
      "text/plain": [
       "b'\\xe2\\x99\\x9e'"
      ]
     },
     "execution_count": 24,
     "metadata": {},
     "output_type": "execute_result"
    }
   ],
   "source": [
    "knight.encode(\"utf-8\")"
   ]
  },
  {
   "cell_type": "code",
   "execution_count": 25,
   "id": "6ff9025b",
   "metadata": {},
   "outputs": [
    {
     "data": {
      "text/plain": [
       "'👽'"
      ]
     },
     "execution_count": 25,
     "metadata": {},
     "output_type": "execute_result"
    }
   ],
   "source": [
    "alien = '\\U0001f47d'\n",
    "alien"
   ]
  },
  {
   "cell_type": "code",
   "execution_count": 26,
   "id": "3ef4cc44",
   "metadata": {},
   "outputs": [
    {
     "data": {
      "text/plain": [
       "b'\\xf0\\x9f\\x91\\xbd'"
      ]
     },
     "execution_count": 26,
     "metadata": {},
     "output_type": "execute_result"
    }
   ],
   "source": [
    "alien.encode(\"utf-8\")"
   ]
  },
  {
   "cell_type": "code",
   "execution_count": 27,
   "id": "7b7e7f96",
   "metadata": {},
   "outputs": [
    {
     "data": {
      "text/plain": [
       "'✌'"
      ]
     },
     "execution_count": 27,
     "metadata": {},
     "output_type": "execute_result"
    }
   ],
   "source": [
    "peace = '\\u270c'\n",
    "peace"
   ]
  },
  {
   "cell_type": "code",
   "execution_count": 28,
   "id": "e534e7ce",
   "metadata": {},
   "outputs": [
    {
     "data": {
      "text/plain": [
       "b'\\xe2\\x9c\\x8c'"
      ]
     },
     "execution_count": 28,
     "metadata": {},
     "output_type": "execute_result"
    }
   ],
   "source": [
    "peace.encode(\"utf-8\")"
   ]
  },
  {
   "cell_type": "markdown",
   "id": "4ad10611",
   "metadata": {},
   "source": [
    "## UTF-8 can be easily written to / read from files using Python; Python 3.x assumes utf-8, it's no longer necessary to specify encoding for files"
   ]
  },
  {
   "cell_type": "code",
   "execution_count": 29,
   "id": "3502be82",
   "metadata": {},
   "outputs": [],
   "source": [
    "f = open(\"my_file\", \"w\")\n",
    "\n",
    "f.write(\"Did you finish your \" + resume + \"?\\n\")\n",
    "f.write(\"Will \" + el_nino + \" affect our weather this year?\\n\")\n",
    "f.write(delta + \" is a Greek letter\\n\")\n",
    "f.write(\"Life is great! \" + grin + \"\\n\")\n",
    "f.write(\"I couldn't have done it better myself! \" + wink + \"\\n\")\n",
    "f.write(\"Paladin!\" + knight + \"\\n\")\n",
    "f.write(\"If an \" + alien + \" lands a space ship in my backyard, I hope they want \" + peace + \"\\n\")\n",
    "\n",
    "f.close()"
   ]
  },
  {
   "cell_type": "code",
   "execution_count": 30,
   "id": "37225320",
   "metadata": {},
   "outputs": [
    {
     "name": "stdout",
     "output_type": "stream",
     "text": [
      "Did you finish your résumé?\n",
      "Will El Niño affect our weather this year?\n",
      "Δ is a Greek letter\n",
      "Life is great! 😀\n",
      "I couldn't have done it better myself! 😉\n",
      "Paladin!♞\n",
      "If an 👽 lands a space ship in my backyard, I hope they want ✌\n",
      "\n"
     ]
    }
   ],
   "source": [
    "f = open(\"my_file\", \"r\")\n",
    "\n",
    "print(f.read())\n",
    "\n",
    "f.close()"
   ]
  },
  {
   "cell_type": "markdown",
   "id": "f8995af6",
   "metadata": {},
   "source": [
    "## Base64 is the latest version of uuencoding; it allows binary data to be encoded to pass through networks; Internet, web pages, email, MIME, etc."
   ]
  },
  {
   "cell_type": "code",
   "execution_count": 31,
   "id": "4130fd2d",
   "metadata": {},
   "outputs": [
    {
     "data": {
      "text/plain": [
       "b'VXVlbmNvZGluZyB3YXMgaW52ZW50ZWQgYnkgTWFyeSBBbm4gSG9ydG9uIGF0IFVDIEJlcmtlbGV5IGluIDE5ODA='"
      ]
     },
     "execution_count": 31,
     "metadata": {},
     "output_type": "execute_result"
    }
   ],
   "source": [
    "my_string = bytes(\"Uuencoding was invented by Mary Ann Horton at UC Berkeley in 1980\", \"utf-8\")\n",
    "\n",
    "base_64_encoded = base64.b64encode(my_string)\n",
    "base_64_encoded"
   ]
  },
  {
   "cell_type": "code",
   "execution_count": 32,
   "id": "eca319d6",
   "metadata": {},
   "outputs": [
    {
     "data": {
      "text/plain": [
       "b'Uuencoding was invented by Mary Ann Horton at UC Berkeley in 1980'"
      ]
     },
     "execution_count": 32,
     "metadata": {},
     "output_type": "execute_result"
    }
   ],
   "source": [
    "base_64_decoded = base64.b64decode(base_64_encoded)\n",
    "base_64_decoded"
   ]
  },
  {
   "cell_type": "code",
   "execution_count": 33,
   "id": "d6b7ef83",
   "metadata": {},
   "outputs": [
    {
     "name": "stdout",
     "output_type": "stream",
     "text": [
      "binary data for an image (first 100 bytes):\n",
      " b'\\x89PNG\\r\\n\\x1a\\n\\x00\\x00\\x00\\rIHDR\\x00\\x00\\x01<\\x00\\x00\\x00~\\x08\\x06\\x00\\x00\\x00\\xb9\\xe2\\xad\\xd5\\x00\\x00\\x00\\x19tEXtSoftware\\x00Adobe ImageReadyq\\xc9e<\\x00\\x00\\x17\\xd9IDATx\\xda\\xec]\\xffy\\xe28\\x13\\xd6~\\xcf\\xfe\\x7f\\\\\\x05\\xf1V\\x10B\\x031' \n",
      "\n",
      "base 64 encoding for the image (first 100 characters):\n",
      " b'iVBORw0KGgoAAAANSUhEUgAAATwAAAB+CAYAAAC54q3VAAAAGXRFWHRTb2Z0d2FyZQBBZG9iZSBJbWFnZVJlYWR5ccllPAAAF9lJ'\n"
     ]
    }
   ],
   "source": [
    "f = open(\"berkeley_logo.png\", \"rb\")\n",
    "binary_data = f.read()\n",
    "f.close()\n",
    "\n",
    "print(\"binary data for an image (first 100 bytes):\\n\", binary_data[:100], '\\n')\n",
    "\n",
    "base_64_data = base64.b64encode(binary_data)\n",
    "\n",
    "print(\"base 64 encoding for the image (first 100 characters):\\n\", base_64_data[:100])\n"
   ]
  },
  {
   "cell_type": "markdown",
   "id": "f3cb6ed8",
   "metadata": {},
   "source": [
    "## You try it \n",
    "\n",
    "* Print the string \"Hello, world!\" in binary and hex\n",
    "\n",
    "* translate the unicode character U+1F9E1 into a Python unicode string, and then into a UTF-8 string\n",
    "\n",
    "* Encode the string \"Hello, world!\" in Base64, then decode it back"
   ]
  },
  {
   "cell_type": "code",
   "execution_count": 43,
   "id": "d0334645",
   "metadata": {
    "scrolled": true
   },
   "outputs": [],
   "source": [
    "def my_print_string_binary(s):\n",
    "    return \" \".join(f\"{ord(i):08b}\" for i in s)"
   ]
  },
  {
   "cell_type": "code",
   "execution_count": 44,
   "id": "ae2fa4f6",
   "metadata": {},
   "outputs": [
    {
     "data": {
      "text/plain": [
       "'01001000 01100101 01101100 01101100 01101111 00101100 00100000 01110111 01101111 01110010 01101100 01100100 00100001'"
      ]
     },
     "execution_count": 44,
     "metadata": {},
     "output_type": "execute_result"
    }
   ],
   "source": [
    "my_print_string_binary(\"Hello, world!\")"
   ]
  },
  {
   "cell_type": "code",
   "execution_count": 47,
   "id": "e5983024",
   "metadata": {},
   "outputs": [],
   "source": [
    "def my_print_string_hex(s):\n",
    "    return \" \".join(f\"{ord(i):02x}\" for i in s)"
   ]
  },
  {
   "cell_type": "code",
   "execution_count": 48,
   "id": "58efae6e",
   "metadata": {},
   "outputs": [
    {
     "data": {
      "text/plain": [
       "'48 65 6c 6c 6f 2c 20 77 6f 72 6c 64 21'"
      ]
     },
     "execution_count": 48,
     "metadata": {},
     "output_type": "execute_result"
    }
   ],
   "source": [
    "my_print_string_hex(\"Hello, world!\")"
   ]
  },
  {
   "cell_type": "code",
   "execution_count": 55,
   "id": "b0feea34",
   "metadata": {},
   "outputs": [
    {
     "data": {
      "text/plain": [
       "'🧡'"
      ]
     },
     "execution_count": 55,
     "metadata": {},
     "output_type": "execute_result"
    }
   ],
   "source": [
    "heart = '\\U0001F9E1'\n",
    "heart"
   ]
  },
  {
   "cell_type": "code",
   "execution_count": 56,
   "id": "ff1fb4ab",
   "metadata": {},
   "outputs": [
    {
     "data": {
      "text/plain": [
       "b'\\xf0\\x9f\\xa7\\xa1'"
      ]
     },
     "execution_count": 56,
     "metadata": {},
     "output_type": "execute_result"
    }
   ],
   "source": [
    "heart.encode(\"utf-8\")"
   ]
  },
  {
   "cell_type": "code",
   "execution_count": 58,
   "id": "dd81aad9",
   "metadata": {},
   "outputs": [
    {
     "data": {
      "text/plain": [
       "b'SGVsbG8sIHdvcmxkIQ=='"
      ]
     },
     "execution_count": 58,
     "metadata": {},
     "output_type": "execute_result"
    }
   ],
   "source": [
    "my_string = bytes(\"Hello, world!\", \"utf-8\")\n",
    "\n",
    "base_64_encoded = base64.b64encode(my_string)\n",
    "base_64_encoded"
   ]
  },
  {
   "cell_type": "code",
   "execution_count": 59,
   "id": "b80884e7",
   "metadata": {},
   "outputs": [
    {
     "data": {
      "text/plain": [
       "b'Hello, world!'"
      ]
     },
     "execution_count": 59,
     "metadata": {},
     "output_type": "execute_result"
    }
   ],
   "source": [
    "base_64_decoded = base64.b64decode(base_64_encoded)\n",
    "base_64_decoded"
   ]
  },
  {
   "cell_type": "code",
   "execution_count": null,
   "id": "7ecd340a",
   "metadata": {},
   "outputs": [],
   "source": []
  }
 ],
 "metadata": {
  "kernelspec": {
   "display_name": "Python 3 (ipykernel)",
   "language": "python",
   "name": "python3"
  },
  "language_info": {
   "codemirror_mode": {
    "name": "ipython",
    "version": 3
   },
   "file_extension": ".py",
   "mimetype": "text/x-python",
   "name": "python",
   "nbconvert_exporter": "python",
   "pygments_lexer": "ipython3",
   "version": "3.9.7"
  }
 },
 "nbformat": 4,
 "nbformat_minor": 5
}
