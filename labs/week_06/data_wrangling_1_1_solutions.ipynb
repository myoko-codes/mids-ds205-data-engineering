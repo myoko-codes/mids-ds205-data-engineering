{
 "cells": [
  {
   "cell_type": "markdown",
   "id": "ea6fafcf",
   "metadata": {},
   "source": [
    "# Data Wrangling 1.1 Solutions"
   ]
  },
  {
   "cell_type": "code",
   "execution_count": 9,
   "id": "59b207a7",
   "metadata": {},
   "outputs": [],
   "source": [
    "import base64"
   ]
  },
  {
   "cell_type": "markdown",
   "id": "962ff5c0",
   "metadata": {},
   "source": [
    "## You try it \n",
    "\n",
    "* Print the string \"Hello, world!\" in binary and hex\n",
    "\n",
    "* translate the unicode character U+1F9E1 into a Python unicode string, and then into a UTF-8 string\n",
    "\n",
    "* Encode the string \"Hello, world!\" in Base64, then decode it back"
   ]
  },
  {
   "cell_type": "code",
   "execution_count": 1,
   "id": "7c9f380f",
   "metadata": {},
   "outputs": [],
   "source": [
    "def my_print_string_binary(s):\n",
    "    return \" \".join(f\"{ord(i):08b}\" for i in s)"
   ]
  },
  {
   "cell_type": "code",
   "execution_count": 2,
   "id": "c6d34ce6",
   "metadata": {},
   "outputs": [
    {
     "data": {
      "text/plain": [
       "'01001000 01100101 01101100 01101100 01101111 00101100 00100000 01110111 01101111 01110010 01101100 01100100 00100001'"
      ]
     },
     "execution_count": 2,
     "metadata": {},
     "output_type": "execute_result"
    }
   ],
   "source": [
    "my_print_string_binary(\"Hello, world!\")"
   ]
  },
  {
   "cell_type": "code",
   "execution_count": 3,
   "id": "e4c90132",
   "metadata": {},
   "outputs": [],
   "source": [
    "def my_print_string_hex(s):\n",
    "    print(\"nibble pair (lower case):\", \" \".join(f\"{ord(i):02x}\" for i in s))\n",
    "    print(\"nibble pair (upper case):\", \" \".join(f\"{ord((i)):02x}\" for i in s).upper())\n",
    "    print(\"digest                  :\", \":\".join(f\"{ord(i):02x}\" for i in s))\n",
    "    return "
   ]
  },
  {
   "cell_type": "code",
   "execution_count": 4,
   "id": "8368cb47",
   "metadata": {
    "scrolled": true
   },
   "outputs": [
    {
     "name": "stdout",
     "output_type": "stream",
     "text": [
      "nibble pair (lower case): 48 65 6c 6c 6f 2c 20 77 6f 72 6c 64 21\n",
      "nibble pair (upper case): 48 65 6C 6C 6F 2C 20 77 6F 72 6C 64 21\n",
      "digest                  : 48:65:6c:6c:6f:2c:20:77:6f:72:6c:64:21\n"
     ]
    }
   ],
   "source": [
    "my_print_string_hex(\"Hello, world!\")"
   ]
  },
  {
   "cell_type": "code",
   "execution_count": 5,
   "id": "1f94ff95",
   "metadata": {},
   "outputs": [
    {
     "data": {
      "text/plain": [
       "'🧡'"
      ]
     },
     "execution_count": 5,
     "metadata": {},
     "output_type": "execute_result"
    }
   ],
   "source": [
    "heart = '\\U0001f9e1'\n",
    "heart"
   ]
  },
  {
   "cell_type": "code",
   "execution_count": 7,
   "id": "f8dd51e8",
   "metadata": {},
   "outputs": [
    {
     "data": {
      "text/plain": [
       "b'\\xf0\\x9f\\xa7\\xa1'"
      ]
     },
     "execution_count": 7,
     "metadata": {},
     "output_type": "execute_result"
    }
   ],
   "source": [
    "heart.encode(\"utf-8\")"
   ]
  },
  {
   "cell_type": "code",
   "execution_count": 10,
   "id": "55e3d81b",
   "metadata": {},
   "outputs": [
    {
     "data": {
      "text/plain": [
       "b'SGVsbG8sIHdvcmxkIQ=='"
      ]
     },
     "execution_count": 10,
     "metadata": {},
     "output_type": "execute_result"
    }
   ],
   "source": [
    "my_string = bytes(\"Hello, world!\", \"utf-8\")\n",
    "\n",
    "base_64_encoded = base64.b64encode(my_string)\n",
    "base_64_encoded"
   ]
  },
  {
   "cell_type": "code",
   "execution_count": 11,
   "id": "9f59dda8",
   "metadata": {},
   "outputs": [
    {
     "data": {
      "text/plain": [
       "b'Hello, world!'"
      ]
     },
     "execution_count": 11,
     "metadata": {},
     "output_type": "execute_result"
    }
   ],
   "source": [
    "base_64_decoded = base64.b64decode(base_64_encoded)\n",
    "base_64_decoded"
   ]
  },
  {
   "cell_type": "code",
   "execution_count": null,
   "id": "1bed01d4",
   "metadata": {},
   "outputs": [],
   "source": []
  }
 ],
 "metadata": {
  "kernelspec": {
   "display_name": "Python 3 (ipykernel)",
   "language": "python",
   "name": "python3"
  },
  "language_info": {
   "codemirror_mode": {
    "name": "ipython",
    "version": 3
   },
   "file_extension": ".py",
   "mimetype": "text/x-python",
   "name": "python",
   "nbconvert_exporter": "python",
   "pygments_lexer": "ipython3",
   "version": "3.9.7"
  }
 },
 "nbformat": 4,
 "nbformat_minor": 5
}
