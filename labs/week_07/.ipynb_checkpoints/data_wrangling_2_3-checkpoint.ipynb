{
 "cells": [
  {
   "cell_type": "markdown",
   "id": "3e8b72a9",
   "metadata": {},
   "source": [
    "# Data Wrangling 2.3"
   ]
  },
  {
   "cell_type": "code",
   "execution_count": 1,
   "id": "0dab4a0b",
   "metadata": {},
   "outputs": [],
   "source": [
    "import math\n",
    "import numpy as np\n",
    "import pandas as pd\n",
    "\n",
    "import psycopg2\n",
    "\n",
    "import json\n",
    "\n",
    "import csv\n",
    "\n",
    "from datetime import datetime as dt\n",
    "\n",
    "from IPython.display import display, HTML\n"
   ]
  },
  {
   "cell_type": "code",
   "execution_count": 2,
   "id": "36e46463",
   "metadata": {},
   "outputs": [],
   "source": [
    "connection = psycopg2.connect(\n",
    "    user = \"postgres\",\n",
    "    password = \"ucb\",\n",
    "    host = \"postgres\",\n",
    "    port = \"5432\",\n",
    "    database = \"postgres\"\n",
    ")"
   ]
  },
  {
   "cell_type": "code",
   "execution_count": 3,
   "id": "d5073870",
   "metadata": {},
   "outputs": [],
   "source": [
    "cursor = connection.cursor()"
   ]
  },
  {
   "cell_type": "code",
   "execution_count": 4,
   "id": "2cbc2fa2",
   "metadata": {},
   "outputs": [],
   "source": [
    "#\n",
    "# function to run a select query and return rows in a pandas dataframe\n",
    "# pandas puts all numeric values from postgres to float\n",
    "# if it will fit in an integer, change it to integer\n",
    "#\n",
    "\n",
    "def my_select_query_pandas(query, rollback_before_flag, rollback_after_flag):\n",
    "    \"function to run a select query and return rows in a pandas dataframe\"\n",
    "    \n",
    "    if rollback_before_flag:\n",
    "        connection.rollback()\n",
    "    \n",
    "    df = pd.read_sql_query(query, connection)\n",
    "    \n",
    "    if rollback_after_flag:\n",
    "        connection.rollback()\n",
    "    \n",
    "    # fix the float columns that really should be integers\n",
    "    \n",
    "    for column in df:\n",
    "    \n",
    "        if df[column].dtype == \"float64\":\n",
    "\n",
    "            fraction_flag = False\n",
    "\n",
    "            for value in df[column].values:\n",
    "                \n",
    "                if not np.isnan(value):\n",
    "                    if value - math.floor(value) != 0:\n",
    "                        fraction_flag = True\n",
    "\n",
    "            if not fraction_flag:\n",
    "                df[column] = df[column].astype('Int64')\n",
    "    \n",
    "    return(df)\n",
    "    "
   ]
  },
  {
   "cell_type": "markdown",
   "id": "c05eb7e9",
   "metadata": {},
   "source": [
    "   # Lab: Data Cleansing - Data That Does Not Match Validation Rules"
   ]
  },
  {
   "cell_type": "markdown",
   "id": "730456b0",
   "metadata": {},
   "source": [
    "## The invalid sales date of 2021-17-14 will generate an error when we try to convert it from varchar to date"
   ]
  },
  {
   "cell_type": "code",
   "execution_count": 5,
   "id": "1cbce0e9",
   "metadata": {},
   "outputs": [
    {
     "ename": "DatetimeFieldOverflow",
     "evalue": "date/time field value out of range: \"2021-17-14\"\nHINT:  Perhaps you need a different \"datestyle\" setting.\n",
     "output_type": "error",
     "traceback": [
      "\u001b[0;31m---------------------------------------------------------------------------\u001b[0m",
      "\u001b[0;31mDatetimeFieldOverflow\u001b[0m                     Traceback (most recent call last)",
      "\u001b[0;32m/tmp/ipykernel_114/451477919.py\u001b[0m in \u001b[0;36m<module>\u001b[0;34m\u001b[0m\n\u001b[1;32m      8\u001b[0m \u001b[0;34m\u001b[0m\u001b[0m\n\u001b[1;32m      9\u001b[0m \"\"\"\n\u001b[0;32m---> 10\u001b[0;31m \u001b[0mcursor\u001b[0m\u001b[0;34m.\u001b[0m\u001b[0mexecute\u001b[0m\u001b[0;34m(\u001b[0m\u001b[0mquery\u001b[0m\u001b[0;34m)\u001b[0m\u001b[0;34m\u001b[0m\u001b[0;34m\u001b[0m\u001b[0m\n\u001b[0m\u001b[1;32m     11\u001b[0m \u001b[0;34m\u001b[0m\u001b[0m\n\u001b[1;32m     12\u001b[0m \u001b[0;34m\u001b[0m\u001b[0m\n",
      "\u001b[0;31mDatetimeFieldOverflow\u001b[0m: date/time field value out of range: \"2021-17-14\"\nHINT:  Perhaps you need a different \"datestyle\" setting.\n"
     ]
    }
   ],
   "source": [
    "connection.rollback()\n",
    "\n",
    "query = \"\"\"\n",
    "\n",
    "select sale_date::date\n",
    "from stage_3_sales\n",
    "\n",
    "\n",
    "\"\"\"\n",
    "cursor.execute(query)\n",
    "\n",
    "            \n",
    "    "
   ]
  },
  {
   "cell_type": "markdown",
   "id": "9496e931",
   "metadata": {},
   "source": [
    "## You try it - see if the product_id in line_items has valid numeric data"
   ]
  },
  {
   "cell_type": "code",
   "execution_count": 6,
   "id": "b442357a",
   "metadata": {},
   "outputs": [
    {
     "ename": "InvalidTextRepresentation",
     "evalue": "invalid input syntax for type numeric: \"A\"\n",
     "output_type": "error",
     "traceback": [
      "\u001b[0;31m---------------------------------------------------------------------------\u001b[0m",
      "\u001b[0;31mInvalidTextRepresentation\u001b[0m                 Traceback (most recent call last)",
      "\u001b[0;32m/tmp/ipykernel_114/3732317977.py\u001b[0m in \u001b[0;36m<module>\u001b[0;34m\u001b[0m\n\u001b[1;32m      8\u001b[0m \u001b[0;34m\u001b[0m\u001b[0m\n\u001b[1;32m      9\u001b[0m \"\"\"\n\u001b[0;32m---> 10\u001b[0;31m \u001b[0mcursor\u001b[0m\u001b[0;34m.\u001b[0m\u001b[0mexecute\u001b[0m\u001b[0;34m(\u001b[0m\u001b[0mquery\u001b[0m\u001b[0;34m)\u001b[0m\u001b[0;34m\u001b[0m\u001b[0;34m\u001b[0m\u001b[0m\n\u001b[0m\u001b[1;32m     11\u001b[0m \u001b[0;34m\u001b[0m\u001b[0m\n\u001b[1;32m     12\u001b[0m \u001b[0;34m\u001b[0m\u001b[0m\n",
      "\u001b[0;31mInvalidTextRepresentation\u001b[0m: invalid input syntax for type numeric: \"A\"\n"
     ]
    }
   ],
   "source": [
    "connection.rollback()\n",
    "\n",
    "query = \"\"\"\n",
    "\n",
    "select product_id::numeric\n",
    "from stage_3_line_items\n",
    "\n",
    "\n",
    "\"\"\"\n",
    "cursor.execute(query)\n",
    "\n",
    "            "
   ]
  },
  {
   "cell_type": "markdown",
   "id": "82097b73",
   "metadata": {},
   "source": [
    "# Lab: Data Cleansing - Data That Does Not Match Lookup Tables"
   ]
  },
  {
   "cell_type": "markdown",
   "id": "7c441199",
   "metadata": {},
   "source": [
    "## product_id's that are not in the products table (we have to filter out the 'A' we just found)"
   ]
  },
  {
   "cell_type": "code",
   "execution_count": 7,
   "id": "8a0e17f0",
   "metadata": {},
   "outputs": [
    {
     "data": {
      "text/html": [
       "<div>\n",
       "<style scoped>\n",
       "    .dataframe tbody tr th:only-of-type {\n",
       "        vertical-align: middle;\n",
       "    }\n",
       "\n",
       "    .dataframe tbody tr th {\n",
       "        vertical-align: top;\n",
       "    }\n",
       "\n",
       "    .dataframe thead th {\n",
       "        text-align: right;\n",
       "    }\n",
       "</style>\n",
       "<table border=\"1\" class=\"dataframe\">\n",
       "  <thead>\n",
       "    <tr style=\"text-align: right;\">\n",
       "      <th></th>\n",
       "      <th>product_id</th>\n",
       "    </tr>\n",
       "  </thead>\n",
       "  <tbody>\n",
       "    <tr>\n",
       "      <th>0</th>\n",
       "      <td>11</td>\n",
       "    </tr>\n",
       "  </tbody>\n",
       "</table>\n",
       "</div>"
      ],
      "text/plain": [
       "   product_id\n",
       "0          11"
      ]
     },
     "execution_count": 7,
     "metadata": {},
     "output_type": "execute_result"
    }
   ],
   "source": [
    "rollback_before_flag = True\n",
    "rollback_after_flag = True\n",
    "\n",
    "query  = \"\"\"\n",
    "\n",
    "with a as (select * from stage_3_line_items where product_id <> 'A')\n",
    "\n",
    "select product_id::numeric\n",
    "from a \n",
    "where product_id::numeric not in (select product_id from products)\n",
    "\n",
    "\n",
    "\"\"\"\n",
    "\n",
    "my_select_query_pandas(query, rollback_before_flag, rollback_after_flag)"
   ]
  },
  {
   "cell_type": "markdown",
   "id": "ad1f9596",
   "metadata": {},
   "source": [
    "## You try it - find customer_id's in the stage_3_sales table that are not in the stage_3_customers table"
   ]
  },
  {
   "cell_type": "code",
   "execution_count": 10,
   "id": "20b6cbe5",
   "metadata": {},
   "outputs": [
    {
     "data": {
      "text/html": [
       "<div>\n",
       "<style scoped>\n",
       "    .dataframe tbody tr th:only-of-type {\n",
       "        vertical-align: middle;\n",
       "    }\n",
       "\n",
       "    .dataframe tbody tr th {\n",
       "        vertical-align: top;\n",
       "    }\n",
       "\n",
       "    .dataframe thead th {\n",
       "        text-align: right;\n",
       "    }\n",
       "</style>\n",
       "<table border=\"1\" class=\"dataframe\">\n",
       "  <thead>\n",
       "    <tr style=\"text-align: right;\">\n",
       "      <th></th>\n",
       "      <th>stage_id</th>\n",
       "      <th>store_id</th>\n",
       "      <th>sale_id</th>\n",
       "      <th>customer_id</th>\n",
       "      <th>sale_date</th>\n",
       "      <th>total_amount</th>\n",
       "    </tr>\n",
       "  </thead>\n",
       "  <tbody>\n",
       "    <tr>\n",
       "      <th>0</th>\n",
       "      <td>41</td>\n",
       "      <td>4</td>\n",
       "      <td>610104</td>\n",
       "      <td>99999</td>\n",
       "      <td>2021-08-26</td>\n",
       "      <td>60</td>\n",
       "    </tr>\n",
       "  </tbody>\n",
       "</table>\n",
       "</div>"
      ],
      "text/plain": [
       "   stage_id store_id sale_id customer_id   sale_date total_amount\n",
       "0        41        4  610104       99999  2021-08-26           60"
      ]
     },
     "execution_count": 10,
     "metadata": {},
     "output_type": "execute_result"
    }
   ],
   "source": [
    "rollback_before_flag = True\n",
    "rollback_after_flag = True\n",
    "\n",
    "query  = \"\"\"\n",
    "\n",
    "select *\n",
    "from stage_3_sales\n",
    "where customer_id not in (select customer_id from stage_3_customers)\n",
    "\n",
    "\n",
    "\"\"\"\n",
    "\n",
    "my_select_query_pandas(query, rollback_before_flag, rollback_after_flag)"
   ]
  },
  {
   "cell_type": "markdown",
   "id": "98492a09",
   "metadata": {},
   "source": [
    "# Lab: Data Cleansing - Data That Violates Referential Integrity"
   ]
  },
  {
   "cell_type": "markdown",
   "id": "928f9f18",
   "metadata": {},
   "source": [
    "## Find line items without a sales record"
   ]
  },
  {
   "cell_type": "code",
   "execution_count": 11,
   "id": "b209d05d",
   "metadata": {},
   "outputs": [
    {
     "data": {
      "text/html": [
       "<div>\n",
       "<style scoped>\n",
       "    .dataframe tbody tr th:only-of-type {\n",
       "        vertical-align: middle;\n",
       "    }\n",
       "\n",
       "    .dataframe tbody tr th {\n",
       "        vertical-align: top;\n",
       "    }\n",
       "\n",
       "    .dataframe thead th {\n",
       "        text-align: right;\n",
       "    }\n",
       "</style>\n",
       "<table border=\"1\" class=\"dataframe\">\n",
       "  <thead>\n",
       "    <tr style=\"text-align: right;\">\n",
       "      <th></th>\n",
       "      <th>stage_id</th>\n",
       "      <th>store_id</th>\n",
       "      <th>sale_id</th>\n",
       "      <th>line_item_id</th>\n",
       "      <th>product_id</th>\n",
       "      <th>quantity</th>\n",
       "    </tr>\n",
       "  </thead>\n",
       "  <tbody>\n",
       "    <tr>\n",
       "      <th>0</th>\n",
       "      <td>35</td>\n",
       "      <td>1</td>\n",
       "      <td>696394</td>\n",
       "      <td>3</td>\n",
       "      <td>8</td>\n",
       "      <td>1</td>\n",
       "    </tr>\n",
       "    <tr>\n",
       "      <th>1</th>\n",
       "      <td>174</td>\n",
       "      <td>5</td>\n",
       "      <td>590790</td>\n",
       "      <td>1</td>\n",
       "      <td>1</td>\n",
       "      <td>1</td>\n",
       "    </tr>\n",
       "    <tr>\n",
       "      <th>2</th>\n",
       "      <td>175</td>\n",
       "      <td>5</td>\n",
       "      <td>590790</td>\n",
       "      <td>2</td>\n",
       "      <td>4</td>\n",
       "      <td>2</td>\n",
       "    </tr>\n",
       "    <tr>\n",
       "      <th>3</th>\n",
       "      <td>176</td>\n",
       "      <td>5</td>\n",
       "      <td>590790</td>\n",
       "      <td>3</td>\n",
       "      <td>7</td>\n",
       "      <td>1</td>\n",
       "    </tr>\n",
       "  </tbody>\n",
       "</table>\n",
       "</div>"
      ],
      "text/plain": [
       "   stage_id store_id sale_id line_item_id product_id quantity\n",
       "0        35        1  696394            3          8        1\n",
       "1       174        5  590790            1          1        1\n",
       "2       175        5  590790            2          4        2\n",
       "3       176        5  590790            3          7        1"
      ]
     },
     "execution_count": 11,
     "metadata": {},
     "output_type": "execute_result"
    }
   ],
   "source": [
    "rollback_before_flag = True\n",
    "rollback_after_flag = True\n",
    "\n",
    "query  = \"\"\"\n",
    "\n",
    "select *\n",
    "from stage_3_line_items\n",
    "where (store_id, sale_id) not in (select store_id, sale_id from stage_3_sales)\n",
    "\n",
    "\n",
    "\"\"\"\n",
    "\n",
    "my_select_query_pandas(query, rollback_before_flag, rollback_after_flag)"
   ]
  },
  {
   "cell_type": "markdown",
   "id": "1446ae78",
   "metadata": {},
   "source": [
    "## You try it - find store_id's in the stage_3_sales table that are not in the stores table"
   ]
  },
  {
   "cell_type": "code",
   "execution_count": 15,
   "id": "06551400",
   "metadata": {},
   "outputs": [
    {
     "data": {
      "text/html": [
       "<div>\n",
       "<style scoped>\n",
       "    .dataframe tbody tr th:only-of-type {\n",
       "        vertical-align: middle;\n",
       "    }\n",
       "\n",
       "    .dataframe tbody tr th {\n",
       "        vertical-align: top;\n",
       "    }\n",
       "\n",
       "    .dataframe thead th {\n",
       "        text-align: right;\n",
       "    }\n",
       "</style>\n",
       "<table border=\"1\" class=\"dataframe\">\n",
       "  <thead>\n",
       "    <tr style=\"text-align: right;\">\n",
       "      <th></th>\n",
       "      <th>stage_id</th>\n",
       "      <th>store_id</th>\n",
       "      <th>sale_id</th>\n",
       "      <th>customer_id</th>\n",
       "      <th>sale_date</th>\n",
       "      <th>total_amount</th>\n",
       "    </tr>\n",
       "  </thead>\n",
       "  <tbody>\n",
       "    <tr>\n",
       "      <th>0</th>\n",
       "      <td>56</td>\n",
       "      <td>55</td>\n",
       "      <td>590790</td>\n",
       "      <td>27997</td>\n",
       "      <td>2021-09-14</td>\n",
       "      <td>48</td>\n",
       "    </tr>\n",
       "  </tbody>\n",
       "</table>\n",
       "</div>"
      ],
      "text/plain": [
       "   stage_id store_id sale_id customer_id   sale_date total_amount\n",
       "0        56       55  590790       27997  2021-09-14           48"
      ]
     },
     "execution_count": 15,
     "metadata": {},
     "output_type": "execute_result"
    }
   ],
   "source": [
    "rollback_before_flag = True\n",
    "rollback_after_flag = True\n",
    "\n",
    "query  = \"\"\"\n",
    "\n",
    "select *\n",
    "from stage_3_sales\n",
    "where store_id::numeric not in (select store_id from stores)\n",
    "\n",
    "\n",
    "\"\"\"\n",
    "\n",
    "my_select_query_pandas(query, rollback_before_flag, rollback_after_flag)"
   ]
  },
  {
   "cell_type": "code",
   "execution_count": null,
   "id": "d68ea0ae",
   "metadata": {},
   "outputs": [],
   "source": []
  }
 ],
 "metadata": {
  "kernelspec": {
   "display_name": "Python 3 (ipykernel)",
   "language": "python",
   "name": "python3"
  },
  "language_info": {
   "codemirror_mode": {
    "name": "ipython",
    "version": 3
   },
   "file_extension": ".py",
   "mimetype": "text/x-python",
   "name": "python",
   "nbconvert_exporter": "python",
   "pygments_lexer": "ipython3",
   "version": "3.9.7"
  }
 },
 "nbformat": 4,
 "nbformat_minor": 5
}
