{
 "cells": [
  {
   "cell_type": "markdown",
   "id": "1bce5049",
   "metadata": {},
   "source": [
    "# Download GeoJSON data for US zip code shapes, as these are not included in gmaps"
   ]
  },
  {
   "cell_type": "code",
   "execution_count": 5,
   "id": "3697aee8",
   "metadata": {},
   "outputs": [],
   "source": [
    "import requests\n",
    "import os\n",
    "import psycopg2"
   ]
  },
  {
   "cell_type": "code",
   "execution_count": 6,
   "id": "b2febf11",
   "metadata": {},
   "outputs": [],
   "source": [
    "connection = psycopg2.connect(\n",
    "    user = \"postgres\",\n",
    "    password = \"ucb\",\n",
    "    host = \"postgres\",\n",
    "    port = \"5432\",\n",
    "    database = \"postgres\"\n",
    ")"
   ]
  },
  {
   "cell_type": "code",
   "execution_count": 7,
   "id": "ea4f1127",
   "metadata": {},
   "outputs": [],
   "source": [
    "cursor = connection.cursor()"
   ]
  },
  {
   "cell_type": "code",
   "execution_count": 25,
   "id": "e5fe665b",
   "metadata": {},
   "outputs": [
    {
     "name": "stdout",
     "output_type": "stream",
     "text": [
      "[['https://raw.githubusercontent.com/OpenDataDE/State-zip-code-GeoJSON/master/ak_alaska_zip_codes_geo.min.json', 'ak_alaska_geojson.json'], ['https://raw.githubusercontent.com/OpenDataDE/State-zip-code-GeoJSON/master/al_alabama_zip_codes_geo.min.json', 'al_alabama_geojson.json'], ['https://raw.githubusercontent.com/OpenDataDE/State-zip-code-GeoJSON/master/ar_arkansas_zip_codes_geo.min.json', 'ar_arkansas_geojson.json'], ['https://raw.githubusercontent.com/OpenDataDE/State-zip-code-GeoJSON/master/az_arizona_zip_codes_geo.min.json', 'az_arizona_geojson.json'], ['https://raw.githubusercontent.com/OpenDataDE/State-zip-code-GeoJSON/master/ca_california_zip_codes_geo.min.json', 'ca_california_geojson.json'], ['https://raw.githubusercontent.com/OpenDataDE/State-zip-code-GeoJSON/master/co_colorado_zip_codes_geo.min.json', 'co_colorado_geojson.json'], ['https://raw.githubusercontent.com/OpenDataDE/State-zip-code-GeoJSON/master/ct_connecticut_zip_codes_geo.min.json', 'ct_connecticut_geojson.json'], ['https://raw.githubusercontent.com/OpenDataDE/State-zip-code-GeoJSON/master/dc_district_of_columbia_zip_codes_geo.min.json', 'dc_district_of_columbia_geojson.json'], ['https://raw.githubusercontent.com/OpenDataDE/State-zip-code-GeoJSON/master/de_delaware_zip_codes_geo.min.json', 'de_delaware_geojson.json'], ['https://raw.githubusercontent.com/OpenDataDE/State-zip-code-GeoJSON/master/fl_florida_zip_codes_geo.min.json', 'fl_florida_geojson.json'], ['https://raw.githubusercontent.com/OpenDataDE/State-zip-code-GeoJSON/master/ga_georgia_zip_codes_geo.min.json', 'ga_georgia_geojson.json'], ['https://raw.githubusercontent.com/OpenDataDE/State-zip-code-GeoJSON/master/hi_hawaii_zip_codes_geo.min.json', 'hi_hawaii_geojson.json'], ['https://raw.githubusercontent.com/OpenDataDE/State-zip-code-GeoJSON/master/ia_iowa_zip_codes_geo.min.json', 'ia_iowa_geojson.json'], ['https://raw.githubusercontent.com/OpenDataDE/State-zip-code-GeoJSON/master/id_idaho_zip_codes_geo.min.json', 'id_idaho_geojson.json'], ['https://raw.githubusercontent.com/OpenDataDE/State-zip-code-GeoJSON/master/il_illinois_zip_codes_geo.min.json', 'il_illinois_geojson.json'], ['https://raw.githubusercontent.com/OpenDataDE/State-zip-code-GeoJSON/master/in_indiana_zip_codes_geo.min.json', 'in_indiana_geojson.json'], ['https://raw.githubusercontent.com/OpenDataDE/State-zip-code-GeoJSON/master/ks_kansas_zip_codes_geo.min.json', 'ks_kansas_geojson.json'], ['https://raw.githubusercontent.com/OpenDataDE/State-zip-code-GeoJSON/master/ky_kentucky_zip_codes_geo.min.json', 'ky_kentucky_geojson.json'], ['https://raw.githubusercontent.com/OpenDataDE/State-zip-code-GeoJSON/master/la_louisiana_zip_codes_geo.min.json', 'la_louisiana_geojson.json'], ['https://raw.githubusercontent.com/OpenDataDE/State-zip-code-GeoJSON/master/ma_massachusetts_zip_codes_geo.min.json', 'ma_massachusetts_geojson.json'], ['https://raw.githubusercontent.com/OpenDataDE/State-zip-code-GeoJSON/master/md_maryland_zip_codes_geo.min.json', 'md_maryland_geojson.json'], ['https://raw.githubusercontent.com/OpenDataDE/State-zip-code-GeoJSON/master/me_maine_zip_codes_geo.min.json', 'me_maine_geojson.json'], ['https://raw.githubusercontent.com/OpenDataDE/State-zip-code-GeoJSON/master/mi_michigan_zip_codes_geo.min.json', 'mi_michigan_geojson.json'], ['https://raw.githubusercontent.com/OpenDataDE/State-zip-code-GeoJSON/master/mn_minnesota_zip_codes_geo.min.json', 'mn_minnesota_geojson.json'], ['https://raw.githubusercontent.com/OpenDataDE/State-zip-code-GeoJSON/master/mo_missouri_zip_codes_geo.min.json', 'mo_missouri_geojson.json'], ['https://raw.githubusercontent.com/OpenDataDE/State-zip-code-GeoJSON/master/ms_mississippi_zip_codes_geo.min.json', 'ms_mississippi_geojson.json'], ['https://raw.githubusercontent.com/OpenDataDE/State-zip-code-GeoJSON/master/mt_montana_zip_codes_geo.min.json', 'mt_montana_geojson.json'], ['https://raw.githubusercontent.com/OpenDataDE/State-zip-code-GeoJSON/master/nc_north_carolina_zip_codes_geo.min.json', 'nc_north_carolina_geojson.json'], ['https://raw.githubusercontent.com/OpenDataDE/State-zip-code-GeoJSON/master/nd_north_dakota_zip_codes_geo.min.json', 'nd_north_dakota_geojson.json'], ['https://raw.githubusercontent.com/OpenDataDE/State-zip-code-GeoJSON/master/ne_nebraska_zip_codes_geo.min.json', 'ne_nebraska_geojson.json'], ['https://raw.githubusercontent.com/OpenDataDE/State-zip-code-GeoJSON/master/nh_new_hampshire_zip_codes_geo.min.json', 'nh_new_hampshire_geojson.json'], ['https://raw.githubusercontent.com/OpenDataDE/State-zip-code-GeoJSON/master/nj_new_jersey_zip_codes_geo.min.json', 'nj_new_jersey_geojson.json'], ['https://raw.githubusercontent.com/OpenDataDE/State-zip-code-GeoJSON/master/nm_new_mexico_zip_codes_geo.min.json', 'nm_new_mexico_geojson.json'], ['https://raw.githubusercontent.com/OpenDataDE/State-zip-code-GeoJSON/master/nv_nevada_zip_codes_geo.min.json', 'nv_nevada_geojson.json'], ['https://raw.githubusercontent.com/OpenDataDE/State-zip-code-GeoJSON/master/ny_new_york_zip_codes_geo.min.json', 'ny_new_york_geojson.json'], ['https://raw.githubusercontent.com/OpenDataDE/State-zip-code-GeoJSON/master/oh_ohio_zip_codes_geo.min.json', 'oh_ohio_geojson.json'], ['https://raw.githubusercontent.com/OpenDataDE/State-zip-code-GeoJSON/master/ok_oklahoma_zip_codes_geo.min.json', 'ok_oklahoma_geojson.json'], ['https://raw.githubusercontent.com/OpenDataDE/State-zip-code-GeoJSON/master/or_oregon_zip_codes_geo.min.json', 'or_oregon_geojson.json'], ['https://raw.githubusercontent.com/OpenDataDE/State-zip-code-GeoJSON/master/pa_pennsylvania_zip_codes_geo.min.json', 'pa_pennsylvania_geojson.json'], ['https://raw.githubusercontent.com/OpenDataDE/State-zip-code-GeoJSON/master/pr_puerto_rico_zip_codes_geo.min.json', 'pr_puerto_rico_geojson.json'], ['https://raw.githubusercontent.com/OpenDataDE/State-zip-code-GeoJSON/master/ri_rhode_island_zip_codes_geo.min.json', 'ri_rhode_island_geojson.json'], ['https://raw.githubusercontent.com/OpenDataDE/State-zip-code-GeoJSON/master/sc_south_carolina_zip_codes_geo.min.json', 'sc_south_carolina_geojson.json'], ['https://raw.githubusercontent.com/OpenDataDE/State-zip-code-GeoJSON/master/sd_south_dakota_zip_codes_geo.min.json', 'sd_south_dakota_geojson.json'], ['https://raw.githubusercontent.com/OpenDataDE/State-zip-code-GeoJSON/master/tn_tennessee_zip_codes_geo.min.json', 'tn_tennessee_geojson.json'], ['https://raw.githubusercontent.com/OpenDataDE/State-zip-code-GeoJSON/master/tx_texas_zip_codes_geo.min.json', 'tx_texas_geojson.json'], ['https://raw.githubusercontent.com/OpenDataDE/State-zip-code-GeoJSON/master/ut_utah_zip_codes_geo.min.json', 'ut_utah_geojson.json'], ['https://raw.githubusercontent.com/OpenDataDE/State-zip-code-GeoJSON/master/va_virginia_zip_codes_geo.min.json', 'va_virginia_geojson.json'], ['https://raw.githubusercontent.com/OpenDataDE/State-zip-code-GeoJSON/master/vt_vermont_zip_codes_geo.min.json', 'vt_vermont_geojson.json'], ['https://raw.githubusercontent.com/OpenDataDE/State-zip-code-GeoJSON/master/wa_washington_zip_codes_geo.min.json', 'wa_washington_geojson.json'], ['https://raw.githubusercontent.com/OpenDataDE/State-zip-code-GeoJSON/master/wi_wisconsin_zip_codes_geo.min.json', 'wi_wisconsin_geojson.json'], ['https://raw.githubusercontent.com/OpenDataDE/State-zip-code-GeoJSON/master/wv_west_virginia_zip_codes_geo.min.json', 'wv_west_virginia_geojson.json'], ['https://raw.githubusercontent.com/OpenDataDE/State-zip-code-GeoJSON/master/wy_wyoming_zip_codes_geo.min.json', 'wy_wyoming_geojson.json']]\n"
     ]
    }
   ],
   "source": [
    "connection.rollback()\n",
    "\n",
    "query = \"\"\"\n",
    "\n",
    "select 'https://raw.githubusercontent.com/OpenDataDE/State-zip-code-GeoJSON/master/'\n",
    "       || lower(replace(state, ' ', '_'))\n",
    "       || '_'\n",
    "       || lower(replace(state_name, ' ', '_'))\n",
    "       || '_zip_codes_geo.min.json' as url,\n",
    "       lower(replace(state, ' ', '_')) || '_' || lower(replace(state_name, ' ', '_')) || '_geojson.json'\n",
    "from states\n",
    "order by state, state_name\n",
    "\n",
    "\"\"\"\n",
    "\n",
    "cursor.execute(query)\n",
    "\n",
    "connection.rollback()\n",
    "\n",
    "rows = cursor.fetchall()\n",
    "\n",
    "download_list = []\n",
    "\n",
    "for row in rows:\n",
    "    download_list.append([row[0],row[1]])\n",
    "\n",
    "print(download_list)\n"
   ]
  },
  {
   "cell_type": "code",
   "execution_count": 30,
   "id": "9185be20",
   "metadata": {},
   "outputs": [],
   "source": [
    "if not os.path.exists('geojson_data'):\n",
    "    os.mkdir(\"geojson_data\")"
   ]
  },
  {
   "cell_type": "code",
   "execution_count": 32,
   "id": "49b3cb7d",
   "metadata": {},
   "outputs": [
    {
     "name": "stdout",
     "output_type": "stream",
     "text": [
      "Downloading  geojson_data/ak_alaska_geojson.json\n",
      "Downloading  geojson_data/al_alabama_geojson.json\n",
      "Downloading  geojson_data/ar_arkansas_geojson.json\n",
      "Downloading  geojson_data/az_arizona_geojson.json\n",
      "Downloading  geojson_data/ca_california_geojson.json\n",
      "Downloading  geojson_data/co_colorado_geojson.json\n",
      "Downloading  geojson_data/ct_connecticut_geojson.json\n",
      "Downloading  geojson_data/dc_district_of_columbia_geojson.json\n",
      "Downloading  geojson_data/de_delaware_geojson.json\n",
      "Downloading  geojson_data/fl_florida_geojson.json\n",
      "Downloading  geojson_data/ga_georgia_geojson.json\n",
      "Downloading  geojson_data/hi_hawaii_geojson.json\n",
      "Downloading  geojson_data/ia_iowa_geojson.json\n",
      "Downloading  geojson_data/id_idaho_geojson.json\n",
      "Downloading  geojson_data/il_illinois_geojson.json\n",
      "Downloading  geojson_data/in_indiana_geojson.json\n",
      "Downloading  geojson_data/ks_kansas_geojson.json\n",
      "Downloading  geojson_data/ky_kentucky_geojson.json\n",
      "Downloading  geojson_data/la_louisiana_geojson.json\n",
      "Downloading  geojson_data/ma_massachusetts_geojson.json\n",
      "Downloading  geojson_data/md_maryland_geojson.json\n",
      "Downloading  geojson_data/me_maine_geojson.json\n",
      "Downloading  geojson_data/mi_michigan_geojson.json\n",
      "Downloading  geojson_data/mn_minnesota_geojson.json\n",
      "Downloading  geojson_data/mo_missouri_geojson.json\n",
      "Downloading  geojson_data/ms_mississippi_geojson.json\n",
      "Downloading  geojson_data/mt_montana_geojson.json\n",
      "Downloading  geojson_data/nc_north_carolina_geojson.json\n",
      "Downloading  geojson_data/nd_north_dakota_geojson.json\n",
      "Downloading  geojson_data/ne_nebraska_geojson.json\n",
      "Downloading  geojson_data/nh_new_hampshire_geojson.json\n",
      "Downloading  geojson_data/nj_new_jersey_geojson.json\n",
      "Downloading  geojson_data/nm_new_mexico_geojson.json\n",
      "Downloading  geojson_data/nv_nevada_geojson.json\n",
      "Downloading  geojson_data/ny_new_york_geojson.json\n",
      "Downloading  geojson_data/oh_ohio_geojson.json\n",
      "Downloading  geojson_data/ok_oklahoma_geojson.json\n",
      "Downloading  geojson_data/or_oregon_geojson.json\n",
      "Downloading  geojson_data/pa_pennsylvania_geojson.json\n",
      "Downloading  geojson_data/pr_puerto_rico_geojson.json\n",
      "Error downloading  https://raw.githubusercontent.com/OpenDataDE/State-zip-code-GeoJSON/master/pr_puerto_rico_zip_codes_geo.min.json\n",
      "Downloading  geojson_data/ri_rhode_island_geojson.json\n",
      "Downloading  geojson_data/sc_south_carolina_geojson.json\n",
      "Downloading  geojson_data/sd_south_dakota_geojson.json\n",
      "Downloading  geojson_data/tn_tennessee_geojson.json\n",
      "Downloading  geojson_data/tx_texas_geojson.json\n",
      "Downloading  geojson_data/ut_utah_geojson.json\n",
      "Downloading  geojson_data/va_virginia_geojson.json\n",
      "Downloading  geojson_data/vt_vermont_geojson.json\n",
      "Downloading  geojson_data/wa_washington_geojson.json\n",
      "Downloading  geojson_data/wi_wisconsin_geojson.json\n",
      "Downloading  geojson_data/wv_west_virginia_geojson.json\n",
      "Downloading  geojson_data/wy_wyoming_geojson.json\n"
     ]
    }
   ],
   "source": [
    "for download in download_list:\n",
    "    \n",
    "    url = download[0]\n",
    "    \n",
    "    file_name = download[1]\n",
    "    file_name = os.path.join('geojson_data', file_name)\n",
    "\n",
    "    \n",
    "    print('Downloading ', file_name)\n",
    "    \n",
    "    r = requests.get(url)\n",
    "    \n",
    "    if r.status_code != 200:\n",
    "        print('Error downloading ', url)\n",
    "        continue\n",
    "        \n",
    "    f = open(file_name, \"w\")\n",
    "    \n",
    "    f.write(r.text)\n",
    "    \n",
    "    f.close()"
   ]
  },
  {
   "cell_type": "code",
   "execution_count": null,
   "id": "4fa83082",
   "metadata": {},
   "outputs": [],
   "source": []
  }
 ],
 "metadata": {
  "kernelspec": {
   "display_name": "Python 3",
   "language": "python",
   "name": "python3"
  },
  "language_info": {
   "codemirror_mode": {
    "name": "ipython",
    "version": 3
   },
   "file_extension": ".py",
   "mimetype": "text/x-python",
   "name": "python",
   "nbconvert_exporter": "python",
   "pygments_lexer": "ipython3",
   "version": "3.8.8"
  }
 },
 "nbformat": 4,
 "nbformat_minor": 5
}
