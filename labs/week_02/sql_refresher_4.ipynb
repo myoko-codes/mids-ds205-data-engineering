{
 "cells": [
  {
   "cell_type": "markdown",
   "id": "61926c07",
   "metadata": {},
   "source": [
    "# SQL Refresher 4"
   ]
  },
  {
   "cell_type": "markdown",
   "id": "c506cafe",
   "metadata": {},
   "source": [
    "## imports"
   ]
  },
  {
   "cell_type": "code",
   "execution_count": 1,
   "id": "7706a6ae",
   "metadata": {},
   "outputs": [],
   "source": [
    "import math\n",
    "import numpy as np\n",
    "import pandas as pd\n",
    "\n",
    "import psycopg2\n",
    "\n",
    "import json\n",
    "\n",
    "import gmaps\n",
    "import gmaps.geojson_geometries\n",
    "\n",
    "from geographiclib.geodesic import Geodesic"
   ]
  },
  {
   "cell_type": "markdown",
   "id": "f5fa3e1e",
   "metadata": {},
   "source": [
    "## my_select_query_pandas() - function to run a select query and return rows in a Pandas dataframe"
   ]
  },
  {
   "cell_type": "code",
   "execution_count": 2,
   "id": "af975a59",
   "metadata": {},
   "outputs": [],
   "source": [
    "#\n",
    "# function to run a select query and return rows in a pandas dataframe\n",
    "# pandas puts all numeric values from postgres to float\n",
    "# if it will fit in an integer, change it to integer\n",
    "#\n",
    "\n",
    "def my_select_query_pandas(query, rollback_before_flag, rollback_after_flag):\n",
    "    \"function to run a select query and return rows in a pandas dataframe\"\n",
    "    \n",
    "    if rollback_before_flag:\n",
    "        connection.rollback()\n",
    "    \n",
    "    df = pd.read_sql_query(query, connection)\n",
    "    \n",
    "    if rollback_after_flag:\n",
    "        connection.rollback()\n",
    "    \n",
    "    # fix the float columns that really should be integers\n",
    "    \n",
    "    for column in df:\n",
    "    \n",
    "        if df[column].dtype == \"float64\":\n",
    "\n",
    "            fraction_flag = False\n",
    "\n",
    "            for value in df[column].values:\n",
    "                \n",
    "                if not np.isnan(value):\n",
    "                    if value - math.floor(value) != 0:\n",
    "                        fraction_flag = True\n",
    "\n",
    "            if not fraction_flag:\n",
    "                df[column] = df[column].astype('Int64')\n",
    "    \n",
    "    return(df)\n",
    "    "
   ]
  },
  {
   "cell_type": "markdown",
   "id": "73db24eb",
   "metadata": {},
   "source": [
    "## Connect to the Postgres database"
   ]
  },
  {
   "cell_type": "code",
   "execution_count": 3,
   "id": "24092101",
   "metadata": {},
   "outputs": [],
   "source": [
    "connection = psycopg2.connect(\n",
    "    user = \"postgres\",\n",
    "    password = \"ucb\",\n",
    "    host = \"postgres\",\n",
    "    port = \"5432\",\n",
    "    database = \"postgres\"\n",
    ")"
   ]
  },
  {
   "cell_type": "markdown",
   "id": "4b7d7090",
   "metadata": {},
   "source": [
    "## Create a cursor for the connection"
   ]
  },
  {
   "cell_type": "code",
   "execution_count": 4,
   "id": "f9a416eb",
   "metadata": {},
   "outputs": [],
   "source": [
    "cursor = connection.cursor()"
   ]
  },
  {
   "cell_type": "markdown",
   "id": "2cf448af",
   "metadata": {},
   "source": [
    "# Lab: Google Maps - Display Map by Type, Size, Zoom"
   ]
  },
  {
   "cell_type": "markdown",
   "id": "879f6d34",
   "metadata": {},
   "source": [
    "## Connect to Google Maps using your api key;  edit the file gmap_api_key.txt and put in your api key"
   ]
  },
  {
   "cell_type": "code",
   "execution_count": 5,
   "id": "3781379f",
   "metadata": {},
   "outputs": [],
   "source": [
    "f = open('gmap_api_key.txt', 'r')\n",
    "my_api_key = f.read()\n",
    "f.close()\n",
    "\n",
    "gmaps.configure(api_key=my_api_key)"
   ]
  },
  {
   "cell_type": "markdown",
   "id": "9dd8aad8",
   "metadata": {},
   "source": [
    "## Basic map centered on Sather Gate at UC Berkeley; all point are (latitude, longitude) in decimal; zoom levels go from 1 to 21; 1 is world level; 21 is street level; default type of map is Road Map"
   ]
  },
  {
   "cell_type": "code",
   "execution_count": 6,
   "id": "895fd4c6",
   "metadata": {},
   "outputs": [
    {
     "data": {
      "application/vnd.jupyter.widget-view+json": {
       "model_id": "55b52d4c386e4ce9a20bef08dcc41eb8",
       "version_major": 2,
       "version_minor": 0
      },
      "text/plain": [
       "Figure(layout=FigureLayout(height='420px'))"
      ]
     },
     "metadata": {},
     "output_type": "display_data"
    }
   ],
   "source": [
    "sather_gate_berkeley = (37.870260430419115, -122.25950168579497)\n",
    "\n",
    "gmaps.figure(center=sather_gate_berkeley, zoom_level=9)"
   ]
  },
  {
   "cell_type": "markdown",
   "id": "d70881b8",
   "metadata": {},
   "source": [
    "## Same map as Terrain"
   ]
  },
  {
   "cell_type": "code",
   "execution_count": 7,
   "id": "0a485729",
   "metadata": {},
   "outputs": [
    {
     "data": {
      "application/vnd.jupyter.widget-view+json": {
       "model_id": "28c5f37ebc124c6d8a64cb22dbfed943",
       "version_major": 2,
       "version_minor": 0
      },
      "text/plain": [
       "Figure(layout=FigureLayout(height='420px'))"
      ]
     },
     "metadata": {},
     "output_type": "display_data"
    }
   ],
   "source": [
    "gmaps.figure(center=sather_gate_berkeley, zoom_level=9, map_type='TERRAIN')"
   ]
  },
  {
   "cell_type": "markdown",
   "id": "448da7e5",
   "metadata": {},
   "source": [
    "## Same map as Satellite"
   ]
  },
  {
   "cell_type": "code",
   "execution_count": 8,
   "id": "c850249d",
   "metadata": {},
   "outputs": [
    {
     "data": {
      "application/vnd.jupyter.widget-view+json": {
       "model_id": "539fdf4340cb44ae817e6cd761563431",
       "version_major": 2,
       "version_minor": 0
      },
      "text/plain": [
       "Figure(layout=FigureLayout(height='420px'))"
      ]
     },
     "metadata": {},
     "output_type": "display_data"
    }
   ],
   "source": [
    "gmaps.figure(center=sather_gate_berkeley, zoom_level=9, map_type='SATELLITE')"
   ]
  },
  {
   "cell_type": "markdown",
   "id": "cd980da0",
   "metadata": {},
   "source": [
    "## Same map as Hybrid (combines Road Map with Satellite)"
   ]
  },
  {
   "cell_type": "code",
   "execution_count": 9,
   "id": "4aa7af62",
   "metadata": {},
   "outputs": [
    {
     "data": {
      "application/vnd.jupyter.widget-view+json": {
       "model_id": "9110524ff14f4922807ed3e7bac48ad8",
       "version_major": 2,
       "version_minor": 0
      },
      "text/plain": [
       "Figure(layout=FigureLayout(height='420px'))"
      ]
     },
     "metadata": {},
     "output_type": "display_data"
    }
   ],
   "source": [
    "gmaps.figure(center=sather_gate_berkeley, zoom_level=9, map_type='HYBRID')"
   ]
  },
  {
   "cell_type": "markdown",
   "id": "c8fa1a29",
   "metadata": {},
   "source": [
    "## Same map with the sizes changed"
   ]
  },
  {
   "cell_type": "code",
   "execution_count": 10,
   "id": "da8610fc",
   "metadata": {},
   "outputs": [
    {
     "data": {
      "application/vnd.jupyter.widget-view+json": {
       "model_id": "5709ee2d16154754871aaf2193442087",
       "version_major": 2,
       "version_minor": 0
      },
      "text/plain": [
       "Figure(layout=FigureLayout(border='1px solid black', height='500px', padding='1px', width='300px'))"
      ]
     },
     "metadata": {},
     "output_type": "display_data"
    }
   ],
   "source": [
    "figure_layout = {\n",
    "    'width': '300px',\n",
    "    'height': '500px',\n",
    "    'border': '1px solid black',\n",
    "    'padding': '1px'\n",
    "}\n",
    "\n",
    "gmaps.figure(center=sather_gate_berkeley, zoom_level=9, layout=figure_layout)"
   ]
  },
  {
   "cell_type": "markdown",
   "id": "d9027dd9",
   "metadata": {},
   "source": [
    "## Same map with zoom level 12 (zoom goes from 1 to 21, 1 is world, 21 is street)"
   ]
  },
  {
   "cell_type": "code",
   "execution_count": 11,
   "id": "2182e9d7",
   "metadata": {},
   "outputs": [
    {
     "data": {
      "application/vnd.jupyter.widget-view+json": {
       "model_id": "f227ffa8c4a44d7f8663174edd21668b",
       "version_major": 2,
       "version_minor": 0
      },
      "text/plain": [
       "Figure(layout=FigureLayout(height='420px'))"
      ]
     },
     "metadata": {},
     "output_type": "display_data"
    }
   ],
   "source": [
    "gmaps.figure(center=sather_gate_berkeley, zoom_level=12)"
   ]
  },
  {
   "cell_type": "markdown",
   "id": "6c625926",
   "metadata": {},
   "source": [
    "## Same map with zoom level 15 (zoom goes from 1 to 21, 1 is world, 21 is street)"
   ]
  },
  {
   "cell_type": "code",
   "execution_count": 12,
   "id": "b1191dd5",
   "metadata": {},
   "outputs": [
    {
     "data": {
      "application/vnd.jupyter.widget-view+json": {
       "model_id": "8156734e2fbb424fb04e116fc4b0a157",
       "version_major": 2,
       "version_minor": 0
      },
      "text/plain": [
       "Figure(layout=FigureLayout(height='420px'))"
      ]
     },
     "metadata": {},
     "output_type": "display_data"
    }
   ],
   "source": [
    "gmaps.figure(center=sather_gate_berkeley, zoom_level=15)"
   ]
  },
  {
   "cell_type": "markdown",
   "id": "ba6d5b6c",
   "metadata": {},
   "source": [
    "## Same map with zoom level 17 (zoom goes from 1 to 21, 1 is world, 21 is street)"
   ]
  },
  {
   "cell_type": "code",
   "execution_count": 13,
   "id": "dc94da6e",
   "metadata": {},
   "outputs": [
    {
     "data": {
      "application/vnd.jupyter.widget-view+json": {
       "model_id": "10289a1e513741cabbcecca9fd63416c",
       "version_major": 2,
       "version_minor": 0
      },
      "text/plain": [
       "Figure(layout=FigureLayout(height='420px'))"
      ]
     },
     "metadata": {},
     "output_type": "display_data"
    }
   ],
   "source": [
    "gmaps.figure(center=sather_gate_berkeley, zoom_level=17)"
   ]
  },
  {
   "cell_type": "markdown",
   "id": "4483f2bf",
   "metadata": {},
   "source": [
    "## Same map with zoom level 19 (zoom goes from 1 to 21, 1 is world, 21 is street)"
   ]
  },
  {
   "cell_type": "code",
   "execution_count": 14,
   "id": "d2167e08",
   "metadata": {},
   "outputs": [
    {
     "data": {
      "application/vnd.jupyter.widget-view+json": {
       "model_id": "8c4653ae7bc04d7cb223632373d2dcea",
       "version_major": 2,
       "version_minor": 0
      },
      "text/plain": [
       "Figure(layout=FigureLayout(height='420px'))"
      ]
     },
     "metadata": {},
     "output_type": "display_data"
    }
   ],
   "source": [
    "gmaps.figure(center=sather_gate_berkeley, zoom_level=19)"
   ]
  },
  {
   "cell_type": "markdown",
   "id": "8ee8448f",
   "metadata": {},
   "source": [
    "## Same map with zoom level 21 (zoom goes from 1 to 21, 1 is world, 21 is street)"
   ]
  },
  {
   "cell_type": "code",
   "execution_count": 15,
   "id": "39aa45fa",
   "metadata": {},
   "outputs": [
    {
     "data": {
      "application/vnd.jupyter.widget-view+json": {
       "model_id": "2f4d7b5659e646a2bfa3a266c4200872",
       "version_major": 2,
       "version_minor": 0
      },
      "text/plain": [
       "Figure(layout=FigureLayout(height='420px'))"
      ]
     },
     "metadata": {},
     "output_type": "display_data"
    }
   ],
   "source": [
    "gmaps.figure(center=sather_gate_berkeley, zoom_level=21)"
   ]
  },
  {
   "cell_type": "markdown",
   "id": "938247db",
   "metadata": {},
   "source": [
    "# Lab: Google Maps - Location Markers, Location Symbols"
   ]
  },
  {
   "cell_type": "markdown",
   "id": "cd4fa5d8",
   "metadata": {},
   "source": [
    "## Find a list of zip codes for all customers of the Berkeley store; distinct removes duplicates"
   ]
  },
  {
   "cell_type": "code",
   "execution_count": 16,
   "id": "43b9369c",
   "metadata": {},
   "outputs": [
    {
     "data": {
      "text/html": [
       "<div>\n",
       "<style scoped>\n",
       "    .dataframe tbody tr th:only-of-type {\n",
       "        vertical-align: middle;\n",
       "    }\n",
       "\n",
       "    .dataframe tbody tr th {\n",
       "        vertical-align: top;\n",
       "    }\n",
       "\n",
       "    .dataframe thead th {\n",
       "        text-align: right;\n",
       "    }\n",
       "</style>\n",
       "<table border=\"1\" class=\"dataframe\">\n",
       "  <thead>\n",
       "    <tr style=\"text-align: right;\">\n",
       "      <th></th>\n",
       "      <th>zip</th>\n",
       "      <th>latitude</th>\n",
       "      <th>longitude</th>\n",
       "      <th>city</th>\n",
       "      <th>state</th>\n",
       "      <th>population</th>\n",
       "      <th>area</th>\n",
       "      <th>density</th>\n",
       "      <th>time_zone</th>\n",
       "    </tr>\n",
       "  </thead>\n",
       "  <tbody>\n",
       "    <tr>\n",
       "      <th>0</th>\n",
       "      <td>94002</td>\n",
       "      <td>37.5135</td>\n",
       "      <td>-122.2991</td>\n",
       "      <td>Belmont</td>\n",
       "      <td>CA</td>\n",
       "      <td>27202</td>\n",
       "      <td>5.9244</td>\n",
       "      <td>4591.53</td>\n",
       "      <td>America/Los_Angeles</td>\n",
       "    </tr>\n",
       "    <tr>\n",
       "      <th>1</th>\n",
       "      <td>94005</td>\n",
       "      <td>37.6887</td>\n",
       "      <td>-122.4080</td>\n",
       "      <td>Brisbane</td>\n",
       "      <td>CA</td>\n",
       "      <td>4692</td>\n",
       "      <td>4.8168</td>\n",
       "      <td>974.09</td>\n",
       "      <td>America/Los_Angeles</td>\n",
       "    </tr>\n",
       "    <tr>\n",
       "      <th>2</th>\n",
       "      <td>94010</td>\n",
       "      <td>37.5693</td>\n",
       "      <td>-122.3653</td>\n",
       "      <td>Burlingame</td>\n",
       "      <td>CA</td>\n",
       "      <td>42730</td>\n",
       "      <td>12.4205</td>\n",
       "      <td>3440.28</td>\n",
       "      <td>America/Los_Angeles</td>\n",
       "    </tr>\n",
       "    <tr>\n",
       "      <th>3</th>\n",
       "      <td>94014</td>\n",
       "      <td>37.6909</td>\n",
       "      <td>-122.4475</td>\n",
       "      <td>Daly City</td>\n",
       "      <td>CA</td>\n",
       "      <td>49515</td>\n",
       "      <td>6.6361</td>\n",
       "      <td>7461.50</td>\n",
       "      <td>America/Los_Angeles</td>\n",
       "    </tr>\n",
       "    <tr>\n",
       "      <th>4</th>\n",
       "      <td>94015</td>\n",
       "      <td>37.6812</td>\n",
       "      <td>-122.4805</td>\n",
       "      <td>Daly City</td>\n",
       "      <td>CA</td>\n",
       "      <td>64887</td>\n",
       "      <td>6.1247</td>\n",
       "      <td>10594.35</td>\n",
       "      <td>America/Los_Angeles</td>\n",
       "    </tr>\n",
       "    <tr>\n",
       "      <th>...</th>\n",
       "      <td>...</td>\n",
       "      <td>...</td>\n",
       "      <td>...</td>\n",
       "      <td>...</td>\n",
       "      <td>...</td>\n",
       "      <td>...</td>\n",
       "      <td>...</td>\n",
       "      <td>...</td>\n",
       "      <td>...</td>\n",
       "    </tr>\n",
       "    <tr>\n",
       "      <th>139</th>\n",
       "      <td>94963</td>\n",
       "      <td>38.0138</td>\n",
       "      <td>-122.6703</td>\n",
       "      <td>San Geronimo</td>\n",
       "      <td>CA</td>\n",
       "      <td>498</td>\n",
       "      <td>2.3307</td>\n",
       "      <td>213.67</td>\n",
       "      <td>America/Los_Angeles</td>\n",
       "    </tr>\n",
       "    <tr>\n",
       "      <th>140</th>\n",
       "      <td>94964</td>\n",
       "      <td>37.9431</td>\n",
       "      <td>-122.4918</td>\n",
       "      <td>San Quentin</td>\n",
       "      <td>CA</td>\n",
       "      <td>3418</td>\n",
       "      <td>0.2608</td>\n",
       "      <td>13104.83</td>\n",
       "      <td>America/Los_Angeles</td>\n",
       "    </tr>\n",
       "    <tr>\n",
       "      <th>141</th>\n",
       "      <td>94965</td>\n",
       "      <td>37.8499</td>\n",
       "      <td>-122.5236</td>\n",
       "      <td>Sausalito</td>\n",
       "      <td>CA</td>\n",
       "      <td>11408</td>\n",
       "      <td>14.2131</td>\n",
       "      <td>802.64</td>\n",
       "      <td>America/Los_Angeles</td>\n",
       "    </tr>\n",
       "    <tr>\n",
       "      <th>142</th>\n",
       "      <td>94970</td>\n",
       "      <td>37.9145</td>\n",
       "      <td>-122.6469</td>\n",
       "      <td>Stinson Beach</td>\n",
       "      <td>CA</td>\n",
       "      <td>689</td>\n",
       "      <td>7.0006</td>\n",
       "      <td>98.42</td>\n",
       "      <td>America/Los_Angeles</td>\n",
       "    </tr>\n",
       "    <tr>\n",
       "      <th>143</th>\n",
       "      <td>94973</td>\n",
       "      <td>38.0127</td>\n",
       "      <td>-122.6397</td>\n",
       "      <td>Woodacre</td>\n",
       "      <td>CA</td>\n",
       "      <td>1342</td>\n",
       "      <td>3.7411</td>\n",
       "      <td>358.71</td>\n",
       "      <td>America/Los_Angeles</td>\n",
       "    </tr>\n",
       "  </tbody>\n",
       "</table>\n",
       "<p>144 rows × 9 columns</p>\n",
       "</div>"
      ],
      "text/plain": [
       "       zip  latitude  longitude           city state  population     area  \\\n",
       "0    94002   37.5135  -122.2991        Belmont    CA       27202   5.9244   \n",
       "1    94005   37.6887  -122.4080       Brisbane    CA        4692   4.8168   \n",
       "2    94010   37.5693  -122.3653     Burlingame    CA       42730  12.4205   \n",
       "3    94014   37.6909  -122.4475      Daly City    CA       49515   6.6361   \n",
       "4    94015   37.6812  -122.4805      Daly City    CA       64887   6.1247   \n",
       "..     ...       ...        ...            ...   ...         ...      ...   \n",
       "139  94963   38.0138  -122.6703   San Geronimo    CA         498   2.3307   \n",
       "140  94964   37.9431  -122.4918    San Quentin    CA        3418   0.2608   \n",
       "141  94965   37.8499  -122.5236      Sausalito    CA       11408  14.2131   \n",
       "142  94970   37.9145  -122.6469  Stinson Beach    CA         689   7.0006   \n",
       "143  94973   38.0127  -122.6397       Woodacre    CA        1342   3.7411   \n",
       "\n",
       "      density            time_zone  \n",
       "0     4591.53  America/Los_Angeles  \n",
       "1      974.09  America/Los_Angeles  \n",
       "2     3440.28  America/Los_Angeles  \n",
       "3     7461.50  America/Los_Angeles  \n",
       "4    10594.35  America/Los_Angeles  \n",
       "..        ...                  ...  \n",
       "139    213.67  America/Los_Angeles  \n",
       "140  13104.83  America/Los_Angeles  \n",
       "141    802.64  America/Los_Angeles  \n",
       "142     98.42  America/Los_Angeles  \n",
       "143    358.71  America/Los_Angeles  \n",
       "\n",
       "[144 rows x 9 columns]"
      ]
     },
     "execution_count": 16,
     "metadata": {},
     "output_type": "execute_result"
    }
   ],
   "source": [
    "rollback_before_flag = True\n",
    "rollback_after_flag = True\n",
    "\n",
    "query = \"\"\"\n",
    "\n",
    "select distinct z.*\n",
    "from customers as cu\n",
    "     join zip_codes as z\n",
    "         on cu.zip = z.zip\n",
    "where cu.closest_store_id = 1\n",
    "order by 1,2\n",
    "\n",
    "\"\"\"\n",
    "\n",
    "df = my_select_query_pandas(query, rollback_before_flag, rollback_after_flag)\n",
    "df"
   ]
  },
  {
   "cell_type": "markdown",
   "id": "d2498740",
   "metadata": {},
   "source": [
    "## Same map with a marker added for the center of each zip code that has customers for the Berkeley store;  clicking on a marker will not do anything"
   ]
  },
  {
   "cell_type": "code",
   "execution_count": 17,
   "id": "7519bc1c",
   "metadata": {},
   "outputs": [
    {
     "data": {
      "application/vnd.jupyter.widget-view+json": {
       "model_id": "6f9cf5b9d140400b93bb0b83b0da22af",
       "version_major": 2,
       "version_minor": 0
      },
      "text/plain": [
       "Figure(layout=FigureLayout(height='420px'))"
      ]
     },
     "metadata": {},
     "output_type": "display_data"
    }
   ],
   "source": [
    "fig = gmaps.figure(center=sather_gate_berkeley, zoom_level=8)\n",
    "\n",
    "df_markers = df[['latitude','longitude']]\n",
    "\n",
    "marker_layer = gmaps.marker_layer(df_markers)\n",
    "\n",
    "fig.add_layer(marker_layer)\n",
    "\n",
    "fig"
   ]
  },
  {
   "cell_type": "markdown",
   "id": "2f0e00f6",
   "metadata": {},
   "source": [
    "## Same map adding information about each marker;  when you click on a marker, a popup will show you information about that zip code"
   ]
  },
  {
   "cell_type": "code",
   "execution_count": 18,
   "id": "3cf3eedf",
   "metadata": {},
   "outputs": [
    {
     "data": {
      "application/vnd.jupyter.widget-view+json": {
       "model_id": "bde7d7337ea64671bed35d3bd2e8b882",
       "version_major": 2,
       "version_minor": 0
      },
      "text/plain": [
       "Figure(layout=FigureLayout(height='420px'))"
      ]
     },
     "metadata": {},
     "output_type": "display_data"
    }
   ],
   "source": [
    "info_box_template = \"\"\"\n",
    "<dl>\n",
    "<dt>Zip</dt><dd>{zip}</dd>\n",
    "<dt>Latitude</dt><dd>{latitude}</dd>\n",
    "<dt>Longitude</dt><dd>{longitude}</dd>\n",
    "<dt>City</dt><dd>{city}</dd>\n",
    "<dt>State</dt><dd>{state}</dd>\n",
    "<dt>Population</dt><dd>{population}</dd>\n",
    "<dt>Area</dt><dd>{area}</dd>\n",
    "<dt>Density</dt><dd>{density}</dd>\n",
    "<dt>Time Zone</dt><dd>{time_zone}</dd>\n",
    "\n",
    "<dt>Population</dt><dd>{population}</dd>\n",
    "</dl>\n",
    "\"\"\"\n",
    "\n",
    "df_list_dict = df.to_dict('records')\n",
    "\n",
    "zip_info = [info_box_template.format(**zip) for zip in df_list_dict]\n",
    "\n",
    "marker_layer = gmaps.marker_layer(df_markers, info_box_content=zip_info)\n",
    "\n",
    "fig = gmaps.figure(center=sather_gate_berkeley, zoom_level=8)\n",
    "\n",
    "fig.add_layer(marker_layer)\n",
    "\n",
    "fig\n"
   ]
  },
  {
   "cell_type": "markdown",
   "id": "515bd683",
   "metadata": {},
   "source": [
    "# Lab: Google Maps - Heatmaps, Choropleths"
   ]
  },
  {
   "cell_type": "markdown",
   "id": "b17f9ba1",
   "metadata": {},
   "source": [
    "## Find a list of zip codes for customers of the Berkeley store; do not remove duplicates so we can use intensity levels for each zip code"
   ]
  },
  {
   "cell_type": "code",
   "execution_count": 19,
   "id": "a43df6b6",
   "metadata": {},
   "outputs": [
    {
     "data": {
      "text/html": [
       "<div>\n",
       "<style scoped>\n",
       "    .dataframe tbody tr th:only-of-type {\n",
       "        vertical-align: middle;\n",
       "    }\n",
       "\n",
       "    .dataframe tbody tr th {\n",
       "        vertical-align: top;\n",
       "    }\n",
       "\n",
       "    .dataframe thead th {\n",
       "        text-align: right;\n",
       "    }\n",
       "</style>\n",
       "<table border=\"1\" class=\"dataframe\">\n",
       "  <thead>\n",
       "    <tr style=\"text-align: right;\">\n",
       "      <th></th>\n",
       "      <th>latitude</th>\n",
       "      <th>longitude</th>\n",
       "    </tr>\n",
       "  </thead>\n",
       "  <tbody>\n",
       "    <tr>\n",
       "      <th>0</th>\n",
       "      <td>37.4949</td>\n",
       "      <td>-122.2080</td>\n",
       "    </tr>\n",
       "    <tr>\n",
       "      <th>1</th>\n",
       "      <td>37.4949</td>\n",
       "      <td>-122.2080</td>\n",
       "    </tr>\n",
       "    <tr>\n",
       "      <th>2</th>\n",
       "      <td>37.4949</td>\n",
       "      <td>-122.2080</td>\n",
       "    </tr>\n",
       "    <tr>\n",
       "      <th>3</th>\n",
       "      <td>37.4949</td>\n",
       "      <td>-122.2080</td>\n",
       "    </tr>\n",
       "    <tr>\n",
       "      <th>4</th>\n",
       "      <td>37.4949</td>\n",
       "      <td>-122.2080</td>\n",
       "    </tr>\n",
       "    <tr>\n",
       "      <th>...</th>\n",
       "      <td>...</td>\n",
       "      <td>...</td>\n",
       "    </tr>\n",
       "    <tr>\n",
       "      <th>8133</th>\n",
       "      <td>38.1842</td>\n",
       "      <td>-122.2629</td>\n",
       "    </tr>\n",
       "    <tr>\n",
       "      <th>8134</th>\n",
       "      <td>38.1842</td>\n",
       "      <td>-122.2629</td>\n",
       "    </tr>\n",
       "    <tr>\n",
       "      <th>8135</th>\n",
       "      <td>38.1842</td>\n",
       "      <td>-122.2629</td>\n",
       "    </tr>\n",
       "    <tr>\n",
       "      <th>8136</th>\n",
       "      <td>38.1842</td>\n",
       "      <td>-122.2629</td>\n",
       "    </tr>\n",
       "    <tr>\n",
       "      <th>8137</th>\n",
       "      <td>38.1842</td>\n",
       "      <td>-122.2629</td>\n",
       "    </tr>\n",
       "  </tbody>\n",
       "</table>\n",
       "<p>8138 rows × 2 columns</p>\n",
       "</div>"
      ],
      "text/plain": [
       "      latitude  longitude\n",
       "0      37.4949  -122.2080\n",
       "1      37.4949  -122.2080\n",
       "2      37.4949  -122.2080\n",
       "3      37.4949  -122.2080\n",
       "4      37.4949  -122.2080\n",
       "...        ...        ...\n",
       "8133   38.1842  -122.2629\n",
       "8134   38.1842  -122.2629\n",
       "8135   38.1842  -122.2629\n",
       "8136   38.1842  -122.2629\n",
       "8137   38.1842  -122.2629\n",
       "\n",
       "[8138 rows x 2 columns]"
      ]
     },
     "execution_count": 19,
     "metadata": {},
     "output_type": "execute_result"
    }
   ],
   "source": [
    "rollback_before_flag = True\n",
    "rollback_after_flag = True\n",
    "\n",
    "query = \"\"\"\n",
    "\n",
    "select z.latitude, z.longitude\n",
    "from customers as cu\n",
    "     join zip_codes as z\n",
    "         on cu.zip = z.zip\n",
    "where cu.closest_store_id = 1\n",
    "order by 1,2\n",
    "\n",
    "\"\"\"\n",
    "\n",
    "df = my_select_query_pandas(query, rollback_before_flag, rollback_after_flag)\n",
    "df"
   ]
  },
  {
   "cell_type": "markdown",
   "id": "677d0f69",
   "metadata": {},
   "source": [
    "## Heatmap showing intensity as the number of customers in each zip code"
   ]
  },
  {
   "cell_type": "code",
   "execution_count": 20,
   "id": "e47018c5",
   "metadata": {},
   "outputs": [
    {
     "data": {
      "application/vnd.jupyter.widget-view+json": {
       "model_id": "e04c18b32fd04bbe9cbb7477a885dca9",
       "version_major": 2,
       "version_minor": 0
      },
      "text/plain": [
       "Figure(layout=FigureLayout(height='420px'))"
      ]
     },
     "metadata": {},
     "output_type": "display_data"
    }
   ],
   "source": [
    "fig = gmaps.figure(center=sather_gate_berkeley, zoom_level=8)\n",
    "\n",
    "heatmap_layer = gmaps.heatmap_layer(df)\n",
    "\n",
    "fig.add_layer(heatmap_layer)\n",
    "\n",
    "fig"
   ]
  },
  {
   "cell_type": "markdown",
   "id": "2424f749",
   "metadata": {},
   "source": [
    "## Same map but in Hybrid;  a lot of people think heat maps look better with Hybrid instead of Road Map"
   ]
  },
  {
   "cell_type": "code",
   "execution_count": 21,
   "id": "013325f7",
   "metadata": {},
   "outputs": [
    {
     "data": {
      "application/vnd.jupyter.widget-view+json": {
       "model_id": "1f712caa697f4a9fb2da127320863e46",
       "version_major": 2,
       "version_minor": 0
      },
      "text/plain": [
       "Figure(layout=FigureLayout(height='420px'))"
      ]
     },
     "metadata": {},
     "output_type": "display_data"
    }
   ],
   "source": [
    "fig = gmaps.figure(center=sather_gate_berkeley, map_type = 'HYBRID', zoom_level=8)\n",
    "\n",
    "heatmap_layer = gmaps.heatmap_layer(df)\n",
    "\n",
    "fig.add_layer(heatmap_layer)\n",
    "\n",
    "fig"
   ]
  },
  {
   "cell_type": "markdown",
   "id": "b1ee593d",
   "metadata": {},
   "source": [
    "## Find a list of geojson geometries that are built into Google Maps;  note that us zip codes are not in there"
   ]
  },
  {
   "cell_type": "code",
   "execution_count": 22,
   "id": "26fe12a0",
   "metadata": {},
   "outputs": [
    {
     "data": {
      "text/plain": [
       "dict_keys(['countries', 'countries-high-resolution', 'england-counties', 'us-states', 'us-counties', 'india-states', 'brazil-states'])"
      ]
     },
     "execution_count": 22,
     "metadata": {},
     "output_type": "execute_result"
    }
   ],
   "source": [
    "gmaps.geojson_geometries.list_geometries()\n"
   ]
  },
  {
   "cell_type": "markdown",
   "id": "6fb84996",
   "metadata": {},
   "source": [
    "## Load the geometry for US States;  give each state a random color"
   ]
  },
  {
   "cell_type": "code",
   "execution_count": 23,
   "id": "7e83706b",
   "metadata": {
    "scrolled": true
   },
   "outputs": [
    {
     "data": {
      "application/vnd.jupyter.widget-view+json": {
       "model_id": "bdd1c8f6e2e343e1b96910e4f36b3655",
       "version_major": 2,
       "version_minor": 0
      },
      "text/plain": [
       "Figure(layout=FigureLayout(height='420px'))"
      ]
     },
     "metadata": {},
     "output_type": "display_data"
    }
   ],
   "source": [
    "states_geojson = gmaps.geojson_geometries.load_geometry('us-states')\n",
    "\n",
    "fig = gmaps.figure(center=sather_gate_berkeley, zoom_level=2)\n",
    "\n",
    "colors = [np.random.choice(['red', 'green', 'blue', 'purple', 'yellow', 'teal']) for state in states_geojson['features']]\n",
    "\n",
    "geojson_layer = gmaps.geojson_layer(states_geojson, fill_color=colors)\n",
    "\n",
    "fig.add_layer(geojson_layer)\n",
    "\n",
    "fig"
   ]
  },
  {
   "cell_type": "markdown",
   "id": "a1585ecb",
   "metadata": {},
   "source": [
    "## If you want a US zip code geometry, it's not built into Google Maps, you have to download it from other sources; the directory geojson_data has these files downloaded for you;  customer_zip_geojson.json is just the zip codes for our customers for all stores"
   ]
  },
  {
   "cell_type": "code",
   "execution_count": 24,
   "id": "1c2df24e",
   "metadata": {},
   "outputs": [
    {
     "data": {
      "application/vnd.jupyter.widget-view+json": {
       "model_id": "aa1cebe9af164ab9b2c8ec6286d29b92",
       "version_major": 2,
       "version_minor": 0
      },
      "text/plain": [
       "Figure(layout=FigureLayout(height='420px'))"
      ]
     },
     "metadata": {},
     "output_type": "display_data"
    }
   ],
   "source": [
    "f = open('geojson_data/customer_zip_geojson.json')\n",
    "customer_zip_geojson = json.load(f)\n",
    "f.close()\n",
    "\n",
    "kansas = (38.4942,-98.3132)\n",
    "\n",
    "fig = gmaps.figure(center=kansas, zoom_level=4)\n",
    "\n",
    "colors = [np.random.choice(['red', 'green', 'blue', 'purple', 'yellow', 'teal']) \n",
    "          for state in customer_zip_geojson['features']]\n",
    "          \n",
    "geojson_layer = gmaps.geojson_layer(customer_zip_geojson, fill_color=colors)\n",
    "\n",
    "fig.add_layer(geojson_layer)\n",
    "\n",
    "fig"
   ]
  },
  {
   "cell_type": "markdown",
   "id": "ce0dc746",
   "metadata": {},
   "source": [
    "# Lab: Google Maps - Driving Directions, Traffic Layers, Transit Layers"
   ]
  },
  {
   "cell_type": "markdown",
   "id": "9ae6586e",
   "metadata": {},
   "source": [
    "## Bicycling Layer"
   ]
  },
  {
   "cell_type": "code",
   "execution_count": 25,
   "id": "7ac3886a",
   "metadata": {},
   "outputs": [
    {
     "data": {
      "application/vnd.jupyter.widget-view+json": {
       "model_id": "9707217918224a41b9a6887e8639f72b",
       "version_major": 2,
       "version_minor": 0
      },
      "text/plain": [
       "Figure(layout=FigureLayout(height='420px'))"
      ]
     },
     "metadata": {},
     "output_type": "display_data"
    }
   ],
   "source": [
    "fig = gmaps.figure(center=sather_gate_berkeley, zoom_level=9)\n",
    "\n",
    "fig.add_layer(gmaps.bicycling_layer())\n",
    "\n",
    "fig"
   ]
  },
  {
   "cell_type": "markdown",
   "id": "139e928c",
   "metadata": {},
   "source": [
    "## Transit Layer"
   ]
  },
  {
   "cell_type": "code",
   "execution_count": 26,
   "id": "0f2274f8",
   "metadata": {},
   "outputs": [
    {
     "data": {
      "application/vnd.jupyter.widget-view+json": {
       "model_id": "3c5f3d2899ce4434b2b6dcfbdf5592ce",
       "version_major": 2,
       "version_minor": 0
      },
      "text/plain": [
       "Figure(layout=FigureLayout(height='420px'))"
      ]
     },
     "metadata": {},
     "output_type": "display_data"
    }
   ],
   "source": [
    "fig = gmaps.figure(center=sather_gate_berkeley, zoom_level=10)\n",
    "\n",
    "fig.add_layer(gmaps.transit_layer())\n",
    "\n",
    "fig"
   ]
  },
  {
   "cell_type": "markdown",
   "id": "37b001f5",
   "metadata": {},
   "source": [
    "## Traffic Layer"
   ]
  },
  {
   "cell_type": "code",
   "execution_count": 27,
   "id": "7980826b",
   "metadata": {},
   "outputs": [
    {
     "data": {
      "application/vnd.jupyter.widget-view+json": {
       "model_id": "7f017bc0a3fe4412ab45d1a271b0d091",
       "version_major": 2,
       "version_minor": 0
      },
      "text/plain": [
       "Figure(layout=FigureLayout(height='420px'))"
      ]
     },
     "metadata": {},
     "output_type": "display_data"
    }
   ],
   "source": [
    "fig = gmaps.figure(center=sather_gate_berkeley, zoom_level=10)\n",
    "\n",
    "fig.add_layer(gmaps.traffic_layer())\n",
    "\n",
    "fig"
   ]
  },
  {
   "cell_type": "markdown",
   "id": "42c2a83a",
   "metadata": {},
   "source": [
    "## Directions from Sather Gate at UC Berkeley to the Computer History Museum"
   ]
  },
  {
   "cell_type": "code",
   "execution_count": 28,
   "id": "612a394a",
   "metadata": {},
   "outputs": [
    {
     "data": {
      "application/vnd.jupyter.widget-view+json": {
       "model_id": "1b01f8d520f64ef3aa7a7ed2a664a343",
       "version_major": 2,
       "version_minor": 0
      },
      "text/plain": [
       "Figure(layout=FigureLayout(height='420px'))"
      ]
     },
     "metadata": {},
     "output_type": "display_data"
    }
   ],
   "source": [
    "midpoint = (37.6750258153003, -122.22092635822978)\n",
    "\n",
    "computer_history_museum = (37.41431101165934, -122.0771717192328)\n",
    "\n",
    "fig = gmaps.figure(center=midpoint, zoom_level=9)\n",
    "\n",
    "sather_2_chm = gmaps.directions_layer(sather_gate_berkeley, computer_history_museum)\n",
    "\n",
    "fig.add_layer(sather_2_chm)\n",
    "\n",
    "fig"
   ]
  },
  {
   "cell_type": "markdown",
   "id": "5af39e2f",
   "metadata": {},
   "source": [
    "## my_calculate_distance() - function to calculate the geodesic distance in miles between two points;  unlike great circle, geodesic takes into account that the earth is an ellipsoid not a sphere"
   ]
  },
  {
   "cell_type": "code",
   "execution_count": 29,
   "id": "a0fd442c",
   "metadata": {},
   "outputs": [],
   "source": [
    "#\n",
    "#  Given two points in (latitude, longitude) format, calculate the distance between them in miles\n",
    "#\n",
    "\n",
    "def my_calculate_distance(point_1, point_2):\n",
    "    \"Given two points in (latitude, longitude) format, calculate the distance between them in miles\"\n",
    "    \n",
    "    geod = Geodesic.WGS84\n",
    "\n",
    "\n",
    "    g = geod.Inverse(point_1[0], point_1[1], point_2[0], point_2[1])\n",
    "    miles = g['s12'] / 1000 * 0.621371\n",
    "    \n",
    "    return miles"
   ]
  },
  {
   "cell_type": "code",
   "execution_count": 30,
   "id": "d9a98c4f",
   "metadata": {},
   "outputs": [
    {
     "data": {
      "text/plain": [
       "32.996404285783115"
      ]
     },
     "execution_count": 30,
     "metadata": {},
     "output_type": "execute_result"
    }
   ],
   "source": [
    "my_calculate_distance(sather_gate_berkeley, computer_history_museum)"
   ]
  },
  {
   "cell_type": "markdown",
   "id": "725e0b16",
   "metadata": {},
   "source": [
    "## Map with the geodesic distance between Sather Gate at UC Berkeley and the Computer History Museum;  compare and contrast to the Directions map above"
   ]
  },
  {
   "cell_type": "code",
   "execution_count": 31,
   "id": "9d638894",
   "metadata": {},
   "outputs": [
    {
     "data": {
      "application/vnd.jupyter.widget-view+json": {
       "model_id": "5179e8a8b3034e52bb6d36185ca6e3ae",
       "version_major": 2,
       "version_minor": 0
      },
      "text/plain": [
       "Figure(layout=FigureLayout(height='420px'))"
      ]
     },
     "metadata": {},
     "output_type": "display_data"
    }
   ],
   "source": [
    "fig = gmaps.figure(center=midpoint, zoom_level=9)\n",
    "\n",
    "lines = []\n",
    "\n",
    "lines.append(gmaps.Line(start=sather_gate_berkeley, end=computer_history_museum, stroke_color='blue'))\n",
    "\n",
    "drawing_layer = gmaps.drawing_layer(features=lines)\n",
    "\n",
    "fig.add_layer(drawing_layer)\n",
    "\n",
    "fig"
   ]
  },
  {
   "cell_type": "markdown",
   "id": "9998e2b1",
   "metadata": {},
   "source": [
    "## my_calculate_new_point() - function that takes a point, direction, and miles and find a new point;  direction is in degrees: 0 = North, 90 = East, 180 = South, 270 = West"
   ]
  },
  {
   "cell_type": "code",
   "execution_count": 32,
   "id": "ad976fc1",
   "metadata": {},
   "outputs": [],
   "source": [
    "#\n",
    "#  Given a point, direction, and miles, calculate a new point\n",
    "#\n",
    "#  Direction is in degrees, with 0 = North, 90 = East, 180 = South, 270 = West\n",
    "#\n",
    "#\n",
    "\n",
    "def my_calculate_new_point(point, direction, miles):\n",
    "    \"Given a point, direction, and miles, calculate the box in form left, right, top, bottom\"\n",
    "    \n",
    "    geod = Geodesic.WGS84\n",
    "\n",
    "    kilometers = miles * 1.60934\n",
    "    meters = kilometers * 1000\n",
    "\n",
    "    g = geod.Direct(point[0], point[1], direction, meters)\n",
    "    \n",
    "    new_point = (g['lat2'], g['lon2'])\n",
    "    \n",
    "    return(new_point)"
   ]
  },
  {
   "cell_type": "markdown",
   "id": "6cd5e28f",
   "metadata": {},
   "source": [
    "## Draw a line from Sather Gate at UC Berkeley to a point 100 miles North East"
   ]
  },
  {
   "cell_type": "code",
   "execution_count": 33,
   "id": "e5b8be81",
   "metadata": {},
   "outputs": [
    {
     "data": {
      "application/vnd.jupyter.widget-view+json": {
       "model_id": "c543712fc95d4cddb38d731f18375f04",
       "version_major": 2,
       "version_minor": 0
      },
      "text/plain": [
       "Figure(layout=FigureLayout(height='420px'))"
      ]
     },
     "metadata": {},
     "output_type": "display_data"
    }
   ],
   "source": [
    "north_east = 45\n",
    "miles = 100\n",
    "\n",
    "midpoint = (38.518434,-121.576177)\n",
    "\n",
    "new_point = my_calculate_new_point(sather_gate_berkeley, north_east, miles)\n",
    "\n",
    "fig = gmaps.figure(center=(38.518434,-121.576177), zoom_level=7)\n",
    "\n",
    "lines = []\n",
    "\n",
    "lines.append(gmaps.Line(start=sather_gate_berkeley, end=new_point, stroke_color='blue'))\n",
    "\n",
    "drawing_layer = gmaps.drawing_layer(features=lines)\n",
    "\n",
    "fig.add_layer(drawing_layer)\n",
    "\n",
    "fig"
   ]
  },
  {
   "cell_type": "markdown",
   "id": "e1fc088f",
   "metadata": {},
   "source": [
    "## my_calculate_box() - function that take a point and X miles and finds a box;  left is west X miles; right is X miles east; top is X miles north; bottom is X miles south"
   ]
  },
  {
   "cell_type": "code",
   "execution_count": 34,
   "id": "f8cc9740",
   "metadata": {},
   "outputs": [],
   "source": [
    "#\n",
    "#  Given a point and miles, calculate the box  \n",
    "#\n",
    "#\n",
    "\n",
    "def my_calculate_box(point, miles):\n",
    "    \"Given a point and miles, calculate the box in form left, right, top, bottom\"\n",
    "    \n",
    "    geod = Geodesic.WGS84\n",
    "\n",
    "    kilometers = miles * 1.60934\n",
    "    meters = kilometers * 1000\n",
    "\n",
    "    g = geod.Direct(point[0], point[1], 270, meters)\n",
    "    left = (g['lat2'], g['lon2'])\n",
    "\n",
    "    g = geod.Direct(point[0], point[1], 90, meters)\n",
    "    right = (g['lat2'], g['lon2'])\n",
    "\n",
    "    g = geod.Direct(point[0], point[1], 0, meters)\n",
    "    top = (g['lat2'], g['lon2'])\n",
    "\n",
    "    g = geod.Direct(point[0], point[1], 180, meters)\n",
    "    bottom = (g['lat2'], g['lon2'])\n",
    "    \n",
    "    return(left, right, top, bottom)"
   ]
  },
  {
   "cell_type": "code",
   "execution_count": 35,
   "id": "066a2e5d",
   "metadata": {},
   "outputs": [
    {
     "name": "stdout",
     "output_type": "stream",
     "text": [
      "(37.8702249126905, -122.35095496602143) (37.8702249126905, -122.16804840556851) (37.9427566793502, -122.25950168579497) (37.79776328649186, -122.25950168579497)\n"
     ]
    }
   ],
   "source": [
    "left, right, top, bottom = my_calculate_box(sather_gate_berkeley, 5)\n",
    "\n",
    "print (left, right, top, bottom)"
   ]
  },
  {
   "cell_type": "markdown",
   "id": "a8da1f0c",
   "metadata": {},
   "source": [
    "## The box allows us to easily find point stored in a database table"
   ]
  },
  {
   "cell_type": "code",
   "execution_count": 37,
   "id": "068968cd",
   "metadata": {},
   "outputs": [
    {
     "name": "stdout",
     "output_type": "stream",
     "text": [
      "94530\n",
      "94563\n",
      "94602\n",
      "94607\n",
      "94608\n",
      "94609\n",
      "94610\n",
      "94611\n",
      "94612\n",
      "94618\n",
      "94702\n",
      "94703\n",
      "94704\n",
      "94705\n",
      "94706\n",
      "94707\n",
      "94708\n",
      "94709\n",
      "94710\n",
      "94720\n",
      "94804\n"
     ]
    }
   ],
   "source": [
    "connection.rollback()\n",
    "\n",
    "query = \"select zip from zip_codes \"\n",
    "query += \" where latitude >= \" + str(bottom[0])\n",
    "query += \" and latitude <= \" + str(top [0])\n",
    "query += \" and longitude >= \" + str(left[1])\n",
    "query += \" and longitude <= \" + str(right[1])\n",
    "query += \" order by 1 \"\n",
    "\n",
    "cursor.execute(query)\n",
    "\n",
    "connection.rollback()\n",
    "\n",
    "rows = cursor.fetchall()\n",
    "\n",
    "for row in rows:\n",
    "    print(row[0])\n"
   ]
  },
  {
   "cell_type": "markdown",
   "id": "f61d7351",
   "metadata": {},
   "source": [
    "## To draw the box on the map, we need to change the format of the box to find the corners"
   ]
  },
  {
   "cell_type": "code",
   "execution_count": 38,
   "id": "173f05f9",
   "metadata": {},
   "outputs": [
    {
     "data": {
      "text/plain": [
       "[(37.9427566793502, -122.35095496602143),\n",
       " (37.9427566793502, -122.16804840556851),\n",
       " (37.79776328649186, -122.16804840556851),\n",
       " (37.79776328649186, -122.35095496602143)]"
      ]
     },
     "execution_count": 38,
     "metadata": {},
     "output_type": "execute_result"
    }
   ],
   "source": [
    "# find corners\n",
    "\n",
    "corners = [ (top[0], left[1]), (top[0], right[1]), (bottom[0], right[1]), (bottom[0], left[1])]\n",
    "\n",
    "corners"
   ]
  },
  {
   "cell_type": "markdown",
   "id": "43fca324",
   "metadata": {},
   "source": [
    "## Draw the outline of the box by drawing 4 lines between the 4 corners"
   ]
  },
  {
   "cell_type": "code",
   "execution_count": 39,
   "id": "b5e3c8f1",
   "metadata": {},
   "outputs": [
    {
     "data": {
      "application/vnd.jupyter.widget-view+json": {
       "model_id": "19ca477a6fa642fc85a7464845176fb6",
       "version_major": 2,
       "version_minor": 0
      },
      "text/plain": [
       "Figure(layout=FigureLayout(height='420px'))"
      ]
     },
     "metadata": {},
     "output_type": "display_data"
    }
   ],
   "source": [
    "fig = gmaps.figure(center=sather_gate_berkeley, zoom_level=10)\n",
    "\n",
    "lines = []\n",
    "\n",
    "lines.append(gmaps.Line(start=corners[0], end=corners[1], stroke_color='blue'))\n",
    "lines.append(gmaps.Line(start=corners[1], end=corners[2], stroke_color='blue'))\n",
    "lines.append(gmaps.Line(start=corners[2], end=corners[3], stroke_color='blue'))\n",
    "lines.append(gmaps.Line(start=corners[3], end=corners[0], stroke_color='blue'))\n",
    "\n",
    "drawing_layer = gmaps.drawing_layer(features=lines)\n",
    "\n",
    "fig.add_layer(drawing_layer)\n",
    "\n",
    "fig"
   ]
  },
  {
   "cell_type": "markdown",
   "id": "ab478d67",
   "metadata": {},
   "source": [
    "## Draw the box using the Polygon method in Google Maps"
   ]
  },
  {
   "cell_type": "code",
   "execution_count": 40,
   "id": "26b74cf1",
   "metadata": {},
   "outputs": [
    {
     "data": {
      "application/vnd.jupyter.widget-view+json": {
       "model_id": "5aef32f0d55e4e96a36e5f18bbf1f9d4",
       "version_major": 2,
       "version_minor": 0
      },
      "text/plain": [
       "Figure(layout=FigureLayout(height='420px'))"
      ]
     },
     "metadata": {},
     "output_type": "display_data"
    }
   ],
   "source": [
    "fig = gmaps.figure(center=sather_gate_berkeley, zoom_level=10)\n",
    "\n",
    "five_mile_box = gmaps.Polygon(corners, stroke_color='blue', fill_color='blue')\n",
    "\n",
    "drawing_layer = gmaps.drawing_layer(features=[five_mile_box])\n",
    "\n",
    "fig.add_layer(drawing_layer)\n",
    "\n",
    "fig"
   ]
  },
  {
   "cell_type": "code",
   "execution_count": null,
   "id": "1736fa19",
   "metadata": {},
   "outputs": [],
   "source": []
  }
 ],
 "metadata": {
  "kernelspec": {
   "display_name": "Python 3 (ipykernel)",
   "language": "python",
   "name": "python3"
  },
  "language_info": {
   "codemirror_mode": {
    "name": "ipython",
    "version": 3
   },
   "file_extension": ".py",
   "mimetype": "text/x-python",
   "name": "python",
   "nbconvert_exporter": "python",
   "pygments_lexer": "ipython3",
   "version": "3.9.7"
  }
 },
 "nbformat": 4,
 "nbformat_minor": 5
}
