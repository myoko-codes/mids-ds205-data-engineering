{
 "cells": [
  {
   "cell_type": "markdown",
   "id": "e52a5bea",
   "metadata": {},
   "source": [
    "# Web Client"
   ]
  },
  {
   "cell_type": "code",
   "execution_count": 1,
   "id": "eb21ec2e",
   "metadata": {},
   "outputs": [],
   "source": [
    "import requests\n",
    "\n",
    "import pprint"
   ]
  },
  {
   "cell_type": "markdown",
   "id": "6fd2a49c",
   "metadata": {},
   "source": [
    "# Lab: Flask - Client-Side GET Calls (Without Parameters) Using Python"
   ]
  },
  {
   "cell_type": "markdown",
   "id": "74e1fa63",
   "metadata": {},
   "source": [
    "## The Python requests module allows us to make API calls to a web server;  let's start by getting a static web page; we will use google.com as an example\n"
   ]
  },
  {
   "cell_type": "code",
   "execution_count": 2,
   "id": "958b6bec",
   "metadata": {},
   "outputs": [],
   "source": [
    "r = requests.get(\"https://google.com\")"
   ]
  },
  {
   "cell_type": "markdown",
   "id": "920ef1c9",
   "metadata": {},
   "source": [
    "## 200 is success; in the asynch, we have list of codes and what they mean\n"
   ]
  },
  {
   "cell_type": "code",
   "execution_count": 3,
   "id": "0c9e8cce",
   "metadata": {},
   "outputs": [
    {
     "data": {
      "text/plain": [
       "200"
      ]
     },
     "execution_count": 3,
     "metadata": {},
     "output_type": "execute_result"
    }
   ],
   "source": [
    "r.status_code"
   ]
  },
  {
   "cell_type": "markdown",
   "id": "9dc46e87",
   "metadata": {},
   "source": [
    "## Web headers are returned as a case insensitive Python dictionary; web headers tell us things like encoding, cookies to set, media types, rate limits, same server origin policies, cross site scripting policies, etc.\n"
   ]
  },
  {
   "cell_type": "code",
   "execution_count": 4,
   "id": "7a7bece6",
   "metadata": {},
   "outputs": [
    {
     "data": {
      "text/plain": [
       "{'Date': 'Tue, 18 Mar 2025 21:54:47 GMT', 'Expires': '-1', 'Cache-Control': 'private, max-age=0', 'Content-Type': 'text/html; charset=ISO-8859-1', 'Content-Security-Policy-Report-Only': \"object-src 'none';base-uri 'self';script-src 'nonce-mcVMdPpYvS0IdEBy3f3viA' 'strict-dynamic' 'report-sample' 'unsafe-eval' 'unsafe-inline' https: http:;report-uri https://csp.withgoogle.com/csp/gws/other-hp\", 'Accept-CH': 'Sec-CH-Prefers-Color-Scheme', 'P3P': 'CP=\"This is not a P3P policy! See g.co/p3phelp for more info.\"', 'Content-Encoding': 'gzip', 'Server': 'gws', 'X-XSS-Protection': '0', 'X-Frame-Options': 'SAMEORIGIN', 'Set-Cookie': 'AEC=AVcja2dmU2ZZBa0-0AzLOwmBwLg9o7UjUZuthaLAa4U6_DTh0v9wbv8MzQ; expires=Sun, 14-Sep-2025 21:54:47 GMT; path=/; domain=.google.com; Secure; HttpOnly; SameSite=lax, NID=522=tXYbYFit2oNB2r9oYRsd_ICohqaQFy3zIe1O5Zg-NN76OSY1TIh3EBohinDla8OfdsFh-lUiiwB-GzSO1hXCsAq8dWlfYKNlNtEkaZ3i2ba_FhXd9bKT6QSv8KEKy26jU8uQAXZzlO9QmcBh7wi6U-kH03aVoSuwIb8fhe2CHsOXj_W-5eZDBbSubB5sSu9tVzLmTmiHYEKvGbnhU60; expires=Wed, 17-Sep-2025 21:54:47 GMT; path=/; domain=.google.com; HttpOnly', 'Alt-Svc': 'h3=\":443\"; ma=2592000,h3-29=\":443\"; ma=2592000', 'Transfer-Encoding': 'chunked'}"
      ]
     },
     "execution_count": 4,
     "metadata": {},
     "output_type": "execute_result"
    }
   ],
   "source": [
    "r.headers"
   ]
  },
  {
   "cell_type": "code",
   "execution_count": 5,
   "id": "1a708c1a",
   "metadata": {},
   "outputs": [
    {
     "name": "stdout",
     "output_type": "stream",
     "text": [
      "{'Accept-CH': 'Sec-CH-Prefers-Color-Scheme',\n",
      " 'Alt-Svc': 'h3=\":443\"; ma=2592000,h3-29=\":443\"; ma=2592000',\n",
      " 'Cache-Control': 'private, max-age=0',\n",
      " 'Content-Encoding': 'gzip',\n",
      " 'Content-Security-Policy-Report-Only': \"object-src 'none';base-uri \"\n",
      "                                        \"'self';script-src \"\n",
      "                                        \"'nonce-mcVMdPpYvS0IdEBy3f3viA' \"\n",
      "                                        \"'strict-dynamic' 'report-sample' \"\n",
      "                                        \"'unsafe-eval' 'unsafe-inline' https: \"\n",
      "                                        'http:;report-uri '\n",
      "                                        'https://csp.withgoogle.com/csp/gws/other-hp',\n",
      " 'Content-Type': 'text/html; charset=ISO-8859-1',\n",
      " 'Date': 'Tue, 18 Mar 2025 21:54:47 GMT',\n",
      " 'Expires': '-1',\n",
      " 'P3P': 'CP=\"This is not a P3P policy! See g.co/p3phelp for more info.\"',\n",
      " 'Server': 'gws',\n",
      " 'Set-Cookie': 'AEC=AVcja2dmU2ZZBa0-0AzLOwmBwLg9o7UjUZuthaLAa4U6_DTh0v9wbv8MzQ; '\n",
      "               'expires=Sun, 14-Sep-2025 21:54:47 GMT; path=/; '\n",
      "               'domain=.google.com; Secure; HttpOnly; SameSite=lax, '\n",
      "               'NID=522=tXYbYFit2oNB2r9oYRsd_ICohqaQFy3zIe1O5Zg-NN76OSY1TIh3EBohinDla8OfdsFh-lUiiwB-GzSO1hXCsAq8dWlfYKNlNtEkaZ3i2ba_FhXd9bKT6QSv8KEKy26jU8uQAXZzlO9QmcBh7wi6U-kH03aVoSuwIb8fhe2CHsOXj_W-5eZDBbSubB5sSu9tVzLmTmiHYEKvGbnhU60; '\n",
      "               'expires=Wed, 17-Sep-2025 21:54:47 GMT; path=/; '\n",
      "               'domain=.google.com; HttpOnly',\n",
      " 'Transfer-Encoding': 'chunked',\n",
      " 'X-Frame-Options': 'SAMEORIGIN',\n",
      " 'X-XSS-Protection': '0'}\n"
     ]
    }
   ],
   "source": [
    "pprint.pprint(dict(r.headers))"
   ]
  },
  {
   "cell_type": "markdown",
   "id": "e1fd71d9",
   "metadata": {},
   "source": [
    "## For google.com, the payload will be HTML, so it will be text; it's huge, so only print the first 500 characters\n"
   ]
  },
  {
   "cell_type": "code",
   "execution_count": 6,
   "id": "88ae923b",
   "metadata": {},
   "outputs": [
    {
     "data": {
      "text/plain": [
       "'<!doctype html><html itemscope=\"\" itemtype=\"http://schema.org/WebPage\" lang=\"en\"><head><meta content=\"Search the world\\'s information, including webpages, images, videos and more. Google has many special features to help you find exactly what you\\'re looking for.\" name=\"description\"><meta content=\"noodp, \" name=\"robots\"><meta content=\"text/html; charset=UTF-8\" http-equiv=\"Content-Type\"><meta content=\"/images/branding/googleg/1x/googleg_standard_color_128dp.png\" itemprop=\"image\"><title>Google</titl'"
      ]
     },
     "execution_count": 6,
     "metadata": {},
     "output_type": "execute_result"
    }
   ],
   "source": [
    "r.text[:500]"
   ]
  },
  {
   "cell_type": "markdown",
   "id": "a0e1106b",
   "metadata": {},
   "source": [
    "## A static page from our web server; Note that since our certificate is self signed, we have to add a parameter verify=False and will still receive a warning; never surf a website you didn't create with verify=False\n"
   ]
  },
  {
   "cell_type": "code",
   "execution_count": 7,
   "id": "8e567060",
   "metadata": {},
   "outputs": [
    {
     "name": "stderr",
     "output_type": "stream",
     "text": [
      "/opt/conda/lib/python3.9/site-packages/urllib3/connectionpool.py:1013: InsecureRequestWarning: Unverified HTTPS request is being made to host 'localhost'. Adding certificate verification is strongly advised. See: https://urllib3.readthedocs.io/en/1.26.x/advanced-usage.html#ssl-warnings\n",
      "  warnings.warn(\n"
     ]
    }
   ],
   "source": [
    "r = requests.get(\"https://localhost\", verify=False)"
   ]
  },
  {
   "cell_type": "code",
   "execution_count": 8,
   "id": "bb5bf4bf",
   "metadata": {},
   "outputs": [
    {
     "data": {
      "text/plain": [
       "200"
      ]
     },
     "execution_count": 8,
     "metadata": {},
     "output_type": "execute_result"
    }
   ],
   "source": [
    "r.status_code\n"
   ]
  },
  {
   "cell_type": "code",
   "execution_count": 9,
   "id": "7ea8e826",
   "metadata": {},
   "outputs": [
    {
     "data": {
      "text/plain": [
       "{'Content-Length': '3497', 'Content-Type': 'text/html; charset=utf-8', 'Last-Modified': 'Tue, 16 Nov 2021 15:22:38 GMT', 'Cache-Control': 'public, max-age=43200', 'Expires': 'Wed, 19 Mar 2025 10:04:47 GMT', 'ETag': '\"1637076158.4797215-3497-4041608509\"', 'Date': 'Tue, 18 Mar 2025 22:04:47 GMT', 'Server': 'Werkzeug/2.0.2 Python/3.9.7'}"
      ]
     },
     "execution_count": 9,
     "metadata": {},
     "output_type": "execute_result"
    }
   ],
   "source": [
    "r.headers"
   ]
  },
  {
   "cell_type": "code",
   "execution_count": 10,
   "id": "f7af28ca",
   "metadata": {},
   "outputs": [
    {
     "name": "stdout",
     "output_type": "stream",
     "text": [
      "{'Cache-Control': 'public, max-age=43200',\n",
      " 'Content-Length': '3497',\n",
      " 'Content-Type': 'text/html; charset=utf-8',\n",
      " 'Date': 'Tue, 18 Mar 2025 22:04:47 GMT',\n",
      " 'ETag': '\"1637076158.4797215-3497-4041608509\"',\n",
      " 'Expires': 'Wed, 19 Mar 2025 10:04:47 GMT',\n",
      " 'Last-Modified': 'Tue, 16 Nov 2021 15:22:38 GMT',\n",
      " 'Server': 'Werkzeug/2.0.2 Python/3.9.7'}\n"
     ]
    }
   ],
   "source": [
    "pprint.pprint(dict(r.headers))"
   ]
  },
  {
   "cell_type": "code",
   "execution_count": 11,
   "id": "e846841d",
   "metadata": {},
   "outputs": [
    {
     "data": {
      "text/plain": [
       "'<!DOCTYPE html>\\n\\n<html>\\n    \\n<body>\\n    \\n    <title> Landing Page </title>\\n\\n    <h1> Welcome to the Landing Page for this Web Server! </h1>\\n    \\n    <h2> In the beginning, html was simply content without formatting, like this very simple landing page. </h2>\\n    \\n    <h2> Next, html added formatting inside the html. </h2>\\n    \\n    <h2> Next, content and formatting were separated: \\n        content was placed in html files, \\n        while formatting was placed in css (cascading style sheets) files.'"
      ]
     },
     "execution_count": 11,
     "metadata": {},
     "output_type": "execute_result"
    }
   ],
   "source": [
    "r.text[:500]"
   ]
  },
  {
   "cell_type": "markdown",
   "id": "d70471da",
   "metadata": {},
   "source": [
    "## Making web API calls is the same procedure as getting a web page\n"
   ]
  },
  {
   "cell_type": "code",
   "execution_count": 12,
   "id": "1fdce59a",
   "metadata": {},
   "outputs": [
    {
     "name": "stderr",
     "output_type": "stream",
     "text": [
      "/opt/conda/lib/python3.9/site-packages/urllib3/connectionpool.py:1013: InsecureRequestWarning: Unverified HTTPS request is being made to host 'localhost'. Adding certificate verification is strongly advised. See: https://urllib3.readthedocs.io/en/1.26.x/advanced-usage.html#ssl-warnings\n",
      "  warnings.warn(\n"
     ]
    }
   ],
   "source": [
    "r = requests.get(\"https://localhost/api/products\", verify=False)"
   ]
  },
  {
   "cell_type": "code",
   "execution_count": 13,
   "id": "02da06e8",
   "metadata": {},
   "outputs": [
    {
     "data": {
      "text/plain": [
       "200"
      ]
     },
     "execution_count": 13,
     "metadata": {},
     "output_type": "execute_result"
    }
   ],
   "source": [
    "r.status_code"
   ]
  },
  {
   "cell_type": "code",
   "execution_count": 14,
   "id": "b956c0a1",
   "metadata": {},
   "outputs": [
    {
     "data": {
      "text/plain": [
       "{'Content-Type': 'text/html; charset=utf-8', 'Content-Length': '867', 'Server': 'Werkzeug/2.0.2 Python/3.9.7', 'Date': 'Tue, 18 Mar 2025 22:06:53 GMT'}"
      ]
     },
     "execution_count": 14,
     "metadata": {},
     "output_type": "execute_result"
    }
   ],
   "source": [
    "r.headers"
   ]
  },
  {
   "cell_type": "code",
   "execution_count": 15,
   "id": "f8238353",
   "metadata": {},
   "outputs": [
    {
     "name": "stdout",
     "output_type": "stream",
     "text": [
      "{'Content-Length': '867',\n",
      " 'Content-Type': 'text/html; charset=utf-8',\n",
      " 'Date': 'Tue, 18 Mar 2025 22:06:53 GMT',\n",
      " 'Server': 'Werkzeug/2.0.2 Python/3.9.7'}\n"
     ]
    }
   ],
   "source": [
    "pprint.pprint(dict(r.headers))"
   ]
  },
  {
   "cell_type": "code",
   "execution_count": 16,
   "id": "c1107cc2",
   "metadata": {},
   "outputs": [
    {
     "data": {
      "text/plain": [
       "'[{\"product_id\": \"1\", \"product_name\": \"Pistachio Salmon\", \"quantity\": \"1,828,778\", \"total_sales\": \"21,945,336\"}, {\"product_id\": \"2\", \"product_name\": \"Teriyaki Chicken\", \"quantity\": \"1,145,013\", \"total_sales\": \"13,740,156\"}, {\"product_id\": \"3\", \"product_name\": \"Spinach Orzo\", \"quantity\": \"456,769\", \"total_sales\": \"5,481,228\"}, {\"product_id\": \"4\", \"product_name\": \"Eggplant Lasagna\", \"quantity\": \"1,599,058\", \"total_sales\": \"19,188,696\"}, {\"product_id\": \"5\", \"product_name\": \"Chicken Salad\", \"quantity\": \"228,561\", \"total_sales\": \"2,742,732\"}, {\"product_id\": \"6\", \"product_name\": \"Curry Chicken\", \"quantity\": \"1,368,884\", \"total_sales\": \"16,426,608\"}, {\"product_id\": \"7\", \"product_name\": \"Tilapia Piccata\", \"quantity\": \"687,237\", \"total_sales\": \"8,246,844\"}, {\"product_id\": \"8\", \"product_name\": \"Brocolli Stir Fry\", \"quantity\": \"913,984\", \"total_sales\": \"10,967,808\"}]'"
      ]
     },
     "execution_count": 16,
     "metadata": {},
     "output_type": "execute_result"
    }
   ],
   "source": [
    "r.text"
   ]
  },
  {
   "cell_type": "code",
   "execution_count": 17,
   "id": "098761a1",
   "metadata": {},
   "outputs": [
    {
     "data": {
      "text/plain": [
       "[{'product_id': '1',\n",
       "  'product_name': 'Pistachio Salmon',\n",
       "  'quantity': '1,828,778',\n",
       "  'total_sales': '21,945,336'},\n",
       " {'product_id': '2',\n",
       "  'product_name': 'Teriyaki Chicken',\n",
       "  'quantity': '1,145,013',\n",
       "  'total_sales': '13,740,156'},\n",
       " {'product_id': '3',\n",
       "  'product_name': 'Spinach Orzo',\n",
       "  'quantity': '456,769',\n",
       "  'total_sales': '5,481,228'},\n",
       " {'product_id': '4',\n",
       "  'product_name': 'Eggplant Lasagna',\n",
       "  'quantity': '1,599,058',\n",
       "  'total_sales': '19,188,696'},\n",
       " {'product_id': '5',\n",
       "  'product_name': 'Chicken Salad',\n",
       "  'quantity': '228,561',\n",
       "  'total_sales': '2,742,732'},\n",
       " {'product_id': '6',\n",
       "  'product_name': 'Curry Chicken',\n",
       "  'quantity': '1,368,884',\n",
       "  'total_sales': '16,426,608'},\n",
       " {'product_id': '7',\n",
       "  'product_name': 'Tilapia Piccata',\n",
       "  'quantity': '687,237',\n",
       "  'total_sales': '8,246,844'},\n",
       " {'product_id': '8',\n",
       "  'product_name': 'Brocolli Stir Fry',\n",
       "  'quantity': '913,984',\n",
       "  'total_sales': '10,967,808'}]"
      ]
     },
     "execution_count": 17,
     "metadata": {},
     "output_type": "execute_result"
    }
   ],
   "source": [
    "r.json()"
   ]
  },
  {
   "cell_type": "code",
   "execution_count": 21,
   "id": "e4108420",
   "metadata": {},
   "outputs": [
    {
     "name": "stderr",
     "output_type": "stream",
     "text": [
      "/opt/conda/lib/python3.9/site-packages/urllib3/connectionpool.py:1013: InsecureRequestWarning: Unverified HTTPS request is being made to host 'localhost'. Adding certificate verification is strongly advised. See: https://urllib3.readthedocs.io/en/1.26.x/advanced-usage.html#ssl-warnings\n",
      "  warnings.warn(\n"
     ]
    }
   ],
   "source": [
    "r = requests.get(\"https://localhost/api/stores\", verify=False)"
   ]
  },
  {
   "cell_type": "code",
   "execution_count": 22,
   "id": "85793dfc",
   "metadata": {},
   "outputs": [
    {
     "data": {
      "text/plain": [
       "200"
      ]
     },
     "execution_count": 22,
     "metadata": {},
     "output_type": "execute_result"
    }
   ],
   "source": [
    "r.status_code"
   ]
  },
  {
   "cell_type": "code",
   "execution_count": 23,
   "id": "e27387ce",
   "metadata": {},
   "outputs": [
    {
     "data": {
      "text/plain": [
       "{'Content-Type': 'text/html; charset=utf-8', 'Content-Length': '340', 'Server': 'Werkzeug/2.0.2 Python/3.9.7', 'Date': 'Tue, 18 Mar 2025 22:22:35 GMT'}"
      ]
     },
     "execution_count": 23,
     "metadata": {},
     "output_type": "execute_result"
    }
   ],
   "source": [
    "r.headers"
   ]
  },
  {
   "cell_type": "code",
   "execution_count": 24,
   "id": "80a808b0",
   "metadata": {},
   "outputs": [
    {
     "name": "stdout",
     "output_type": "stream",
     "text": [
      "{'Content-Length': '340',\n",
      " 'Content-Type': 'text/html; charset=utf-8',\n",
      " 'Date': 'Tue, 18 Mar 2025 22:22:35 GMT',\n",
      " 'Server': 'Werkzeug/2.0.2 Python/3.9.7'}\n"
     ]
    }
   ],
   "source": [
    "pprint.pprint(dict(r.headers))"
   ]
  },
  {
   "cell_type": "code",
   "execution_count": 25,
   "id": "e0bf4e7e",
   "metadata": {},
   "outputs": [
    {
     "data": {
      "text/plain": [
       "'[{\"store_id\": \"1\", \"city\": \"Berkeley\", \"total_amount\": \"25,041,060\"}, {\"store_id\": \"2\", \"city\": \"Seattle\", \"total_amount\": \"22,024,512\"}, {\"store_id\": \"3\", \"city\": \"Dallas\", \"total_amount\": \"19,408,260\"}, {\"store_id\": \"4\", \"city\": \"Miami\", \"total_amount\": \"17,692,404\"}, {\"store_id\": \"5\", \"city\": \"Nashville\", \"total_amount\": \"14,573,172\"}]'"
      ]
     },
     "execution_count": 25,
     "metadata": {},
     "output_type": "execute_result"
    }
   ],
   "source": [
    "r.text"
   ]
  },
  {
   "cell_type": "code",
   "execution_count": 26,
   "id": "81986ea1",
   "metadata": {},
   "outputs": [
    {
     "data": {
      "text/plain": [
       "[{'store_id': '1', 'city': 'Berkeley', 'total_amount': '25,041,060'},\n",
       " {'store_id': '2', 'city': 'Seattle', 'total_amount': '22,024,512'},\n",
       " {'store_id': '3', 'city': 'Dallas', 'total_amount': '19,408,260'},\n",
       " {'store_id': '4', 'city': 'Miami', 'total_amount': '17,692,404'},\n",
       " {'store_id': '5', 'city': 'Nashville', 'total_amount': '14,573,172'}]"
      ]
     },
     "execution_count": 26,
     "metadata": {},
     "output_type": "execute_result"
    }
   ],
   "source": [
    "r.json()"
   ]
  },
  {
   "cell_type": "markdown",
   "id": "921e53c6",
   "metadata": {},
   "source": [
    "# Lab: Flask - Client-Side GET Calls (With Parameters) Using Python "
   ]
  },
  {
   "cell_type": "markdown",
   "id": "908d6c40",
   "metadata": {},
   "source": [
    "## To pass parameters to a GET call, we simply add a \"query string\" to the end of the URL:\n",
    "\n",
    "## \"https://localhost/api/products?product=3\n",
    "\n",
    "## if we had more than one parameter to pass, we separate them with an &\n",
    "\n",
    "## \"https://localhost/api/products?product=3&param2=value2&param3=value3"
   ]
  },
  {
   "cell_type": "code",
   "execution_count": 27,
   "id": "123dc86b",
   "metadata": {},
   "outputs": [
    {
     "name": "stderr",
     "output_type": "stream",
     "text": [
      "/opt/conda/lib/python3.9/site-packages/urllib3/connectionpool.py:1013: InsecureRequestWarning: Unverified HTTPS request is being made to host 'localhost'. Adding certificate verification is strongly advised. See: https://urllib3.readthedocs.io/en/1.26.x/advanced-usage.html#ssl-warnings\n",
      "  warnings.warn(\n"
     ]
    }
   ],
   "source": [
    "r = requests.get(\"https://localhost/api/products?product=3\", verify=False)"
   ]
  },
  {
   "cell_type": "code",
   "execution_count": 28,
   "id": "1d8561eb",
   "metadata": {},
   "outputs": [
    {
     "data": {
      "text/plain": [
       "200"
      ]
     },
     "execution_count": 28,
     "metadata": {},
     "output_type": "execute_result"
    }
   ],
   "source": [
    "r.status_code"
   ]
  },
  {
   "cell_type": "code",
   "execution_count": 29,
   "id": "ffc5cb87",
   "metadata": {},
   "outputs": [
    {
     "data": {
      "text/plain": [
       "{'Content-Type': 'text/html; charset=utf-8', 'Content-Length': '104', 'Server': 'Werkzeug/2.0.2 Python/3.9.7', 'Date': 'Tue, 18 Mar 2025 22:25:11 GMT'}"
      ]
     },
     "execution_count": 29,
     "metadata": {},
     "output_type": "execute_result"
    }
   ],
   "source": [
    "r.headers"
   ]
  },
  {
   "cell_type": "code",
   "execution_count": 30,
   "id": "fe1978e6",
   "metadata": {},
   "outputs": [
    {
     "name": "stdout",
     "output_type": "stream",
     "text": [
      "{'Content-Length': '104',\n",
      " 'Content-Type': 'text/html; charset=utf-8',\n",
      " 'Date': 'Tue, 18 Mar 2025 22:25:11 GMT',\n",
      " 'Server': 'Werkzeug/2.0.2 Python/3.9.7'}\n"
     ]
    }
   ],
   "source": [
    "pprint.pprint(dict(r.headers))"
   ]
  },
  {
   "cell_type": "code",
   "execution_count": 31,
   "id": "7e9b9755",
   "metadata": {},
   "outputs": [
    {
     "data": {
      "text/plain": [
       "'[{\"product_id\": \"3\", \"product_name\": \"Spinach Orzo\", \"quantity\": \"456,769\", \"total_sales\": \"5,481,228\"}]'"
      ]
     },
     "execution_count": 31,
     "metadata": {},
     "output_type": "execute_result"
    }
   ],
   "source": [
    "r.text"
   ]
  },
  {
   "cell_type": "code",
   "execution_count": 32,
   "id": "adcda1b0",
   "metadata": {},
   "outputs": [
    {
     "data": {
      "text/plain": [
       "[{'product_id': '3',\n",
       "  'product_name': 'Spinach Orzo',\n",
       "  'quantity': '456,769',\n",
       "  'total_sales': '5,481,228'}]"
      ]
     },
     "execution_count": 32,
     "metadata": {},
     "output_type": "execute_result"
    }
   ],
   "source": [
    "r.json()"
   ]
  },
  {
   "cell_type": "code",
   "execution_count": 33,
   "id": "54367be4",
   "metadata": {},
   "outputs": [
    {
     "name": "stderr",
     "output_type": "stream",
     "text": [
      "/opt/conda/lib/python3.9/site-packages/urllib3/connectionpool.py:1013: InsecureRequestWarning: Unverified HTTPS request is being made to host 'localhost'. Adding certificate verification is strongly advised. See: https://urllib3.readthedocs.io/en/1.26.x/advanced-usage.html#ssl-warnings\n",
      "  warnings.warn(\n"
     ]
    }
   ],
   "source": [
    "r = requests.get(\"https://localhost/api/stores?store=3\", verify=False)"
   ]
  },
  {
   "cell_type": "code",
   "execution_count": 34,
   "id": "51e04d70",
   "metadata": {},
   "outputs": [
    {
     "data": {
      "text/plain": [
       "200"
      ]
     },
     "execution_count": 34,
     "metadata": {},
     "output_type": "execute_result"
    }
   ],
   "source": [
    "r.status_code"
   ]
  },
  {
   "cell_type": "code",
   "execution_count": 35,
   "id": "cbf80408",
   "metadata": {},
   "outputs": [
    {
     "data": {
      "text/plain": [
       "{'Content-Type': 'text/html; charset=utf-8', 'Content-Length': '67', 'Server': 'Werkzeug/2.0.2 Python/3.9.7', 'Date': 'Tue, 18 Mar 2025 22:34:21 GMT'}"
      ]
     },
     "execution_count": 35,
     "metadata": {},
     "output_type": "execute_result"
    }
   ],
   "source": [
    "r.headers"
   ]
  },
  {
   "cell_type": "code",
   "execution_count": 36,
   "id": "f66a0fd5",
   "metadata": {},
   "outputs": [
    {
     "name": "stdout",
     "output_type": "stream",
     "text": [
      "{'Content-Length': '67',\n",
      " 'Content-Type': 'text/html; charset=utf-8',\n",
      " 'Date': 'Tue, 18 Mar 2025 22:34:21 GMT',\n",
      " 'Server': 'Werkzeug/2.0.2 Python/3.9.7'}\n"
     ]
    }
   ],
   "source": [
    "pprint.pprint(dict(r.headers))"
   ]
  },
  {
   "cell_type": "code",
   "execution_count": 37,
   "id": "27f679bc",
   "metadata": {},
   "outputs": [
    {
     "data": {
      "text/plain": [
       "'[{\"store_id\": \"3\", \"city\": \"Dallas\", \"total_amount\": \"19,408,260\"}]'"
      ]
     },
     "execution_count": 37,
     "metadata": {},
     "output_type": "execute_result"
    }
   ],
   "source": [
    "r.text"
   ]
  },
  {
   "cell_type": "code",
   "execution_count": 38,
   "id": "29dd6505",
   "metadata": {},
   "outputs": [
    {
     "data": {
      "text/plain": [
       "[{'store_id': '3', 'city': 'Dallas', 'total_amount': '19,408,260'}]"
      ]
     },
     "execution_count": 38,
     "metadata": {},
     "output_type": "execute_result"
    }
   ],
   "source": [
    "r.json()"
   ]
  },
  {
   "cell_type": "markdown",
   "id": "e2dc23e5",
   "metadata": {},
   "source": [
    "# Lab: Flask - Client-Side POST Calls Using Python"
   ]
  },
  {
   "cell_type": "markdown",
   "id": "d489973f",
   "metadata": {},
   "source": [
    "## Instead of requests.get() we will use requests.post(); to pass parameters to a POST call, we simply pass a JSON object using the data keyword argument\n"
   ]
  },
  {
   "cell_type": "code",
   "execution_count": 39,
   "id": "f1aee6ee",
   "metadata": {},
   "outputs": [],
   "source": [
    "post_json = {\"product\": \"1\"}"
   ]
  },
  {
   "cell_type": "code",
   "execution_count": 40,
   "id": "a7cfdbe8",
   "metadata": {
    "scrolled": true
   },
   "outputs": [
    {
     "name": "stderr",
     "output_type": "stream",
     "text": [
      "/opt/conda/lib/python3.9/site-packages/urllib3/connectionpool.py:1013: InsecureRequestWarning: Unverified HTTPS request is being made to host 'localhost'. Adding certificate verification is strongly advised. See: https://urllib3.readthedocs.io/en/1.26.x/advanced-usage.html#ssl-warnings\n",
      "  warnings.warn(\n"
     ]
    }
   ],
   "source": [
    "r = requests.post(\"https://localhost/api/products\", data=post_json, verify=False)"
   ]
  },
  {
   "cell_type": "code",
   "execution_count": 41,
   "id": "f0cb5ec9",
   "metadata": {},
   "outputs": [
    {
     "data": {
      "text/plain": [
       "200"
      ]
     },
     "execution_count": 41,
     "metadata": {},
     "output_type": "execute_result"
    }
   ],
   "source": [
    "r.status_code"
   ]
  },
  {
   "cell_type": "code",
   "execution_count": 42,
   "id": "fab85212",
   "metadata": {},
   "outputs": [
    {
     "data": {
      "text/plain": [
       "{'Content-Type': 'text/html; charset=utf-8', 'Content-Length': '111', 'Server': 'Werkzeug/2.0.2 Python/3.9.7', 'Date': 'Tue, 18 Mar 2025 22:36:39 GMT'}"
      ]
     },
     "execution_count": 42,
     "metadata": {},
     "output_type": "execute_result"
    }
   ],
   "source": [
    "r.headers"
   ]
  },
  {
   "cell_type": "code",
   "execution_count": 43,
   "id": "cf811764",
   "metadata": {
    "scrolled": true
   },
   "outputs": [
    {
     "name": "stdout",
     "output_type": "stream",
     "text": [
      "{'Content-Length': '111',\n",
      " 'Content-Type': 'text/html; charset=utf-8',\n",
      " 'Date': 'Tue, 18 Mar 2025 22:36:39 GMT',\n",
      " 'Server': 'Werkzeug/2.0.2 Python/3.9.7'}\n"
     ]
    }
   ],
   "source": [
    "pprint.pprint(dict(r.headers))"
   ]
  },
  {
   "cell_type": "code",
   "execution_count": 44,
   "id": "c2d5fe83",
   "metadata": {},
   "outputs": [
    {
     "data": {
      "text/plain": [
       "'[{\"product_id\": \"1\", \"product_name\": \"Pistachio Salmon\", \"quantity\": \"1,828,778\", \"total_sales\": \"21,945,336\"}]'"
      ]
     },
     "execution_count": 44,
     "metadata": {},
     "output_type": "execute_result"
    }
   ],
   "source": [
    "r.text"
   ]
  },
  {
   "cell_type": "code",
   "execution_count": 45,
   "id": "246b2743",
   "metadata": {},
   "outputs": [
    {
     "data": {
      "text/plain": [
       "[{'product_id': '1',\n",
       "  'product_name': 'Pistachio Salmon',\n",
       "  'quantity': '1,828,778',\n",
       "  'total_sales': '21,945,336'}]"
      ]
     },
     "execution_count": 45,
     "metadata": {},
     "output_type": "execute_result"
    }
   ],
   "source": [
    "r.json()"
   ]
  },
  {
   "cell_type": "code",
   "execution_count": null,
   "id": "7266f1dd",
   "metadata": {},
   "outputs": [],
   "source": []
  },
  {
   "cell_type": "code",
   "execution_count": null,
   "id": "7984798d",
   "metadata": {},
   "outputs": [],
   "source": []
  }
 ],
 "metadata": {
  "kernelspec": {
   "display_name": "Python 3 (ipykernel)",
   "language": "python",
   "name": "python3"
  },
  "language_info": {
   "codemirror_mode": {
    "name": "ipython",
    "version": 3
   },
   "file_extension": ".py",
   "mimetype": "text/x-python",
   "name": "python",
   "nbconvert_exporter": "python",
   "pygments_lexer": "ipython3",
   "version": "3.9.7"
  }
 },
 "nbformat": 4,
 "nbformat_minor": 5
}
