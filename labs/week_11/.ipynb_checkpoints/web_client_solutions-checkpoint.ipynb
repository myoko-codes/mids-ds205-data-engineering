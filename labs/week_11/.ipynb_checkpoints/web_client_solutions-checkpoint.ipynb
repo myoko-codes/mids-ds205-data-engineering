{
 "cells": [
  {
   "cell_type": "markdown",
   "id": "9e0a5e38",
   "metadata": {},
   "source": [
    "# Web Client Solutions"
   ]
  },
  {
   "cell_type": "code",
   "execution_count": 1,
   "id": "eb21ec2e",
   "metadata": {},
   "outputs": [],
   "source": [
    "import requests\n",
    "\n",
    "import pprint"
   ]
  },
  {
   "cell_type": "markdown",
   "id": "88c2dd2f",
   "metadata": {},
   "source": [
    "## You try it - add an API call for route /api/stores which returns the stores query results as JSON; solution is in web_server_solutions and web_client_solutions\n"
   ]
  },
  {
   "cell_type": "code",
   "execution_count": 3,
   "id": "91c33c82",
   "metadata": {},
   "outputs": [
    {
     "name": "stderr",
     "output_type": "stream",
     "text": [
      "/opt/conda/lib/python3.9/site-packages/urllib3/connectionpool.py:1013: InsecureRequestWarning: Unverified HTTPS request is being made to host 'localhost'. Adding certificate verification is strongly advised. See: https://urllib3.readthedocs.io/en/1.26.x/advanced-usage.html#ssl-warnings\n",
      "  warnings.warn(\n"
     ]
    }
   ],
   "source": [
    "r = requests.get(\"https://localhost/api/stores\", verify=False)"
   ]
  },
  {
   "cell_type": "code",
   "execution_count": 4,
   "id": "8b9abc78",
   "metadata": {},
   "outputs": [
    {
     "data": {
      "text/plain": [
       "200"
      ]
     },
     "execution_count": 4,
     "metadata": {},
     "output_type": "execute_result"
    }
   ],
   "source": [
    "r.status_code"
   ]
  },
  {
   "cell_type": "code",
   "execution_count": 5,
   "id": "8205f796",
   "metadata": {},
   "outputs": [
    {
     "data": {
      "text/plain": [
       "{'Content-Type': 'text/html; charset=utf-8', 'Content-Length': '340', 'Server': 'Werkzeug/2.0.2 Python/3.9.7', 'Date': 'Tue, 18 Mar 2025 22:22:46 GMT'}"
      ]
     },
     "execution_count": 5,
     "metadata": {},
     "output_type": "execute_result"
    }
   ],
   "source": [
    "r.headers"
   ]
  },
  {
   "cell_type": "code",
   "execution_count": 6,
   "id": "17e1ec42",
   "metadata": {},
   "outputs": [
    {
     "name": "stdout",
     "output_type": "stream",
     "text": [
      "{'Content-Length': '340',\n",
      " 'Content-Type': 'text/html; charset=utf-8',\n",
      " 'Date': 'Tue, 18 Mar 2025 22:22:46 GMT',\n",
      " 'Server': 'Werkzeug/2.0.2 Python/3.9.7'}\n"
     ]
    }
   ],
   "source": [
    "pprint.pprint(dict(r.headers))"
   ]
  },
  {
   "cell_type": "code",
   "execution_count": 7,
   "id": "2c7e3d3e",
   "metadata": {},
   "outputs": [
    {
     "data": {
      "text/plain": [
       "'[{\"store_id\": \"1\", \"city\": \"Berkeley\", \"total_amount\": \"25,041,060\"}, {\"store_id\": \"2\", \"city\": \"Seattle\", \"total_amount\": \"22,024,512\"}, {\"store_id\": \"3\", \"city\": \"Dallas\", \"total_amount\": \"19,408,260\"}, {\"store_id\": \"4\", \"city\": \"Miami\", \"total_amount\": \"17,692,404\"}, {\"store_id\": \"5\", \"city\": \"Nashville\", \"total_amount\": \"14,573,172\"}]'"
      ]
     },
     "execution_count": 7,
     "metadata": {},
     "output_type": "execute_result"
    }
   ],
   "source": [
    "r.text"
   ]
  },
  {
   "cell_type": "code",
   "execution_count": 8,
   "id": "bd63bc55",
   "metadata": {},
   "outputs": [
    {
     "data": {
      "text/plain": [
       "[{'store_id': '1', 'city': 'Berkeley', 'total_amount': '25,041,060'},\n",
       " {'store_id': '2', 'city': 'Seattle', 'total_amount': '22,024,512'},\n",
       " {'store_id': '3', 'city': 'Dallas', 'total_amount': '19,408,260'},\n",
       " {'store_id': '4', 'city': 'Miami', 'total_amount': '17,692,404'},\n",
       " {'store_id': '5', 'city': 'Nashville', 'total_amount': '14,573,172'}]"
      ]
     },
     "execution_count": 8,
     "metadata": {},
     "output_type": "execute_result"
    }
   ],
   "source": [
    "r.json()"
   ]
  },
  {
   "cell_type": "markdown",
   "id": "71525b1c",
   "metadata": {},
   "source": [
    "## You try it - modify an API call for route /api/stores to have the option of passing a store parameter; solution is in web_server_solutions and web_client_solutions\n"
   ]
  },
  {
   "cell_type": "code",
   "execution_count": 9,
   "id": "d297a5eb",
   "metadata": {},
   "outputs": [
    {
     "name": "stderr",
     "output_type": "stream",
     "text": [
      "/opt/conda/lib/python3.9/site-packages/urllib3/connectionpool.py:1013: InsecureRequestWarning: Unverified HTTPS request is being made to host 'localhost'. Adding certificate verification is strongly advised. See: https://urllib3.readthedocs.io/en/1.26.x/advanced-usage.html#ssl-warnings\n",
      "  warnings.warn(\n"
     ]
    }
   ],
   "source": [
    "r = requests.get(\"https://localhost/api/stores?store=1\", verify=False)"
   ]
  },
  {
   "cell_type": "code",
   "execution_count": 10,
   "id": "8d9d8a6c",
   "metadata": {},
   "outputs": [
    {
     "data": {
      "text/plain": [
       "200"
      ]
     },
     "execution_count": 10,
     "metadata": {},
     "output_type": "execute_result"
    }
   ],
   "source": [
    "r.status_code"
   ]
  },
  {
   "cell_type": "code",
   "execution_count": 11,
   "id": "f0b3cbcc",
   "metadata": {},
   "outputs": [
    {
     "data": {
      "text/plain": [
       "{'Content-Type': 'text/html; charset=utf-8', 'Content-Length': '69', 'Server': 'Werkzeug/2.0.2 Python/3.9.7', 'Date': 'Tue, 18 Mar 2025 22:35:07 GMT'}"
      ]
     },
     "execution_count": 11,
     "metadata": {},
     "output_type": "execute_result"
    }
   ],
   "source": [
    "r.headers"
   ]
  },
  {
   "cell_type": "code",
   "execution_count": 12,
   "id": "2107f3b9",
   "metadata": {},
   "outputs": [
    {
     "name": "stdout",
     "output_type": "stream",
     "text": [
      "{'Content-Length': '69',\n",
      " 'Content-Type': 'text/html; charset=utf-8',\n",
      " 'Date': 'Tue, 18 Mar 2025 22:35:07 GMT',\n",
      " 'Server': 'Werkzeug/2.0.2 Python/3.9.7'}\n"
     ]
    }
   ],
   "source": [
    "pprint.pprint(dict(r.headers))"
   ]
  },
  {
   "cell_type": "code",
   "execution_count": 13,
   "id": "42252cbf",
   "metadata": {},
   "outputs": [
    {
     "data": {
      "text/plain": [
       "'[{\"store_id\": \"1\", \"city\": \"Berkeley\", \"total_amount\": \"25,041,060\"}]'"
      ]
     },
     "execution_count": 13,
     "metadata": {},
     "output_type": "execute_result"
    }
   ],
   "source": [
    "r.text"
   ]
  },
  {
   "cell_type": "code",
   "execution_count": 14,
   "id": "e5d4f1fd",
   "metadata": {},
   "outputs": [
    {
     "data": {
      "text/plain": [
       "[{'store_id': '1', 'city': 'Berkeley', 'total_amount': '25,041,060'}]"
      ]
     },
     "execution_count": 14,
     "metadata": {},
     "output_type": "execute_result"
    }
   ],
   "source": [
    "r.json()"
   ]
  },
  {
   "cell_type": "markdown",
   "id": "c334231c",
   "metadata": {},
   "source": [
    "## You try it - modify an API call for route /api/stores to have the option of passing a store parameter using JSON in a POST method; solution is in web_server_solutions and web_client_solutions\n"
   ]
  },
  {
   "cell_type": "code",
   "execution_count": 21,
   "id": "1af80b0e",
   "metadata": {},
   "outputs": [],
   "source": [
    "post_json = {\"store\": \"1\"}"
   ]
  },
  {
   "cell_type": "code",
   "execution_count": 22,
   "id": "1b397691",
   "metadata": {},
   "outputs": [
    {
     "name": "stderr",
     "output_type": "stream",
     "text": [
      "/opt/conda/lib/python3.9/site-packages/urllib3/connectionpool.py:1013: InsecureRequestWarning: Unverified HTTPS request is being made to host 'localhost'. Adding certificate verification is strongly advised. See: https://urllib3.readthedocs.io/en/1.26.x/advanced-usage.html#ssl-warnings\n",
      "  warnings.warn(\n"
     ]
    }
   ],
   "source": [
    "r = requests.post(\"https://localhost/api/stores\", data=post_json, verify=False)"
   ]
  },
  {
   "cell_type": "code",
   "execution_count": 23,
   "id": "197c1258",
   "metadata": {},
   "outputs": [
    {
     "data": {
      "text/plain": [
       "200"
      ]
     },
     "execution_count": 23,
     "metadata": {},
     "output_type": "execute_result"
    }
   ],
   "source": [
    "r.status_code"
   ]
  },
  {
   "cell_type": "code",
   "execution_count": 24,
   "id": "54f1df64",
   "metadata": {},
   "outputs": [
    {
     "data": {
      "text/plain": [
       "{'Content-Type': 'text/html; charset=utf-8', 'Content-Length': '69', 'Server': 'Werkzeug/2.0.2 Python/3.9.7', 'Date': 'Tue, 18 Mar 2025 22:44:58 GMT'}"
      ]
     },
     "execution_count": 24,
     "metadata": {},
     "output_type": "execute_result"
    }
   ],
   "source": [
    "r.headers"
   ]
  },
  {
   "cell_type": "code",
   "execution_count": 25,
   "id": "48c1c1fb",
   "metadata": {},
   "outputs": [
    {
     "name": "stdout",
     "output_type": "stream",
     "text": [
      "{'Content-Length': '69',\n",
      " 'Content-Type': 'text/html; charset=utf-8',\n",
      " 'Date': 'Tue, 18 Mar 2025 22:44:58 GMT',\n",
      " 'Server': 'Werkzeug/2.0.2 Python/3.9.7'}\n"
     ]
    }
   ],
   "source": [
    "pprint.pprint(dict(r.headers))"
   ]
  },
  {
   "cell_type": "code",
   "execution_count": 26,
   "id": "2cb65aed",
   "metadata": {},
   "outputs": [
    {
     "data": {
      "text/plain": [
       "'[{\"store_id\": \"1\", \"city\": \"Berkeley\", \"total_amount\": \"25,041,060\"}]'"
      ]
     },
     "execution_count": 26,
     "metadata": {},
     "output_type": "execute_result"
    }
   ],
   "source": [
    "r.text"
   ]
  },
  {
   "cell_type": "code",
   "execution_count": 27,
   "id": "3c4e09ab",
   "metadata": {},
   "outputs": [
    {
     "data": {
      "text/plain": [
       "[{'store_id': '1', 'city': 'Berkeley', 'total_amount': '25,041,060'}]"
      ]
     },
     "execution_count": 27,
     "metadata": {},
     "output_type": "execute_result"
    }
   ],
   "source": [
    "r.json()"
   ]
  },
  {
   "cell_type": "code",
   "execution_count": null,
   "id": "feb0cdb8",
   "metadata": {},
   "outputs": [],
   "source": []
  }
 ],
 "metadata": {
  "kernelspec": {
   "display_name": "Python 3 (ipykernel)",
   "language": "python",
   "name": "python3"
  },
  "language_info": {
   "codemirror_mode": {
    "name": "ipython",
    "version": 3
   },
   "file_extension": ".py",
   "mimetype": "text/x-python",
   "name": "python",
   "nbconvert_exporter": "python",
   "pygments_lexer": "ipython3",
   "version": "3.9.7"
  }
 },
 "nbformat": 4,
 "nbformat_minor": 5
}
