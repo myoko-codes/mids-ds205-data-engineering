{
 "cells": [
  {
   "cell_type": "markdown",
   "id": "ecbfe0d5",
   "metadata": {},
   "source": [
    "# Web Server"
   ]
  },
  {
   "cell_type": "code",
   "execution_count": 1,
   "id": "ad002f1f",
   "metadata": {},
   "outputs": [],
   "source": [
    "import flask\n",
    "\n",
    "import werkzeug\n",
    "\n",
    "import psycopg2\n",
    "\n",
    "import json\n"
   ]
  },
  {
   "cell_type": "markdown",
   "id": "9b6e7c51",
   "metadata": {},
   "source": [
    "# Lab: Web Server With Static Content"
   ]
  },
  {
   "cell_type": "markdown",
   "id": "eaab3bd5",
   "metadata": {},
   "source": [
    "## Flask is generally informally called \"a web server written in Python\"; Flask is really easy for those who know Python to develop a dynamic web site and/or web api server;  \n",
    "\n",
    "## Flask is offically called a \"micro web framework\" or \"microframework\" or more generically \"application server\", as it requires an actual web server and WSGI (Web Server Gateway Interface); \n",
    "\n",
    "## As Flask requires a web server and WSGI to function, Flask comes with Werkzeug, which is a very lightweight, combination web server and WSGI in one package;  Werkzeug warns that it is a lightweight product, intended for development purposes only - not secure for public hosting\n",
    "\n",
    "## For Production, the most common configurations to replace Werkzeug are (we will do this next week): \n",
    "\n",
    "* for the web server:  nginx (pronounced \"engine X\"); the web server will also serve all static content instead of Flask\n",
    "* for the WSGI: either Green Unicorn (aka \"gunicorn\" pronounced \"gee-unicorn\" or \"gun-uh-corn\") which is the most popular, or uWSGI which is a bit older and not as popular these days;  "
   ]
  },
  {
   "cell_type": "markdown",
   "id": "eff2aa1c",
   "metadata": {},
   "source": [
    "## Simplist Flask application to serve static content;  by default, Flask will serve static content from the static directory; contrary to the behavior of web servers such as nginx or Apache, it does not automatically route a directory to index.html"
   ]
  },
  {
   "cell_type": "code",
   "execution_count": 2,
   "id": "86f3d454",
   "metadata": {},
   "outputs": [],
   "source": [
    "app = flask.Flask(__name__)\n"
   ]
  },
  {
   "cell_type": "markdown",
   "id": "540f214b",
   "metadata": {},
   "source": [
    "## For now, we will just use Werkzeug for the web server and the WSGI;  hostname of \"0.0.0.0\" allows it to bind to external address, so you can surf it from your laptop; ssl_context is how we specify a certificate and a key for https to allow our content to be encryped across the public internet;  we are using a self-signed certificate, so the browser will generate a warning, but will still encrypt; https uses port 443\n",
    "\n",
    "## This is an infinite loop, use menu bar => Kernel => Interrupt to stop"
   ]
  },
  {
   "cell_type": "code",
   "execution_count": 4,
   "id": "2c34fd3c",
   "metadata": {},
   "outputs": [
    {
     "name": "stderr",
     "output_type": "stream",
     "text": [
      " * Running on all addresses.\n",
      "   WARNING: This is a development server. Do not use it in a production deployment.\n",
      " * Running on https://172.18.0.2:443/ (Press CTRL+C to quit)\n",
      "73.162.166.149 - - [18/Mar/2025 14:12:34] \"GET /static/index.html HTTP/1.1\" 200 -\n",
      "73.162.166.149 - - [18/Mar/2025 14:12:34] \"GET /favicon.ico HTTP/1.1\" 404 -\n",
      "73.162.166.149 - - [18/Mar/2025 14:14:44] \"GET /static/bootstrap-5.1.3-examples/cheatsheet/index.html HTTP/1.1\" 200 -\n",
      "73.162.166.149 - - [18/Mar/2025 14:14:45] \"GET /static/bootstrap-5.1.3-examples/cheatsheet/cheatsheet.css HTTP/1.1\" 200 -\n",
      "73.162.166.149 - - [18/Mar/2025 14:14:45] \"GET /static/bootstrap-5.1.3-examples/assets/dist/css/bootstrap.min.css HTTP/1.1\" 200 -\n",
      "73.162.166.149 - - [18/Mar/2025 14:14:45] \"GET /static/bootstrap-5.1.3-examples/assets/dist/js/bootstrap.bundle.min.js HTTP/1.1\" 200 -\n",
      "73.162.166.149 - - [18/Mar/2025 14:14:46] \"GET /static/bootstrap-5.1.3-examples/cheatsheet/cheatsheet.js HTTP/1.1\" 200 -\n",
      "73.162.166.149 - - [18/Mar/2025 14:14:46] \"GET /static/bootstrap-5.1.3-examples/assets/brand/bootstrap-logo-white.svg HTTP/1.1\" 200 -\n",
      "73.162.166.149 - - [18/Mar/2025 14:15:11] \"GET /static/bootstrap-5.1.3-examples/blog/index.html HTTP/1.1\" 200 -\n",
      "73.162.166.149 - - [18/Mar/2025 14:15:11] \"GET /static/bootstrap-5.1.3-examples/blog/blog.css HTTP/1.1\" 200 -\n",
      "73.162.166.149 - - [18/Mar/2025 14:15:20] \"GET /static/bootstrap-5.1.3-examples/checkout/index.html HTTP/1.1\" 200 -\n",
      "73.162.166.149 - - [18/Mar/2025 14:15:20] \"GET /static/bootstrap-5.1.3-examples/checkout/form-validation.css HTTP/1.1\" 200 -\n",
      "73.162.166.149 - - [18/Mar/2025 14:15:21] \"GET /static/bootstrap-5.1.3-examples/checkout/form-validation.js HTTP/1.1\" 200 -\n",
      "73.162.166.149 - - [18/Mar/2025 14:15:21] \"GET /static/bootstrap-5.1.3-examples/assets/brand/bootstrap-logo.svg HTTP/1.1\" 200 -\n",
      "73.162.166.149 - - [18/Mar/2025 14:15:31] \"GET /static/bootstrap-5.1.3-examples/pricing/index.html HTTP/1.1\" 200 -\n",
      "73.162.166.149 - - [18/Mar/2025 14:15:32] \"GET /static/bootstrap-5.1.3-examples/pricing/pricing.css HTTP/1.1\" 200 -\n",
      "73.162.166.149 - - [18/Mar/2025 14:15:43] \"GET /static/bootstrap-5.1.3-examples/checkout/index.html HTTP/1.1\" 200 -\n",
      "73.162.166.149 - - [18/Mar/2025 14:16:07] \"GET /static/bootstrap-5.1.3-examples/carousel/index.html HTTP/1.1\" 200 -\n",
      "73.162.166.149 - - [18/Mar/2025 14:16:08] \"GET /static/bootstrap-5.1.3-examples/carousel/carousel.css HTTP/1.1\" 200 -\n"
     ]
    }
   ],
   "source": [
    "werkzeug.serving.run_simple(hostname=\"0.0.0.0\", \n",
    "                            port=443, \n",
    "                            application=app,\n",
    "                            ssl_context=(\"w205_cert.pem\",\"w205.key\"),\n",
    "                            use_debugger=True)"
   ]
  },
  {
   "cell_type": "markdown",
   "id": "4adcfa4b",
   "metadata": {},
   "source": [
    "## Assuming you setup the firewall rules earlier this semester to allow inbound traffic on port 443, you should be able to surf this website from your laptop or desktop;\n",
    "\n",
    "## In your browser (replace the xxxxxx with the external IP address of your VM in AWS):\n",
    "\n",
    "## https://xxxxxxx/static/index.html\n"
   ]
  },
  {
   "cell_type": "markdown",
   "id": "373b054a",
   "metadata": {},
   "source": [
    "## This is not very convenience to have to put /static/index.html into our URL, and is contrary to the behavior of all other web browsers; change our Flask application to mimic the standard behavior of static files at / and automatically serving index.html when the file name is not given; this change will also make it a lot easier next week when we switch to nginx and Green Unicorn"
   ]
  },
  {
   "cell_type": "code",
   "execution_count": 5,
   "id": "71f5000d",
   "metadata": {},
   "outputs": [],
   "source": [
    "app = flask.Flask(__name__,\n",
    "                  static_url_path=\"\")\n",
    "\n",
    "@app.route(\"/\")\n",
    "def landing_page():\n",
    "    return flask.send_from_directory(\"static\",\"index.html\") \n"
   ]
  },
  {
   "cell_type": "code",
   "execution_count": 6,
   "id": "b5f06a43",
   "metadata": {},
   "outputs": [
    {
     "name": "stderr",
     "output_type": "stream",
     "text": [
      " * Running on all addresses.\n",
      "   WARNING: This is a development server. Do not use it in a production deployment.\n",
      " * Running on https://172.18.0.2:443/ (Press CTRL+C to quit)\n",
      "73.162.166.149 - - [18/Mar/2025 14:19:38] \"GET / HTTP/1.1\" 200 -\n",
      "73.162.166.149 - - [18/Mar/2025 14:24:00] \"GET /bootstrap-5.1.3-examples/cheatsheet/index.html HTTP/1.1\" 200 -\n",
      "73.162.166.149 - - [18/Mar/2025 14:24:01] \"GET /bootstrap-5.1.3-examples/cheatsheet/cheatsheet.css HTTP/1.1\" 200 -\n",
      "73.162.166.149 - - [18/Mar/2025 14:24:01] \"GET /bootstrap-5.1.3-examples/assets/dist/css/bootstrap.min.css HTTP/1.1\" 200 -\n",
      "73.162.166.149 - - [18/Mar/2025 14:24:01] \"GET /bootstrap-5.1.3-examples/assets/dist/js/bootstrap.bundle.min.js HTTP/1.1\" 200 -\n",
      "73.162.166.149 - - [18/Mar/2025 14:24:02] \"GET /bootstrap-5.1.3-examples/cheatsheet/cheatsheet.js HTTP/1.1\" 200 -\n",
      "73.162.166.149 - - [18/Mar/2025 14:24:02] \"GET /bootstrap-5.1.3-examples/assets/brand/bootstrap-logo-white.svg HTTP/1.1\" 200 -\n",
      "73.162.166.149 - - [18/Mar/2025 14:24:09] \"GET /bootstrap-5.1.3-examples/checkout/index.html HTTP/1.1\" 200 -\n",
      "73.162.166.149 - - [18/Mar/2025 14:24:09] \"GET /bootstrap-5.1.3-examples/checkout/form-validation.css HTTP/1.1\" 200 -\n",
      "73.162.166.149 - - [18/Mar/2025 14:24:09] \"GET /bootstrap-5.1.3-examples/checkout/form-validation.js HTTP/1.1\" 200 -\n",
      "73.162.166.149 - - [18/Mar/2025 14:24:09] \"GET /bootstrap-5.1.3-examples/assets/brand/bootstrap-logo.svg HTTP/1.1\" 200 -\n",
      "73.162.166.149 - - [18/Mar/2025 14:25:57] \"GET / HTTP/1.1\" 200 -\n",
      "73.162.166.149 - - [18/Mar/2025 14:26:03] \"GET /bootstrap-5.1.3-examples/dashboard/index.html HTTP/1.1\" 200 -\n",
      "73.162.166.149 - - [18/Mar/2025 14:26:18] \"GET /bootstrap-5.1.3-examples/dashboard/index.html HTTP/1.1\" 200 -\n",
      "73.162.166.149 - - [18/Mar/2025 14:26:19] \"GET /bootstrap-5.1.3-examples/assets/dist/css/bootstrap.min.css HTTP/1.1\" 200 -\n",
      "73.162.166.149 - - [18/Mar/2025 14:26:19] \"GET /bootstrap-5.1.3-examples/assets/dist/js/bootstrap.bundle.min.js HTTP/1.1\" 200 -\n",
      "73.162.166.149 - - [18/Mar/2025 14:26:19] \"GET /bootstrap-5.1.3-examples/dashboard/dashboard.css HTTP/1.1\" 200 -\n",
      "73.162.166.149 - - [18/Mar/2025 14:26:20] \"GET /bootstrap-5.1.3-examples/dashboard/dashboard.js HTTP/1.1\" 200 -\n",
      "73.162.166.149 - - [18/Mar/2025 14:26:27] \"GET /bootstrap-5.1.3-examples/pricing/index.html HTTP/1.1\" 200 -\n",
      "73.162.166.149 - - [18/Mar/2025 14:26:46] \"GET /bootstrap-5.1.3-examples/pricing/index.html HTTP/1.1\" 200 -\n",
      "73.162.166.149 - - [18/Mar/2025 14:26:46] \"GET /bootstrap-5.1.3-examples/assets/brand/bootstrap-logo.svg HTTP/1.1\" 200 -\n",
      "73.162.166.149 - - [18/Mar/2025 14:26:46] \"GET /bootstrap-5.1.3-examples/pricing/pricing.css HTTP/1.1\" 200 -\n",
      "73.162.166.149 - - [18/Mar/2025 14:26:47] \"GET /bootstrap-5.1.3-examples/pricing/index.html HTTP/1.1\" 200 -\n",
      "73.162.166.149 - - [18/Mar/2025 14:26:47] \"GET /bootstrap-5.1.3-examples/pricing/pricing.css HTTP/1.1\" 200 -\n"
     ]
    }
   ],
   "source": [
    "werkzeug.serving.run_simple(hostname=\"0.0.0.0\", \n",
    "                            port=443, \n",
    "                            application=app,\n",
    "                            ssl_context=(\"w205_cert.pem\",\"w205.key\"),\n",
    "                            use_debugger=True)"
   ]
  },
  {
   "cell_type": "markdown",
   "id": "64c1c767",
   "metadata": {},
   "source": [
    "## Now we can surf it simply using (replace the xxxxx with the IP address of your VM in AWS):\n",
    "\n",
    "## https://xxxxxx\n",
    "\n",
    "## Repeat using your phone and a tablet (if you have one)"
   ]
  },
  {
   "cell_type": "markdown",
   "id": "884feb8e",
   "metadata": {},
   "source": [
    "## You try it - Look through the Bootstrap examples and get a feel for the different elements and design available in modern RWD (responsive web design);  Be sure and also try each one on your phone and tablet (if you have one) and see how RWD plays out on the different devices and sizes\n"
   ]
  },
  {
   "cell_type": "markdown",
   "id": "b9cc7c33",
   "metadata": {},
   "source": [
    "# Lab: Adding Dynamic Content to Our Web Server"
   ]
  },
  {
   "cell_type": "code",
   "execution_count": 7,
   "id": "83a6eb65",
   "metadata": {},
   "outputs": [],
   "source": [
    "connection = psycopg2.connect(\n",
    "    user = \"postgres\",\n",
    "    password = \"ucb\",\n",
    "    host = \"postgres\",\n",
    "    port = \"5432\",\n",
    "    database = \"postgres\"\n",
    ")"
   ]
  },
  {
   "cell_type": "code",
   "execution_count": 8,
   "id": "b13021a7",
   "metadata": {},
   "outputs": [],
   "source": [
    "cursor = connection.cursor()"
   ]
  },
  {
   "cell_type": "code",
   "execution_count": 9,
   "id": "da2bc4f6",
   "metadata": {},
   "outputs": [],
   "source": [
    "def my_query_products():\n",
    "    \"query the products from Postgres and return a Python list of products\"\n",
    "    \n",
    "    connection.rollback()\n",
    "\n",
    "    query = \"\"\"\n",
    "    \n",
    "    select p.product_id, p.description, sum(quantity), sum(quantity * 12)\n",
    "    from products p\n",
    "         join line_items l\n",
    "             on p.product_id = l.product_id\n",
    "    group by p.product_id, p.description\n",
    "    order by p.product_id\n",
    "    \n",
    "    \"\"\"\n",
    "    \n",
    "    cursor.execute(query)\n",
    "    \n",
    "    rows = cursor.fetchall()\n",
    "\n",
    "    connection.rollback()\n",
    "    \n",
    "    products_list = []\n",
    "    \n",
    "    for row in rows:\n",
    "        \n",
    "        products_list.append([row[0], row[1], f'{row[2]:,}', f'{row[3]:,}'])\n",
    "        \n",
    "    return(products_list)"
   ]
  },
  {
   "cell_type": "code",
   "execution_count": 10,
   "id": "114bdf4a",
   "metadata": {},
   "outputs": [],
   "source": [
    "app = flask.Flask(__name__,\n",
    "                  static_url_path=\"\")\n",
    "\n",
    "@app.route(\"/\")\n",
    "def landing_page():\n",
    "    return flask.send_from_directory(\"static\", \"index.html\")\n",
    "\n",
    "@app.route(\"/products\")\n",
    "def products():\n",
    "    \n",
    "    products_list = my_query_products()\n",
    "    \n",
    "    return(flask.render_template(\"products.html\", products_list=products_list))\n",
    "\n",
    "@app.route(\"/products/bootstrap\")\n",
    "def products_bootstrap():\n",
    "    \n",
    "    products_list = my_query_products()\n",
    "    \n",
    "    return(flask.render_template(\"products_bootstrap.html\", products_list=products_list))\n"
   ]
  },
  {
   "cell_type": "code",
   "execution_count": 11,
   "id": "b8e8344a",
   "metadata": {
    "scrolled": true
   },
   "outputs": [
    {
     "name": "stderr",
     "output_type": "stream",
     "text": [
      " * Running on all addresses.\n",
      "   WARNING: This is a development server. Do not use it in a production deployment.\n",
      " * Running on https://172.18.0.2:443/ (Press CTRL+C to quit)\n",
      "73.162.166.149 - - [18/Mar/2025 14:34:18] \"GET /products HTTP/1.1\" 200 -\n",
      "73.162.166.149 - - [18/Mar/2025 14:35:10] \"GET /products/bootstrap HTTP/1.1\" 200 -\n"
     ]
    }
   ],
   "source": [
    "werkzeug.serving.run_simple(hostname=\"0.0.0.0\", \n",
    "                            port=443, \n",
    "                            application=app,\n",
    "                            ssl_context=(\"w205_cert.pem\",\"w205.key\"),\n",
    "                            use_debugger=True)"
   ]
  },
  {
   "cell_type": "markdown",
   "id": "4d60860c",
   "metadata": {},
   "source": [
    "## The route /products will query the products and return HTML without any formatting\n",
    "\n",
    "## http://xxxxx/products\n",
    "\n",
    "## The route /products/bootstap will query the products and return HTML with Bootstrap formatting:\n",
    "\n",
    "## http://xxxxx/products/bootstrap\n",
    "\n",
    "## Try both on your laptop, desktop, phone, tablet, etc."
   ]
  },
  {
   "cell_type": "markdown",
   "id": "9446f3ed",
   "metadata": {},
   "source": [
    "## You try it - add a route /stores that returns a web page with an HTML table with store id, city, total sales; solutions are in web_server_solutions and templates/stores_solutions.html\n",
    "\n",
    "## You try it - add a route /stores/bootstrap that formats the results using Bootstrap; solutions are in web_server_solutions and templates/stores_bootstrap_solutions.html\n",
    "\n",
    "## Try both on your laptop, desktop, phone, tablet, etc.\n"
   ]
  },
  {
   "cell_type": "code",
   "execution_count": 12,
   "id": "81d51208",
   "metadata": {},
   "outputs": [],
   "source": [
    "def my_query_stores():\n",
    "    \"query the stores from Postgres and return a Python list of products\"\n",
    "    \n",
    "    connection.rollback()\n",
    "\n",
    "    query = \"\"\"\n",
    "    \n",
    "    select s.store_id, s.city, sum(sa.total_amount)\n",
    "    from stores as s\n",
    "         join sales as sa\n",
    "             on s.store_id = sa.store_id\n",
    "    group by s.store_id, s.city\n",
    "    order by s.store_id\n",
    "    \n",
    "    \"\"\"\n",
    "    \n",
    "    cursor.execute(query)\n",
    "    \n",
    "    rows = cursor.fetchall()\n",
    "\n",
    "    connection.rollback()\n",
    "    \n",
    "    stores_list = []\n",
    "    \n",
    "    for row in rows:\n",
    "        \n",
    "        stores_list.append([row[0], row[1], f'{row[2]:,}'])\n",
    "        \n",
    "    return(stores_list)"
   ]
  },
  {
   "cell_type": "code",
   "execution_count": 16,
   "id": "9c827982",
   "metadata": {},
   "outputs": [],
   "source": [
    "app = flask.Flask(__name__,\n",
    "                  static_url_path=\"\")\n",
    "\n",
    "@app.route(\"/\")\n",
    "def landing_page():\n",
    "    return flask.send_from_directory(\"static\", \"index.html\")\n",
    "\n",
    "@app.route(\"/stores\")\n",
    "def stores():\n",
    "    \n",
    "    stores_list = my_query_stores()\n",
    "    \n",
    "    return(flask.render_template(\"stores_solutions.html\", stores_list=stores_list))\n",
    "\n",
    "@app.route(\"/stores/bootstrap\")\n",
    "def stores_bootstrap():\n",
    "    \n",
    "    stores_list = my_query_stores()\n",
    "    \n",
    "    return(flask.render_template(\"stores_bootstrap_solutions.html\", stores_list=stores_list))"
   ]
  },
  {
   "cell_type": "code",
   "execution_count": 17,
   "id": "3cf773c3",
   "metadata": {},
   "outputs": [
    {
     "name": "stderr",
     "output_type": "stream",
     "text": [
      " * Running on all addresses.\n",
      "   WARNING: This is a development server. Do not use it in a production deployment.\n",
      " * Running on https://172.18.0.2:443/ (Press CTRL+C to quit)\n",
      "73.162.166.149 - - [18/Mar/2025 14:53:03] \"GET /stores HTTP/1.1\" 200 -\n",
      "73.162.166.149 - - [18/Mar/2025 14:53:14] \"GET /stores/bootstrap HTTP/1.1\" 200 -\n"
     ]
    }
   ],
   "source": [
    "werkzeug.serving.run_simple(hostname=\"0.0.0.0\", \n",
    "                            port=443, \n",
    "                            application=app,\n",
    "                            ssl_context=(\"w205_cert.pem\",\"w205.key\"),\n",
    "                            use_debugger=True)"
   ]
  },
  {
   "cell_type": "markdown",
   "id": "78d7c476",
   "metadata": {},
   "source": [
    "# Lab: Flask - Client-Side GET Calls (Without Parameters) Using Python"
   ]
  },
  {
   "cell_type": "code",
   "execution_count": 18,
   "id": "5c31f684",
   "metadata": {},
   "outputs": [],
   "source": [
    "app = flask.Flask(__name__,\n",
    "                  static_url_path=\"\")\n",
    "\n",
    "@app.route(\"/\")\n",
    "def landing_page():\n",
    "    return flask.send_from_directory(\"static\", \"index.html\")\n",
    "\n",
    "@app.route(\"/products\")\n",
    "def products():\n",
    "    \n",
    "    products_list = my_query_products()\n",
    "    \n",
    "    return(flask.render_template(\"products.html\", products_list=products_list))\n",
    "\n",
    "@app.route(\"/products/bootstrap\")\n",
    "def products_bootstrap():\n",
    "    \n",
    "    products_list = my_query_products()\n",
    "    \n",
    "    return(flask.render_template(\"products_bootstrap.html\", products_list=products_list))\n",
    "\n",
    "@app.route(\"/api/products\", methods=[\"GET\"])\n",
    "def api_products():\n",
    "    \n",
    "    products_list = my_query_products()\n",
    "    \n",
    "    products_json_list = []\n",
    "    \n",
    "    for product in products_list:\n",
    "        \n",
    "        p = {}\n",
    "        p[\"product_id\"] = str(product[0])\n",
    "        p[\"product_name\"] = product[1]\n",
    "        p[\"quantity\"] = str(product[2])\n",
    "        p[\"total_sales\"] = str(product[3])\n",
    "        \n",
    "        products_json_list.append(p)\n",
    "        \n",
    "    return(json.dumps(products_json_list))\n"
   ]
  },
  {
   "cell_type": "code",
   "execution_count": 19,
   "id": "76b32fa1",
   "metadata": {
    "scrolled": true
   },
   "outputs": [
    {
     "name": "stderr",
     "output_type": "stream",
     "text": [
      " * Running on all addresses.\n",
      "   WARNING: This is a development server. Do not use it in a production deployment.\n",
      " * Running on https://172.18.0.2:443/ (Press CTRL+C to quit)\n",
      "73.162.166.149 - - [18/Mar/2025 14:59:33] \"GET /bootstrap-5.1.3-examples/pricing/index.html HTTP/1.1\" 200 -\n",
      "73.162.166.149 - - [18/Mar/2025 14:59:34] \"GET /bootstrap-5.1.3-examples/assets/dist/css/bootstrap.min.css HTTP/1.1\" 200 -\n",
      "73.162.166.149 - - [18/Mar/2025 14:59:34] \"GET /bootstrap-5.1.3-examples/pricing/pricing.css HTTP/1.1\" 200 -\n",
      "73.162.166.149 - - [18/Mar/2025 14:59:34] \"GET /bootstrap-5.1.3-examples/assets/brand/bootstrap-logo.svg HTTP/1.1\" 200 -\n",
      "73.162.166.149 - - [18/Mar/2025 14:59:43] \"GET / HTTP/1.1\" 200 -\n",
      "127.0.0.1 - - [18/Mar/2025 15:04:47] \"GET / HTTP/1.1\" 200 -\n",
      "127.0.0.1 - - [18/Mar/2025 15:06:53] \"GET /api/products HTTP/1.1\" 200 -\n"
     ]
    }
   ],
   "source": [
    "werkzeug.serving.run_simple(hostname=\"0.0.0.0\", \n",
    "                            port=443, \n",
    "                            application=app,\n",
    "                            ssl_context=(\"w205_cert.pem\",\"w205.key\"),\n",
    "                            use_debugger=True)"
   ]
  },
  {
   "cell_type": "markdown",
   "id": "514ed39b",
   "metadata": {},
   "source": [
    "## The client side is in the jupyter notebook web_client\n"
   ]
  },
  {
   "cell_type": "markdown",
   "id": "6758a476",
   "metadata": {},
   "source": [
    "# Lab: Flask - Server-Side GET Calls (Without Parameters) Using Python"
   ]
  },
  {
   "cell_type": "markdown",
   "id": "4210f56d",
   "metadata": {},
   "source": [
    "## The server side code is in the previous section\n"
   ]
  },
  {
   "cell_type": "markdown",
   "id": "bd7af42c",
   "metadata": {},
   "source": [
    "## You try it - add an API call for route /api/stores which returns the stores query results as JSON; solution is in web_server_solutions and web_client_solutions\n"
   ]
  },
  {
   "cell_type": "code",
   "execution_count": 22,
   "id": "b50b0ec1",
   "metadata": {},
   "outputs": [],
   "source": [
    "app = flask.Flask(__name__,\n",
    "                  static_url_path=\"\")\n",
    "@app.route(\"/\")\n",
    "def landing_page():\n",
    "    return flask.send_from_directory(\"static\", \"index.html\")\n",
    "\n",
    "@app.route(\"/stores\")\n",
    "def stores():\n",
    "    \n",
    "    stores_list = my_query_stores()\n",
    "    \n",
    "    return(flask.render_template(\"stores_solutions.html\", stores_list=stores_list))\n",
    "\n",
    "@app.route(\"/stores/bootstrap\")\n",
    "def stores_bootstrap():\n",
    "    \n",
    "    stores_list = my_query_stores()\n",
    "    \n",
    "    return(flask.render_template(\"stores_bootstrap_solutions.html\", stores_list=stores_list))\n",
    "\n",
    "@app.route(\"/api/stores\", methods=[\"GET\"])\n",
    "def api_stores():\n",
    "    \n",
    "    stores_list = my_query_stores()\n",
    "    \n",
    "    stores_json_list = []\n",
    "    \n",
    "    for store in stores_list:\n",
    "        \n",
    "        s = {}\n",
    "        s[\"store_id\"] = str(store[0])\n",
    "        s[\"city\"] = store[1]\n",
    "        s[\"total_amount\"] = str(store[2])\n",
    "        \n",
    "        stores_json_list.append(s)\n",
    "        \n",
    "    return(json.dumps(stores_json_list))\n"
   ]
  },
  {
   "cell_type": "code",
   "execution_count": 23,
   "id": "76b5e72a",
   "metadata": {},
   "outputs": [
    {
     "name": "stderr",
     "output_type": "stream",
     "text": [
      " * Running on all addresses.\n",
      "   WARNING: This is a development server. Do not use it in a production deployment.\n",
      " * Running on https://172.18.0.2:443/ (Press CTRL+C to quit)\n",
      "127.0.0.1 - - [18/Mar/2025 15:22:35] \"GET /api/stores HTTP/1.1\" 200 -\n",
      "127.0.0.1 - - [18/Mar/2025 15:22:46] \"GET /api/stores HTTP/1.1\" 200 -\n"
     ]
    }
   ],
   "source": [
    "werkzeug.serving.run_simple(hostname=\"0.0.0.0\", \n",
    "                            port=443, \n",
    "                            application=app,\n",
    "                            ssl_context=(\"w205_cert.pem\",\"w205.key\"),\n",
    "                            use_debugger=True)"
   ]
  },
  {
   "cell_type": "markdown",
   "id": "e3672967",
   "metadata": {},
   "source": [
    "# Lab: Flask - Client-Side GET Calls (With Parameters) Using Python "
   ]
  },
  {
   "cell_type": "code",
   "execution_count": 24,
   "id": "16503537",
   "metadata": {},
   "outputs": [],
   "source": [
    "app = flask.Flask(__name__,\n",
    "                  static_url_path=\"\")\n",
    "\n",
    "@app.route(\"/\")\n",
    "def landing_page():\n",
    "    return flask.send_from_directory(\"static\", \"index.html\")\n",
    "\n",
    "@app.route(\"/products\")\n",
    "def products():\n",
    "    \n",
    "    products_list = my_query_products()\n",
    "    \n",
    "    return(flask.render_template(\"products.html\", products_list=products_list))\n",
    "\n",
    "@app.route(\"/products/bootstrap\")\n",
    "def products_bootstrap():\n",
    "    \n",
    "    products_list = my_query_products()\n",
    "    \n",
    "    return(flask.render_template(\"products_bootstrap.html\", products_list=products_list))\n",
    "\n",
    "@app.route(\"/api/products\", methods=[\"GET\"])\n",
    "def api_products():\n",
    "    \n",
    "    products_list = my_query_products()\n",
    "    \n",
    "    products_json_list = []\n",
    "    \n",
    "    product_parameter = flask.request.args.get(\"product\")\n",
    "    \n",
    "    for product in products_list:\n",
    "        \n",
    "        if product_parameter == None or (product_parameter != None and product_parameter == str(product[0])):\n",
    "            \n",
    "            p = {}\n",
    "            p[\"product_id\"] = str(product[0])\n",
    "            p[\"product_name\"] = product[1]\n",
    "            p[\"quantity\"] = str(product[2])\n",
    "            p[\"total_sales\"] = str(product[3])\n",
    "\n",
    "            products_json_list.append(p)\n",
    "        \n",
    "    return(json.dumps(products_json_list))\n",
    "    \n"
   ]
  },
  {
   "cell_type": "code",
   "execution_count": 25,
   "id": "91a39d3f",
   "metadata": {},
   "outputs": [
    {
     "name": "stderr",
     "output_type": "stream",
     "text": [
      " * Running on all addresses.\n",
      "   WARNING: This is a development server. Do not use it in a production deployment.\n",
      " * Running on https://172.18.0.2:443/ (Press CTRL+C to quit)\n",
      "127.0.0.1 - - [18/Mar/2025 15:25:11] \"GET /api/products?product=3 HTTP/1.1\" 200 -\n"
     ]
    }
   ],
   "source": [
    "werkzeug.serving.run_simple(hostname=\"0.0.0.0\", \n",
    "                            port=443, \n",
    "                            application=app,\n",
    "                            ssl_context=(\"w205_cert.pem\",\"w205.key\"),\n",
    "                            use_debugger=True)"
   ]
  },
  {
   "cell_type": "markdown",
   "id": "f3b9956e",
   "metadata": {},
   "source": [
    "## The client side is in the jupyter notebook web_client\n"
   ]
  },
  {
   "cell_type": "markdown",
   "id": "9a60eb85",
   "metadata": {},
   "source": [
    "# Lab: Flask - Server-Side GET Calls (With Parameters) Using Python"
   ]
  },
  {
   "cell_type": "markdown",
   "id": "aa08ef67",
   "metadata": {},
   "source": [
    "## The server side code is in the previous section\n"
   ]
  },
  {
   "cell_type": "markdown",
   "id": "834c1ec5",
   "metadata": {},
   "source": [
    "## You try it - modify an API call for route /api/stores to have the option of passing a store parameter; solution is in web_server_solutions and web_client_solutions\n"
   ]
  },
  {
   "cell_type": "code",
   "execution_count": 26,
   "id": "5cb650d8",
   "metadata": {},
   "outputs": [],
   "source": [
    "app = flask.Flask(__name__,\n",
    "                  static_url_path=\"\")\n",
    "\n",
    "@app.route(\"/api/stores\", methods=[\"GET\"])\n",
    "def api_stores():\n",
    "    \n",
    "    stores_list = my_query_stores()\n",
    "    \n",
    "    stores_json_list = []\n",
    "    \n",
    "    store_parameter = flask.request.args.get(\"store\")\n",
    "    \n",
    "    for store in stores_list:\n",
    "        \n",
    "        if store_parameter == None or (store_parameter != None and store_parameter == str(store[0])):\n",
    "        \n",
    "            s = {}\n",
    "            s[\"store_id\"] = str(store[0])\n",
    "            s[\"city\"] = store[1]\n",
    "            s[\"total_amount\"] = str(store[2])\n",
    "\n",
    "            stores_json_list.append(s)\n",
    "\n",
    "    return(json.dumps(stores_json_list))\n"
   ]
  },
  {
   "cell_type": "code",
   "execution_count": 27,
   "id": "bd22c10e",
   "metadata": {},
   "outputs": [
    {
     "name": "stderr",
     "output_type": "stream",
     "text": [
      " * Running on all addresses.\n",
      "   WARNING: This is a development server. Do not use it in a production deployment.\n",
      " * Running on https://172.18.0.2:443/ (Press CTRL+C to quit)\n",
      "127.0.0.1 - - [18/Mar/2025 15:34:21] \"GET /api/stores?store=3 HTTP/1.1\" 200 -\n",
      "127.0.0.1 - - [18/Mar/2025 15:35:07] \"GET /api/stores?store=1 HTTP/1.1\" 200 -\n"
     ]
    }
   ],
   "source": [
    "werkzeug.serving.run_simple(hostname=\"0.0.0.0\", \n",
    "                            port=443, \n",
    "                            application=app,\n",
    "                            ssl_context=(\"w205_cert.pem\",\"w205.key\"),\n",
    "                            use_debugger=True)"
   ]
  },
  {
   "cell_type": "markdown",
   "id": "d3dcfcc9",
   "metadata": {},
   "source": [
    "# Lab: Flask - Client-Side POST Calls Using Python"
   ]
  },
  {
   "cell_type": "code",
   "execution_count": 28,
   "id": "816f3829",
   "metadata": {},
   "outputs": [],
   "source": [
    "app = flask.Flask(__name__,\n",
    "                  static_url_path=\"\")\n",
    "\n",
    "@app.route(\"/\")\n",
    "def landing_page():\n",
    "    return flask.send_from_directory(\"static\", \"index.html\")\n",
    "\n",
    "@app.route(\"/products\")\n",
    "def products():\n",
    "    \n",
    "    products_list = my_query_products()\n",
    "    \n",
    "    return(flask.render_template(\"products.html\", products_list=products_list))\n",
    "\n",
    "@app.route(\"/products/bootstrap\")\n",
    "def products_bootstrap():\n",
    "    \n",
    "    products_list = my_query_products()\n",
    "    \n",
    "    return(flask.render_template(\"products_bootstrap.html\", products_list=products_list))\n",
    "\n",
    "@app.route(\"/api/products\", methods=[\"GET\",\"POST\"])\n",
    "def api_products():\n",
    "    \n",
    "    products_list = my_query_products()\n",
    "    \n",
    "    products_json_list = []\n",
    "    \n",
    "    if flask.request.method == \"GET\":\n",
    "        \n",
    "        product_parameter = flask.request.args.get(\"product\")\n",
    "        \n",
    "    elif flask.request.method == \"POST\":\n",
    "        \n",
    "        product_parameter = flask.request.form['product']\n",
    "    \n",
    "    for product in products_list:\n",
    "        \n",
    "        if product_parameter == None or (product_parameter != None and product_parameter == str(product[0])):\n",
    "            \n",
    "            p = {}\n",
    "            p[\"product_id\"] = str(product[0])\n",
    "            p[\"product_name\"] = product[1]\n",
    "            p[\"quantity\"] = str(product[2])\n",
    "            p[\"total_sales\"] = str(product[3])\n",
    "\n",
    "            products_json_list.append(p)\n",
    "        \n",
    "    return(json.dumps(products_json_list))\n",
    "    \n"
   ]
  },
  {
   "cell_type": "code",
   "execution_count": 29,
   "id": "1888b8d3",
   "metadata": {},
   "outputs": [
    {
     "name": "stderr",
     "output_type": "stream",
     "text": [
      " * Running on all addresses.\n",
      "   WARNING: This is a development server. Do not use it in a production deployment.\n",
      " * Running on https://172.18.0.2:443/ (Press CTRL+C to quit)\n",
      "127.0.0.1 - - [18/Mar/2025 15:36:39] \"POST /api/products HTTP/1.1\" 200 -\n",
      "127.0.0.1 - - [18/Mar/2025 15:41:42] \"POST /api/stores HTTP/1.1\" 405 -\n"
     ]
    }
   ],
   "source": [
    "werkzeug.serving.run_simple(hostname=\"0.0.0.0\", \n",
    "                            port=443, \n",
    "                            application=app,\n",
    "                            ssl_context=(\"w205_cert.pem\",\"w205.key\"),\n",
    "                            use_debugger=True)"
   ]
  },
  {
   "cell_type": "markdown",
   "id": "b3f56f99",
   "metadata": {},
   "source": [
    "## The client side is in the jupyter notebook web_client\n"
   ]
  },
  {
   "cell_type": "markdown",
   "id": "57362421",
   "metadata": {},
   "source": [
    "# Lab: Flask - Server-Side POST Calls Using Python"
   ]
  },
  {
   "cell_type": "markdown",
   "id": "638fec0c",
   "metadata": {},
   "source": [
    "## The server side code is in the previous section\n"
   ]
  },
  {
   "cell_type": "markdown",
   "id": "590aaf4d",
   "metadata": {},
   "source": [
    "## You try it - modify an API call for route /api/stores to have the option of passing a store parameter using JSON in a POST method; solution is in web_server_solutions and web_client_solutions\n"
   ]
  },
  {
   "cell_type": "code",
   "execution_count": 32,
   "id": "cb0be13c",
   "metadata": {},
   "outputs": [],
   "source": [
    "app = flask.Flask(__name__,\n",
    "                  static_url_path=\"\")\n",
    "\n",
    "@app.route(\"/api/stores\", methods=[\"GET\", \"POST\"])\n",
    "def api_stores():\n",
    "    \n",
    "    stores_list = my_query_stores()\n",
    "    \n",
    "    stores_json_list = []\n",
    "    \n",
    "    if flask.request.method == \"GET\":\n",
    "    \n",
    "        store_parameter = flask.request.args.get(\"store\")\n",
    "        \n",
    "    elif flask.request.method == \"POST\":\n",
    "        \n",
    "        store_parameter = flask.request.form['store']\n",
    "    \n",
    "    for store in stores_list:\n",
    "        \n",
    "        if store_parameter == None or (store_parameter != None and store_parameter == str(store[0])):\n",
    "        \n",
    "            s = {}\n",
    "            s[\"store_id\"] = str(store[0])\n",
    "            s[\"city\"] = store[1]\n",
    "            s[\"total_amount\"] = str(store[2])\n",
    "\n",
    "            stores_json_list.append(s)\n",
    "\n",
    "    return(json.dumps(stores_json_list))\n"
   ]
  },
  {
   "cell_type": "code",
   "execution_count": 33,
   "id": "afbdbf04",
   "metadata": {},
   "outputs": [
    {
     "name": "stderr",
     "output_type": "stream",
     "text": [
      " * Running on all addresses.\n",
      "   WARNING: This is a development server. Do not use it in a production deployment.\n",
      " * Running on https://172.18.0.2:443/ (Press CTRL+C to quit)\n",
      "127.0.0.1 - - [18/Mar/2025 15:44:58] \"POST /api/stores HTTP/1.1\" 200 -\n"
     ]
    }
   ],
   "source": [
    "werkzeug.serving.run_simple(hostname=\"0.0.0.0\", \n",
    "                            port=443, \n",
    "                            application=app,\n",
    "                            ssl_context=(\"w205_cert.pem\",\"w205.key\"),\n",
    "                            use_debugger=True)"
   ]
  },
  {
   "cell_type": "code",
   "execution_count": null,
   "id": "72f97666",
   "metadata": {},
   "outputs": [],
   "source": []
  }
 ],
 "metadata": {
  "kernelspec": {
   "display_name": "Python 3 (ipykernel)",
   "language": "python",
   "name": "python3"
  },
  "language_info": {
   "codemirror_mode": {
    "name": "ipython",
    "version": 3
   },
   "file_extension": ".py",
   "mimetype": "text/x-python",
   "name": "python",
   "nbconvert_exporter": "python",
   "pygments_lexer": "ipython3",
   "version": "3.9.7"
  }
 },
 "nbformat": 4,
 "nbformat_minor": 5
}
