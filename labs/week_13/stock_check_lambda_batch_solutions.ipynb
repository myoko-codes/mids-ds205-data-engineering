{
 "cells": [
  {
   "cell_type": "markdown",
   "id": "1c272b32",
   "metadata": {},
   "source": [
    "# Stock Check Lambda Batch Solutions"
   ]
  },
  {
   "cell_type": "code",
   "execution_count": 1,
   "id": "a1da48d2",
   "metadata": {},
   "outputs": [],
   "source": [
    "import kafka\n",
    "\n",
    "import pprint\n",
    "\n",
    "from IPython.display import clear_output\n",
    "\n",
    "import time"
   ]
  },
  {
   "cell_type": "markdown",
   "id": "5b40c41d",
   "metadata": {},
   "source": [
    "## You try it - \n",
    "\n",
    "## Modify stock_check_process to publish to the stock_check_pub_sub topic; create a new jupyter notebook stock_check_lambda_batch to subscribe to stock_check_pub_sub in batch mode; solutions can be found in stock_check_process_solutions and stock_check_lambda_batch_solutions\n"
   ]
  },
  {
   "cell_type": "code",
   "execution_count": 2,
   "id": "c0db0d80",
   "metadata": {},
   "outputs": [],
   "source": [
    "topic = \"stock_check_pub_sub\"\n",
    "\n",
    "subscriber_read_all = kafka.KafkaConsumer(topic, \n",
    "                                          bootstrap_servers=['kafka:29092'], \n",
    "                                          auto_offset_reset='earliest')\n"
   ]
  },
  {
   "cell_type": "code",
   "execution_count": 3,
   "id": "851ff5bb",
   "metadata": {},
   "outputs": [
    {
     "name": "stdout",
     "output_type": "stream",
     "text": [
      "Offset: 0    Value: b'{\"order_id\": 14768, \"sub_total\": 89.85, \"tax\": 7.19, \"total\": 97.04, \"line_'\n",
      "Offset: 1    Value: b'{\"order_id\": 14768, \"sub_total\": 89.85, \"tax\": 7.19, \"total\": 97.04, \"line_'\n",
      "Offset: 2    Value: b'{\"order_id\": 14770, \"sub_total\": 89.85, \"tax\": 7.19, \"total\": 97.04, \"line_'\n",
      "Offset: 3    Value: b'{\"order_id\": 14770, \"sub_total\": 89.85, \"tax\": 7.19, \"total\": 97.04, \"line_'\n",
      "Offset: 4    Value: b'{\"order_id\": 14772, \"sub_total\": 179.7, \"tax\": 14.38, \"total\": 194.08, \"lin'\n",
      "\n",
      "... only showing a max of first 5 and max of last 5 ... \n",
      "\n",
      "Offset: 11    Value: b'{\"order_id\": 14778, \"sub_total\": 359.4, \"tax\": 28.75, \"total\": 388.15, \"lin'\n",
      "Offset: 12    Value: b'{\"order_id\": 14780, \"sub_total\": 179.7, \"tax\": 14.38, \"total\": 194.08, \"lin'\n",
      "Offset: 13    Value: b'{\"order_id\": 14781, \"sub_total\": 89.85, \"tax\": 7.19, \"total\": 97.04, \"line_'\n",
      "Offset: 14    Value: b'{\"order_id\": 14783, \"sub_total\": 89.85, \"tax\": 7.19, \"total\": 97.04, \"line_'\n",
      "Offset: 15    Value: b'{\"order_id\": 14783, \"sub_total\": 89.85, \"tax\": 7.19, \"total\": 97.04, \"line_'\n"
     ]
    }
   ],
   "source": [
    "if subscriber_read_all.assignment():\n",
    "\n",
    "    subscriber_read_all.seek_to_beginning()\n",
    "\n",
    "message_list = []\n",
    "\n",
    "while (True):\n",
    "    \n",
    "    poll_result = subscriber_read_all.poll(timeout_ms=500)\n",
    "    \n",
    "    if poll_result == {}:\n",
    "        break\n",
    "\n",
    "    items = poll_result.items()\n",
    "\n",
    "    for (topic, messages) in items:\n",
    "    \n",
    "        for message in messages:\n",
    "            \n",
    "            message_list.append([message.offset, message.value])\n",
    "            \n",
    "i = 0\n",
    "\n",
    "for message in message_list:\n",
    "    \n",
    "    if (i < 5) or (i > len(message_list) - 6):\n",
    "        print(\"Offset:\", message[0], \"   Value:\", message[1][:75])\n",
    "   \n",
    "    if i == 5:\n",
    "        print(\"\\n... only showing a max of first 5 and max of last 5 ... \\n\")\n",
    "        \n",
    "    i += 1\n",
    "    \n",
    "    "
   ]
  },
  {
   "cell_type": "code",
   "execution_count": 4,
   "id": "43c80b0f",
   "metadata": {},
   "outputs": [],
   "source": [
    "topic = \"stock_check_pub_sub\"\n",
    "\n",
    "subscriber_batch = kafka.KafkaConsumer(topic, \n",
    "                                       bootstrap_servers=['kafka:29092'], \n",
    "                                       auto_offset_reset='earliest')\n"
   ]
  },
  {
   "cell_type": "code",
   "execution_count": null,
   "id": "6c08b3ec",
   "metadata": {},
   "outputs": [
    {
     "name": "stdout",
     "output_type": "stream",
     "text": [
      "\n",
      "======================================\n",
      "   Stock Check Lambda Batch Process\n",
      "=======================================\n",
      "\n",
      "\n",
      "------------------------\n",
      "   Batch  1\n",
      "------------------------\n",
      "\n",
      "\n",
      "Offset: 0    Value: b'{\"order_id\": 14768, \"sub_total\": 89.85, \"tax\": 7.19, \"total\": 97.04, \"line_'\n",
      "Offset: 1    Value: b'{\"order_id\": 14768, \"sub_total\": 89.85, \"tax\": 7.19, \"total\": 97.04, \"line_'\n",
      "Offset: 2    Value: b'{\"order_id\": 14770, \"sub_total\": 89.85, \"tax\": 7.19, \"total\": 97.04, \"line_'\n",
      "Offset: 3    Value: b'{\"order_id\": 14770, \"sub_total\": 89.85, \"tax\": 7.19, \"total\": 97.04, \"line_'\n",
      "Offset: 4    Value: b'{\"order_id\": 14772, \"sub_total\": 179.7, \"tax\": 14.38, \"total\": 194.08, \"lin'\n",
      "Offset: 5    Value: b'{\"order_id\": 14772, \"sub_total\": 179.7, \"tax\": 14.38, \"total\": 194.08, \"lin'\n",
      "Offset: 6    Value: b'{\"order_id\": 14774, \"sub_total\": 149.75, \"tax\": 11.98, \"total\": 161.73, \"li'\n",
      "Offset: 7    Value: b'{\"order_id\": 14774, \"sub_total\": 149.75, \"tax\": 11.98, \"total\": 161.73, \"li'\n",
      "Offset: 8    Value: b'{\"order_id\": 14774, \"sub_total\": 149.75, \"tax\": 11.98, \"total\": 161.73, \"li'\n",
      "Offset: 9    Value: b'{\"order_id\": 14777, \"sub_total\": 89.85, \"tax\": 7.19, \"total\": 97.04, \"line_'\n",
      "Offset: 10    Value: b'{\"order_id\": 14778, \"sub_total\": 359.4, \"tax\": 28.75, \"total\": 388.15, \"lin'\n",
      "Offset: 11    Value: b'{\"order_id\": 14778, \"sub_total\": 359.4, \"tax\": 28.75, \"total\": 388.15, \"lin'\n",
      "Offset: 12    Value: b'{\"order_id\": 14780, \"sub_total\": 179.7, \"tax\": 14.38, \"total\": 194.08, \"lin'\n",
      "Offset: 13    Value: b'{\"order_id\": 14781, \"sub_total\": 89.85, \"tax\": 7.19, \"total\": 97.04, \"line_'\n",
      "Offset: 14    Value: b'{\"order_id\": 14783, \"sub_total\": 89.85, \"tax\": 7.19, \"total\": 97.04, \"line_'\n",
      "Offset: 15    Value: b'{\"order_id\": 14783, \"sub_total\": 89.85, \"tax\": 7.19, \"total\": 97.04, \"line_'\n"
     ]
    }
   ],
   "source": [
    "batch_time_interval = 5.0\n",
    "\n",
    "if subscriber_batch.assignment():\n",
    "\n",
    "    subscriber_batch.seek_to_beginning()\n",
    "\n",
    "batch_number = 1\n",
    "\n",
    "message_list = []\n",
    "\n",
    "while (True):\n",
    "    \n",
    "    poll_result = subscriber_batch.poll(timeout_ms=500)\n",
    "    \n",
    "    if poll_result == {}:\n",
    "        \n",
    "        if len(message_list) > 0:\n",
    "            \n",
    "            clear_output(wait=True)\n",
    "            \n",
    "            print(\"\\n======================================\")\n",
    "            print(\"   Stock Check Lambda Batch Process\")\n",
    "            print(\"=======================================\\n\")\n",
    "            print(\"\\n------------------------\")\n",
    "            print(\"   Batch \", batch_number)\n",
    "            print(\"------------------------\\n\\n\")\n",
    "            \n",
    "            for message in message_list:\n",
    "                \n",
    "                print(\"Offset:\", message[0], \"   Value:\", message[1][:75])\n",
    "                \n",
    "            message_list = []\n",
    "            \n",
    "            batch_number += 1\n",
    "            \n",
    "        time.sleep(batch_time_interval)\n",
    "              \n",
    "    else:\n",
    "\n",
    "        items = poll_result.items()\n",
    "\n",
    "        for (topic, messages) in items:\n",
    "    \n",
    "            for message in messages:\n",
    "        \n",
    "                message_list.append([message.offset, message.value])\n"
   ]
  },
  {
   "cell_type": "code",
   "execution_count": null,
   "id": "178f1ac6",
   "metadata": {},
   "outputs": [],
   "source": []
  }
 ],
 "metadata": {
  "kernelspec": {
   "display_name": "Python 3 (ipykernel)",
   "language": "python",
   "name": "python3"
  },
  "language_info": {
   "codemirror_mode": {
    "name": "ipython",
    "version": 3
   },
   "file_extension": ".py",
   "mimetype": "text/x-python",
   "name": "python",
   "nbconvert_exporter": "python",
   "pygments_lexer": "ipython3",
   "version": "3.9.7"
  }
 },
 "nbformat": 4,
 "nbformat_minor": 5
}
