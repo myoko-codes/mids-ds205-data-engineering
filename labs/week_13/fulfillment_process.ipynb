{
 "cells": [
  {
   "cell_type": "markdown",
   "id": "45d863b1",
   "metadata": {},
   "source": [
    "# Fulfillment Process"
   ]
  },
  {
   "cell_type": "code",
   "execution_count": 1,
   "id": "a1da48d2",
   "metadata": {},
   "outputs": [],
   "source": [
    "import kafka\n",
    "\n",
    "import time\n",
    "\n",
    "import numpy as np\n",
    "\n",
    "import json\n",
    "\n",
    "import pprint\n",
    "\n",
    "from IPython.display import clear_output\n"
   ]
  },
  {
   "cell_type": "markdown",
   "id": "04f289d7",
   "metadata": {},
   "source": [
    "## Read the fulfillment_queue; (at some point this process should have some sort of logic to fulfill the orders)"
   ]
  },
  {
   "cell_type": "code",
   "execution_count": 2,
   "id": "ca5ebffc",
   "metadata": {},
   "outputs": [],
   "source": [
    "producer = kafka.KafkaProducer(bootstrap_servers=['kafka:29092'])"
   ]
  },
  {
   "cell_type": "code",
   "execution_count": 3,
   "id": "2433d41d",
   "metadata": {},
   "outputs": [],
   "source": [
    "topic = \"fulfillment_queue\"\n",
    "\n",
    "fulfillment_queue = kafka.KafkaConsumer(topic, \n",
    "                                       bootstrap_servers=['kafka:29092'], \n",
    "                                       auto_offset_reset='earliest')\n"
   ]
  },
  {
   "cell_type": "code",
   "execution_count": 4,
   "id": "bd516696",
   "metadata": {},
   "outputs": [
    {
     "name": "stdout",
     "output_type": "stream",
     "text": [
      "\n",
      "=================================\n",
      "   Fulfillment Process\n",
      "=================================\n",
      "\n",
      "---------------------------------------------\n",
      "   Offset: 71    Order ID: 14454\n",
      "---------------------------------------------\n",
      "\n",
      "{'order_id': 14454,\n",
      " 'sub_total': 839.4,\n",
      " 'tax': 67.15,\n",
      " 'total': 906.55,\n",
      " 'line_items': [{'product_id': 3,\n",
      "                 'product_name': '16 GiB RAM DIMM',\n",
      "                 'product_price': 69.95,\n",
      "                 'quantity': 12,\n",
      "                 'total': 839.4}]}\n"
     ]
    },
    {
     "ename": "KeyboardInterrupt",
     "evalue": "",
     "output_type": "error",
     "traceback": [
      "\u001b[0;31m---------------------------------------------------------------------------\u001b[0m",
      "\u001b[0;31mKeyboardInterrupt\u001b[0m                         Traceback (most recent call last)",
      "\u001b[0;32m/tmp/ipykernel_801/1764559290.py\u001b[0m in \u001b[0;36m<module>\u001b[0;34m\u001b[0m\n\u001b[1;32m     18\u001b[0m     \u001b[0mproducer\u001b[0m\u001b[0;34m.\u001b[0m\u001b[0msend\u001b[0m\u001b[0;34m(\u001b[0m\u001b[0;34m\"fulfillment_stream\"\u001b[0m\u001b[0;34m,\u001b[0m \u001b[0mjson\u001b[0m\u001b[0;34m.\u001b[0m\u001b[0mdumps\u001b[0m\u001b[0;34m(\u001b[0m\u001b[0mmessage_dict\u001b[0m\u001b[0;34m)\u001b[0m\u001b[0;34m.\u001b[0m\u001b[0mencode\u001b[0m\u001b[0;34m(\u001b[0m\u001b[0;34m)\u001b[0m\u001b[0;34m)\u001b[0m\u001b[0;34m\u001b[0m\u001b[0;34m\u001b[0m\u001b[0m\n\u001b[1;32m     19\u001b[0m \u001b[0;34m\u001b[0m\u001b[0m\n\u001b[0;32m---> 20\u001b[0;31m     \u001b[0mtime\u001b[0m\u001b[0;34m.\u001b[0m\u001b[0msleep\u001b[0m\u001b[0;34m(\u001b[0m\u001b[0;36m2.0\u001b[0m\u001b[0;34m)\u001b[0m\u001b[0;34m\u001b[0m\u001b[0;34m\u001b[0m\u001b[0m\n\u001b[0m",
      "\u001b[0;31mKeyboardInterrupt\u001b[0m: "
     ]
    }
   ],
   "source": [
    "for message in fulfillment_queue:\n",
    "    \n",
    "    clear_output(wait=True)\n",
    "    \n",
    "    message_dict = json.loads(message.value)\n",
    "    \n",
    "    print(\"\\n=================================\")\n",
    "    print(\"   Fulfillment Process\")\n",
    "    print(\"=================================\\n\")\n",
    "\n",
    "    print(\"---------------------------------------------\")\n",
    "    print(\"   Offset:\", message.offset, \"   Order ID:\", message_dict[\"order_id\"])\n",
    "    print(\"---------------------------------------------\\n\")\n",
    "    \n",
    "    pprint.pprint(message_dict, sort_dicts=False)\n",
    "    \n",
    "    producer.send(\"fulfillment_pub_sub\", json.dumps(message_dict).encode())\n",
    "    producer.send(\"fulfillment_stream\", json.dumps(message_dict).encode())\n",
    "    \n",
    "    time.sleep(2.0)"
   ]
  },
  {
   "cell_type": "code",
   "execution_count": null,
   "id": "42a1c965",
   "metadata": {},
   "outputs": [],
   "source": []
  }
 ],
 "metadata": {
  "kernelspec": {
   "display_name": "Python 3 (ipykernel)",
   "language": "python",
   "name": "python3"
  },
  "language_info": {
   "codemirror_mode": {
    "name": "ipython",
    "version": 3
   },
   "file_extension": ".py",
   "mimetype": "text/x-python",
   "name": "python",
   "nbconvert_exporter": "python",
   "pygments_lexer": "ipython3",
   "version": "3.9.7"
  }
 },
 "nbformat": 4,
 "nbformat_minor": 5
}
