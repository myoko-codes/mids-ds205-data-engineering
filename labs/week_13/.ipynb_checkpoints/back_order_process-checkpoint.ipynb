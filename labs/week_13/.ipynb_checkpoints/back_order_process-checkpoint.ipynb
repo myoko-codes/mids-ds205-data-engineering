{
 "cells": [
  {
   "cell_type": "markdown",
   "id": "45d863b1",
   "metadata": {},
   "source": [
    "# Back Order Process"
   ]
  },
  {
   "cell_type": "code",
   "execution_count": 1,
   "id": "a1da48d2",
   "metadata": {},
   "outputs": [],
   "source": [
    "import kafka\n",
    "\n",
    "import time\n",
    "\n",
    "import numpy as np\n",
    "\n",
    "import json\n",
    "\n",
    "import pprint\n",
    "\n",
    "from IPython.display import clear_output\n"
   ]
  },
  {
   "cell_type": "markdown",
   "id": "04f289d7",
   "metadata": {},
   "source": [
    "## Read the back_order_queue; (at some point this process should have some sort of logic to put back orded items on the fulfillment_queue when back order items come in)"
   ]
  },
  {
   "cell_type": "code",
   "execution_count": 7,
   "id": "69914725",
   "metadata": {},
   "outputs": [],
   "source": [
    "producer = kafka.KafkaProducer(bootstrap_servers=['kafka:29092'])"
   ]
  },
  {
   "cell_type": "code",
   "execution_count": 8,
   "id": "2433d41d",
   "metadata": {},
   "outputs": [],
   "source": [
    "topic = \"back_order_queue\"\n",
    "\n",
    "back_order_queue = kafka.KafkaConsumer(topic, \n",
    "                                       bootstrap_servers=['kafka:29092'], \n",
    "                                       auto_offset_reset='earliest')\n"
   ]
  },
  {
   "cell_type": "code",
   "execution_count": 11,
   "id": "bd516696",
   "metadata": {},
   "outputs": [
    {
     "name": "stdout",
     "output_type": "stream",
     "text": [
      "\n",
      "=================================\n",
      "   Back Order Process\n",
      "=================================\n",
      "\n",
      "---------------------------------------------\n",
      "   Offset: 88    Order ID: 14508\n",
      "---------------------------------------------\n",
      "\n",
      "{'order_id': 14508,\n",
      " 'sub_total': 359.4,\n",
      " 'tax': 28.75,\n",
      " 'total': 388.15,\n",
      " 'line_items': [{'product_id': 2,\n",
      "                 'product_name': '8 GiB RAM DIMM',\n",
      "                 'product_price': 29.95,\n",
      "                 'quantity': 12,\n",
      "                 'total': 359.4}]}\n"
     ]
    },
    {
     "ename": "KeyboardInterrupt",
     "evalue": "",
     "output_type": "error",
     "traceback": [
      "\u001b[0;31m---------------------------------------------------------------------------\u001b[0m",
      "\u001b[0;31mKeyboardInterrupt\u001b[0m                         Traceback (most recent call last)",
      "\u001b[0;32m/tmp/ipykernel_188/3576093031.py\u001b[0m in \u001b[0;36m<module>\u001b[0;34m\u001b[0m\n\u001b[1;32m     18\u001b[0m     \u001b[0mproducer\u001b[0m\u001b[0;34m.\u001b[0m\u001b[0msend\u001b[0m\u001b[0;34m(\u001b[0m\u001b[0;34m\"back_order_stream\"\u001b[0m\u001b[0;34m,\u001b[0m \u001b[0mjson\u001b[0m\u001b[0;34m.\u001b[0m\u001b[0mdumps\u001b[0m\u001b[0;34m(\u001b[0m\u001b[0mmessage_dict\u001b[0m\u001b[0;34m)\u001b[0m\u001b[0;34m.\u001b[0m\u001b[0mencode\u001b[0m\u001b[0;34m(\u001b[0m\u001b[0;34m)\u001b[0m\u001b[0;34m)\u001b[0m\u001b[0;34m\u001b[0m\u001b[0;34m\u001b[0m\u001b[0m\n\u001b[1;32m     19\u001b[0m \u001b[0;34m\u001b[0m\u001b[0m\n\u001b[0;32m---> 20\u001b[0;31m     \u001b[0mtime\u001b[0m\u001b[0;34m.\u001b[0m\u001b[0msleep\u001b[0m\u001b[0;34m(\u001b[0m\u001b[0;36m2.0\u001b[0m\u001b[0;34m)\u001b[0m\u001b[0;34m\u001b[0m\u001b[0;34m\u001b[0m\u001b[0m\n\u001b[0m",
      "\u001b[0;31mKeyboardInterrupt\u001b[0m: "
     ]
    }
   ],
   "source": [
    "for message in back_order_queue:\n",
    "    \n",
    "    clear_output(wait=True)\n",
    "    \n",
    "    message_dict = json.loads(message.value)\n",
    "    \n",
    "    print(\"\\n=================================\")\n",
    "    print(\"   Back Order Process\")\n",
    "    print(\"=================================\\n\")\n",
    "\n",
    "    print(\"---------------------------------------------\")\n",
    "    print(\"   Offset:\", message.offset, \"   Order ID:\", message_dict[\"order_id\"])\n",
    "    print(\"---------------------------------------------\\n\")\n",
    "    \n",
    "    pprint.pprint(message_dict, sort_dicts=False)\n",
    "    \n",
    "    producer.send(\"back_order_pub_sub\", json.dumps(message_dict).encode())\n",
    "    producer.send(\"back_order_stream\", json.dumps(message_dict).encode())    \n",
    "    \n",
    "    time.sleep(2.0)"
   ]
  },
  {
   "cell_type": "code",
   "execution_count": null,
   "id": "8f6b4ddd",
   "metadata": {},
   "outputs": [],
   "source": []
  }
 ],
 "metadata": {
  "kernelspec": {
   "display_name": "Python 3 (ipykernel)",
   "language": "python",
   "name": "python3"
  },
  "language_info": {
   "codemirror_mode": {
    "name": "ipython",
    "version": 3
   },
   "file_extension": ".py",
   "mimetype": "text/x-python",
   "name": "python",
   "nbconvert_exporter": "python",
   "pygments_lexer": "ipython3",
   "version": "3.9.7"
  }
 },
 "nbformat": 4,
 "nbformat_minor": 5
}
