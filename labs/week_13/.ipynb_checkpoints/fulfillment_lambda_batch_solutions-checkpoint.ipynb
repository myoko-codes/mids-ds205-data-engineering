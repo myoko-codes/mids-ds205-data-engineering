{
 "cells": [
  {
   "cell_type": "markdown",
   "id": "1c272b32",
   "metadata": {},
   "source": [
    "# Fulfillment Lambda Batch Solutions"
   ]
  },
  {
   "cell_type": "code",
   "execution_count": 1,
   "id": "a1da48d2",
   "metadata": {},
   "outputs": [],
   "source": [
    "import kafka\n",
    "\n",
    "import pprint\n",
    "\n",
    "from IPython.display import clear_output\n",
    "\n",
    "import time"
   ]
  },
  {
   "cell_type": "markdown",
   "id": "761b6c04",
   "metadata": {},
   "source": [
    "## You try it - \n",
    "\n",
    "\n",
    "## Modify fulfillment_process to publish to the fulfillment_pub_sub topic; create a new jupyter notebook fulfillment_lambda_batch to subscribe to fulfillment_pub_sub in batch mode; solutions can be found in fulfillment_process_solutions and fulfillment_lambda_batch_solutions"
   ]
  },
  {
   "cell_type": "code",
   "execution_count": 2,
   "id": "c0db0d80",
   "metadata": {},
   "outputs": [],
   "source": [
    "topic = \"fulfillment_pub_sub\"\n",
    "\n",
    "subscriber_read_all = kafka.KafkaConsumer(topic, \n",
    "                                          bootstrap_servers=['kafka:29092'], \n",
    "                                          auto_offset_reset='earliest')\n"
   ]
  },
  {
   "cell_type": "code",
   "execution_count": 3,
   "id": "851ff5bb",
   "metadata": {},
   "outputs": [
    {
     "name": "stdout",
     "output_type": "stream",
     "text": [
      "Offset: 0    Value: b'{\"order_id\": 14375, \"sub_total\": 2089.2, \"tax\": 167.14, \"total\": 2256.34, \"'\n",
      "Offset: 1    Value: b'{\"order_id\": 14376, \"sub_total\": 539.7, \"tax\": 43.18, \"total\": 582.88, \"lin'\n",
      "Offset: 2    Value: b'{\"order_id\": 14377, \"sub_total\": 1689.25, \"tax\": 135.14, \"total\": 1824.39, '\n",
      "Offset: 3    Value: b'{\"order_id\": 14378, \"sub_total\": 1889.05, \"tax\": 151.12, \"total\": 2040.17, '\n",
      "Offset: 4    Value: b'{\"order_id\": 14379, \"sub_total\": 1549.35, \"tax\": 123.95, \"total\": 1673.3, \"'\n",
      "\n",
      "... only showing a max of first 5 and max of last 5 ... \n",
      "\n",
      "Offset: 24    Value: b'{\"order_id\": 14380, \"sub_total\": 1499.1, \"tax\": 119.93, \"total\": 1619.03, \"'\n",
      "Offset: 25    Value: b'{\"order_id\": 14381, \"sub_total\": 1749.4, \"tax\": 139.95, \"total\": 1889.35, \"'\n",
      "Offset: 26    Value: b'{\"order_id\": 14382, \"sub_total\": 399.8, \"tax\": 31.98, \"total\": 431.78, \"lin'\n",
      "Offset: 27    Value: b'{\"order_id\": 14383, \"sub_total\": 1649.45, \"tax\": 131.96, \"total\": 1781.41, '\n",
      "Offset: 28    Value: b'{\"order_id\": 14384, \"sub_total\": 1349.4, \"tax\": 107.95, \"total\": 1457.35, \"'\n"
     ]
    }
   ],
   "source": [
    "if subscriber_read_all.assignment():\n",
    "\n",
    "    subscriber_read_all.seek_to_beginning()\n",
    "\n",
    "message_list = []\n",
    "\n",
    "while (True):\n",
    "    \n",
    "    poll_result = subscriber_read_all.poll(timeout_ms=500)\n",
    "    \n",
    "    if poll_result == {}:\n",
    "        break\n",
    "\n",
    "    items = poll_result.items()\n",
    "\n",
    "    for (topic, messages) in items:\n",
    "    \n",
    "        for message in messages:\n",
    "            \n",
    "            message_list.append([message.offset, message.value])\n",
    "            \n",
    "i = 0\n",
    "\n",
    "for message in message_list:\n",
    "    \n",
    "    if (i < 5) or (i > len(message_list) - 6):\n",
    "        print(\"Offset:\", message[0], \"   Value:\", message[1][:75])\n",
    "   \n",
    "    if i == 5:\n",
    "        print(\"\\n... only showing a max of first 5 and max of last 5 ... \\n\")\n",
    "        \n",
    "    i += 1\n",
    "    \n",
    "    "
   ]
  },
  {
   "cell_type": "code",
   "execution_count": 4,
   "id": "43c80b0f",
   "metadata": {},
   "outputs": [],
   "source": [
    "topic = \"fulfillment_pub_sub\"\n",
    "\n",
    "subscriber_batch = kafka.KafkaConsumer(topic, \n",
    "                                       bootstrap_servers=['kafka:29092'], \n",
    "                                       auto_offset_reset='earliest')\n"
   ]
  },
  {
   "cell_type": "code",
   "execution_count": 5,
   "id": "6c08b3ec",
   "metadata": {},
   "outputs": [
    {
     "name": "stdout",
     "output_type": "stream",
     "text": [
      "\n",
      "======================================\n",
      "   Fulfillment Lambda Batch Process\n",
      "=======================================\n",
      "\n",
      "\n",
      "------------------------\n",
      "   Batch  1\n",
      "------------------------\n",
      "\n",
      "\n",
      "Offset: 0    Value: b'{\"order_id\": 14375, \"sub_total\": 2089.2, \"tax\": 167.14, \"total\": 2256.34, \"'\n",
      "Offset: 1    Value: b'{\"order_id\": 14376, \"sub_total\": 539.7, \"tax\": 43.18, \"total\": 582.88, \"lin'\n",
      "Offset: 2    Value: b'{\"order_id\": 14377, \"sub_total\": 1689.25, \"tax\": 135.14, \"total\": 1824.39, '\n",
      "Offset: 3    Value: b'{\"order_id\": 14378, \"sub_total\": 1889.05, \"tax\": 151.12, \"total\": 2040.17, '\n",
      "Offset: 4    Value: b'{\"order_id\": 14379, \"sub_total\": 1549.35, \"tax\": 123.95, \"total\": 1673.3, \"'\n",
      "Offset: 5    Value: b'{\"order_id\": 14380, \"sub_total\": 1499.1, \"tax\": 119.93, \"total\": 1619.03, \"'\n",
      "Offset: 6    Value: b'{\"order_id\": 14381, \"sub_total\": 1749.4, \"tax\": 139.95, \"total\": 1889.35, \"'\n",
      "Offset: 7    Value: b'{\"order_id\": 14382, \"sub_total\": 399.8, \"tax\": 31.98, \"total\": 431.78, \"lin'\n",
      "Offset: 8    Value: b'{\"order_id\": 14383, \"sub_total\": 1649.45, \"tax\": 131.96, \"total\": 1781.41, '\n",
      "Offset: 9    Value: b'{\"order_id\": 14384, \"sub_total\": 1349.4, \"tax\": 107.95, \"total\": 1457.35, \"'\n",
      "Offset: 10    Value: b'{\"order_id\": 14385, \"sub_total\": 1139.25, \"tax\": 91.14, \"total\": 1230.39, \"'\n",
      "Offset: 11    Value: b'{\"order_id\": 14386, \"sub_total\": 769.45, \"tax\": 61.56, \"total\": 831.01, \"li'\n",
      "Offset: 12    Value: b'{\"order_id\": 14387, \"sub_total\": 1089.35, \"tax\": 87.15, \"total\": 1176.5, \"l'\n",
      "Offset: 13    Value: b'{\"order_id\": 14388, \"sub_total\": 409.75, \"tax\": 32.78, \"total\": 442.53, \"li'\n",
      "Offset: 14    Value: b'{\"order_id\": 14389, \"sub_total\": 349.75, \"tax\": 27.98, \"total\": 377.73, \"li'\n",
      "Offset: 15    Value: b'{\"order_id\": 14390, \"sub_total\": 2338.9, \"tax\": 187.11, \"total\": 2526.01, \"'\n",
      "Offset: 16    Value: b'{\"order_id\": 14391, \"sub_total\": 1469.3, \"tax\": 117.54, \"total\": 1586.84, \"'\n",
      "Offset: 17    Value: b'{\"order_id\": 14392, \"sub_total\": 489.65, \"tax\": 39.17, \"total\": 528.82, \"li'\n",
      "Offset: 18    Value: b'{\"order_id\": 14393, \"sub_total\": 899.55, \"tax\": 71.96, \"total\": 971.51, \"li'\n",
      "Offset: 19    Value: b'{\"order_id\": 14375, \"sub_total\": 2089.2, \"tax\": 167.14, \"total\": 2256.34, \"'\n",
      "Offset: 20    Value: b'{\"order_id\": 14376, \"sub_total\": 539.7, \"tax\": 43.18, \"total\": 582.88, \"lin'\n",
      "Offset: 21    Value: b'{\"order_id\": 14377, \"sub_total\": 1689.25, \"tax\": 135.14, \"total\": 1824.39, '\n",
      "Offset: 22    Value: b'{\"order_id\": 14378, \"sub_total\": 1889.05, \"tax\": 151.12, \"total\": 2040.17, '\n",
      "Offset: 23    Value: b'{\"order_id\": 14379, \"sub_total\": 1549.35, \"tax\": 123.95, \"total\": 1673.3, \"'\n",
      "Offset: 24    Value: b'{\"order_id\": 14380, \"sub_total\": 1499.1, \"tax\": 119.93, \"total\": 1619.03, \"'\n",
      "Offset: 25    Value: b'{\"order_id\": 14381, \"sub_total\": 1749.4, \"tax\": 139.95, \"total\": 1889.35, \"'\n",
      "Offset: 26    Value: b'{\"order_id\": 14382, \"sub_total\": 399.8, \"tax\": 31.98, \"total\": 431.78, \"lin'\n",
      "Offset: 27    Value: b'{\"order_id\": 14383, \"sub_total\": 1649.45, \"tax\": 131.96, \"total\": 1781.41, '\n",
      "Offset: 28    Value: b'{\"order_id\": 14384, \"sub_total\": 1349.4, \"tax\": 107.95, \"total\": 1457.35, \"'\n"
     ]
    },
    {
     "ename": "KeyboardInterrupt",
     "evalue": "",
     "output_type": "error",
     "traceback": [
      "\u001b[0;31m---------------------------------------------------------------------------\u001b[0m",
      "\u001b[0;31mKeyboardInterrupt\u001b[0m                         Traceback (most recent call last)",
      "\u001b[0;32m/tmp/ipykernel_495/2171263890.py\u001b[0m in \u001b[0;36m<module>\u001b[0;34m\u001b[0m\n\u001b[1;32m     34\u001b[0m             \u001b[0mbatch_number\u001b[0m \u001b[0;34m+=\u001b[0m \u001b[0;36m1\u001b[0m\u001b[0;34m\u001b[0m\u001b[0;34m\u001b[0m\u001b[0m\n\u001b[1;32m     35\u001b[0m \u001b[0;34m\u001b[0m\u001b[0m\n\u001b[0;32m---> 36\u001b[0;31m         \u001b[0mtime\u001b[0m\u001b[0;34m.\u001b[0m\u001b[0msleep\u001b[0m\u001b[0;34m(\u001b[0m\u001b[0mbatch_time_interval\u001b[0m\u001b[0;34m)\u001b[0m\u001b[0;34m\u001b[0m\u001b[0;34m\u001b[0m\u001b[0m\n\u001b[0m\u001b[1;32m     37\u001b[0m \u001b[0;34m\u001b[0m\u001b[0m\n\u001b[1;32m     38\u001b[0m     \u001b[0;32melse\u001b[0m\u001b[0;34m:\u001b[0m\u001b[0;34m\u001b[0m\u001b[0;34m\u001b[0m\u001b[0m\n",
      "\u001b[0;31mKeyboardInterrupt\u001b[0m: "
     ]
    }
   ],
   "source": [
    "batch_time_interval = 5.0\n",
    "\n",
    "if subscriber_batch.assignment():\n",
    "\n",
    "    subscriber_batch.seek_to_beginning()\n",
    "\n",
    "batch_number = 1\n",
    "\n",
    "message_list = []\n",
    "\n",
    "while (True):\n",
    "    \n",
    "    poll_result = subscriber_batch.poll(timeout_ms=500)\n",
    "    \n",
    "    if poll_result == {}:\n",
    "        \n",
    "        if len(message_list) > 0:\n",
    "            \n",
    "            clear_output(wait=True)\n",
    "            \n",
    "            print(\"\\n======================================\")\n",
    "            print(\"   Fulfillment Lambda Batch Process\")\n",
    "            print(\"=======================================\\n\")\n",
    "            print(\"\\n------------------------\")\n",
    "            print(\"   Batch \", batch_number)\n",
    "            print(\"------------------------\\n\\n\")\n",
    "            \n",
    "            for message in message_list:\n",
    "                \n",
    "                print(\"Offset:\", message[0], \"   Value:\", message[1][:75])\n",
    "                \n",
    "            message_list = []\n",
    "            \n",
    "            batch_number += 1\n",
    "            \n",
    "        time.sleep(batch_time_interval)\n",
    "              \n",
    "    else:\n",
    "\n",
    "        items = poll_result.items()\n",
    "\n",
    "        for (topic, messages) in items:\n",
    "    \n",
    "            for message in messages:\n",
    "        \n",
    "                message_list.append([message.offset, message.value])\n"
   ]
  },
  {
   "cell_type": "code",
   "execution_count": null,
   "id": "48ec21b0",
   "metadata": {},
   "outputs": [],
   "source": []
  }
 ],
 "metadata": {
  "kernelspec": {
   "display_name": "Python 3 (ipykernel)",
   "language": "python",
   "name": "python3"
  },
  "language_info": {
   "codemirror_mode": {
    "name": "ipython",
    "version": 3
   },
   "file_extension": ".py",
   "mimetype": "text/x-python",
   "name": "python",
   "nbconvert_exporter": "python",
   "pygments_lexer": "ipython3",
   "version": "3.9.7"
  }
 },
 "nbformat": 4,
 "nbformat_minor": 5
}
