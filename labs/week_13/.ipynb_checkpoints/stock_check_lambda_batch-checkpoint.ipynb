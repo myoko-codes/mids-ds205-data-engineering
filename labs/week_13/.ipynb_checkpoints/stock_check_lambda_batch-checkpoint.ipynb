{
 "cells": [
  {
   "cell_type": "markdown",
   "id": "af676b54",
   "metadata": {},
   "source": [
    "# Orders Lambda Batch"
   ]
  },
  {
   "cell_type": "code",
   "execution_count": 1,
   "id": "a1da48d2",
   "metadata": {},
   "outputs": [],
   "source": [
    "import kafka\n",
    "\n",
    "import pprint\n",
    "\n",
    "from IPython.display import clear_output\n",
    "\n",
    "import time"
   ]
  },
  {
   "cell_type": "code",
   "execution_count": 2,
   "id": "20665253",
   "metadata": {},
   "outputs": [],
   "source": [
    "topic = \"stock_check_pub_sub\"\n",
    "\n",
    "subscriber_batch = kafka.KafkaConsumer(topic, \n",
    "                                       bootstrap_servers=['kafka:29092'], \n",
    "                                       auto_offset_reset='earliest')\n"
   ]
  },
  {
   "cell_type": "code",
   "execution_count": 3,
   "id": "0c47cc2a",
   "metadata": {},
   "outputs": [
    {
     "name": "stdout",
     "output_type": "stream",
     "text": [
      "\n",
      "=================================\n",
      "   Stock Check Lambda Batch Process\n",
      "=================================\n",
      "\n",
      "\n",
      "------------------------\n",
      "   Batch  1\n",
      "------------------------\n",
      "\n",
      "\n",
      "Offset: 0    Value: b'{\"order_id\": 14768, \"sub_total\": 89.85, \"tax\": 7.19, \"total\": 97.04, \"line_'\n",
      "Offset: 1    Value: b'{\"order_id\": 14768, \"sub_total\": 89.85, \"tax\": 7.19, \"total\": 97.04, \"line_'\n",
      "Offset: 2    Value: b'{\"order_id\": 14770, \"sub_total\": 89.85, \"tax\": 7.19, \"total\": 97.04, \"line_'\n",
      "Offset: 3    Value: b'{\"order_id\": 14770, \"sub_total\": 89.85, \"tax\": 7.19, \"total\": 97.04, \"line_'\n",
      "Offset: 4    Value: b'{\"order_id\": 14772, \"sub_total\": 179.7, \"tax\": 14.38, \"total\": 194.08, \"lin'\n",
      "Offset: 5    Value: b'{\"order_id\": 14772, \"sub_total\": 179.7, \"tax\": 14.38, \"total\": 194.08, \"lin'\n",
      "Offset: 6    Value: b'{\"order_id\": 14774, \"sub_total\": 149.75, \"tax\": 11.98, \"total\": 161.73, \"li'\n",
      "Offset: 7    Value: b'{\"order_id\": 14774, \"sub_total\": 149.75, \"tax\": 11.98, \"total\": 161.73, \"li'\n",
      "Offset: 8    Value: b'{\"order_id\": 14774, \"sub_total\": 149.75, \"tax\": 11.98, \"total\": 161.73, \"li'\n",
      "Offset: 9    Value: b'{\"order_id\": 14777, \"sub_total\": 89.85, \"tax\": 7.19, \"total\": 97.04, \"line_'\n",
      "Offset: 10    Value: b'{\"order_id\": 14778, \"sub_total\": 359.4, \"tax\": 28.75, \"total\": 388.15, \"lin'\n",
      "Offset: 11    Value: b'{\"order_id\": 14778, \"sub_total\": 359.4, \"tax\": 28.75, \"total\": 388.15, \"lin'\n",
      "Offset: 12    Value: b'{\"order_id\": 14780, \"sub_total\": 179.7, \"tax\": 14.38, \"total\": 194.08, \"lin'\n",
      "Offset: 13    Value: b'{\"order_id\": 14781, \"sub_total\": 89.85, \"tax\": 7.19, \"total\": 97.04, \"line_'\n",
      "Offset: 14    Value: b'{\"order_id\": 14783, \"sub_total\": 89.85, \"tax\": 7.19, \"total\": 97.04, \"line_'\n",
      "Offset: 15    Value: b'{\"order_id\": 14783, \"sub_total\": 89.85, \"tax\": 7.19, \"total\": 97.04, \"line_'\n"
     ]
    },
    {
     "ename": "KeyboardInterrupt",
     "evalue": "",
     "output_type": "error",
     "traceback": [
      "\u001b[0;31m---------------------------------------------------------------------------\u001b[0m",
      "\u001b[0;31mKeyboardInterrupt\u001b[0m                         Traceback (most recent call last)",
      "\u001b[0;32m/tmp/ipykernel_316/2735706141.py\u001b[0m in \u001b[0;36m<module>\u001b[0;34m\u001b[0m\n\u001b[1;32m     34\u001b[0m             \u001b[0mbatch_number\u001b[0m \u001b[0;34m+=\u001b[0m \u001b[0;36m1\u001b[0m\u001b[0;34m\u001b[0m\u001b[0;34m\u001b[0m\u001b[0m\n\u001b[1;32m     35\u001b[0m \u001b[0;34m\u001b[0m\u001b[0m\n\u001b[0;32m---> 36\u001b[0;31m         \u001b[0mtime\u001b[0m\u001b[0;34m.\u001b[0m\u001b[0msleep\u001b[0m\u001b[0;34m(\u001b[0m\u001b[0mbatch_time_interval\u001b[0m\u001b[0;34m)\u001b[0m\u001b[0;34m\u001b[0m\u001b[0;34m\u001b[0m\u001b[0m\n\u001b[0m\u001b[1;32m     37\u001b[0m \u001b[0;34m\u001b[0m\u001b[0m\n\u001b[1;32m     38\u001b[0m     \u001b[0;32melse\u001b[0m\u001b[0;34m:\u001b[0m\u001b[0;34m\u001b[0m\u001b[0;34m\u001b[0m\u001b[0m\n",
      "\u001b[0;31mKeyboardInterrupt\u001b[0m: "
     ]
    }
   ],
   "source": [
    "batch_time_interval = 5.0\n",
    "\n",
    "if subscriber_batch.assignment():\n",
    "\n",
    "    subscriber_batch.seek_to_beginning()\n",
    "\n",
    "batch_number = 1\n",
    "\n",
    "message_list = []\n",
    "\n",
    "while (True):\n",
    "    \n",
    "    poll_result = subscriber_batch.poll(timeout_ms=500)\n",
    "    \n",
    "    if poll_result == {}:\n",
    "        \n",
    "        if len(message_list) > 0:\n",
    "            \n",
    "            clear_output(wait=True)\n",
    "            \n",
    "            print(\"\\n=================================\")\n",
    "            print(\"   Stock Check Lambda Batch Process\")\n",
    "            print(\"=================================\\n\")\n",
    "            print(\"\\n------------------------\")\n",
    "            print(\"   Batch \", batch_number)\n",
    "            print(\"------------------------\\n\\n\")\n",
    "            \n",
    "            for message in message_list:\n",
    "                \n",
    "                print(\"Offset:\", message[0], \"   Value:\", message[1][:75])\n",
    "                \n",
    "            message_list = []\n",
    "            \n",
    "            batch_number += 1\n",
    "            \n",
    "        time.sleep(batch_time_interval)\n",
    "              \n",
    "    else:\n",
    "\n",
    "        items = poll_result.items()\n",
    "\n",
    "        for (topic, messages) in items:\n",
    "    \n",
    "            for message in messages:\n",
    "        \n",
    "                message_list.append([message.offset, message.value])\n"
   ]
  },
  {
   "cell_type": "code",
   "execution_count": null,
   "id": "768d5ee9",
   "metadata": {},
   "outputs": [],
   "source": []
  }
 ],
 "metadata": {
  "kernelspec": {
   "display_name": "Python 3 (ipykernel)",
   "language": "python",
   "name": "python3"
  },
  "language_info": {
   "codemirror_mode": {
    "name": "ipython",
    "version": 3
   },
   "file_extension": ".py",
   "mimetype": "text/x-python",
   "name": "python",
   "nbconvert_exporter": "python",
   "pygments_lexer": "ipython3",
   "version": "3.9.7"
  }
 },
 "nbformat": 4,
 "nbformat_minor": 5
}
