{
 "cells": [
  {
   "cell_type": "markdown",
   "id": "d95dc791",
   "metadata": {},
   "source": [
    "![Kafka Example](kafka_example.JPG)"
   ]
  },
  {
   "cell_type": "markdown",
   "id": "680ae037",
   "metadata": {},
   "source": [
    "# Order Process"
   ]
  },
  {
   "cell_type": "markdown",
   "id": "8ce0068c",
   "metadata": {},
   "source": [
    "# Lab: Kafka - Publisher / Subscriber Model"
   ]
  },
  {
   "cell_type": "code",
   "execution_count": 1,
   "id": "a1da48d2",
   "metadata": {},
   "outputs": [],
   "source": [
    "import kafka\n",
    "\n",
    "import time\n",
    "\n",
    "import numpy as np\n",
    "\n",
    "import json\n",
    "\n",
    "import pprint\n",
    "\n",
    "from IPython.display import clear_output\n"
   ]
  },
  {
   "cell_type": "markdown",
   "id": "ea87c2d4",
   "metadata": {},
   "source": [
    "## List existing topics (if any); Delete existing topics from prior runs"
   ]
  },
  {
   "cell_type": "code",
   "execution_count": 2,
   "id": "7de88f0e",
   "metadata": {},
   "outputs": [],
   "source": [
    "admin_client = kafka.KafkaAdminClient(bootstrap_servers=['kafka:29092'])"
   ]
  },
  {
   "cell_type": "code",
   "execution_count": 3,
   "id": "6dab1ad9",
   "metadata": {},
   "outputs": [
    {
     "data": {
      "text/plain": [
       "['back_order_pub_sub',\n",
       " 'fulfillment_queue',\n",
       " 'fulfillment_pub_sub',\n",
       " 'stock_check_stream',\n",
       " 'back_order_stream',\n",
       " 'orders_stream',\n",
       " 'stock_check_queue',\n",
       " 'stock_check_pub_sub',\n",
       " 'orders_pub_sub',\n",
       " 'back_order_queue',\n",
       " 'fulfillment_stream']"
      ]
     },
     "execution_count": 3,
     "metadata": {},
     "output_type": "execute_result"
    }
   ],
   "source": [
    "admin_client.list_topics()"
   ]
  },
  {
   "cell_type": "code",
   "execution_count": 4,
   "id": "3d91f18e",
   "metadata": {},
   "outputs": [
    {
     "data": {
      "text/plain": [
       "DeleteTopicsResponse_v3(throttle_time_ms=0, topic_error_codes=[(topic='back_order_pub_sub', error_code=0), (topic='fulfillment_queue', error_code=0), (topic='fulfillment_pub_sub', error_code=0), (topic='stock_check_stream', error_code=0), (topic='back_order_stream', error_code=0), (topic='orders_stream', error_code=0), (topic='stock_check_queue', error_code=0), (topic='stock_check_pub_sub', error_code=0), (topic='orders_pub_sub', error_code=0), (topic='back_order_queue', error_code=0), (topic='fulfillment_stream', error_code=0)])"
      ]
     },
     "execution_count": 4,
     "metadata": {},
     "output_type": "execute_result"
    }
   ],
   "source": [
    "admin_client.delete_topics(admin_client.list_topics(), timeout_ms=25000)"
   ]
  },
  {
   "cell_type": "code",
   "execution_count": 5,
   "id": "c122e7be",
   "metadata": {},
   "outputs": [
    {
     "data": {
      "text/plain": [
       "[]"
      ]
     },
     "execution_count": 5,
     "metadata": {},
     "output_type": "execute_result"
    }
   ],
   "source": [
    "admin_client.list_topics()"
   ]
  },
  {
   "cell_type": "markdown",
   "id": "5b5747e2",
   "metadata": {},
   "source": [
    "## Create the topics needed for this example from the above diagram"
   ]
  },
  {
   "cell_type": "code",
   "execution_count": 6,
   "id": "4040cb80",
   "metadata": {},
   "outputs": [],
   "source": [
    "topic_list = []\n",
    "\n",
    "topic_list.append(kafka.admin.NewTopic(name=\"orders_pub_sub\", num_partitions=1, replication_factor=1))\n",
    "topic_list.append(kafka.admin.NewTopic(name=\"orders_stream\", num_partitions=1, replication_factor=1))\n",
    "\n",
    "topic_list.append(kafka.admin.NewTopic(name=\"stock_check_queue\", num_partitions=1, replication_factor=1))\n",
    "topic_list.append(kafka.admin.NewTopic(name=\"stock_check_pub_sub\", num_partitions=1, replication_factor=1))\n",
    "topic_list.append(kafka.admin.NewTopic(name=\"stock_check_stream\", num_partitions=1, replication_factor=1))\n",
    "\n",
    "topic_list.append(kafka.admin.NewTopic(name=\"back_order_queue\", num_partitions=1, replication_factor=1))\n",
    "topic_list.append(kafka.admin.NewTopic(name=\"back_order_pub_sub\", num_partitions=1, replication_factor=1))\n",
    "topic_list.append(kafka.admin.NewTopic(name=\"back_order_stream\", num_partitions=1, replication_factor=1))\n",
    "\n",
    "topic_list.append(kafka.admin.NewTopic(name=\"fulfillment_queue\", num_partitions=1, replication_factor=1))\n",
    "topic_list.append(kafka.admin.NewTopic(name=\"fulfillment_pub_sub\", num_partitions=1, replication_factor=1))\n",
    "topic_list.append(kafka.admin.NewTopic(name=\"fulfillment_stream\", num_partitions=1, replication_factor=1))\n"
   ]
  },
  {
   "cell_type": "code",
   "execution_count": 7,
   "id": "b58ca188",
   "metadata": {},
   "outputs": [
    {
     "data": {
      "text/plain": [
       "CreateTopicsResponse_v3(throttle_time_ms=0, topic_errors=[(topic='orders_pub_sub', error_code=0, error_message=None), (topic='orders_stream', error_code=0, error_message=None), (topic='stock_check_queue', error_code=0, error_message=None), (topic='stock_check_pub_sub', error_code=0, error_message=None), (topic='stock_check_stream', error_code=0, error_message=None), (topic='back_order_queue', error_code=0, error_message=None), (topic='back_order_pub_sub', error_code=0, error_message=None), (topic='back_order_stream', error_code=0, error_message=None), (topic='fulfillment_queue', error_code=0, error_message=None), (topic='fulfillment_pub_sub', error_code=0, error_message=None), (topic='fulfillment_stream', error_code=0, error_message=None)])"
      ]
     },
     "execution_count": 7,
     "metadata": {},
     "output_type": "execute_result"
    }
   ],
   "source": [
    "admin_client.create_topics(topic_list)"
   ]
  },
  {
   "cell_type": "code",
   "execution_count": 8,
   "id": "1174c173",
   "metadata": {},
   "outputs": [
    {
     "data": {
      "text/plain": [
       "['back_order_pub_sub',\n",
       " 'fulfillment_queue',\n",
       " 'fulfillment_pub_sub',\n",
       " 'stock_check_stream',\n",
       " 'back_order_stream',\n",
       " 'orders_stream',\n",
       " 'stock_check_queue',\n",
       " 'stock_check_pub_sub',\n",
       " 'orders_pub_sub',\n",
       " 'back_order_queue',\n",
       " 'fulfillment_stream']"
      ]
     },
     "execution_count": 8,
     "metadata": {},
     "output_type": "execute_result"
    }
   ],
   "source": [
    "admin_client.list_topics()"
   ]
  },
  {
   "cell_type": "markdown",
   "id": "04cf3ccd",
   "metadata": {},
   "source": [
    "## Loop and generate orders; publish the orders to the topic orders_pub_sub"
   ]
  },
  {
   "cell_type": "code",
   "execution_count": 9,
   "id": "561fb445",
   "metadata": {},
   "outputs": [],
   "source": [
    "producer = kafka.KafkaProducer(bootstrap_servers=['kafka:29092'])\n"
   ]
  },
  {
   "cell_type": "code",
   "execution_count": 10,
   "id": "e0f6d946",
   "metadata": {},
   "outputs": [],
   "source": [
    "order_id = 13927\n",
    "\n",
    "product_list = [\n",
    "                {'product_id': 1, 'product_name': 'ARM Board', 'product_price': 99.95},\n",
    "                {'product_id': 2, 'product_name': '8 GiB RAM DIMM', 'product_price': 29.95},\n",
    "                {'product_id': 3, 'product_name': '16 GiB RAM DIMM', 'product_price': 69.95},\n",
    "                {'product_id': 4, 'product_name': '32 GiB RAM DIMM', 'product_price': 149.95}\n",
    "               ]"
   ]
  },
  {
   "cell_type": "markdown",
   "id": "2808421d",
   "metadata": {},
   "source": [
    "## Infinite loop - to stop: menu bar => Kernel => Interrupt"
   ]
  },
  {
   "cell_type": "code",
   "execution_count": 11,
   "id": "8d54a1c4",
   "metadata": {},
   "outputs": [
    {
     "name": "stdout",
     "output_type": "stream",
     "text": [
      "\n",
      "=================================\n",
      "   Order Process\n",
      "=================================\n",
      "\n",
      "{'order_id': 14374,\n",
      " 'sub_total': 739.55,\n",
      " 'tax': 59.16,\n",
      " 'total': 798.71,\n",
      " 'line_items': [{'product_id': 1,\n",
      "                 'product_name': 'ARM Board',\n",
      "                 'product_price': 99.95,\n",
      "                 'quantity': 1,\n",
      "                 'total': 99.95},\n",
      "                {'product_id': 2,\n",
      "                 'product_name': '8 GiB RAM DIMM',\n",
      "                 'product_price': 29.95,\n",
      "                 'quantity': 2,\n",
      "                 'total': 59.9},\n",
      "                {'product_id': 3,\n",
      "                 'product_name': '16 GiB RAM DIMM',\n",
      "                 'product_price': 69.95,\n",
      "                 'quantity': 4,\n",
      "                 'total': 279.8},\n",
      "                {'product_id': 4,\n",
      "                 'product_name': '32 GiB RAM DIMM',\n",
      "                 'product_price': 149.95,\n",
      "                 'quantity': 2,\n",
      "                 'total': 299.9}]}\n"
     ]
    },
    {
     "ename": "KeyboardInterrupt",
     "evalue": "",
     "output_type": "error",
     "traceback": [
      "\u001b[0;31m---------------------------------------------------------------------------\u001b[0m",
      "\u001b[0;31mKeyboardInterrupt\u001b[0m                         Traceback (most recent call last)",
      "\u001b[0;32m/tmp/ipykernel_42/1999073478.py\u001b[0m in \u001b[0;36m<module>\u001b[0;34m\u001b[0m\n\u001b[1;32m     48\u001b[0m     \u001b[0mproducer\u001b[0m\u001b[0;34m.\u001b[0m\u001b[0msend\u001b[0m\u001b[0;34m(\u001b[0m\u001b[0;34m\"orders_pub_sub\"\u001b[0m\u001b[0;34m,\u001b[0m \u001b[0mjson\u001b[0m\u001b[0;34m.\u001b[0m\u001b[0mdumps\u001b[0m\u001b[0;34m(\u001b[0m\u001b[0morder\u001b[0m\u001b[0;34m)\u001b[0m\u001b[0;34m.\u001b[0m\u001b[0mencode\u001b[0m\u001b[0;34m(\u001b[0m\u001b[0;34m)\u001b[0m\u001b[0;34m)\u001b[0m\u001b[0;34m\u001b[0m\u001b[0;34m\u001b[0m\u001b[0m\n\u001b[1;32m     49\u001b[0m \u001b[0;34m\u001b[0m\u001b[0m\n\u001b[0;32m---> 50\u001b[0;31m     \u001b[0mtime\u001b[0m\u001b[0;34m.\u001b[0m\u001b[0msleep\u001b[0m\u001b[0;34m(\u001b[0m\u001b[0;36m2.0\u001b[0m\u001b[0;34m)\u001b[0m\u001b[0;34m\u001b[0m\u001b[0;34m\u001b[0m\u001b[0m\n\u001b[0m\u001b[1;32m     51\u001b[0m \u001b[0;34m\u001b[0m\u001b[0m\n",
      "\u001b[0;31mKeyboardInterrupt\u001b[0m: "
     ]
    }
   ],
   "source": [
    "while (True):\n",
    "    \n",
    "    order_id += 1\n",
    "    \n",
    "    num_line_items = np.random.randint(1,5)\n",
    "    \n",
    "    random_products = np.random.choice(product_list, size=num_line_items, replace=False)\n",
    "    \n",
    "    sorted_random_products = sorted(random_products, key = lambda k: k['product_id'])\n",
    "    \n",
    "    line_items = []\n",
    "    \n",
    "    sub_total = 0\n",
    "    \n",
    "    for product in sorted_random_products:\n",
    "        \n",
    "        quantity = np.random.randint(1,13)\n",
    "        line_item_total = round(quantity * product[\"product_price\"], 2)\n",
    "        sub_total += line_item_total\n",
    "        \n",
    "        line_item = {}\n",
    "        line_item[\"product_id\"] = product[\"product_id\"]\n",
    "        line_item[\"product_name\"] = product[\"product_name\"]\n",
    "        line_item[\"product_price\"] = product[\"product_price\"]\n",
    "        line_item[\"quantity\"] = quantity\n",
    "        line_item[\"total\"] = line_item_total\n",
    "        \n",
    "        line_items.append(line_item)\n",
    "    \n",
    "    sub_total = round(sub_total, 2)\n",
    "    \n",
    "    tax = round(sub_total * 0.08, 2)\n",
    "    \n",
    "    total = round(sub_total + tax, 2)\n",
    "    \n",
    "    order = {\"order_id\": order_id,\n",
    "             \"sub_total\": sub_total,\n",
    "             \"tax\": tax,\n",
    "             \"total\": total,\n",
    "             \"line_items\": line_items}\n",
    "    \n",
    "    clear_output(wait=True)\n",
    "    print(\"\\n=================================\")\n",
    "    print(\"   Order Process\")\n",
    "    print(\"=================================\\n\")    \n",
    "    pprint.pprint(order, sort_dicts=False)\n",
    "    \n",
    "    producer.send(\"orders_pub_sub\", json.dumps(order).encode())\n",
    "    \n",
    "    time.sleep(2.0)\n",
    "    "
   ]
  },
  {
   "cell_type": "markdown",
   "id": "92657c00",
   "metadata": {},
   "source": [
    "## You try it - demonstrate that 2 or more subscribers can subscribe to the same topic at the same time and both receive the same data;  make 1 or more copies of orders_lambda_batch and run multiple subscribers, both reading all and reading in batch mode"
   ]
  },
  {
   "cell_type": "markdown",
   "id": "294c2a81",
   "metadata": {},
   "source": [
    "# Lab: Kafka - Producer / Consumer Model"
   ]
  },
  {
   "cell_type": "markdown",
   "id": "29f6be69",
   "metadata": {},
   "source": [
    "## Modify the previous code to also write to the stock_check_queue"
   ]
  },
  {
   "cell_type": "code",
   "execution_count": 13,
   "id": "14ad37d5",
   "metadata": {},
   "outputs": [
    {
     "name": "stdout",
     "output_type": "stream",
     "text": [
      "\n",
      "=================================\n",
      "   Order Process\n",
      "=================================\n",
      "\n",
      "{'order_id': 15240,\n",
      " 'sub_total': 749.75,\n",
      " 'tax': 59.98,\n",
      " 'total': 809.73,\n",
      " 'line_items': [{'product_id': 4,\n",
      "                 'product_name': '32 GiB RAM DIMM',\n",
      "                 'product_price': 149.95,\n",
      "                 'quantity': 5,\n",
      "                 'total': 749.75}]}\n"
     ]
    },
    {
     "ename": "KeyboardInterrupt",
     "evalue": "",
     "output_type": "error",
     "traceback": [
      "\u001b[0;31m---------------------------------------------------------------------------\u001b[0m",
      "\u001b[0;31mKeyboardInterrupt\u001b[0m                         Traceback (most recent call last)",
      "\u001b[0;32m/tmp/ipykernel_42/2543832871.py\u001b[0m in \u001b[0;36m<module>\u001b[0;34m\u001b[0m\n\u001b[1;32m     50\u001b[0m     \u001b[0mproducer\u001b[0m\u001b[0;34m.\u001b[0m\u001b[0msend\u001b[0m\u001b[0;34m(\u001b[0m\u001b[0;34m\"stock_check_queue\"\u001b[0m\u001b[0;34m,\u001b[0m \u001b[0mjson\u001b[0m\u001b[0;34m.\u001b[0m\u001b[0mdumps\u001b[0m\u001b[0;34m(\u001b[0m\u001b[0morder\u001b[0m\u001b[0;34m)\u001b[0m\u001b[0;34m.\u001b[0m\u001b[0mencode\u001b[0m\u001b[0;34m(\u001b[0m\u001b[0;34m)\u001b[0m\u001b[0;34m)\u001b[0m\u001b[0;34m\u001b[0m\u001b[0;34m\u001b[0m\u001b[0m\n\u001b[1;32m     51\u001b[0m \u001b[0;34m\u001b[0m\u001b[0m\n\u001b[0;32m---> 52\u001b[0;31m     \u001b[0mtime\u001b[0m\u001b[0;34m.\u001b[0m\u001b[0msleep\u001b[0m\u001b[0;34m(\u001b[0m\u001b[0;36m2.0\u001b[0m\u001b[0;34m)\u001b[0m\u001b[0;34m\u001b[0m\u001b[0;34m\u001b[0m\u001b[0m\n\u001b[0m\u001b[1;32m     53\u001b[0m \u001b[0;34m\u001b[0m\u001b[0m\n",
      "\u001b[0;31mKeyboardInterrupt\u001b[0m: "
     ]
    }
   ],
   "source": [
    "while (True):\n",
    "    \n",
    "    order_id += 1\n",
    "    \n",
    "    num_line_items = np.random.randint(1,5)\n",
    "    \n",
    "    random_products = np.random.choice(product_list, size=num_line_items, replace=False)\n",
    "    \n",
    "    sorted_random_products = sorted(random_products, key = lambda k: k['product_id'])\n",
    "    \n",
    "    line_items = []\n",
    "    \n",
    "    sub_total = 0\n",
    "    \n",
    "    for product in sorted_random_products:\n",
    "        \n",
    "        quantity = np.random.randint(1,13)\n",
    "        line_item_total = round(quantity * product[\"product_price\"], 2)\n",
    "        sub_total += line_item_total\n",
    "        \n",
    "        line_item = {}\n",
    "        line_item[\"product_id\"] = product[\"product_id\"]\n",
    "        line_item[\"product_name\"] = product[\"product_name\"]\n",
    "        line_item[\"product_price\"] = product[\"product_price\"]\n",
    "        line_item[\"quantity\"] = quantity\n",
    "        line_item[\"total\"] = line_item_total\n",
    "        \n",
    "        line_items.append(line_item)\n",
    "    \n",
    "    sub_total = round(sub_total, 2)\n",
    "    \n",
    "    tax = round(sub_total * 0.08, 2)\n",
    "    \n",
    "    total = round(sub_total + tax, 2)\n",
    "    \n",
    "    order = {\"order_id\": order_id,\n",
    "             \"sub_total\": sub_total,\n",
    "             \"tax\": tax,\n",
    "             \"total\": total,\n",
    "             \"line_items\": line_items}\n",
    "    \n",
    "    clear_output(wait=True)\n",
    "    print(\"\\n=================================\")\n",
    "    print(\"   Order Process\")\n",
    "    print(\"=================================\\n\")\n",
    "    pprint.pprint(order, sort_dicts=False)\n",
    "    \n",
    "    producer.send(\"orders_pub_sub\", json.dumps(order).encode())\n",
    "    \n",
    "    producer.send(\"stock_check_queue\", json.dumps(order).encode())\n",
    "    \n",
    "    time.sleep(2.0)\n",
    "    "
   ]
  },
  {
   "cell_type": "markdown",
   "id": "734dc725",
   "metadata": {},
   "source": [
    "## Run the following processes to complete the producer / consumer processes and queues: stock_check_process, back_order_process, and fulfillment_process"
   ]
  },
  {
   "cell_type": "markdown",
   "id": "5a6a118d",
   "metadata": {},
   "source": [
    "## You try it - \n",
    "\n",
    "## Modify stock_check_process to publish to the stock_check_pub_sub topic; create a new jupyter notebook stock_check_lambda_batch to subscribe to stock_check_pub_sub in batch mode; solutions can be found in stock_check_process_solutions and stock_check_lambda_batch_solutions\n",
    "\n",
    "## Modify back_order_process to publish to the back_order_pub_sub topic;  create a new jupyter notebook back_order_lambda_batch to subscribe to back_order_pub_sub in batch mode; solutions can be found in back_order_process_solutions and back_order_lambda_batch_solutions\n",
    "\n",
    "## Modify fulfillment_process to publish to the fulfillment_pub_sub topic; create a new jupyter notebook fulfillment_lambda_batch to subscribe to fulfillment_pub_sub in batch mode; solutions can be found in fulfillment_process_solutions and fulfillment_lambda_batch_solutions"
   ]
  },
  {
   "cell_type": "markdown",
   "id": "d576ccab",
   "metadata": {},
   "source": [
    "# Lab: Kafka - Streaming Model"
   ]
  },
  {
   "cell_type": "markdown",
   "id": "37e84ca8",
   "metadata": {},
   "source": [
    "## Modify the previous code to also stream to orders_stream"
   ]
  },
  {
   "cell_type": "code",
   "execution_count": 14,
   "id": "6aab3f4d",
   "metadata": {},
   "outputs": [
    {
     "name": "stdout",
     "output_type": "stream",
     "text": [
      "\n",
      "=================================\n",
      "   Order Process\n",
      "=================================\n",
      "\n",
      "{'order_id': 15763,\n",
      " 'sub_total': 829.3,\n",
      " 'tax': 66.34,\n",
      " 'total': 895.64,\n",
      " 'line_items': [{'product_id': 1,\n",
      "                 'product_name': 'ARM Board',\n",
      "                 'product_price': 99.95,\n",
      "                 'quantity': 3,\n",
      "                 'total': 299.85},\n",
      "                {'product_id': 2,\n",
      "                 'product_name': '8 GiB RAM DIMM',\n",
      "                 'product_price': 29.95,\n",
      "                 'quantity': 6,\n",
      "                 'total': 179.7},\n",
      "                {'product_id': 3,\n",
      "                 'product_name': '16 GiB RAM DIMM',\n",
      "                 'product_price': 69.95,\n",
      "                 'quantity': 5,\n",
      "                 'total': 349.75}]}\n"
     ]
    },
    {
     "ename": "KeyboardInterrupt",
     "evalue": "",
     "output_type": "error",
     "traceback": [
      "\u001b[0;31m---------------------------------------------------------------------------\u001b[0m",
      "\u001b[0;31mKeyboardInterrupt\u001b[0m                         Traceback (most recent call last)",
      "\u001b[0;32m/tmp/ipykernel_42/3652703094.py\u001b[0m in \u001b[0;36m<module>\u001b[0;34m\u001b[0m\n\u001b[1;32m     52\u001b[0m     \u001b[0mproducer\u001b[0m\u001b[0;34m.\u001b[0m\u001b[0msend\u001b[0m\u001b[0;34m(\u001b[0m\u001b[0;34m\"orders_stream\"\u001b[0m\u001b[0;34m,\u001b[0m \u001b[0mjson\u001b[0m\u001b[0;34m.\u001b[0m\u001b[0mdumps\u001b[0m\u001b[0;34m(\u001b[0m\u001b[0morder\u001b[0m\u001b[0;34m)\u001b[0m\u001b[0;34m.\u001b[0m\u001b[0mencode\u001b[0m\u001b[0;34m(\u001b[0m\u001b[0;34m)\u001b[0m\u001b[0;34m)\u001b[0m\u001b[0;34m\u001b[0m\u001b[0;34m\u001b[0m\u001b[0m\n\u001b[1;32m     53\u001b[0m \u001b[0;34m\u001b[0m\u001b[0m\n\u001b[0;32m---> 54\u001b[0;31m     \u001b[0mtime\u001b[0m\u001b[0;34m.\u001b[0m\u001b[0msleep\u001b[0m\u001b[0;34m(\u001b[0m\u001b[0;36m2.0\u001b[0m\u001b[0;34m)\u001b[0m\u001b[0;34m\u001b[0m\u001b[0;34m\u001b[0m\u001b[0m\n\u001b[0m\u001b[1;32m     55\u001b[0m \u001b[0;34m\u001b[0m\u001b[0m\n",
      "\u001b[0;31mKeyboardInterrupt\u001b[0m: "
     ]
    }
   ],
   "source": [
    "while (True):\n",
    "    \n",
    "    order_id += 1\n",
    "    \n",
    "    num_line_items = np.random.randint(1,5)\n",
    "    \n",
    "    random_products = np.random.choice(product_list, size=num_line_items, replace=False)\n",
    "    \n",
    "    sorted_random_products = sorted(random_products, key = lambda k: k['product_id'])\n",
    "    \n",
    "    line_items = []\n",
    "    \n",
    "    sub_total = 0\n",
    "    \n",
    "    for product in sorted_random_products:\n",
    "        \n",
    "        quantity = np.random.randint(1,13)\n",
    "        line_item_total = round(quantity * product[\"product_price\"], 2)\n",
    "        sub_total += line_item_total\n",
    "        \n",
    "        line_item = {}\n",
    "        line_item[\"product_id\"] = product[\"product_id\"]\n",
    "        line_item[\"product_name\"] = product[\"product_name\"]\n",
    "        line_item[\"product_price\"] = product[\"product_price\"]\n",
    "        line_item[\"quantity\"] = quantity\n",
    "        line_item[\"total\"] = line_item_total\n",
    "        \n",
    "        line_items.append(line_item)\n",
    "    \n",
    "    sub_total = round(sub_total, 2)\n",
    "    \n",
    "    tax = round(sub_total * 0.08, 2)\n",
    "    \n",
    "    total = round(sub_total + tax, 2)\n",
    "    \n",
    "    order = {\"order_id\": order_id,\n",
    "             \"sub_total\": sub_total,\n",
    "             \"tax\": tax,\n",
    "             \"total\": total,\n",
    "             \"line_items\": line_items}\n",
    "    \n",
    "    clear_output(wait=True)\n",
    "    print(\"\\n=================================\")\n",
    "    print(\"   Order Process\")\n",
    "    print(\"=================================\\n\")\n",
    "    pprint.pprint(order, sort_dicts=False)\n",
    "    \n",
    "    producer.send(\"orders_pub_sub\", json.dumps(order).encode())\n",
    "    \n",
    "    producer.send(\"stock_check_queue\", json.dumps(order).encode())\n",
    "    \n",
    "    producer.send(\"orders_stream\", json.dumps(order).encode())\n",
    "    \n",
    "    time.sleep(2.0)\n",
    "    "
   ]
  },
  {
   "cell_type": "markdown",
   "id": "b4008beb",
   "metadata": {},
   "source": [
    "## You try it - \n",
    "\n",
    "## Modify stock_check_process to stream to the stock_check_stream topic; create a new jupyter notebook stock_check_lambda_speed to subscribe to stock_check_stream in streaming mode; solutions can be found in stock_check_process_solutions and stock_check_lambda_speed_solutions\n",
    "\n",
    "## Modify back_order_process to publish to the back_order_stream topic;  create a new jupyter notebook back_order_lambda_speed to subscribe to back_order_stream in streaming mode; solutions can be found in back_order_process_solutions and back_order_lambda_speed_solutions\n",
    "\n",
    "## Modify fulfillment_process to publish to the fulfillment_stream topic; create a new jupyter notebook fulfillment_lambda_speed to subscribe to fulfillment_stream in batch mode; solutions can be found in fulfillment_process_solutions and fulfillment_lambda_speed_solutions"
   ]
  },
  {
   "cell_type": "code",
   "execution_count": null,
   "id": "ff88be75",
   "metadata": {},
   "outputs": [],
   "source": []
  }
 ],
 "metadata": {
  "kernelspec": {
   "display_name": "Python 3 (ipykernel)",
   "language": "python",
   "name": "python3"
  },
  "language_info": {
   "codemirror_mode": {
    "name": "ipython",
    "version": 3
   },
   "file_extension": ".py",
   "mimetype": "text/x-python",
   "name": "python",
   "nbconvert_exporter": "python",
   "pygments_lexer": "ipython3",
   "version": "3.9.7"
  }
 },
 "nbformat": 4,
 "nbformat_minor": 5
}
