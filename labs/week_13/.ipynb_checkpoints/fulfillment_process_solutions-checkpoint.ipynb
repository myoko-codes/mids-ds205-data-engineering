{
 "cells": [
  {
   "cell_type": "markdown",
   "id": "45d863b1",
   "metadata": {},
   "source": [
    "# Fulfillment Process Solutions"
   ]
  },
  {
   "cell_type": "code",
   "execution_count": 1,
   "id": "a1da48d2",
   "metadata": {},
   "outputs": [],
   "source": [
    "import kafka\n",
    "\n",
    "import time\n",
    "\n",
    "import numpy as np\n",
    "\n",
    "import json\n",
    "\n",
    "import pprint\n",
    "\n",
    "from IPython.display import clear_output\n"
   ]
  },
  {
   "cell_type": "markdown",
   "id": "7cc32467",
   "metadata": {},
   "source": [
    "## You try it - \n",
    "\n",
    "\n",
    "## Modify fulfillment_process to publish to the fulfillment_pub_sub topic; create a new jupyter notebook fulfillment_lambda_batch to subscribe to fulfillment_pub_sub in batch mode; solutions can be found in fulfillment_process_solutions and fulfillment_lambda_batch_solutions"
   ]
  },
  {
   "cell_type": "code",
   "execution_count": 2,
   "id": "7678d09f",
   "metadata": {},
   "outputs": [],
   "source": [
    "producer = kafka.KafkaProducer(bootstrap_servers=['kafka:29092'])\n"
   ]
  },
  {
   "cell_type": "code",
   "execution_count": 3,
   "id": "2433d41d",
   "metadata": {},
   "outputs": [],
   "source": [
    "topic = \"fulfillment_queue\"\n",
    "\n",
    "fulfillment_queue = kafka.KafkaConsumer(topic, \n",
    "                                       bootstrap_servers=['kafka:29092'], \n",
    "                                       auto_offset_reset='earliest')\n"
   ]
  },
  {
   "cell_type": "code",
   "execution_count": 5,
   "id": "bd516696",
   "metadata": {},
   "outputs": [
    {
     "name": "stdout",
     "output_type": "stream",
     "text": [
      "\n",
      "=================================\n",
      "   Fulfillment Process\n",
      "=================================\n",
      "\n",
      "---------------------------------------------\n",
      "   Offset: 9    Order ID: 14384\n",
      "---------------------------------------------\n",
      "\n",
      "{'order_id': 14384,\n",
      " 'sub_total': 1349.4,\n",
      " 'tax': 107.95,\n",
      " 'total': 1457.35,\n",
      " 'line_items': [{'product_id': 1,\n",
      "                 'product_name': 'ARM Board',\n",
      "                 'product_price': 99.95,\n",
      "                 'quantity': 9,\n",
      "                 'total': 899.55},\n",
      "                {'product_id': 4,\n",
      "                 'product_name': '32 GiB RAM DIMM',\n",
      "                 'product_price': 149.95,\n",
      "                 'quantity': 3,\n",
      "                 'total': 449.85}]}\n"
     ]
    },
    {
     "ename": "KeyboardInterrupt",
     "evalue": "",
     "output_type": "error",
     "traceback": [
      "\u001b[0;31m---------------------------------------------------------------------------\u001b[0m",
      "\u001b[0;31mKeyboardInterrupt\u001b[0m                         Traceback (most recent call last)",
      "\u001b[0;32m/tmp/ipykernel_462/387967656.py\u001b[0m in \u001b[0;36m<module>\u001b[0;34m\u001b[0m\n\u001b[1;32m     17\u001b[0m     \u001b[0mproducer\u001b[0m\u001b[0;34m.\u001b[0m\u001b[0msend\u001b[0m\u001b[0;34m(\u001b[0m\u001b[0;34m\"fulfillment_pub_sub\"\u001b[0m\u001b[0;34m,\u001b[0m \u001b[0mjson\u001b[0m\u001b[0;34m.\u001b[0m\u001b[0mdumps\u001b[0m\u001b[0;34m(\u001b[0m\u001b[0mmessage_dict\u001b[0m\u001b[0;34m)\u001b[0m\u001b[0;34m.\u001b[0m\u001b[0mencode\u001b[0m\u001b[0;34m(\u001b[0m\u001b[0;34m)\u001b[0m\u001b[0;34m)\u001b[0m\u001b[0;34m\u001b[0m\u001b[0;34m\u001b[0m\u001b[0m\n\u001b[1;32m     18\u001b[0m \u001b[0;34m\u001b[0m\u001b[0m\n\u001b[0;32m---> 19\u001b[0;31m     \u001b[0mtime\u001b[0m\u001b[0;34m.\u001b[0m\u001b[0msleep\u001b[0m\u001b[0;34m(\u001b[0m\u001b[0;36m2.0\u001b[0m\u001b[0;34m)\u001b[0m\u001b[0;34m\u001b[0m\u001b[0;34m\u001b[0m\u001b[0m\n\u001b[0m",
      "\u001b[0;31mKeyboardInterrupt\u001b[0m: "
     ]
    }
   ],
   "source": [
    "for message in fulfillment_queue:\n",
    "    \n",
    "    clear_output(wait=True)\n",
    "    \n",
    "    message_dict = json.loads(message.value)\n",
    "    \n",
    "    print(\"\\n=================================\")\n",
    "    print(\"   Fulfillment Process\")\n",
    "    print(\"=================================\\n\")\n",
    "\n",
    "    print(\"---------------------------------------------\")\n",
    "    print(\"   Offset:\", message.offset, \"   Order ID:\", message_dict[\"order_id\"])\n",
    "    print(\"---------------------------------------------\\n\")\n",
    "    \n",
    "    pprint.pprint(message_dict, sort_dicts=False)\n",
    "    \n",
    "    producer.send(\"fulfillment_pub_sub\", json.dumps(message_dict).encode())\n",
    "    \n",
    "    time.sleep(2.0)"
   ]
  },
  {
   "cell_type": "markdown",
   "id": "1bf2128b",
   "metadata": {},
   "source": [
    "## You try it - \n",
    "\n",
    "\n",
    "## Modify fulfillment_process to publish to the fulfillment_stream topic; create a new jupyter notebook fulfillment_lambda_speed to subscribe to fulfillment_stream in batch mode; solutions can be found in fulfillment_process_solutions and fulfillment_lambda_speed_solutions"
   ]
  },
  {
   "cell_type": "code",
   "execution_count": 6,
   "id": "64c70f52",
   "metadata": {},
   "outputs": [
    {
     "name": "stdout",
     "output_type": "stream",
     "text": [
      "\n",
      "=================================\n",
      "   Fulfillment Process\n",
      "=================================\n",
      "\n",
      "---------------------------------------------\n",
      "   Offset: 12    Order ID: 14387\n",
      "---------------------------------------------\n",
      "\n",
      "{'order_id': 14387,\n",
      " 'sub_total': 1089.35,\n",
      " 'tax': 87.15,\n",
      " 'total': 1176.5,\n",
      " 'line_items': [{'product_id': 1,\n",
      "                 'product_name': 'ARM Board',\n",
      "                 'product_price': 99.95,\n",
      "                 'quantity': 6,\n",
      "                 'total': 599.7},\n",
      "                {'product_id': 3,\n",
      "                 'product_name': '16 GiB RAM DIMM',\n",
      "                 'product_price': 69.95,\n",
      "                 'quantity': 7,\n",
      "                 'total': 489.65}]}\n"
     ]
    },
    {
     "ename": "KeyboardInterrupt",
     "evalue": "",
     "output_type": "error",
     "traceback": [
      "\u001b[0;31m---------------------------------------------------------------------------\u001b[0m",
      "\u001b[0;31mKeyboardInterrupt\u001b[0m                         Traceback (most recent call last)",
      "\u001b[0;32m/tmp/ipykernel_462/3894309800.py\u001b[0m in \u001b[0;36m<module>\u001b[0;34m\u001b[0m\n\u001b[1;32m     19\u001b[0m     \u001b[0mproducer\u001b[0m\u001b[0;34m.\u001b[0m\u001b[0msend\u001b[0m\u001b[0;34m(\u001b[0m\u001b[0;34m\"fulfillment_stream\"\u001b[0m\u001b[0;34m,\u001b[0m \u001b[0mjson\u001b[0m\u001b[0;34m.\u001b[0m\u001b[0mdumps\u001b[0m\u001b[0;34m(\u001b[0m\u001b[0mmessage_dict\u001b[0m\u001b[0;34m)\u001b[0m\u001b[0;34m.\u001b[0m\u001b[0mencode\u001b[0m\u001b[0;34m(\u001b[0m\u001b[0;34m)\u001b[0m\u001b[0;34m)\u001b[0m\u001b[0;34m\u001b[0m\u001b[0;34m\u001b[0m\u001b[0m\n\u001b[1;32m     20\u001b[0m \u001b[0;34m\u001b[0m\u001b[0m\n\u001b[0;32m---> 21\u001b[0;31m     \u001b[0mtime\u001b[0m\u001b[0;34m.\u001b[0m\u001b[0msleep\u001b[0m\u001b[0;34m(\u001b[0m\u001b[0;36m2.0\u001b[0m\u001b[0;34m)\u001b[0m\u001b[0;34m\u001b[0m\u001b[0;34m\u001b[0m\u001b[0m\n\u001b[0m",
      "\u001b[0;31mKeyboardInterrupt\u001b[0m: "
     ]
    }
   ],
   "source": [
    "for message in fulfillment_queue:\n",
    "    \n",
    "    clear_output(wait=True)\n",
    "    \n",
    "    message_dict = json.loads(message.value)\n",
    "    \n",
    "    print(\"\\n=================================\")\n",
    "    print(\"   Fulfillment Process\")\n",
    "    print(\"=================================\\n\")\n",
    "\n",
    "    print(\"---------------------------------------------\")\n",
    "    print(\"   Offset:\", message.offset, \"   Order ID:\", message_dict[\"order_id\"])\n",
    "    print(\"---------------------------------------------\\n\")\n",
    "    \n",
    "    pprint.pprint(message_dict, sort_dicts=False)\n",
    "    \n",
    "    producer.send(\"fulfillment_pub_sub\", json.dumps(message_dict).encode())\n",
    "    \n",
    "    producer.send(\"fulfillment_stream\", json.dumps(message_dict).encode())\n",
    "    \n",
    "    time.sleep(2.0)"
   ]
  },
  {
   "cell_type": "code",
   "execution_count": null,
   "id": "baea6d9a",
   "metadata": {},
   "outputs": [],
   "source": []
  }
 ],
 "metadata": {
  "kernelspec": {
   "display_name": "Python 3 (ipykernel)",
   "language": "python",
   "name": "python3"
  },
  "language_info": {
   "codemirror_mode": {
    "name": "ipython",
    "version": 3
   },
   "file_extension": ".py",
   "mimetype": "text/x-python",
   "name": "python",
   "nbconvert_exporter": "python",
   "pygments_lexer": "ipython3",
   "version": "3.9.7"
  }
 },
 "nbformat": 4,
 "nbformat_minor": 5
}
